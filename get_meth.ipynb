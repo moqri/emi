{
 "cells": [
  {
   "cell_type": "code",
   "execution_count": 1225,
   "id": "3498266f-e3d3-4107-81be-67b66fb82b20",
   "metadata": {},
   "outputs": [],
   "source": [
    "import pandas as pd\n",
    "import util\n",
    "import pyBigWig\n",
    "import seaborn as sns\n",
    "import numpy as np\n",
    "from matplotlib import pyplot"
   ]
  },
  {
   "cell_type": "code",
   "execution_count": 30,
   "id": "90ce400a-9188-4157-b1e7-bb9987c620b4",
   "metadata": {},
   "outputs": [],
   "source": [
    "ind=pd.read_csv('data/ind.csv',index_col=0,engine='c',usecols=['_'])"
   ]
  },
  {
   "cell_type": "code",
   "execution_count": 4,
   "id": "8436c7f7-2160-4b97-8f82-292bb2e478ae",
   "metadata": {},
   "outputs": [
    {
     "name": "stdout",
     "output_type": "stream",
     "text": [
      "SRR3264413.meth,27\n",
      "SRR3264414.meth,27\n",
      "SRR3264415.meth,27\n",
      "SRR3264416.meth,27\n",
      "SRR3264722.meth,27\n"
     ]
    }
   ],
   "source": [
    "files=['SRR3264'+str(i) +'.meth' for i in [413,414,415,416,722]]\n",
    "n=8\n",
    "dfs=[]\n",
    "for f in files:\n",
    "    print(f,end=',')\n",
    "    df=pd.read_csv('data/meth/fib/'+f,sep='\\t',header=None,nrows=5*10**n)\n",
    "    df=df[df[5]>0]\n",
    "    df.index=df[0].str[3:5]+'_'+df[1].astype(str)\n",
    "    #df=df[df.index.isin(ind.index)][[4]]\n",
    "    df=df[[4]]\n",
    "    print(round(len(df)/10**6))\n",
    "    df.columns=[f]\n",
    "    dfs.append(df)    "
   ]
  },
  {
   "cell_type": "code",
   "execution_count": null,
   "id": "aa675b15-b541-41f6-9331-d2c4b3ddbc85",
   "metadata": {},
   "outputs": [
    {
     "name": "stdout",
     "output_type": "stream",
     "text": [
      "1,"
     ]
    }
   ],
   "source": [
    "df=dfs[0]\n",
    "for i in range(1,len(files)):\n",
    "    print(i,end=',')\n",
    "    dt=dfs[i]\n",
    "    df=df.merge(dt,left_index=True,right_index=True)\n",
    "print(df.shape)    "
   ]
  },
  {
   "cell_type": "code",
   "execution_count": null,
   "id": "1f847448-8b8c-4292-9cdc-5852b7085d71",
   "metadata": {},
   "outputs": [],
   "source": [
    "df.to_csv('data/meth/fib_all.csv')"
   ]
  },
  {
   "cell_type": "code",
   "execution_count": 7,
   "id": "719fd1c4-ae25-4655-a812-bf4e2df8b520",
   "metadata": {},
   "outputs": [
    {
     "data": {
      "text/plain": [
       "(25606034, 5)"
      ]
     },
     "execution_count": 7,
     "metadata": {},
     "output_type": "execute_result"
    }
   ],
   "source": [
    "df.shape"
   ]
  },
  {
   "cell_type": "code",
   "execution_count": 44,
   "id": "7b2baaa0-d66c-427f-ae45-8b9af289fca0",
   "metadata": {},
   "outputs": [
    {
     "name": "stdout",
     "output_type": "stream",
     "text": [
      "(184421, 1)\n",
      "(184421, 1)\n"
     ]
    }
   ],
   "source": [
    "tss=pd.read_csv('data/tss.csv',index_col=0)\n",
    "t4=[\n",
    "    'Human_CD4T-Newborn.meth.bw',\n",
    "    'Human_CD4T-100yr.meth.bw',\n",
    "]\n",
    "for t4_bw in t4:\n",
    "    name=t4_bw.split('.')[0]\n",
    "    cd4=util.bw2df('data/source/t4/'+t4_bw,v)##tss\n",
    "    cd4=cd4[['beta']]\n",
    "    cd4.columns=[name]\n",
    "    cd4.to_csv('data/meth/t4'+name+'.csv')\n",
    "dfs=[]\n",
    "fs=['Human_CD4T-Newborn',\n",
    "    'Human_CD4T-100yr'\n",
    "   ]\n",
    "for f in fs:\n",
    "    df=pd.read_csv('data/meth/t4'+f+'.csv',index_col=0)\n",
    "    df.columns=[f]    \n",
    "    dfs.append(df)\n",
    "df=dfs[0]\n",
    "for dt in dfs[1:]:\n",
    "    df=df.merge(dt,left_index=True,right_index=True)        \n",
    "df.round(3).to_csv('data/meth/t4_v.csv')"
   ]
  },
  {
   "cell_type": "code",
   "execution_count": 111,
   "id": "ee5edb5b-4492-4c84-badb-270aa79e696c",
   "metadata": {},
   "outputs": [
    {
     "data": {
      "text/plain": [
       "1212"
      ]
     },
     "execution_count": 111,
     "metadata": {},
     "output_type": "execute_result"
    }
   ],
   "source": [
    "v=pd.read_table('data/v/pcan38.bed',header=None)[[0,1,2,3]]\n",
    "v=v[~(v[0].isin(['chrX','chrY']))&~(v[0].str.contains('rand'))]\n",
    "len(v)"
   ]
  },
  {
   "cell_type": "code",
   "execution_count": 112,
   "id": "6f792bfc-1262-4c56-9988-1d7a8262c3a4",
   "metadata": {},
   "outputs": [
    {
     "data": {
      "text/plain": [
       "344"
      ]
     },
     "execution_count": 112,
     "metadata": {},
     "output_type": "execute_result"
    }
   ],
   "source": [
    "v=v[v[3]=='pCanyon'][[0,1,2]]\n",
    "len(v)"
   ]
  },
  {
   "cell_type": "code",
   "execution_count": 113,
   "id": "912abb42-c783-443c-a2a6-a37c6dae7a0e",
   "metadata": {},
   "outputs": [],
   "source": [
    "v['d']=v[2]-v[1]"
   ]
  },
  {
   "cell_type": "code",
   "execution_count": 93,
   "id": "599779ff-3ad6-43aa-85bf-a19cc14754ae",
   "metadata": {},
   "outputs": [],
   "source": [
    "v.columns=['chrom','chromStart','chromEnd']"
   ]
  },
  {
   "cell_type": "code",
   "execution_count": 94,
   "id": "d23f5beb-049c-407e-aef4-5d27ada735d2",
   "metadata": {},
   "outputs": [],
   "source": [
    "v['chrom']=v.chrom.str[3:].astype(int)"
   ]
  },
  {
   "cell_type": "code",
   "execution_count": 96,
   "id": "5f9fb1e2-d9ea-4d56-aef7-7df0f78dace2",
   "metadata": {},
   "outputs": [
    {
     "data": {
      "text/plain": [
       "(138913, 2)"
      ]
     },
     "execution_count": 96,
     "metadata": {},
     "output_type": "execute_result"
    }
   ],
   "source": [
    "df.shape"
   ]
  },
  {
   "cell_type": "code",
   "execution_count": 45,
   "id": "95afe43b-c976-4ca1-99cb-87031de63750",
   "metadata": {},
   "outputs": [
    {
     "data": {
      "text/plain": [
       "Human_CD4T-Newborn    0.075273\n",
       "Human_CD4T-100yr      0.153494\n",
       "dtype: float64"
      ]
     },
     "execution_count": 45,
     "metadata": {},
     "output_type": "execute_result"
    }
   ],
   "source": [
    "df.mean()"
   ]
  },
  {
   "cell_type": "code",
   "execution_count": 98,
   "id": "96b5c219-41c9-453e-bf48-a1b599905878",
   "metadata": {},
   "outputs": [
    {
     "name": "stdout",
     "output_type": "stream",
     "text": [
      "(108754, 2)\n"
     ]
    },
    {
     "data": {
      "text/plain": [
       "Human_CD4T-Newborn    0.034783\n",
       "Human_CD4T-100yr      0.098558\n",
       "dtype: float64"
      ]
     },
     "execution_count": 98,
     "metadata": {},
     "output_type": "execute_result"
    }
   ],
   "source": [
    "dg=df[df.index.isin(ind.index)]\n",
    "print(dg.shape)\n",
    "dg.mean()"
   ]
  },
  {
   "cell_type": "code",
   "execution_count": 4,
   "id": "f4d02e44-e3df-4eff-9ba5-40374a0c06b5",
   "metadata": {},
   "outputs": [
    {
     "data": {
      "text/plain": [
       "43789"
      ]
     },
     "execution_count": 4,
     "metadata": {},
     "output_type": "execute_result"
    }
   ],
   "source": [
    "h=pd.read_csv('data/v/hmr',sep='\\t')\n",
    "len(h)"
   ]
  },
  {
   "cell_type": "code",
   "execution_count": 1170,
   "id": "a910d5a0-12b8-4f4c-8204-a596a1278760",
   "metadata": {},
   "outputs": [],
   "source": [
    "hs=[]\n",
    "for i in range(1,23):\n",
    "    ch='chr'+str(i)\n",
    "    h1='http://smithdata.usc.edu/methbase/data/Xie-Human-2013/Human_H1/tracks_hg38/Human_H1.hmr.bb'\n",
    "    h1=pyBigWig.open(h1)\n",
    "    h1=h1.entries(ch,1,-1)\n",
    "    h1=pd.DataFrame(h1)\n",
    "    h1['ch']=ch\n",
    "    h1['d']=h1[1]-h1[0]\n",
    "    hs.append(h1)\n",
    "len(hs)    "
   ]
  },
  {
   "cell_type": "code",
   "execution_count": 1195,
   "id": "94c6955b-31e2-423c-a2ce-28bc337f4ae9",
   "metadata": {},
   "outputs": [
    {
     "name": "stdout",
     "output_type": "stream",
     "text": [
      "3478,2344,1784,1372,1603,1956,1703,1351,1472,1467,1873,1672,704,1072,1108,1424,1953,593,2332,1039,368,840,"
     ]
    }
   ],
   "source": [
    "gss=pd.DataFrame()\n",
    "for ch in range(1,23):\n",
    "    h1=hs[ch-1]\n",
    "    rs=h1[[0,1]].values\n",
    "    gs=[]\n",
    "    while len(gs)<len(rs):\n",
    "        gs=[]\n",
    "        skip=0\n",
    "        for i in range(len(rs)-1):\n",
    "            if skip==1:\n",
    "                skip=0\n",
    "                continue\n",
    "            d0=rs[i][1]-rs[i][0]\n",
    "            d1=rs[i+1][1]-rs[i+1][0]\n",
    "            g=rs[i+1][0]-rs[i][1]\n",
    "            if d0+d1>10*g:\n",
    "                gs.append([rs[i][0],rs[i+1][1]])\n",
    "                skip=1\n",
    "            else :\n",
    "                gs.append([rs[i][0],rs[i][1]])\n",
    "        gs.append(rs[-1])\n",
    "        rs=gs.copy()\n",
    "    print(len(gs),end=',')\n",
    "    gs=pd.DataFrame(gs)\n",
    "    gs['ch']='chr'+str(ch)\n",
    "    gss=gss.append(gs)"
   ]
  },
  {
   "cell_type": "code",
   "execution_count": 1196,
   "id": "f36b3d46-ab2e-4108-91fd-e906ea3544a0",
   "metadata": {},
   "outputs": [
    {
     "data": {
      "text/plain": [
       "40.433648"
      ]
     },
     "execution_count": 1196,
     "metadata": {},
     "output_type": "execute_result"
    }
   ],
   "source": [
    "gss['d']=gss[1]-gss[0]\n",
    "gss.d.sum()/10**6"
   ]
  },
  {
   "cell_type": "code",
   "execution_count": 1197,
   "id": "dfb413b8-08cf-4dcb-80c7-3200da39de39",
   "metadata": {},
   "outputs": [],
   "source": [
    "tss=pd.read_csv('data/tss.csv',index_col=0)\n",
    "tss=tss.groupby('chrom')['ts'].apply(list)"
   ]
  },
  {
   "cell_type": "code",
   "execution_count": 1198,
   "id": "ff75df21-7167-49aa-ba0e-d7a6ad33f855",
   "metadata": {},
   "outputs": [
    {
     "data": {
      "text/plain": [
       "12224"
      ]
     },
     "execution_count": 1198,
     "metadata": {},
     "output_type": "execute_result"
    }
   ],
   "source": [
    "gsp=[]\n",
    "for i,r in gss.iterrows():\n",
    "    rr=set(range(r[0],r[1]))\n",
    "    ch=int(r['ch'][3:])\n",
    "    ts=rr.intersection(tss[ch])\n",
    "    if len(ts)>0:\n",
    "        rr=list(r)\n",
    "        rr.append(list(ts)[0])\n",
    "        gsp.append(rr)\n",
    "len(gsp)        "
   ]
  },
  {
   "cell_type": "code",
   "execution_count": 1199,
   "id": "9a5e9988-6b03-40f0-a6de-ed7b694edf1e",
   "metadata": {},
   "outputs": [
    {
     "data": {
      "text/html": [
       "<div>\n",
       "<style scoped>\n",
       "    .dataframe tbody tr th:only-of-type {\n",
       "        vertical-align: middle;\n",
       "    }\n",
       "\n",
       "    .dataframe tbody tr th {\n",
       "        vertical-align: top;\n",
       "    }\n",
       "\n",
       "    .dataframe thead th {\n",
       "        text-align: right;\n",
       "    }\n",
       "</style>\n",
       "<table border=\"1\" class=\"dataframe\">\n",
       "  <thead>\n",
       "    <tr style=\"text-align: right;\">\n",
       "      <th></th>\n",
       "      <th>0</th>\n",
       "      <th>1</th>\n",
       "      <th>2</th>\n",
       "      <th>3</th>\n",
       "      <th>4</th>\n",
       "    </tr>\n",
       "  </thead>\n",
       "  <tbody>\n",
       "    <tr>\n",
       "      <th>1864</th>\n",
       "      <td>176080658</td>\n",
       "      <td>176115187</td>\n",
       "      <td>chr2</td>\n",
       "      <td>34529</td>\n",
       "      <td>176092720</td>\n",
       "    </tr>\n",
       "    <tr>\n",
       "      <th>10099</th>\n",
       "      <td>48592971</td>\n",
       "      <td>48629621</td>\n",
       "      <td>chr17</td>\n",
       "      <td>36650</td>\n",
       "      <td>48611017</td>\n",
       "    </tr>\n",
       "    <tr>\n",
       "      <th>4920</th>\n",
       "      <td>96987423</td>\n",
       "      <td>97028039</td>\n",
       "      <td>chr7</td>\n",
       "      <td>40616</td>\n",
       "      <td>97005552</td>\n",
       "    </tr>\n",
       "    <tr>\n",
       "      <th>7931</th>\n",
       "      <td>114662708</td>\n",
       "      <td>114703854</td>\n",
       "      <td>chr12</td>\n",
       "      <td>41146</td>\n",
       "      <td>114684175</td>\n",
       "    </tr>\n",
       "    <tr>\n",
       "      <th>9092</th>\n",
       "      <td>96320397</td>\n",
       "      <td>96368959</td>\n",
       "      <td>chr15</td>\n",
       "      <td>48562</td>\n",
       "      <td>96330699</td>\n",
       "    </tr>\n",
       "  </tbody>\n",
       "</table>\n",
       "</div>"
      ],
      "text/plain": [
       "               0          1      2      3          4\n",
       "1864   176080658  176115187   chr2  34529  176092720\n",
       "10099   48592971   48629621  chr17  36650   48611017\n",
       "4920    96987423   97028039   chr7  40616   97005552\n",
       "7931   114662708  114703854  chr12  41146  114684175\n",
       "9092    96320397   96368959  chr15  48562   96330699"
      ]
     },
     "execution_count": 1199,
     "metadata": {},
     "output_type": "execute_result"
    }
   ],
   "source": [
    "gsp=pd.DataFrame(gsp)\n",
    "gsp.sort_values(3).tail()"
   ]
  },
  {
   "cell_type": "code",
   "execution_count": 1200,
   "id": "a73ee7d8-dd2a-41d3-9009-423109d66a5c",
   "metadata": {},
   "outputs": [],
   "source": [
    "gsp.columns=['chromStart','chromEnd','ch','d','ts']"
   ]
  },
  {
   "cell_type": "code",
   "execution_count": 1201,
   "id": "18d3cbf7-f354-4a1a-a681-b8f2c674ac9b",
   "metadata": {},
   "outputs": [],
   "source": [
    "t4=[\n",
    "    'Human_CD4T-Newborn.meth.bw',\n",
    "    'Human_CD4T-100yr.meth.bw',\n",
    "]\n",
    "names=['y','o']\n",
    "for i in [0,1]:\n",
    "    name=names[i]\n",
    "    bw=pyBigWig.open('data/source/t4/'+t4[i])##tss\n",
    "    gsp[name]=gsp.apply(lambda x: bw.stats(x['ch'],int(x['chromStart']),int(x['chromEnd']),'mean')[0],axis=1)"
   ]
  },
  {
   "cell_type": "code",
   "execution_count": 1202,
   "id": "b1dc6c16-8a13-4c04-bc70-372912e4176e",
   "metadata": {},
   "outputs": [
    {
     "data": {
      "text/plain": [
       "y    0.050331\n",
       "o    0.068909\n",
       "dtype: float64"
      ]
     },
     "execution_count": 1202,
     "metadata": {},
     "output_type": "execute_result"
    }
   ],
   "source": [
    "gsp[['y','o']].mean()"
   ]
  },
  {
   "cell_type": "code",
   "execution_count": 1203,
   "id": "f6557fbd-baac-415f-8f4f-fbd1a9b483d2",
   "metadata": {},
   "outputs": [],
   "source": [
    "gsp=gsp.sort_values('chromStart')"
   ]
  },
  {
   "cell_type": "code",
   "execution_count": 1204,
   "id": "ec11fd2d-01ca-43b9-bbd2-89a207739eea",
   "metadata": {},
   "outputs": [],
   "source": [
    "bw='data/source/ENCFF109KCQ.bigWig'\n",
    "bw=pyBigWig.open(bw)\n",
    "bs=[]\n",
    "for i,r in gsp.iterrows():\n",
    "    b=bw.stats(r['ch'],int(r['chromStart']),int(r['chromEnd']),'max')\n",
    "    bs.append(b[0])"
   ]
  },
  {
   "cell_type": "code",
   "execution_count": 1205,
   "id": "45a9d53c-a4e7-4dfb-9fe9-6a4c49487eba",
   "metadata": {},
   "outputs": [],
   "source": [
    "gsp['ez']=bs"
   ]
  },
  {
   "cell_type": "code",
   "execution_count": 1206,
   "id": "8edae3cc-4b25-4879-8a04-560fa039b386",
   "metadata": {},
   "outputs": [
    {
     "data": {
      "text/plain": [
       "y    0.071791\n",
       "o    0.137750\n",
       "dtype: float64"
      ]
     },
     "execution_count": 1206,
     "metadata": {},
     "output_type": "execute_result"
    }
   ],
   "source": [
    "dg=gsp[gsp.ez>100].copy()\n",
    "dg[['y','o']].mean()"
   ]
  },
  {
   "cell_type": "code",
   "execution_count": 1207,
   "id": "23f6ed71-29cc-4f26-b79d-f82f82af0fba",
   "metadata": {},
   "outputs": [
    {
     "name": "stdout",
     "output_type": "stream",
     "text": [
      "595 22\n"
     ]
    }
   ],
   "source": [
    "dg['dd']=dg.o-dg.y\n",
    "print(len(dg),len(dg[dg.dd<0]))"
   ]
  },
  {
   "cell_type": "code",
   "execution_count": 1208,
   "id": "e03b1c3a-5a6f-4cc9-abff-f5608861c756",
   "metadata": {},
   "outputs": [
    {
     "data": {
      "text/plain": [
       "4.485393"
      ]
     },
     "execution_count": 1208,
     "metadata": {},
     "output_type": "execute_result"
    }
   ],
   "source": [
    "dg.d.sum()/10**6"
   ]
  },
  {
   "cell_type": "code",
   "execution_count": 1209,
   "id": "10d467b8-e897-4dc0-9dc2-b69bf32599b2",
   "metadata": {},
   "outputs": [
    {
     "data": {
      "text/html": [
       "<div>\n",
       "<style scoped>\n",
       "    .dataframe tbody tr th:only-of-type {\n",
       "        vertical-align: middle;\n",
       "    }\n",
       "\n",
       "    .dataframe tbody tr th {\n",
       "        vertical-align: top;\n",
       "    }\n",
       "\n",
       "    .dataframe thead th {\n",
       "        text-align: right;\n",
       "    }\n",
       "</style>\n",
       "<table border=\"1\" class=\"dataframe\">\n",
       "  <thead>\n",
       "    <tr style=\"text-align: right;\">\n",
       "      <th></th>\n",
       "      <th>chromStart</th>\n",
       "      <th>chromEnd</th>\n",
       "      <th>ch</th>\n",
       "      <th>d</th>\n",
       "      <th>ts</th>\n",
       "      <th>y</th>\n",
       "      <th>o</th>\n",
       "      <th>ez</th>\n",
       "      <th>dd</th>\n",
       "    </tr>\n",
       "  </thead>\n",
       "  <tbody>\n",
       "    <tr>\n",
       "      <th>5662</th>\n",
       "      <td>110783</td>\n",
       "      <td>118698</td>\n",
       "      <td>chr9</td>\n",
       "      <td>7915</td>\n",
       "      <td>118417</td>\n",
       "      <td>0.043718</td>\n",
       "      <td>0.140045</td>\n",
       "      <td>373.292938</td>\n",
       "      <td>0.096327</td>\n",
       "    </tr>\n",
       "  </tbody>\n",
       "</table>\n",
       "</div>"
      ],
      "text/plain": [
       "      chromStart  chromEnd    ch     d      ts         y         o  \\\n",
       "5662      110783    118698  chr9  7915  118417  0.043718  0.140045   \n",
       "\n",
       "              ez        dd  \n",
       "5662  373.292938  0.096327  "
      ]
     },
     "execution_count": 1209,
     "metadata": {},
     "output_type": "execute_result"
    }
   ],
   "source": [
    "dg.head(1)"
   ]
  },
  {
   "cell_type": "code",
   "execution_count": 1290,
   "id": "ab555080-52c3-4e8b-9c0f-6096a4315178",
   "metadata": {},
   "outputs": [],
   "source": [
    "hvs=dg[['ch','chromStart','chromEnd','ez','d','y','o','dd']]"
   ]
  },
  {
   "cell_type": "code",
   "execution_count": 1341,
   "id": "e1297516-2824-4e8b-819b-3a8235561090",
   "metadata": {},
   "outputs": [],
   "source": [
    "tss=pd.read_csv('data/tss.csv',index_col=0)"
   ]
  },
  {
   "cell_type": "code",
   "execution_count": 1308,
   "id": "2ff50ff8-c6e1-410c-a2c8-ee58f7051f95",
   "metadata": {},
   "outputs": [
    {
     "name": "stderr",
     "output_type": "stream",
     "text": [
      "/local/scratch/moqri/slrmtmp.30802994/ipykernel_2054/3820472268.py:1: SettingWithCopyWarning: \n",
      "A value is trying to be set on a copy of a slice from a DataFrame.\n",
      "Try using .loc[row_indexer,col_indexer] = value instead\n",
      "\n",
      "See the caveats in the documentation: https://pandas.pydata.org/pandas-docs/stable/user_guide/indexing.html#returning-a-view-versus-a-copy\n",
      "  hvs['gb']=hvs.chrom.str[3:].astype(int)*10**9+hvs['chromStart']\n"
     ]
    }
   ],
   "source": [
    "hvs['gb']=hvs.chrom.str[3:].astype(int)*10**9+hvs['chromStart']\n",
    "hvs['ge']=hvs.chrom.str[3:].astype(int)*10**9+hvs['chromEnd']"
   ]
  },
  {
   "cell_type": "code",
   "execution_count": 1333,
   "id": "7117680a-33d1-4356-95ae-01cf07a1ca3f",
   "metadata": {},
   "outputs": [],
   "source": [
    "dic=tss['tss'].to_dict()\n",
    "dic = {v: k for k, v in dic.items()}"
   ]
  },
  {
   "cell_type": "code",
   "execution_count": 1338,
   "id": "fd82480f-be51-4967-a1c9-3bbed22ee939",
   "metadata": {},
   "outputs": [],
   "source": [
    "tt=[]\n",
    "for i,r in hvs.iterrows():\n",
    "    for ts in tss.tss:\n",
    "        if ts>r['gb'] and ts<r['ge']:\n",
    "            tt.append(dic[ts])\n",
    "            break"
   ]
  },
  {
   "cell_type": "code",
   "execution_count": 1339,
   "id": "e0986ebb-0d74-493f-9358-7a390cb44586",
   "metadata": {},
   "outputs": [],
   "source": [
    "hvs.index=tt"
   ]
  },
  {
   "cell_type": "code",
   "execution_count": 1346,
   "id": "ef06a654-2d0e-44a6-a095-886f0d32f9ea",
   "metadata": {},
   "outputs": [],
   "source": [
    "hvs=hvs.drop(['gb','ge'],axis=1)"
   ]
  },
  {
   "cell_type": "code",
   "execution_count": 1348,
   "id": "4d5e8086-b4ea-4ec3-b231-c8638ea1f436",
   "metadata": {},
   "outputs": [],
   "source": [
    "hvs.columns=['chrom','chromStart','chromEnd','EZH2_chip','valley_length','DNAm_young_blood','DNAm_old_blood','DNAm_diff']\n",
    "hvs.round(3).sort_values('valley_length').to_csv('data/h1_vallyes.csv')"
   ]
  },
  {
   "cell_type": "code",
   "execution_count": 1210,
   "id": "96ebf710-3453-435c-9c55-20860554bfc3",
   "metadata": {},
   "outputs": [],
   "source": [
    "dg['r']=dg.apply(lambda x:list(range(x['chromStart'],x['chromEnd'])),axis=1)"
   ]
  },
  {
   "cell_type": "code",
   "execution_count": 1211,
   "id": "efec37cb-0c80-4835-912d-28ffb8cee3ee",
   "metadata": {},
   "outputs": [],
   "source": [
    "dg['chi']=dg['ch'].str[3:].astype(int)"
   ]
  },
  {
   "cell_type": "code",
   "execution_count": 1212,
   "id": "4c49b3c9-186c-477a-bee8-fa44fd973a96",
   "metadata": {},
   "outputs": [],
   "source": [
    "dg['r']=dg.apply(lambda x: set(range(x['chi']*10**9+x['chromStart'],x['chi']*10**9+x['chromEnd'])),axis=1)"
   ]
  },
  {
   "cell_type": "code",
   "execution_count": 1213,
   "id": "778b0b7c-7316-4d9d-869e-d17b5a4ee516",
   "metadata": {},
   "outputs": [
    {
     "data": {
      "text/plain": [
       "4.485393"
      ]
     },
     "execution_count": 1213,
     "metadata": {},
     "output_type": "execute_result"
    }
   ],
   "source": [
    "dgr=dg.r.values\n",
    "dgr=set.union(*dgr)\n",
    "len(dgr)/10**6"
   ]
  },
  {
   "cell_type": "code",
   "execution_count": 1264,
   "id": "bd1b6e11-83e6-4387-837f-b87687f9576a",
   "metadata": {},
   "outputs": [],
   "source": [
    "hv=pd.DataFrame(dgr)"
   ]
  },
  {
   "cell_type": "code",
   "execution_count": 1271,
   "id": "79e9aee8-86fc-4404-aed0-6770f44aeded",
   "metadata": {},
   "outputs": [],
   "source": [
    "hv.index='chr'+hv[0].astype(str).str[:-9]+'_'+hv[0].astype(str).str[-9:].astype(int).astype(str)"
   ]
  },
  {
   "cell_type": "code",
   "execution_count": 1276,
   "id": "3eced9b2-a55f-436b-9642-22dc768c2a9f",
   "metadata": {},
   "outputs": [],
   "source": [
    "hv.index=hv.index.rename('_')"
   ]
  },
  {
   "cell_type": "code",
   "execution_count": 1283,
   "id": "7b72bfce-82c9-485a-904b-1a2bbe526c7c",
   "metadata": {},
   "outputs": [
    {
     "data": {
      "text/plain": [
       "4.485393"
      ]
     },
     "execution_count": 1283,
     "metadata": {},
     "output_type": "execute_result"
    }
   ],
   "source": [
    "hv=hv.sort_values(0)\n",
    "len(hv)/10**6"
   ]
  },
  {
   "cell_type": "code",
   "execution_count": 1279,
   "id": "53def079-b6cb-45ec-a4fd-55bb26c0b5f0",
   "metadata": {},
   "outputs": [],
   "source": [
    "hv.to_csv('data/hv.csv')"
   ]
  },
  {
   "cell_type": "code",
   "execution_count": 1218,
   "id": "e9345c27-7d2a-4cdd-ba02-763bc36cd093",
   "metadata": {},
   "outputs": [],
   "source": [
    "sp=['SRR10429'+ i +'.meth.sym' for i in  ['03','06','07','09','11','13']]\n",
    "se=['SRR10429'+ i +'.meth.sym' for i in  ['04','05','08','10','12','14']]\n",
    "sep=sp+se"
   ]
  },
  {
   "cell_type": "code",
   "execution_count": 1219,
   "id": "58f17256-142e-43aa-a8f8-c14cf1f80555",
   "metadata": {},
   "outputs": [],
   "source": [
    "#sep=['SRR3264'+str(i) +'.meth' for i in [413,414,415,416,722]]\n",
    "#sep=['Young-381.meth','Young-400.meth','Young-498.meth','Old-247.meth','Old-602.meth','Old-725.meth']"
   ]
  },
  {
   "cell_type": "code",
   "execution_count": 1220,
   "id": "bd78fcb6-1eec-4a4a-94bd-ba8693c07535",
   "metadata": {},
   "outputs": [
    {
     "name": "stdout",
     "output_type": "stream",
     "text": [
      "SRR1042903.meth.sym,SRR1042906.meth.sym,SRR1042907.meth.sym,SRR1042909.meth.sym,SRR1042911.meth.sym,SRR1042913.meth.sym,SRR1042904.meth.sym,SRR1042905.meth.sym,SRR1042908.meth.sym,SRR1042910.meth.sym,SRR1042912.meth.sym,SRR1042914.meth.sym,"
     ]
    }
   ],
   "source": [
    "dfs=[]\n",
    "for s in sep:\n",
    "    print(s,end=',')\n",
    "    df=pd.read_csv('data/meth/skin/'+s,engine='c',sep='\\t',header=None,nrows=10**8)\n",
    "    #df=df[df[0]==ch]\n",
    "    df.index=df[1]\n",
    "    #df=df[df.index.isin(dgr)][4]\n",
    "    df['ch']=df[0].str[3:]\n",
    "    df=df[~df['ch'].isin(['M','X','Y'])]\n",
    "    df['chi']=df.ch.astype(int)\n",
    "    df.index=df.chi*10**9+df[1]\n",
    "    df=df[df.index.isin(dgr)]\n",
    "    dfs.append(df[4])"
   ]
  },
  {
   "cell_type": "code",
   "execution_count": 1221,
   "id": "ec7ff1d7-cab9-4ed5-891c-e2b9f38b72eb",
   "metadata": {},
   "outputs": [
    {
     "name": "stderr",
     "output_type": "stream",
     "text": [
      "/local/scratch/moqri/slrmtmp.30802994/ipykernel_2054/4109693992.py:1: FutureWarning: In a future version of pandas all arguments of concat except for the argument 'objs' will be keyword-only\n",
      "  gg=pd.concat(dfs,1)\n"
     ]
    },
    {
     "data": {
      "text/plain": [
       "0.234805"
      ]
     },
     "execution_count": 1221,
     "metadata": {},
     "output_type": "execute_result"
    }
   ],
   "source": [
    "gg=pd.concat(dfs,1)\n",
    "len(gg)/10**6"
   ]
  },
  {
   "cell_type": "code",
   "execution_count": 1222,
   "id": "cca8510b-3d8a-4276-9778-e9d744446c46",
   "metadata": {},
   "outputs": [
    {
     "data": {
      "text/plain": [
       "0.225081"
      ]
     },
     "execution_count": 1222,
     "metadata": {},
     "output_type": "execute_result"
    }
   ],
   "source": [
    "len(gg.dropna())/10**6"
   ]
  },
  {
   "cell_type": "code",
   "execution_count": 1234,
   "id": "dab2227a-5efe-4395-83dd-af86e83a6336",
   "metadata": {},
   "outputs": [
    {
     "data": {
      "text/plain": [
       "<AxesSubplot:xlabel='Age', ylabel='AgeEMI'>"
      ]
     },
     "execution_count": 1234,
     "metadata": {},
     "output_type": "execute_result"
    },
    {
     "data": {
      "image/png": "[encoded data removed]",
      "text/plain": [
       "<Figure size 360x288 with 1 Axes>"
      ]
     },
     "metadata": {
      "needs_background": "light"
     },
     "output_type": "display_data"
    }
   ],
   "source": [
    "p=pd.DataFrame(gg.dropna().mean())\n",
    "p['age']=[25,23,18,75,74,83]+[25,23,18,75,74,83]\n",
    "p['g']= ['Sun-protected']*6+['Sun-exposed']*6\n",
    "p['indivudal']=2*['Young1','Young2','Young3','Old1','Old2','Old3']\n",
    "p.columns=['AgeEMI','Age','Condition','Individual']\n",
    "fig, ax = pyplot.subplots(figsize=(5,4))\n",
    "sns.scatterplot(data=p,x='Age',y='AgeEMI',hue='Condition',hue_order=['Sun-exposed','Sun-protected'],\n",
    "                palette=['red','green'],markers=True, style='Individual',s=100,alpha=.7)"
   ]
  },
  {
   "cell_type": "code",
   "execution_count": 979,
   "id": "0c882e3a-415a-4b67-9f87-bcdac22274c8",
   "metadata": {},
   "outputs": [
    {
     "name": "stderr",
     "output_type": "stream",
     "text": [
      "/local/scratch/moqri/slrmtmp.30802994/ipykernel_2054/111952602.py:1: SettingWithCopyWarning: \n",
      "A value is trying to be set on a copy of a slice from a DataFrame.\n",
      "Try using .loc[row_indexer,col_indexer] = value instead\n",
      "\n",
      "See the caveats in the documentation: https://pandas.pydata.org/pandas-docs/stable/user_guide/indexing.html#returning-a-view-versus-a-copy\n",
      "  gg['d']=gg.iloc[:,3:6].mean(1)-gg.iloc[:,:3].mean(1)\n"
     ]
    }
   ],
   "source": [
    "gg['d']=gg.iloc[:,3:6].mean(1)-gg.iloc[:,:3].mean(1)"
   ]
  },
  {
   "cell_type": "code",
   "execution_count": 980,
   "id": "d4be95ec-8574-4c63-9472-68422540c27a",
   "metadata": {},
   "outputs": [
    {
     "name": "stderr",
     "output_type": "stream",
     "text": [
      "/local/scratch/moqri/slrmtmp.30802994/ipykernel_2054/1269477221.py:1: SettingWithCopyWarning: \n",
      "A value is trying to be set on a copy of a slice from a DataFrame.\n",
      "Try using .loc[row_indexer,col_indexer] = value instead\n",
      "\n",
      "See the caveats in the documentation: https://pandas.pydata.org/pandas-docs/stable/user_guide/indexing.html#returning-a-view-versus-a-copy\n",
      "  gg['d']=gg.d.rolling(1000).mean()\n"
     ]
    },
    {
     "data": {
      "text/plain": [
       "<AxesSubplot:xlabel='1'>"
      ]
     },
     "execution_count": 980,
     "metadata": {},
     "output_type": "execute_result"
    },
    {
     "data": {
      "image/png": "[encoded data removed]",
      "text/plain": [
       "<Figure size 1440x360 with 1 Axes>"
      ]
     },
     "metadata": {
      "needs_background": "light"
     },
     "output_type": "display_data"
    }
   ],
   "source": [
    "gg['d']=gg.d.rolling(1000).mean()\n",
    "gg.d.plot(figsize=(20,5))"
   ]
  },
  {
   "cell_type": "code",
   "execution_count": 993,
   "id": "ebb77ce4-9436-4814-b210-1decc0638ec9",
   "metadata": {},
   "outputs": [
    {
     "data": {
      "text/html": [
       "<div>\n",
       "<style scoped>\n",
       "    .dataframe tbody tr th:only-of-type {\n",
       "        vertical-align: middle;\n",
       "    }\n",
       "\n",
       "    .dataframe tbody tr th {\n",
       "        vertical-align: top;\n",
       "    }\n",
       "\n",
       "    .dataframe thead th {\n",
       "        text-align: right;\n",
       "    }\n",
       "</style>\n",
       "<table border=\"1\" class=\"dataframe\">\n",
       "  <thead>\n",
       "    <tr style=\"text-align: right;\">\n",
       "      <th></th>\n",
       "      <th>4</th>\n",
       "      <th>4</th>\n",
       "      <th>4</th>\n",
       "      <th>4</th>\n",
       "      <th>4</th>\n",
       "      <th>4</th>\n",
       "      <th>d</th>\n",
       "    </tr>\n",
       "    <tr>\n",
       "      <th>1</th>\n",
       "      <th></th>\n",
       "      <th></th>\n",
       "      <th></th>\n",
       "      <th></th>\n",
       "      <th></th>\n",
       "      <th></th>\n",
       "      <th></th>\n",
       "    </tr>\n",
       "  </thead>\n",
       "  <tbody>\n",
       "    <tr>\n",
       "      <th>10431457</th>\n",
       "      <td>0.842105</td>\n",
       "      <td>1.000000</td>\n",
       "      <td>0.823529</td>\n",
       "      <td>0.807692</td>\n",
       "      <td>0.738095</td>\n",
       "      <td>0.960000</td>\n",
       "      <td>0.100019</td>\n",
       "    </tr>\n",
       "    <tr>\n",
       "      <th>10431650</th>\n",
       "      <td>0.965517</td>\n",
       "      <td>0.833333</td>\n",
       "      <td>0.702703</td>\n",
       "      <td>0.900000</td>\n",
       "      <td>0.723404</td>\n",
       "      <td>0.962963</td>\n",
       "      <td>0.100071</td>\n",
       "    </tr>\n",
       "    <tr>\n",
       "      <th>10431888</th>\n",
       "      <td>0.200000</td>\n",
       "      <td>0.000000</td>\n",
       "      <td>0.300000</td>\n",
       "      <td>0.250000</td>\n",
       "      <td>0.583333</td>\n",
       "      <td>0.526316</td>\n",
       "      <td>0.100466</td>\n",
       "    </tr>\n",
       "    <tr>\n",
       "      <th>10431957</th>\n",
       "      <td>0.259259</td>\n",
       "      <td>0.666667</td>\n",
       "      <td>0.333333</td>\n",
       "      <td>0.566667</td>\n",
       "      <td>0.127660</td>\n",
       "      <td>0.192308</td>\n",
       "      <td>0.100432</td>\n",
       "    </tr>\n",
       "    <tr>\n",
       "      <th>10432011</th>\n",
       "      <td>0.107143</td>\n",
       "      <td>0.000000</td>\n",
       "      <td>0.047619</td>\n",
       "      <td>0.217391</td>\n",
       "      <td>0.403846</td>\n",
       "      <td>0.136364</td>\n",
       "      <td>0.100816</td>\n",
       "    </tr>\n",
       "    <tr>\n",
       "      <th>...</th>\n",
       "      <td>...</td>\n",
       "      <td>...</td>\n",
       "      <td>...</td>\n",
       "      <td>...</td>\n",
       "      <td>...</td>\n",
       "      <td>...</td>\n",
       "      <td>...</td>\n",
       "    </tr>\n",
       "    <tr>\n",
       "      <th>90857503</th>\n",
       "      <td>0.214286</td>\n",
       "      <td>0.000000</td>\n",
       "      <td>0.045455</td>\n",
       "      <td>0.214286</td>\n",
       "      <td>0.023810</td>\n",
       "      <td>0.409091</td>\n",
       "      <td>0.100222</td>\n",
       "    </tr>\n",
       "    <tr>\n",
       "      <th>90857520</th>\n",
       "      <td>0.000000</td>\n",
       "      <td>0.000000</td>\n",
       "      <td>0.000000</td>\n",
       "      <td>0.000000</td>\n",
       "      <td>0.000000</td>\n",
       "      <td>0.000000</td>\n",
       "      <td>0.100151</td>\n",
       "    </tr>\n",
       "    <tr>\n",
       "      <th>90857533</th>\n",
       "      <td>0.058824</td>\n",
       "      <td>0.000000</td>\n",
       "      <td>0.040000</td>\n",
       "      <td>0.062500</td>\n",
       "      <td>0.000000</td>\n",
       "      <td>0.000000</td>\n",
       "      <td>0.100253</td>\n",
       "    </tr>\n",
       "    <tr>\n",
       "      <th>90857536</th>\n",
       "      <td>0.000000</td>\n",
       "      <td>0.000000</td>\n",
       "      <td>0.000000</td>\n",
       "      <td>0.031250</td>\n",
       "      <td>0.000000</td>\n",
       "      <td>0.105263</td>\n",
       "      <td>0.100246</td>\n",
       "    </tr>\n",
       "    <tr>\n",
       "      <th>90857548</th>\n",
       "      <td>0.000000</td>\n",
       "      <td>0.000000</td>\n",
       "      <td>0.043478</td>\n",
       "      <td>0.030303</td>\n",
       "      <td>0.000000</td>\n",
       "      <td>0.050000</td>\n",
       "      <td>0.100088</td>\n",
       "    </tr>\n",
       "  </tbody>\n",
       "</table>\n",
       "<p>8595 rows × 7 columns</p>\n",
       "</div>"
      ],
      "text/plain": [
       "                 4         4         4         4         4         4         d\n",
       "1                                                                             \n",
       "10431457  0.842105  1.000000  0.823529  0.807692  0.738095  0.960000  0.100019\n",
       "10431650  0.965517  0.833333  0.702703  0.900000  0.723404  0.962963  0.100071\n",
       "10431888  0.200000  0.000000  0.300000  0.250000  0.583333  0.526316  0.100466\n",
       "10431957  0.259259  0.666667  0.333333  0.566667  0.127660  0.192308  0.100432\n",
       "10432011  0.107143  0.000000  0.047619  0.217391  0.403846  0.136364  0.100816\n",
       "...            ...       ...       ...       ...       ...       ...       ...\n",
       "90857503  0.214286  0.000000  0.045455  0.214286  0.023810  0.409091  0.100222\n",
       "90857520  0.000000  0.000000  0.000000  0.000000  0.000000  0.000000  0.100151\n",
       "90857533  0.058824  0.000000  0.040000  0.062500  0.000000  0.000000  0.100253\n",
       "90857536  0.000000  0.000000  0.000000  0.031250  0.000000  0.105263  0.100246\n",
       "90857548  0.000000  0.000000  0.043478  0.030303  0.000000  0.050000  0.100088\n",
       "\n",
       "[8595 rows x 7 columns]"
      ]
     },
     "execution_count": 993,
     "metadata": {},
     "output_type": "execute_result"
    }
   ],
   "source": [
    "gg[gg.d>.1].head(10000)"
   ]
  },
  {
   "cell_type": "code",
   "execution_count": 953,
   "id": "5bcf2e1a-bf4a-4f61-b61a-e6a50f6f9ccb",
   "metadata": {},
   "outputs": [
    {
     "data": {
      "text/plain": [
       "1\n",
       "66845249   -0.218807\n",
       "66845223   -0.218794\n",
       "66844205   -0.218646\n",
       "66844043   -0.218538\n",
       "66845430   -0.218412\n",
       "              ...   \n",
       "14367925    0.159322\n",
       "14369540    0.159369\n",
       "14369531    0.159596\n",
       "14369156    0.159657\n",
       "14369343    0.159849\n",
       "Name: d, Length: 1266136, dtype: float64"
      ]
     },
     "execution_count": 953,
     "metadata": {},
     "output_type": "execute_result"
    }
   ],
   "source": [
    "gg.d.rolling(1000).mean().sort_values().dropna()"
   ]
  },
  {
   "cell_type": "code",
   "execution_count": 19,
   "id": "d50d101c-160a-4d2f-9cba-cf7552c1ceae",
   "metadata": {},
   "outputs": [],
   "source": [
    "bw='https://www.encodeproject.org/files/ENCFF109KCQ/@@download/ENCFF109KCQ.bigWig'\n",
    "bw=pyBigWig.open(bw)\n",
    "bs=[]\n",
    "for i,r in hv.iterrows():\n",
    "    b=bw.stats(r['#chrom'],r['chromStart'],r['chromEnd'],'max')\n",
    "    bs.append(b[0])"
   ]
  },
  {
   "cell_type": "code",
   "execution_count": 26,
   "id": "f519bfca-c847-4d7c-8bd9-1ba59dff510d",
   "metadata": {},
   "outputs": [
    {
     "name": "stderr",
     "output_type": "stream",
     "text": [
      "/local/scratch/moqri/slrmtmp.30800439/ipykernel_25735/445542374.py:1: SettingWithCopyWarning: \n",
      "A value is trying to be set on a copy of a slice from a DataFrame.\n",
      "Try using .loc[row_indexer,col_indexer] = value instead\n",
      "\n",
      "See the caveats in the documentation: https://pandas.pydata.org/pandas-docs/stable/user_guide/indexing.html#returning-a-view-versus-a-copy\n",
      "  hv['ez']=bs\n"
     ]
    }
   ],
   "source": [
    "hv['ez']=bs"
   ]
  },
  {
   "cell_type": "code",
   "execution_count": 29,
   "id": "6ccd7516-1c8a-4bb0-9cae-ab115b373a4b",
   "metadata": {},
   "outputs": [
    {
     "data": {
      "text/plain": [
       "<AxesSubplot:>"
      ]
     },
     "execution_count": 29,
     "metadata": {},
     "output_type": "execute_result"
    },
    {
     "data": {
      "image/png": "[encoded data removed]",
      "text/plain": [
       "<Figure size 432x288 with 1 Axes>"
      ]
     },
     "metadata": {
      "needs_background": "light"
     },
     "output_type": "display_data"
    }
   ],
   "source": [
    "hv.ez.hist(bins=100)"
   ]
  },
  {
   "cell_type": "code",
   "execution_count": 37,
   "id": "27a3db81-9d52-40b0-aec3-2730e633e354",
   "metadata": {},
   "outputs": [],
   "source": [
    "v=hv[hv.ez>100][['#chrom','chromStart','chromEnd']]\n",
    "v.columns=['chrom','chromStart','chromEnd']\n",
    "v['chrom']=v.chrom.str[3:]"
   ]
  },
  {
   "cell_type": "code",
   "execution_count": null,
   "id": "b50fa289-7d2f-4610-9947-2a152c4fef34",
   "metadata": {},
   "outputs": [],
   "source": []
  },
  {
   "cell_type": "code",
   "execution_count": 59,
   "id": "759e3010-39d1-42ee-8bde-5348da2c87f6",
   "metadata": {},
   "outputs": [],
   "source": [
    "df['id']=df.index.str[:5]"
   ]
  },
  {
   "cell_type": "code",
   "execution_count": 81,
   "id": "eacf563b-c164-442b-bb2b-6bc1d05c5dd7",
   "metadata": {},
   "outputs": [],
   "source": [
    "dg=df.groupby('id').mean()"
   ]
  },
  {
   "cell_type": "code",
   "execution_count": 89,
   "id": "8456abee-302b-48ec-a203-a2ba88f54eba",
   "metadata": {},
   "outputs": [
    {
     "data": {
      "text/plain": [
       "<AxesSubplot:>"
      ]
     },
     "execution_count": 89,
     "metadata": {},
     "output_type": "execute_result"
    },
    {
     "data": {
      "image/png": "[encoded data removed]",
      "text/plain": [
       "<Figure size 432x288 with 1 Axes>"
      ]
     },
     "metadata": {
      "needs_background": "light"
     },
     "output_type": "display_data"
    }
   ],
   "source": [
    "sn.violinplot(data=dg)"
   ]
  },
  {
   "cell_type": "code",
   "execution_count": 95,
   "id": "fc36d7ec-0439-487e-860f-2f33b173ab2f",
   "metadata": {},
   "outputs": [],
   "source": [
    "fib=fib[fib.index.isin(df.index)]"
   ]
  },
  {
   "cell_type": "code",
   "execution_count": 97,
   "id": "18878a6d-3598-4572-8680-fc97a4a03dea",
   "metadata": {},
   "outputs": [
    {
     "name": "stderr",
     "output_type": "stream",
     "text": [
      "/local/scratch/moqri/slrmtmp.30800439/ipykernel_25735/2020547035.py:1: SettingWithCopyWarning: \n",
      "A value is trying to be set on a copy of a slice from a DataFrame.\n",
      "Try using .loc[row_indexer,col_indexer] = value instead\n",
      "\n",
      "See the caveats in the documentation: https://pandas.pydata.org/pandas-docs/stable/user_guide/indexing.html#returning-a-view-versus-a-copy\n",
      "  fib['id']=fib.index.str[:5]\n"
     ]
    }
   ],
   "source": [
    "fib['id']=fib.index.str[:5]"
   ]
  },
  {
   "cell_type": "code",
   "execution_count": 100,
   "id": "0c0481a0-ded4-4c38-a49b-738ce8fd19f6",
   "metadata": {},
   "outputs": [],
   "source": [
    "fib=fib.groupby('id').mean()"
   ]
  },
  {
   "cell_type": "code",
   "execution_count": 104,
   "id": "e655938d-0c3e-44d1-b0fe-61950e2e4c54",
   "metadata": {},
   "outputs": [
    {
     "data": {
      "text/plain": [
       "<AxesSubplot:>"
      ]
     },
     "execution_count": 104,
     "metadata": {},
     "output_type": "execute_result"
    },
    {
     "data": {
      "image/png": "[encoded data removed]",
      "text/plain": [
       "<Figure size 432x288 with 1 Axes>"
      ]
     },
     "metadata": {
      "needs_background": "light"
     },
     "output_type": "display_data"
    }
   ],
   "source": [
    "sn.violinplot(data=fib)"
   ]
  },
  {
   "cell_type": "code",
   "execution_count": null,
   "id": "bc02b159-5b84-4bb5-bc1e-a1fa8e593712",
   "metadata": {},
   "outputs": [],
   "source": [
    "fs=['Young-381','Young-400','Young-498','Old-247','Old-602','Old-725']\n"
   ]
  },
  {
   "cell_type": "code",
   "execution_count": 51,
   "id": "c2626b62-b119-47ba-97a0-c88eb6bf0c4a",
   "metadata": {},
   "outputs": [],
   "source": [
    "sp=['SRR10429'+ i +'.meth.sym' for i in  ['03','06','07','09','11','13']]\n",
    "se=['SRR10429'+ i +'.meth.sym' for i in  ['04','05','08','10','12','14']]\n",
    "sep=sp+se"
   ]
  },
  {
   "cell_type": "code",
   "execution_count": null,
   "id": "aba1475f-42d8-4df3-8300-0392452918b0",
   "metadata": {},
   "outputs": [],
   "source": [
    "n=8\n",
    "dfs=[]\n",
    "for f in sep:\n",
    "    print(f,end=',')\n",
    "    df=pd.read_csv('data/wg/skin/gui/'+f,sep='\\t',header=None,nrows=5*10**n)\n",
    "    df=df[(df[2]=='+')&(df[3]=='CpG')&(df[5]>0)]\n",
    "    df.index=df[0].str[3:5]+'_'+df[1].astype(str)\n",
    "    df=df[df.index.isin(an['_'])][[4]]\n",
    "    df.columns=[f]\n",
    "    dfs.append(df)"
   ]
  }
 ],
 "metadata": {
  "kernelspec": {
   "display_name": "meth",
   "language": "python",
   "name": "meth"
  },
  "language_info": {
   "codemirror_mode": {
    "name": "ipython",
    "version": 3
   },
   "file_extension": ".py",
   "mimetype": "text/x-python",
   "name": "python",
   "nbconvert_exporter": "python",
   "pygments_lexer": "ipython3",
   "version": "3.9.7"
  }
 },
 "nbformat": 4,
 "nbformat_minor": 5
}
