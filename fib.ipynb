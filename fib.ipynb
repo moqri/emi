{
 "cells": [
  {
   "cell_type": "code",
   "execution_count": 1,
   "id": "7c537b53-d4b7-4c3b-b020-69bd465a8b38",
   "metadata": {},
   "outputs": [],
   "source": [
    "import pandas as pd\n",
    "import seaborn as sns\n",
    "from matplotlib import pyplot\n",
    "import pyBigWig\n",
    "import numpy as np"
   ]
  },
  {
   "cell_type": "code",
   "execution_count": 284,
   "id": "529c00e3-34e3-49e6-9a58-c8d6120265df",
   "metadata": {},
   "outputs": [],
   "source": [
    "ez=pd.read_csv('data/ez.csv',index_col=0,engine='c')\n",
    "exp=pd.read_csv('data/exp.csv',index_col=0,engine='c')"
   ]
  },
  {
   "cell_type": "code",
   "execution_count": 13,
   "id": "4570ad6b-4091-427b-9839-03c612033f3c",
   "metadata": {},
   "outputs": [],
   "source": [
    "h=pd.read_csv('data/h.csv',index_col=0,engine='c')"
   ]
  },
  {
   "cell_type": "code",
   "execution_count": 18,
   "id": "599b27a5-fd98-4321-aa13-c8bb709ad101",
   "metadata": {},
   "outputs": [],
   "source": [
    "ez=ez.merge(h,left_index=True,right_index=True)"
   ]
  },
  {
   "cell_type": "code",
   "execution_count": 47,
   "id": "c34cfaa1-41c9-4461-a702-0cabf5bdcaaf",
   "metadata": {},
   "outputs": [
    {
     "data": {
      "text/plain": [
       "(3150367, 5)"
      ]
     },
     "execution_count": 47,
     "metadata": {},
     "output_type": "execute_result"
    }
   ],
   "source": [
    "df=pd.read_csv('data/meth/fib.csv',index_col=0)\n",
    "df.shape"
   ]
  },
  {
   "cell_type": "code",
   "execution_count": 134,
   "id": "2ae31608-7f73-4e29-896e-7f6bfef61d7b",
   "metadata": {},
   "outputs": [],
   "source": [
    "fs=[c.strip('.meth') for c in df.columns]"
   ]
  },
  {
   "cell_type": "code",
   "execution_count": 135,
   "id": "65b0e95f-0563-474d-86f5-6a29196c187f",
   "metadata": {},
   "outputs": [],
   "source": [
    "df.columns=fs"
   ]
  },
  {
   "cell_type": "code",
   "execution_count": 175,
   "id": "db0920d0-aa61-472c-986b-63a678403f5d",
   "metadata": {},
   "outputs": [
    {
     "data": {
      "text/plain": [
       "(2039630, 5)"
      ]
     },
     "execution_count": 175,
     "metadata": {},
     "output_type": "execute_result"
    }
   ],
   "source": [
    "df['s']=df.sum(1)\n",
    "df=df[df.s>0]\n",
    "df=df[df.s<len(fs)]\n",
    "df=df.drop('s',axis=1).round(3)\n",
    "df.shape"
   ]
  },
  {
   "cell_type": "code",
   "execution_count": 176,
   "id": "1620f1c5-d3ac-46e5-b490-966f5467adb8",
   "metadata": {},
   "outputs": [],
   "source": [
    "ind=pd.read_csv('data/ind.csv',index_col=0,engine='c')\n",
    "#ind=ind.merge(ez,left_index=True, right_index=True)"
   ]
  },
  {
   "cell_type": "code",
   "execution_count": 198,
   "id": "7caa2c3b-c365-4c21-8c09-87f6a1599235",
   "metadata": {},
   "outputs": [
    {
     "data": {
      "text/plain": [
       "(12951, 5)"
      ]
     },
     "execution_count": 198,
     "metadata": {},
     "output_type": "execute_result"
    }
   ],
   "source": [
    "ez=ez[ez.index.str.split('_').str[0]=='2']\n",
    "cut=ez[(ez['ez']==1000)]\n",
    "dg=df[df.index.isin(cut.index)].copy()\n",
    "dg.shape"
   ]
  },
  {
   "cell_type": "code",
   "execution_count": 199,
   "id": "dc136283-2a77-47bf-a394-7ea6a5dc8ea6",
   "metadata": {},
   "outputs": [
    {
     "data": {
      "text/html": [
       "<div>\n",
       "<style scoped>\n",
       "    .dataframe tbody tr th:only-of-type {\n",
       "        vertical-align: middle;\n",
       "    }\n",
       "\n",
       "    .dataframe tbody tr th {\n",
       "        vertical-align: top;\n",
       "    }\n",
       "\n",
       "    .dataframe thead th {\n",
       "        text-align: right;\n",
       "    }\n",
       "</style>\n",
       "<table border=\"1\" class=\"dataframe\">\n",
       "  <thead>\n",
       "    <tr style=\"text-align: right;\">\n",
       "      <th></th>\n",
       "      <th>0</th>\n",
       "      <th>age</th>\n",
       "    </tr>\n",
       "  </thead>\n",
       "  <tbody>\n",
       "    <tr>\n",
       "      <th>SRR3264413</th>\n",
       "      <td>0.220584</td>\n",
       "      <td>4</td>\n",
       "    </tr>\n",
       "    <tr>\n",
       "      <th>SRR3264414</th>\n",
       "      <td>0.225392</td>\n",
       "      <td>7</td>\n",
       "    </tr>\n",
       "    <tr>\n",
       "      <th>SRR3264415</th>\n",
       "      <td>0.240123</td>\n",
       "      <td>10</td>\n",
       "    </tr>\n",
       "    <tr>\n",
       "      <th>SRR3264416</th>\n",
       "      <td>0.314571</td>\n",
       "      <td>31</td>\n",
       "    </tr>\n",
       "    <tr>\n",
       "      <th>SRR3264722</th>\n",
       "      <td>0.321792</td>\n",
       "      <td>33</td>\n",
       "    </tr>\n",
       "  </tbody>\n",
       "</table>\n",
       "</div>"
      ],
      "text/plain": [
       "                   0  age\n",
       "SRR3264413  0.220584    4\n",
       "SRR3264414  0.225392    7\n",
       "SRR3264415  0.240123   10\n",
       "SRR3264416  0.314571   31\n",
       "SRR3264722  0.321792   33"
      ]
     },
     "execution_count": 199,
     "metadata": {},
     "output_type": "execute_result"
    }
   ],
   "source": [
    "p=pd.DataFrame(dg.mean())\n",
    "p['age']=[4,7,10,31,33]\n",
    "p"
   ]
  },
  {
   "cell_type": "code",
   "execution_count": 200,
   "id": "f71cd110-0b3c-4793-88e5-797c292f78a2",
   "metadata": {},
   "outputs": [],
   "source": [
    "dg=dg.merge(ind.gene,left_index=True,right_index=True)"
   ]
  },
  {
   "cell_type": "code",
   "execution_count": 221,
   "id": "a476a662-4ee8-4f1e-99bf-d9d44d2d6063",
   "metadata": {},
   "outputs": [],
   "source": [
    "dgg=dg.groupby('gene').mean()"
   ]
  },
  {
   "cell_type": "code",
   "execution_count": 230,
   "id": "3947b690-c490-4535-aec5-bc88101e8ac2",
   "metadata": {},
   "outputs": [],
   "source": [
    "df=df.merge(ind.gene,left_index=True,right_index=True)"
   ]
  },
  {
   "cell_type": "code",
   "execution_count": 253,
   "id": "fb49b13e-35ad-47e4-84ef-d9d6d9f49d53",
   "metadata": {},
   "outputs": [],
   "source": [
    "dff=df.groupby('gene').mean()"
   ]
  },
  {
   "cell_type": "code",
   "execution_count": 377,
   "id": "f48e2a57-15c9-4bff-bfd1-fbfa1870495e",
   "metadata": {},
   "outputs": [
    {
     "data": {
      "text/plain": [
       "18001"
      ]
     },
     "execution_count": 377,
     "metadata": {},
     "output_type": "execute_result"
    }
   ],
   "source": [
    "dff['d']=dff['SRR3264722']-dff['SRR3264413']\n",
    "len(dff)"
   ]
  },
  {
   "cell_type": "code",
   "execution_count": 378,
   "id": "52ccf270-bfb0-48b5-96f2-e16c836a684b",
   "metadata": {},
   "outputs": [
    {
     "data": {
      "text/plain": [
       "<AxesSubplot:>"
      ]
     },
     "execution_count": 378,
     "metadata": {},
     "output_type": "execute_result"
    },
    {
     "data": {
      "image/png": "[encoded data removed]",
      "text/plain": [
       "<Figure size 432x288 with 1 Axes>"
      ]
     },
     "metadata": {
      "needs_background": "light"
     },
     "output_type": "display_data"
    }
   ],
   "source": [
    "dff.d.hist(bins=100)"
   ]
  },
  {
   "cell_type": "code",
   "execution_count": 380,
   "id": "16258d6a-61fb-4b77-bef0-f9963386d117",
   "metadata": {},
   "outputs": [
    {
     "data": {
      "text/plain": [
       "313491"
      ]
     },
     "execution_count": 380,
     "metadata": {},
     "output_type": "execute_result"
    }
   ],
   "source": [
    "eg=ez[ez.ez==1000].merge(ind,left_index=True,right_index=True)\n",
    "len(eg)"
   ]
  },
  {
   "cell_type": "code",
   "execution_count": 351,
   "id": "8612f038-7314-4255-b2e5-09edeedc04d5",
   "metadata": {},
   "outputs": [
    {
     "data": {
      "text/plain": [
       "18001"
      ]
     },
     "execution_count": 359,
     "metadata": {},
     "output_type": "execute_result"
    }
   ],
   "source": [
    "len(dff)"
   ]
  },
  {
   "cell_type": "code",
   "execution_count": 400,
   "id": "285465fe-b0a3-4581-a4b5-d49ff0aaaed0",
   "metadata": {},
   "outputs": [
    {
     "data": {
      "text/plain": [
       "58315"
      ]
     },
     "execution_count": 400,
     "metadata": {},
     "output_type": "execute_result"
    }
   ],
   "source": [
    "(dfe.d>0).sum()"
   ]
  },
  {
   "cell_type": "code",
   "execution_count": 405,
   "id": "f8c8c45f-8531-4ff7-8bb6-0c3f537f3f78",
   "metadata": {},
   "outputs": [
    {
     "data": {
      "text/plain": [
       "1386"
      ]
     },
     "execution_count": 405,
     "metadata": {},
     "output_type": "execute_result"
    }
   ],
   "source": [
    "(dff[dff.index.isin(eg.gene)].d>0).sum()"
   ]
  },
  {
   "cell_type": "code",
   "execution_count": 409,
   "id": "68f40f66-5b1f-4c9f-b836-7bb8da8ab49f",
   "metadata": {},
   "outputs": [
    {
     "data": {
      "text/plain": [
       "<AxesSubplot:>"
      ]
     },
     "execution_count": 409,
     "metadata": {},
     "output_type": "execute_result"
    },
    {
     "data": {
      "image/png": "[encoded data removed]",
      "text/plain": [
       "<Figure size 432x288 with 1 Axes>"
      ]
     },
     "metadata": {
      "needs_background": "light"
     },
     "output_type": "display_data"
    }
   ],
   "source": [
    "dff[dff.index.isin(eg.gene)].d.hist(bins=100)"
   ]
  },
  {
   "cell_type": "code",
   "execution_count": 407,
   "id": "71a6c544-6acc-44da-88ea-42838c7d275e",
   "metadata": {},
   "outputs": [
    {
     "data": {
      "text/plain": [
       "<AxesSubplot:>"
      ]
     },
     "execution_count": 407,
     "metadata": {},
     "output_type": "execute_result"
    },
    {
     "data": {
      "image/png": "[encoded data removed]",
      "text/plain": [
       "<Figure size 432x288 with 1 Axes>"
      ]
     },
     "metadata": {
      "needs_background": "light"
     },
     "output_type": "display_data"
    }
   ],
   "source": [
    "dff.d.hist(bins=100)"
   ]
  },
  {
   "cell_type": "code",
   "execution_count": 318,
   "id": "d941ca22-8960-46c5-947f-aa0c1f0a0d5c",
   "metadata": {},
   "outputs": [
    {
     "data": {
      "text/plain": [
       "51"
      ]
     },
     "execution_count": 318,
     "metadata": {},
     "output_type": "execute_result"
    }
   ],
   "source": [
    "dfff=dff[dff.d>.5]\n",
    "len(dfff)"
   ]
  },
  {
   "cell_type": "code",
   "execution_count": 319,
   "id": "98bd12c5-2ba1-47e5-9125-111957d80b97",
   "metadata": {},
   "outputs": [
    {
     "data": {
      "text/plain": [
       "31"
      ]
     },
     "execution_count": 319,
     "metadata": {},
     "output_type": "execute_result"
    }
   ],
   "source": [
    "len(dfff[dfff.index.isin(eg.gene)])"
   ]
  },
  {
   "cell_type": "code",
   "execution_count": 204,
   "id": "2802bda9-9c00-4a50-907b-d0276a2ac5ca",
   "metadata": {},
   "outputs": [],
   "source": [
    "pl=dg.rolling(200).mean()"
   ]
  },
  {
   "cell_type": "code",
   "execution_count": 205,
   "id": "fc5e221a-8fd8-4e0d-a4e4-2a7bfc72299b",
   "metadata": {},
   "outputs": [
    {
     "data": {
      "text/html": [
       "<div>\n",
       "<style scoped>\n",
       "    .dataframe tbody tr th:only-of-type {\n",
       "        vertical-align: middle;\n",
       "    }\n",
       "\n",
       "    .dataframe tbody tr th {\n",
       "        vertical-align: top;\n",
       "    }\n",
       "\n",
       "    .dataframe thead th {\n",
       "        text-align: right;\n",
       "    }\n",
       "</style>\n",
       "<table border=\"1\" class=\"dataframe\">\n",
       "  <thead>\n",
       "    <tr style=\"text-align: right;\">\n",
       "      <th></th>\n",
       "      <th>SRR3264413</th>\n",
       "      <th>SRR3264414</th>\n",
       "      <th>SRR3264415</th>\n",
       "      <th>SRR3264416</th>\n",
       "      <th>SRR3264722</th>\n",
       "      <th>d</th>\n",
       "    </tr>\n",
       "  </thead>\n",
       "  <tbody>\n",
       "    <tr>\n",
       "      <th>2_19361206</th>\n",
       "      <td>0.429880</td>\n",
       "      <td>0.458855</td>\n",
       "      <td>0.526380</td>\n",
       "      <td>0.192675</td>\n",
       "      <td>0.160895</td>\n",
       "      <td>-0.268985</td>\n",
       "    </tr>\n",
       "    <tr>\n",
       "      <th>2_19361202</th>\n",
       "      <td>0.424880</td>\n",
       "      <td>0.457070</td>\n",
       "      <td>0.521380</td>\n",
       "      <td>0.188390</td>\n",
       "      <td>0.156350</td>\n",
       "      <td>-0.268530</td>\n",
       "    </tr>\n",
       "    <tr>\n",
       "      <th>2_19361210</th>\n",
       "      <td>0.433215</td>\n",
       "      <td>0.463300</td>\n",
       "      <td>0.530755</td>\n",
       "      <td>0.196245</td>\n",
       "      <td>0.165895</td>\n",
       "      <td>-0.267320</td>\n",
       "    </tr>\n",
       "    <tr>\n",
       "      <th>2_19360937</th>\n",
       "      <td>0.402965</td>\n",
       "      <td>0.436125</td>\n",
       "      <td>0.499490</td>\n",
       "      <td>0.172500</td>\n",
       "      <td>0.136455</td>\n",
       "      <td>-0.266510</td>\n",
       "    </tr>\n",
       "    <tr>\n",
       "      <th>2_19360989</th>\n",
       "      <td>0.406715</td>\n",
       "      <td>0.438625</td>\n",
       "      <td>0.503655</td>\n",
       "      <td>0.177500</td>\n",
       "      <td>0.141455</td>\n",
       "      <td>-0.265260</td>\n",
       "    </tr>\n",
       "    <tr>\n",
       "      <th>2_19361218</th>\n",
       "      <td>0.435715</td>\n",
       "      <td>0.467845</td>\n",
       "      <td>0.535755</td>\n",
       "      <td>0.201245</td>\n",
       "      <td>0.170895</td>\n",
       "      <td>-0.264820</td>\n",
       "    </tr>\n",
       "    <tr>\n",
       "      <th>2_19361161</th>\n",
       "      <td>0.419880</td>\n",
       "      <td>0.452625</td>\n",
       "      <td>0.516380</td>\n",
       "      <td>0.188570</td>\n",
       "      <td>0.155185</td>\n",
       "      <td>-0.264695</td>\n",
       "    </tr>\n",
       "    <tr>\n",
       "      <th>2_19361036</th>\n",
       "      <td>0.414880</td>\n",
       "      <td>0.448625</td>\n",
       "      <td>0.511380</td>\n",
       "      <td>0.186070</td>\n",
       "      <td>0.150185</td>\n",
       "      <td>-0.264695</td>\n",
       "    </tr>\n",
       "    <tr>\n",
       "      <th>2_19361001</th>\n",
       "      <td>0.409880</td>\n",
       "      <td>0.443625</td>\n",
       "      <td>0.507745</td>\n",
       "      <td>0.182500</td>\n",
       "      <td>0.145900</td>\n",
       "      <td>-0.263980</td>\n",
       "    </tr>\n",
       "    <tr>\n",
       "      <th>2_19360705</th>\n",
       "      <td>0.397965</td>\n",
       "      <td>0.431125</td>\n",
       "      <td>0.495115</td>\n",
       "      <td>0.170415</td>\n",
       "      <td>0.134235</td>\n",
       "      <td>-0.263730</td>\n",
       "    </tr>\n",
       "    <tr>\n",
       "      <th>2_19360663</th>\n",
       "      <td>0.395465</td>\n",
       "      <td>0.428815</td>\n",
       "      <td>0.490705</td>\n",
       "      <td>0.168915</td>\n",
       "      <td>0.132020</td>\n",
       "      <td>-0.263445</td>\n",
       "    </tr>\n",
       "    <tr>\n",
       "      <th>2_19361233</th>\n",
       "      <td>0.438215</td>\n",
       "      <td>0.472345</td>\n",
       "      <td>0.540755</td>\n",
       "      <td>0.205620</td>\n",
       "      <td>0.175895</td>\n",
       "      <td>-0.262320</td>\n",
       "    </tr>\n",
       "    <tr>\n",
       "      <th>2_19361517</th>\n",
       "      <td>0.489070</td>\n",
       "      <td>0.537345</td>\n",
       "      <td>0.596750</td>\n",
       "      <td>0.251550</td>\n",
       "      <td>0.227680</td>\n",
       "      <td>-0.261390</td>\n",
       "    </tr>\n",
       "    <tr>\n",
       "      <th>2_19361257</th>\n",
       "      <td>0.439880</td>\n",
       "      <td>0.477345</td>\n",
       "      <td>0.545755</td>\n",
       "      <td>0.208120</td>\n",
       "      <td>0.178620</td>\n",
       "      <td>-0.261260</td>\n",
       "    </tr>\n",
       "    <tr>\n",
       "      <th>2_19361504</th>\n",
       "      <td>0.485405</td>\n",
       "      <td>0.530010</td>\n",
       "      <td>0.594950</td>\n",
       "      <td>0.249430</td>\n",
       "      <td>0.224465</td>\n",
       "      <td>-0.260940</td>\n",
       "    </tr>\n",
       "    <tr>\n",
       "      <th>2_19360436</th>\n",
       "      <td>0.390465</td>\n",
       "      <td>0.423815</td>\n",
       "      <td>0.485705</td>\n",
       "      <td>0.166415</td>\n",
       "      <td>0.129645</td>\n",
       "      <td>-0.260820</td>\n",
       "    </tr>\n",
       "    <tr>\n",
       "      <th>2_19361519</th>\n",
       "      <td>0.489070</td>\n",
       "      <td>0.538655</td>\n",
       "      <td>0.598895</td>\n",
       "      <td>0.252385</td>\n",
       "      <td>0.228395</td>\n",
       "      <td>-0.260675</td>\n",
       "    </tr>\n",
       "    <tr>\n",
       "      <th>2_19361511</th>\n",
       "      <td>0.487405</td>\n",
       "      <td>0.534010</td>\n",
       "      <td>0.597035</td>\n",
       "      <td>0.251095</td>\n",
       "      <td>0.226965</td>\n",
       "      <td>-0.260440</td>\n",
       "    </tr>\n",
       "    <tr>\n",
       "      <th>2_19361540</th>\n",
       "      <td>0.489070</td>\n",
       "      <td>0.540795</td>\n",
       "      <td>0.602895</td>\n",
       "      <td>0.253295</td>\n",
       "      <td>0.229110</td>\n",
       "      <td>-0.259960</td>\n",
       "    </tr>\n",
       "    <tr>\n",
       "      <th>2_19361264</th>\n",
       "      <td>0.443215</td>\n",
       "      <td>0.481890</td>\n",
       "      <td>0.550755</td>\n",
       "      <td>0.213120</td>\n",
       "      <td>0.183620</td>\n",
       "      <td>-0.259595</td>\n",
       "    </tr>\n",
       "    <tr>\n",
       "      <th>2_19361572</th>\n",
       "      <td>0.493550</td>\n",
       "      <td>0.557890</td>\n",
       "      <td>0.618480</td>\n",
       "      <td>0.258100</td>\n",
       "      <td>0.234110</td>\n",
       "      <td>-0.259440</td>\n",
       "    </tr>\n",
       "    <tr>\n",
       "      <th>2_19361422</th>\n",
       "      <td>0.483405</td>\n",
       "      <td>0.527865</td>\n",
       "      <td>0.592450</td>\n",
       "      <td>0.249015</td>\n",
       "      <td>0.224215</td>\n",
       "      <td>-0.259190</td>\n",
       "    </tr>\n",
       "    <tr>\n",
       "      <th>2_19361403</th>\n",
       "      <td>0.481905</td>\n",
       "      <td>0.524405</td>\n",
       "      <td>0.591200</td>\n",
       "      <td>0.247140</td>\n",
       "      <td>0.222965</td>\n",
       "      <td>-0.258940</td>\n",
       "    </tr>\n",
       "    <tr>\n",
       "      <th>2_19361549</th>\n",
       "      <td>0.489070</td>\n",
       "      <td>0.544365</td>\n",
       "      <td>0.606895</td>\n",
       "      <td>0.254170</td>\n",
       "      <td>0.230360</td>\n",
       "      <td>-0.258710</td>\n",
       "    </tr>\n",
       "    <tr>\n",
       "      <th>2_19361565</th>\n",
       "      <td>0.491605</td>\n",
       "      <td>0.553890</td>\n",
       "      <td>0.616145</td>\n",
       "      <td>0.257475</td>\n",
       "      <td>0.233395</td>\n",
       "      <td>-0.258210</td>\n",
       "    </tr>\n",
       "    <tr>\n",
       "      <th>2_19361398</th>\n",
       "      <td>0.477740</td>\n",
       "      <td>0.519790</td>\n",
       "      <td>0.587200</td>\n",
       "      <td>0.246195</td>\n",
       "      <td>0.219630</td>\n",
       "      <td>-0.258110</td>\n",
       "    </tr>\n",
       "    <tr>\n",
       "      <th>2_19361560</th>\n",
       "      <td>0.489605</td>\n",
       "      <td>0.547220</td>\n",
       "      <td>0.609895</td>\n",
       "      <td>0.255420</td>\n",
       "      <td>0.231610</td>\n",
       "      <td>-0.257995</td>\n",
       "    </tr>\n",
       "    <tr>\n",
       "      <th>2_19361732</th>\n",
       "      <td>0.452735</td>\n",
       "      <td>0.531235</td>\n",
       "      <td>0.579285</td>\n",
       "      <td>0.207460</td>\n",
       "      <td>0.194905</td>\n",
       "      <td>-0.257830</td>\n",
       "    </tr>\n",
       "    <tr>\n",
       "      <th>2_19360076</th>\n",
       "      <td>0.385465</td>\n",
       "      <td>0.418815</td>\n",
       "      <td>0.481205</td>\n",
       "      <td>0.165165</td>\n",
       "      <td>0.127645</td>\n",
       "      <td>-0.257820</td>\n",
       "    </tr>\n",
       "    <tr>\n",
       "      <th>2_19361563</th>\n",
       "      <td>0.490605</td>\n",
       "      <td>0.550555</td>\n",
       "      <td>0.612395</td>\n",
       "      <td>0.256045</td>\n",
       "      <td>0.232860</td>\n",
       "      <td>-0.257745</td>\n",
       "    </tr>\n",
       "    <tr>\n",
       "      <th>2_19361712</th>\n",
       "      <td>0.460300</td>\n",
       "      <td>0.537190</td>\n",
       "      <td>0.587050</td>\n",
       "      <td>0.213410</td>\n",
       "      <td>0.202655</td>\n",
       "      <td>-0.257645</td>\n",
       "    </tr>\n",
       "    <tr>\n",
       "      <th>2_19361273</th>\n",
       "      <td>0.445835</td>\n",
       "      <td>0.486890</td>\n",
       "      <td>0.555755</td>\n",
       "      <td>0.218120</td>\n",
       "      <td>0.188620</td>\n",
       "      <td>-0.257215</td>\n",
       "    </tr>\n",
       "    <tr>\n",
       "      <th>2_19360030</th>\n",
       "      <td>0.382340</td>\n",
       "      <td>0.414480</td>\n",
       "      <td>0.476590</td>\n",
       "      <td>0.164985</td>\n",
       "      <td>0.125145</td>\n",
       "      <td>-0.257195</td>\n",
       "    </tr>\n",
       "    <tr>\n",
       "      <th>2_19359835</th>\n",
       "      <td>0.377340</td>\n",
       "      <td>0.412100</td>\n",
       "      <td>0.472090</td>\n",
       "      <td>0.159985</td>\n",
       "      <td>0.120145</td>\n",
       "      <td>-0.257195</td>\n",
       "    </tr>\n",
       "    <tr>\n",
       "      <th>2_19361739</th>\n",
       "      <td>0.450325</td>\n",
       "      <td>0.531235</td>\n",
       "      <td>0.575715</td>\n",
       "      <td>0.206175</td>\n",
       "      <td>0.194070</td>\n",
       "      <td>-0.256255</td>\n",
       "    </tr>\n",
       "    <tr>\n",
       "      <th>2_19361708</th>\n",
       "      <td>0.463465</td>\n",
       "      <td>0.542190</td>\n",
       "      <td>0.590620</td>\n",
       "      <td>0.217695</td>\n",
       "      <td>0.207655</td>\n",
       "      <td>-0.255810</td>\n",
       "    </tr>\n",
       "    <tr>\n",
       "      <th>2_19361393</th>\n",
       "      <td>0.472740</td>\n",
       "      <td>0.515945</td>\n",
       "      <td>0.584200</td>\n",
       "      <td>0.244545</td>\n",
       "      <td>0.217410</td>\n",
       "      <td>-0.255330</td>\n",
       "    </tr>\n",
       "    <tr>\n",
       "      <th>2_19361720</th>\n",
       "      <td>0.454160</td>\n",
       "      <td>0.533520</td>\n",
       "      <td>0.581190</td>\n",
       "      <td>0.210910</td>\n",
       "      <td>0.198905</td>\n",
       "      <td>-0.255255</td>\n",
       "    </tr>\n",
       "    <tr>\n",
       "      <th>2_19361276</th>\n",
       "      <td>0.447620</td>\n",
       "      <td>0.491265</td>\n",
       "      <td>0.560755</td>\n",
       "      <td>0.223120</td>\n",
       "      <td>0.192620</td>\n",
       "      <td>-0.255000</td>\n",
       "    </tr>\n",
       "    <tr>\n",
       "      <th>2_19361387</th>\n",
       "      <td>0.468455</td>\n",
       "      <td>0.512485</td>\n",
       "      <td>0.581200</td>\n",
       "      <td>0.243975</td>\n",
       "      <td>0.213660</td>\n",
       "      <td>-0.254795</td>\n",
       "    </tr>\n",
       "    <tr>\n",
       "      <th>2_19361596</th>\n",
       "      <td>0.482715</td>\n",
       "      <td>0.557555</td>\n",
       "      <td>0.615150</td>\n",
       "      <td>0.251265</td>\n",
       "      <td>0.228155</td>\n",
       "      <td>-0.254560</td>\n",
       "    </tr>\n",
       "    <tr>\n",
       "      <th>2_19359235</th>\n",
       "      <td>0.353895</td>\n",
       "      <td>0.389620</td>\n",
       "      <td>0.450395</td>\n",
       "      <td>0.135585</td>\n",
       "      <td>0.099920</td>\n",
       "      <td>-0.253975</td>\n",
       "    </tr>\n",
       "    <tr>\n",
       "      <th>2_19361626</th>\n",
       "      <td>0.470965</td>\n",
       "      <td>0.550475</td>\n",
       "      <td>0.599315</td>\n",
       "      <td>0.230195</td>\n",
       "      <td>0.217070</td>\n",
       "      <td>-0.253895</td>\n",
       "    </tr>\n",
       "    <tr>\n",
       "      <th>2_19361656</th>\n",
       "      <td>0.466380</td>\n",
       "      <td>0.545525</td>\n",
       "      <td>0.593565</td>\n",
       "      <td>0.222695</td>\n",
       "      <td>0.212655</td>\n",
       "      <td>-0.253725</td>\n",
       "    </tr>\n",
       "    <tr>\n",
       "      <th>2_19361575</th>\n",
       "      <td>0.489385</td>\n",
       "      <td>0.557725</td>\n",
       "      <td>0.616815</td>\n",
       "      <td>0.258350</td>\n",
       "      <td>0.235775</td>\n",
       "      <td>-0.253610</td>\n",
       "    </tr>\n",
       "    <tr>\n",
       "      <th>2_19361577</th>\n",
       "      <td>0.486050</td>\n",
       "      <td>0.558390</td>\n",
       "      <td>0.615150</td>\n",
       "      <td>0.253975</td>\n",
       "      <td>0.232440</td>\n",
       "      <td>-0.253610</td>\n",
       "    </tr>\n",
       "    <tr>\n",
       "      <th>2_19359802</th>\n",
       "      <td>0.373250</td>\n",
       "      <td>0.408100</td>\n",
       "      <td>0.467715</td>\n",
       "      <td>0.157320</td>\n",
       "      <td>0.119810</td>\n",
       "      <td>-0.253440</td>\n",
       "    </tr>\n",
       "    <tr>\n",
       "      <th>2_19361715</th>\n",
       "      <td>0.456015</td>\n",
       "      <td>0.535520</td>\n",
       "      <td>0.584315</td>\n",
       "      <td>0.211625</td>\n",
       "      <td>0.202655</td>\n",
       "      <td>-0.253360</td>\n",
       "    </tr>\n",
       "    <tr>\n",
       "      <th>2_19361298</th>\n",
       "      <td>0.450955</td>\n",
       "      <td>0.495265</td>\n",
       "      <td>0.565200</td>\n",
       "      <td>0.228120</td>\n",
       "      <td>0.197620</td>\n",
       "      <td>-0.253335</td>\n",
       "    </tr>\n",
       "    <tr>\n",
       "      <th>2_19361629</th>\n",
       "      <td>0.469715</td>\n",
       "      <td>0.546190</td>\n",
       "      <td>0.595565</td>\n",
       "      <td>0.227695</td>\n",
       "      <td>0.216405</td>\n",
       "      <td>-0.253310</td>\n",
       "    </tr>\n",
       "  </tbody>\n",
       "</table>\n",
       "</div>"
      ],
      "text/plain": [
       "            SRR3264413  SRR3264414  SRR3264415  SRR3264416  SRR3264722  \\\n",
       "2_19361206    0.429880    0.458855    0.526380    0.192675    0.160895   \n",
       "2_19361202    0.424880    0.457070    0.521380    0.188390    0.156350   \n",
       "2_19361210    0.433215    0.463300    0.530755    0.196245    0.165895   \n",
       "2_19360937    0.402965    0.436125    0.499490    0.172500    0.136455   \n",
       "2_19360989    0.406715    0.438625    0.503655    0.177500    0.141455   \n",
       "2_19361218    0.435715    0.467845    0.535755    0.201245    0.170895   \n",
       "2_19361161    0.419880    0.452625    0.516380    0.188570    0.155185   \n",
       "2_19361036    0.414880    0.448625    0.511380    0.186070    0.150185   \n",
       "2_19361001    0.409880    0.443625    0.507745    0.182500    0.145900   \n",
       "2_19360705    0.397965    0.431125    0.495115    0.170415    0.134235   \n",
       "2_19360663    0.395465    0.428815    0.490705    0.168915    0.132020   \n",
       "2_19361233    0.438215    0.472345    0.540755    0.205620    0.175895   \n",
       "2_19361517    0.489070    0.537345    0.596750    0.251550    0.227680   \n",
       "2_19361257    0.439880    0.477345    0.545755    0.208120    0.178620   \n",
       "2_19361504    0.485405    0.530010    0.594950    0.249430    0.224465   \n",
       "2_19360436    0.390465    0.423815    0.485705    0.166415    0.129645   \n",
       "2_19361519    0.489070    0.538655    0.598895    0.252385    0.228395   \n",
       "2_19361511    0.487405    0.534010    0.597035    0.251095    0.226965   \n",
       "2_19361540    0.489070    0.540795    0.602895    0.253295    0.229110   \n",
       "2_19361264    0.443215    0.481890    0.550755    0.213120    0.183620   \n",
       "2_19361572    0.493550    0.557890    0.618480    0.258100    0.234110   \n",
       "2_19361422    0.483405    0.527865    0.592450    0.249015    0.224215   \n",
       "2_19361403    0.481905    0.524405    0.591200    0.247140    0.222965   \n",
       "2_19361549    0.489070    0.544365    0.606895    0.254170    0.230360   \n",
       "2_19361565    0.491605    0.553890    0.616145    0.257475    0.233395   \n",
       "2_19361398    0.477740    0.519790    0.587200    0.246195    0.219630   \n",
       "2_19361560    0.489605    0.547220    0.609895    0.255420    0.231610   \n",
       "2_19361732    0.452735    0.531235    0.579285    0.207460    0.194905   \n",
       "2_19360076    0.385465    0.418815    0.481205    0.165165    0.127645   \n",
       "2_19361563    0.490605    0.550555    0.612395    0.256045    0.232860   \n",
       "2_19361712    0.460300    0.537190    0.587050    0.213410    0.202655   \n",
       "2_19361273    0.445835    0.486890    0.555755    0.218120    0.188620   \n",
       "2_19360030    0.382340    0.414480    0.476590    0.164985    0.125145   \n",
       "2_19359835    0.377340    0.412100    0.472090    0.159985    0.120145   \n",
       "2_19361739    0.450325    0.531235    0.575715    0.206175    0.194070   \n",
       "2_19361708    0.463465    0.542190    0.590620    0.217695    0.207655   \n",
       "2_19361393    0.472740    0.515945    0.584200    0.244545    0.217410   \n",
       "2_19361720    0.454160    0.533520    0.581190    0.210910    0.198905   \n",
       "2_19361276    0.447620    0.491265    0.560755    0.223120    0.192620   \n",
       "2_19361387    0.468455    0.512485    0.581200    0.243975    0.213660   \n",
       "2_19361596    0.482715    0.557555    0.615150    0.251265    0.228155   \n",
       "2_19359235    0.353895    0.389620    0.450395    0.135585    0.099920   \n",
       "2_19361626    0.470965    0.550475    0.599315    0.230195    0.217070   \n",
       "2_19361656    0.466380    0.545525    0.593565    0.222695    0.212655   \n",
       "2_19361575    0.489385    0.557725    0.616815    0.258350    0.235775   \n",
       "2_19361577    0.486050    0.558390    0.615150    0.253975    0.232440   \n",
       "2_19359802    0.373250    0.408100    0.467715    0.157320    0.119810   \n",
       "2_19361715    0.456015    0.535520    0.584315    0.211625    0.202655   \n",
       "2_19361298    0.450955    0.495265    0.565200    0.228120    0.197620   \n",
       "2_19361629    0.469715    0.546190    0.595565    0.227695    0.216405   \n",
       "\n",
       "                   d  \n",
       "2_19361206 -0.268985  \n",
       "2_19361202 -0.268530  \n",
       "2_19361210 -0.267320  \n",
       "2_19360937 -0.266510  \n",
       "2_19360989 -0.265260  \n",
       "2_19361218 -0.264820  \n",
       "2_19361161 -0.264695  \n",
       "2_19361036 -0.264695  \n",
       "2_19361001 -0.263980  \n",
       "2_19360705 -0.263730  \n",
       "2_19360663 -0.263445  \n",
       "2_19361233 -0.262320  \n",
       "2_19361517 -0.261390  \n",
       "2_19361257 -0.261260  \n",
       "2_19361504 -0.260940  \n",
       "2_19360436 -0.260820  \n",
       "2_19361519 -0.260675  \n",
       "2_19361511 -0.260440  \n",
       "2_19361540 -0.259960  \n",
       "2_19361264 -0.259595  \n",
       "2_19361572 -0.259440  \n",
       "2_19361422 -0.259190  \n",
       "2_19361403 -0.258940  \n",
       "2_19361549 -0.258710  \n",
       "2_19361565 -0.258210  \n",
       "2_19361398 -0.258110  \n",
       "2_19361560 -0.257995  \n",
       "2_19361732 -0.257830  \n",
       "2_19360076 -0.257820  \n",
       "2_19361563 -0.257745  \n",
       "2_19361712 -0.257645  \n",
       "2_19361273 -0.257215  \n",
       "2_19360030 -0.257195  \n",
       "2_19359835 -0.257195  \n",
       "2_19361739 -0.256255  \n",
       "2_19361708 -0.255810  \n",
       "2_19361393 -0.255330  \n",
       "2_19361720 -0.255255  \n",
       "2_19361276 -0.255000  \n",
       "2_19361387 -0.254795  \n",
       "2_19361596 -0.254560  \n",
       "2_19359235 -0.253975  \n",
       "2_19361626 -0.253895  \n",
       "2_19361656 -0.253725  \n",
       "2_19361575 -0.253610  \n",
       "2_19361577 -0.253610  \n",
       "2_19359802 -0.253440  \n",
       "2_19361715 -0.253360  \n",
       "2_19361298 -0.253335  \n",
       "2_19361629 -0.253310  "
      ]
     },
     "execution_count": 205,
     "metadata": {},
     "output_type": "execute_result"
    }
   ],
   "source": [
    "pl['d']=pl['SRR3264722']-pl['SRR3264413']\n",
    "pl.sort_values('d').head(50)"
   ]
  },
  {
   "cell_type": "code",
   "execution_count": 206,
   "id": "162e850c-8e8c-421a-9b9a-3ffa1b94489d",
   "metadata": {},
   "outputs": [
    {
     "data": {
      "text/plain": [
       "<AxesSubplot:>"
      ]
     },
     "execution_count": 206,
     "metadata": {},
     "output_type": "execute_result"
    },
    {
     "data": {
      "image/png": "[encoded data removed]",
      "text/plain": [
       "<Figure size 1440x360 with 1 Axes>"
      ]
     },
     "metadata": {
      "needs_background": "light"
     },
     "output_type": "display_data"
    }
   ],
   "source": [
    "pl.plot(figsize=(20,5))"
   ]
  },
  {
   "cell_type": "code",
   "execution_count": 52,
   "id": "8bb395ff-ce79-4c3b-8e62-08e2378802f5",
   "metadata": {},
   "outputs": [],
   "source": [
    "dg['dd']=dg[fs[-1]]-dg[fs[0]]"
   ]
  },
  {
   "cell_type": "code",
   "execution_count": 53,
   "id": "c2d3ad89-58f6-4d74-966a-a48f78b99c99",
   "metadata": {},
   "outputs": [
    {
     "data": {
      "text/plain": [
       "<AxesSubplot:>"
      ]
     },
     "execution_count": 53,
     "metadata": {},
     "output_type": "execute_result"
    },
    {
     "data": {
      "image/png": "[encoded data removed]",
      "text/plain": [
       "<Figure size 432x288 with 1 Axes>"
      ]
     },
     "metadata": {
      "needs_background": "light"
     },
     "output_type": "display_data"
    }
   ],
   "source": [
    "dg[dg.dd!=0].dd.hist(bins=100)"
   ]
  },
  {
   "cell_type": "code",
   "execution_count": 54,
   "id": "e1cddf3a-4796-4a1f-8e29-904498979bc8",
   "metadata": {},
   "outputs": [
    {
     "data": {
      "text/plain": [
       "<AxesSubplot:xlabel='age', ylabel='0'>"
      ]
     },
     "execution_count": 54,
     "metadata": {},
     "output_type": "execute_result"
    },
    {
     "data": {
      "image/png": "[encoded data removed]",
      "text/plain": [
       "<Figure size 432x288 with 1 Axes>"
      ]
     },
     "metadata": {
      "needs_background": "light"
     },
     "output_type": "display_data"
    }
   ],
   "source": [
    "sns.scatterplot(data=p,x='age',y=0)"
   ]
  },
  {
   "cell_type": "code",
   "execution_count": 37,
   "id": "cf9281a5-7360-434f-a354-b00bf3289948",
   "metadata": {},
   "outputs": [
    {
     "data": {
      "text/html": [
       "<div>\n",
       "<style scoped>\n",
       "    .dataframe tbody tr th:only-of-type {\n",
       "        vertical-align: middle;\n",
       "    }\n",
       "\n",
       "    .dataframe tbody tr th {\n",
       "        vertical-align: top;\n",
       "    }\n",
       "\n",
       "    .dataframe thead th {\n",
       "        text-align: right;\n",
       "    }\n",
       "</style>\n",
       "<table border=\"1\" class=\"dataframe\">\n",
       "  <thead>\n",
       "    <tr style=\"text-align: right;\">\n",
       "      <th></th>\n",
       "      <th>0</th>\n",
       "      <th>age</th>\n",
       "    </tr>\n",
       "  </thead>\n",
       "  <tbody>\n",
       "    <tr>\n",
       "      <th>0</th>\n",
       "      <td>1.000000</td>\n",
       "      <td>0.999528</td>\n",
       "    </tr>\n",
       "    <tr>\n",
       "      <th>age</th>\n",
       "      <td>0.999528</td>\n",
       "      <td>1.000000</td>\n",
       "    </tr>\n",
       "  </tbody>\n",
       "</table>\n",
       "</div>"
      ],
      "text/plain": [
       "            0       age\n",
       "0    1.000000  0.999528\n",
       "age  0.999528  1.000000"
      ]
     },
     "execution_count": 37,
     "metadata": {},
     "output_type": "execute_result"
    }
   ],
   "source": [
    "p.corr()"
   ]
  },
  {
   "cell_type": "code",
   "execution_count": 5,
   "id": "4185a3ae-fab2-4576-9185-ac96e2196ab1",
   "metadata": {},
   "outputs": [],
   "source": [
    "ring='https://ftp.ncbi.nlm.nih.gov/geo/samples/GSM327nnn/GSM327666/suppl/GSM327666_hES.RING1B.aligned.txt.gz'\n",
    "ring=pd.read_csv(ring,sep='\\t',header=None,engine='c')"
   ]
  },
  {
   "cell_type": "code",
   "execution_count": 11,
   "id": "f1f11f17-5295-4373-acf6-a1a636e2e195",
   "metadata": {},
   "outputs": [],
   "source": [
    "ring[ring[5]>0][[0,1,2]].to_csv('data/ring18.bed',sep='\\t',header=False,index=False)"
   ]
  },
  {
   "cell_type": "code",
   "execution_count": 13,
   "id": "c85ad1da-638a-4dee-8585-960b9f60f81c",
   "metadata": {},
   "outputs": [],
   "source": [
    "ring=pd.read_csv('data/ring38.bed',sep='\\t',header=None)"
   ]
  },
  {
   "cell_type": "code",
   "execution_count": 18,
   "id": "03501245-591c-4420-abf5-afe406347eff",
   "metadata": {},
   "outputs": [],
   "source": [
    "ring=ring[ring[0]=='chr1']"
   ]
  },
  {
   "cell_type": "code",
   "execution_count": 21,
   "id": "05386807-5e87-4789-9f54-a491ddfe6eb8",
   "metadata": {},
   "outputs": [
    {
     "name": "stderr",
     "output_type": "stream",
     "text": [
      "/local/scratch/moqri/slrmtmp.30775880/ipykernel_46695/2575654243.py:1: SettingWithCopyWarning: \n",
      "A value is trying to be set on a copy of a slice from a DataFrame.\n",
      "Try using .loc[row_indexer,col_indexer] = value instead\n",
      "\n",
      "See the caveats in the documentation: https://pandas.pydata.org/pandas-docs/stable/user_guide/indexing.html#returning-a-view-versus-a-copy\n",
      "  ring['r']=ring.apply(lambda x:set(range(x[1],x[2])),axis=1)\n"
     ]
    }
   ],
   "source": [
    "ring['r']=ring.apply(lambda x:set(range(x[1],x[2])),axis=1)"
   ]
  },
  {
   "cell_type": "code",
   "execution_count": 32,
   "id": "4019e559-d825-4bf4-8ae4-f14122aad3aa",
   "metadata": {},
   "outputs": [],
   "source": [
    "rs=ring.r.values"
   ]
  },
  {
   "cell_type": "code",
   "execution_count": 33,
   "id": "2e0c7e45-766b-4f2c-afa7-3b7f39178a36",
   "metadata": {},
   "outputs": [],
   "source": [
    "rs=set.union(*rs)"
   ]
  },
  {
   "cell_type": "code",
   "execution_count": 37,
   "id": "a76fa5fb-a051-47a4-b70a-e08a7206cc80",
   "metadata": {},
   "outputs": [],
   "source": [
    "ez=ez[ez.index.str.split('_').str[0].astype(int)==1]"
   ]
  },
  {
   "cell_type": "code",
   "execution_count": 39,
   "id": "310f9a41-79f9-4dd0-a073-af6c03361aa3",
   "metadata": {},
   "outputs": [
    {
     "name": "stderr",
     "output_type": "stream",
     "text": [
      "/home/moqri/miniconda3/envs/meth/lib/python3.9/site-packages/pandas/core/indexing.py:1684: SettingWithCopyWarning: \n",
      "A value is trying to be set on a copy of a slice from a DataFrame.\n",
      "Try using .loc[row_indexer,col_indexer] = value instead\n",
      "\n",
      "See the caveats in the documentation: https://pandas.pydata.org/pandas-docs/stable/user_guide/indexing.html#returning-a-view-versus-a-copy\n",
      "  self.obj[key] = infer_fill_value(value)\n",
      "/home/moqri/miniconda3/envs/meth/lib/python3.9/site-packages/pandas/core/indexing.py:1817: SettingWithCopyWarning: \n",
      "A value is trying to be set on a copy of a slice from a DataFrame.\n",
      "Try using .loc[row_indexer,col_indexer] = value instead\n",
      "\n",
      "See the caveats in the documentation: https://pandas.pydata.org/pandas-docs/stable/user_guide/indexing.html#returning-a-view-versus-a-copy\n",
      "  self._setitem_single_column(loc, value, pi)\n"
     ]
    }
   ],
   "source": [
    "ez.loc[ez.index.str.split('_').str[1].astype(int).isin(rs),'prc1']=1"
   ]
  },
  {
   "cell_type": "code",
   "execution_count": 44,
   "id": "c6ad00c9-f0ec-4e30-8b71-b757dd71f455",
   "metadata": {},
   "outputs": [],
   "source": [
    "ez=ez.fillna(0)"
   ]
  },
  {
   "cell_type": "code",
   "execution_count": 45,
   "id": "b21b168c-caca-4b4f-ab56-227b33af90a9",
   "metadata": {},
   "outputs": [
    {
     "data": {
      "text/plain": [
       "prc1\n",
       "0.0    348036\n",
       "1.0      7134\n",
       "dtype: int64"
      ]
     },
     "execution_count": 45,
     "metadata": {},
     "output_type": "execute_result"
    }
   ],
   "source": [
    "ez.value_counts('prc1')"
   ]
  },
  {
   "cell_type": "code",
   "execution_count": 55,
   "id": "04503b6c-47cd-483d-ba23-b5587e773f2b",
   "metadata": {},
   "outputs": [
    {
     "data": {
      "text/html": [
       "<div>\n",
       "<style scoped>\n",
       "    .dataframe tbody tr th:only-of-type {\n",
       "        vertical-align: middle;\n",
       "    }\n",
       "\n",
       "    .dataframe tbody tr th {\n",
       "        vertical-align: top;\n",
       "    }\n",
       "\n",
       "    .dataframe thead th {\n",
       "        text-align: right;\n",
       "    }\n",
       "</style>\n",
       "<table border=\"1\" class=\"dataframe\">\n",
       "  <thead>\n",
       "    <tr style=\"text-align: right;\">\n",
       "      <th></th>\n",
       "      <th>ez</th>\n",
       "      <th>prc1</th>\n",
       "    </tr>\n",
       "    <tr>\n",
       "      <th>_</th>\n",
       "      <th></th>\n",
       "      <th></th>\n",
       "    </tr>\n",
       "  </thead>\n",
       "  <tbody>\n",
       "    <tr>\n",
       "      <th>1_60573</th>\n",
       "      <td>0</td>\n",
       "      <td>0.0</td>\n",
       "    </tr>\n",
       "    <tr>\n",
       "      <th>1_60725</th>\n",
       "      <td>0</td>\n",
       "      <td>0.0</td>\n",
       "    </tr>\n",
       "    <tr>\n",
       "      <th>1_61019</th>\n",
       "      <td>0</td>\n",
       "      <td>0.0</td>\n",
       "    </tr>\n",
       "    <tr>\n",
       "      <th>1_61134</th>\n",
       "      <td>0</td>\n",
       "      <td>0.0</td>\n",
       "    </tr>\n",
       "    <tr>\n",
       "      <th>1_61577</th>\n",
       "      <td>0</td>\n",
       "      <td>0.0</td>\n",
       "    </tr>\n",
       "    <tr>\n",
       "      <th>...</th>\n",
       "      <td>...</td>\n",
       "      <td>...</td>\n",
       "    </tr>\n",
       "    <tr>\n",
       "      <th>1_248910925</th>\n",
       "      <td>0</td>\n",
       "      <td>0.0</td>\n",
       "    </tr>\n",
       "    <tr>\n",
       "      <th>1_248910941</th>\n",
       "      <td>0</td>\n",
       "      <td>0.0</td>\n",
       "    </tr>\n",
       "    <tr>\n",
       "      <th>1_248911049</th>\n",
       "      <td>0</td>\n",
       "      <td>0.0</td>\n",
       "    </tr>\n",
       "    <tr>\n",
       "      <th>1_248911059</th>\n",
       "      <td>0</td>\n",
       "      <td>0.0</td>\n",
       "    </tr>\n",
       "    <tr>\n",
       "      <th>1_248911159</th>\n",
       "      <td>0</td>\n",
       "      <td>0.0</td>\n",
       "    </tr>\n",
       "  </tbody>\n",
       "</table>\n",
       "<p>355170 rows × 2 columns</p>\n",
       "</div>"
      ],
      "text/plain": [
       "             ez  prc1\n",
       "_                    \n",
       "1_60573       0   0.0\n",
       "1_60725       0   0.0\n",
       "1_61019       0   0.0\n",
       "1_61134       0   0.0\n",
       "1_61577       0   0.0\n",
       "...          ..   ...\n",
       "1_248910925   0   0.0\n",
       "1_248910941   0   0.0\n",
       "1_248911049   0   0.0\n",
       "1_248911059   0   0.0\n",
       "1_248911159   0   0.0\n",
       "\n",
       "[355170 rows x 2 columns]"
      ]
     },
     "execution_count": 55,
     "metadata": {},
     "output_type": "execute_result"
    }
   ],
   "source": [
    "ez"
   ]
  },
  {
   "cell_type": "code",
   "execution_count": null,
   "id": "1d237b34-7417-49ab-9f09-27f39d46aaf6",
   "metadata": {},
   "outputs": [],
   "source": []
  }
 ],
 "metadata": {
  "kernelspec": {
   "display_name": "meth",
   "language": "python",
   "name": "meth"
  },
  "language_info": {
   "codemirror_mode": {
    "name": "ipython",
    "version": 3
   },
   "file_extension": ".py",
   "mimetype": "text/x-python",
   "name": "python",
   "nbconvert_exporter": "python",
   "pygments_lexer": "ipython3",
   "version": "3.9.7"
  }
 },
 "nbformat": 4,
 "nbformat_minor": 5
}
