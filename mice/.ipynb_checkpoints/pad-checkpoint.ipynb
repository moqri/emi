{
 "cells": [
  {
   "cell_type": "code",
   "execution_count": 275,
   "id": "f9e606d7-eb3f-451d-a730-90c11fca6587",
   "metadata": {},
   "outputs": [],
   "source": [
    "import pandas as pd\n",
    "import glob\n",
    "import numpy as np\n",
    "import seaborn as sns\n",
    "path='data/meth/GSE83947/'\n",
    "\n",
    "fs=glob.glob(path+'r/9/*')\n",
    "dfs=[]\n",
    "for i in range(1,len(fs)):\n",
    "    df=pd.read_table(fs[i],header=None,engine='c')\n",
    "    df=df[df[5]=='CG']\n",
    "    df=df[df[3]+df[4]>100]\n",
    "    df['b']=df[3]/(df[3]+df[4])\n",
    "    bs=[]\n",
    "    for i,r in h[h.ch=='chr7'].head(100).iterrows():\n",
    "        b=df[(df[1]>r['b'])&(df[1]<r['e'])].b.mean()\n",
    "        bs.append(b)\n",
    "    print(np.round(np.mean(np.array(bs)[~np.isnan(bs)]),3),end=',')\n",
    "    dfs.append(bs)\n",
    "    return dfs\n"
   ]
  },
  {
   "cell_type": "code",
   "execution_count": 297,
   "id": "ffc9ec67-fa15-438c-a371-c72d84fa7ed4",
   "metadata": {},
   "outputs": [
    {
     "data": {
      "text/html": [
       "<div>\n",
       "<style scoped>\n",
       "    .dataframe tbody tr th:only-of-type {\n",
       "        vertical-align: middle;\n",
       "    }\n",
       "\n",
       "    .dataframe tbody tr th {\n",
       "        vertical-align: top;\n",
       "    }\n",
       "\n",
       "    .dataframe thead th {\n",
       "        text-align: right;\n",
       "    }\n",
       "</style>\n",
       "<table border=\"1\" class=\"dataframe\">\n",
       "  <thead>\n",
       "    <tr style=\"text-align: right;\">\n",
       "      <th></th>\n",
       "      <th>ch</th>\n",
       "      <th>b</th>\n",
       "      <th>e</th>\n",
       "      <th>d</th>\n",
       "      <th>r</th>\n",
       "      <th>rd</th>\n",
       "      <th>ez</th>\n",
       "      <th>ezl</th>\n",
       "    </tr>\n",
       "  </thead>\n",
       "  <tbody>\n",
       "    <tr>\n",
       "      <th>34815</th>\n",
       "      <td>chr7</td>\n",
       "      <td>137309054</td>\n",
       "      <td>137315812</td>\n",
       "      <td>6758</td>\n",
       "      <td>{137310208, 137314313, 137310232, 137314328, 1...</td>\n",
       "      <td>475</td>\n",
       "      <td>4.04848</td>\n",
       "      <td>474</td>\n",
       "    </tr>\n",
       "  </tbody>\n",
       "</table>\n",
       "</div>"
      ],
      "text/plain": [
       "         ch          b          e     d  \\\n",
       "34815  chr7  137309054  137315812  6758   \n",
       "\n",
       "                                                       r   rd       ez  ezl  \n",
       "34815  {137310208, 137314313, 137310232, 137314328, 1...  475  4.04848  474  "
      ]
     },
     "execution_count": 297,
     "metadata": {},
     "output_type": "execute_result"
    }
   ],
   "source": [
    "h=pd.read_csv('data/h.csv',index_col=0).sort_values('ez',ascending=False)\n",
    "h[h.ch=='chr7'].head(1)"
   ]
  },
  {
   "cell_type": "code",
   "execution_count": 312,
   "id": "ac07d673-f611-4855-a291-cd9617632071",
   "metadata": {},
   "outputs": [],
   "source": [
    "fs=glob.glob(path+'r/25/*')\n",
    "fs.sort()"
   ]
  },
  {
   "cell_type": "code",
   "execution_count": 313,
   "id": "31fcc67c-a069-4b7b-be98-2574741ce323",
   "metadata": {},
   "outputs": [
    {
     "name": "stdout",
     "output_type": "stream",
     "text": [
      "0.137,0.146,0.144,0.129,0.117,0.124,0.119,0.156,0.138,0.157,0.14,0.138,0.14,0.163,0.149,0.146,0.131,0.133,0.126,0.145,0.141,0.139,0.147,0.153,0.137,0.145,0.151,0.141,0.134,0.161,0.135,0.152,0.152,0.141,0.148,0.146,0.137,nan,nan,0.16,0.157,0.145,0.129,0.128,0.118,0.151,0.147,0.141,0.132,0.144,0.144,0.162,0.151,0.132,0.119,0.149,0.137,0.14,0.146,0.131,0.116,0.155,0.147,0.166,0.153,0.141,0.152,0.146,0.153,0.15,0.142,0.142,0.145,0.142,0.128,0.144,0.127,0.155,0.144,0.135,0.124,0.146,0.136,0.155,0.15,0.129,0.117,0.162,0.154,0.134,0.122,0.146,0.138,0.15,0.139,0.155,0.137,0.134,0.125,0.134,0.129,0.14,0.13,0.159,0.15,0.132,0.131,0.144,0.141,0.147,0.133,0.147,0.132,0.133,0.12,0.161,0.153,0.145,0.148,0.148,0.125,0.148,0.132,0.146,0.126,0.148,0.146,0.137,0.133,0.149,0.137,0.142,0.139,0.139,0.134,0.139,0.122,0.135,0.144,0.148,0.136,0.159,0.149,0.149,0.144,0.139,0.127,0.149,0.14,0.138,0.135,0.149,0.152,0.142,0.143,0.153,0.142,0.131,0.125,0.147,0.134,0.146,0.149,0.163,0.157,0.141,0.134,0.085,0.08,0.157,0.141,nan,nan,0.15,0.129,0.136,0.131,0.143,0.126,"
     ]
    }
   ],
   "source": [
    "os=[]\n",
    "dfs=[]\n",
    "for i in range(1,len(fs)):\n",
    "    df=pd.read_table(fs[i],header=None,engine='c')\n",
    "    df=df[df[5]=='CG']\n",
    "    df=df[df[3]+df[4]>100]\n",
    "    df['b']=df[3]/(df[3]+df[4])\n",
    "    bs=[]\n",
    "    for i,r in h[h.ch=='chr7'].head(100).iterrows():\n",
    "        b=df[(df[1]>r['b'])&(df[1]<r['e'])].b.mean()\n",
    "        bs.append(b)\n",
    "    print(np.round(np.mean(np.array(bs)[~np.isnan(bs)]),3),end=',')\n",
    "    os.append(bs)"
   ]
  },
  {
   "cell_type": "code",
   "execution_count": 314,
   "id": "daea2ab4-be1e-4736-a570-e536aa85d187",
   "metadata": {},
   "outputs": [
    {
     "data": {
      "text/plain": [
       "0.12458169036574275"
      ]
     },
     "execution_count": 314,
     "metadata": {},
     "output_type": "execute_result"
    }
   ],
   "source": [
    "ys=pd.DataFrame(ys).mean(1)\n",
    "ys.mean()"
   ]
  },
  {
   "cell_type": "code",
   "execution_count": 315,
   "id": "8cc53c08-f4cb-4454-8a4f-1e3d4b434e11",
   "metadata": {},
   "outputs": [
    {
     "data": {
      "text/plain": [
       "0.14064145674200945"
      ]
     },
     "execution_count": 315,
     "metadata": {},
     "output_type": "execute_result"
    }
   ],
   "source": [
    "os=pd.DataFrame(os).mean(1)\n",
    "os.mean()"
   ]
  },
  {
   "cell_type": "code",
   "execution_count": 316,
   "id": "3c8fab7c-ec30-493f-be90-21d1b9019999",
   "metadata": {},
   "outputs": [],
   "source": [
    "pl=pd.concat([ys,os],axis=1)\n",
    "pl.to_csv(path+'results.csv')"
   ]
  },
  {
   "cell_type": "code",
   "execution_count": null,
   "id": "c49ecc5b-d80a-44a2-af37-d7459e4685d4",
   "metadata": {},
   "outputs": [],
   "source": [
    "pd.read_csv(path+'results.csv',index_col=0)"
   ]
  },
  {
   "cell_type": "code",
   "execution_count": 317,
   "id": "3b17015e-81cf-40ed-a876-08a30f5572e2",
   "metadata": {},
   "outputs": [
    {
     "data": {
      "text/plain": [
       "[Text(0, 0.5, 'Avergae DNAm'),\n",
       " Text(0.5, 1.0, 'DNAm at EZH2 binding regions (mice chr 7)')]"
      ]
     },
     "execution_count": 317,
     "metadata": {},
     "output_type": "execute_result"
    },
    {
     "data": {
      "image/png": "[encoded data removed]",
      "text/plain": [
       "<Figure size 432x288 with 1 Axes>"
      ]
     },
     "metadata": {
      "needs_background": "light"
     },
     "output_type": "display_data"
    }
   ],
   "source": [
    "pl.columns=['9 Months','25 Months']\n",
    "ax=sns.boxplot(data=pl)\n",
    "ax=sns.stripplot(data=pl)\n",
    "ax.set(ylabel='Avergae DNAm',title='DNAm at EZH2 binding regions (mice chr 7)')"
   ]
  },
  {
   "cell_type": "code",
   "execution_count": null,
   "id": "9d0eecea-347f-4f8b-83bc-09d7e83307a4",
   "metadata": {},
   "outputs": [],
   "source": []
  }
 ],
 "metadata": {
  "kernelspec": {
   "display_name": "Python 3 (ipykernel)",
   "language": "python",
   "name": "python3"
  },
  "language_info": {
   "codemirror_mode": {
    "name": "ipython",
    "version": 3
   },
   "file_extension": ".py",
   "mimetype": "text/x-python",
   "name": "python",
   "nbconvert_exporter": "python",
   "pygments_lexer": "ipython3",
   "version": "3.9.7"
  }
 },
 "nbformat": 4,
 "nbformat_minor": 5
}
