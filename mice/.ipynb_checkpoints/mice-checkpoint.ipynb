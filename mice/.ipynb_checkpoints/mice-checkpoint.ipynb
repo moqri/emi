{
 "cells": [
  {
   "cell_type": "code",
   "execution_count": 4,
   "id": "ce9e5fc0-1dbb-42d1-b6b6-86d637f642aa",
   "metadata": {},
   "outputs": [],
   "source": [
    "import time\n",
    "import pandas as pd\n",
    "import numpy as np\n",
    "import util\n",
    "import pyBigWig\n",
    "import seaborn as sns\n",
    "import glob\n",
    "from matplotlib_venn import venn2\n",
    "from matplotlib import pyplot as plt\n",
    "import warnings\n",
    "warnings.filterwarnings(\"ignore\")\n",
    "source='data/source/'\n",
    "tic=time.time()\n",
    "\n",
    "def get_cg(x):\n",
    "    cg=set(range(x['b'],x['e']))\n",
    "    cg=ind[x['ch']].intersection(cg)\n",
    "    return cg\n",
    "def hmr2df(hmr):\n",
    "    gs=pd.read_table(hmr,header=None,usecols=[0,1,2])\n",
    "    gs=gs[~gs[0].isin(['chrX','chrY','chrM'])]\n",
    "    print(len(gs),end=',')\n",
    "    gs.columns=['ch','b','e']   \n",
    "    gs['d']=gs['e']-gs['b']\n",
    "    gs['r']=gs.apply(lambda x:get_cg(x) ,axis=1)\n",
    "    gs['rd']=gs.r.apply(lambda x:len(x))\n",
    "    gg=gs.groupby('ch')['r'].apply(list)\n",
    "    gg=gg.apply(lambda x:set.union(*x))    \n",
    "    return (gs,gg)   \n",
    "def get_ts(x):\n",
    "    chrom=x['ch']\n",
    "    com=set(range(x['b'],x['e'])).intersection(expg[chrom])\n",
    "    if len(com)>0:\n",
    "        ts=list(com)[0]\n",
    "        ts=exp.loc[(exp['chrom']==int(chrom[3:])) & (exp.ts==ts)].index.values[0]\n",
    "    else:\n",
    "        ts=np.nan\n",
    "    return(ts)\n",
    "def f(x):\n",
    "    return int(x.name.split('_')[1])-1 in hzg[x.name.split('_')[0]]"
   ]
  },
  {
   "cell_type": "code",
   "execution_count": 2,
   "id": "58c409de-bed3-44cd-82a1-214abfdbbe44",
   "metadata": {},
   "outputs": [],
   "source": [
    "ind=pd.read_table('data/meth/h/Mouse_ESC.meth',engine='c',usecols=[0,1],header=None)\n",
    "ind=ind.groupby(0)[1].apply(list)\n",
    "ind=ind.apply(lambda x:set(x))"
   ]
  },
  {
   "cell_type": "code",
   "execution_count": 4,
   "id": "219fb104-5e02-4dac-addf-2a1c624d9d36",
   "metadata": {},
   "outputs": [
    {
     "name": "stdout",
     "output_type": "stream",
     "text": [
      "39073,"
     ]
    }
   ],
   "source": [
    "h,hg=hmr2df('data/meth/h/h.hmr')"
   ]
  },
  {
   "cell_type": "code",
   "execution_count": 8,
   "id": "e632b2b1-4df4-4893-9bc4-33a1f37a9a29",
   "metadata": {},
   "outputs": [],
   "source": [
    "bw='SRX4338248.bw'\n",
    "bw=pyBigWig.open(source+bw)\n",
    "bs=[]\n",
    "for j,r in h.iterrows():\n",
    "    bs.append(bw.stats(r['ch'],int(r['b']),int(r['e']),'max')[0])\n",
    "h['suz']=bs"
   ]
  },
  {
   "cell_type": "code",
   "execution_count": 9,
   "id": "14fdeb58-fbb1-4bd4-b0dd-356ada453a78",
   "metadata": {},
   "outputs": [],
   "source": [
    "bws=['GSM2472741_E14_Ezh2_Rep1.bw','GSM2472742_E14_Ezh2_Rep2.bw']\n",
    "for i in range(2):\n",
    "    bw=pyBigWig.open(source+bws[i])\n",
    "    bs=[]\n",
    "    for j,r in h.iterrows():\n",
    "        bs.append(bw.stats(r['ch'],int(r['b']),int(r['e']),'max')[0])\n",
    "    h['ez'+str(i+1)]=bs"
   ]
  },
  {
   "cell_type": "code",
   "execution_count": 14,
   "id": "befcc748-ffa3-4f4f-b38b-430dbf0e1bf2",
   "metadata": {},
   "outputs": [],
   "source": [
    "bl=pd.read_table(source+'mm10-blacklist.v2.bed.gz',header=None)\n",
    "bl['r']=bl.apply(lambda x: set(range(x[1],x[2])),axis=1)\n",
    "bg=bl.groupby(0)['r'].apply(list)\n",
    "bg=bg.apply(lambda x:set.union(*x))   \n",
    "h['bl']=h.apply(lambda x: len(x['r'].intersection(bg[x['ch']])),axis=1)"
   ]
  },
  {
   "cell_type": "code",
   "execution_count": 15,
   "id": "577a59c7-860e-4ade-b34c-756a2b5205f1",
   "metadata": {},
   "outputs": [],
   "source": [
    "h.sort_values('suz',ascending=False).to_pickle('data/h.pkl')"
   ]
  },
  {
   "cell_type": "code",
   "execution_count": 16,
   "id": "9c6b7a02-9188-42f4-82b3-2bf54f0ee4fc",
   "metadata": {},
   "outputs": [],
   "source": [
    "h.to_csv('data/h.csv')"
   ]
  },
  {
   "cell_type": "code",
   "execution_count": null,
   "id": "74d94015-cc1b-4e71-ae9c-9e2d0e583efb",
   "metadata": {},
   "outputs": [],
   "source": [
    "h['ezl']=h.apply(lambda x:len(x['r'].intersection(ezg[x['ch']])),axis=1)"
   ]
  },
  {
   "cell_type": "code",
   "execution_count": null,
   "id": "f36f6158-3618-4743-a698-ee4aaa51a23f",
   "metadata": {},
   "outputs": [],
   "source": [
    "hz=h.sort_values('ezl',ascending=False).head(1000)\n",
    "print(len(hz))"
   ]
  },
  {
   "cell_type": "code",
   "execution_count": null,
   "id": "b5221a4f-c6e3-4b12-af38-94f5137d130f",
   "metadata": {},
   "outputs": [],
   "source": [
    "hzg=hz.groupby('ch')['r'].apply(list)\n",
    "hzg=hzg.apply(lambda x:set.union(*x)) \n",
    "hzs=[]\n",
    "for i,r in hz.iterrows():\n",
    "    for rr in r['r']:\n",
    "        hzs.append((r['ch'],rr+1))\n",
    "hzs=pd.DataFrame(hzs)     \n",
    "hzs.index=hzs[0].str[3:5]+'_'+(hzs[1]-1).astype(str)\n",
    "len(hzs)"
   ]
  },
  {
   "cell_type": "code",
   "execution_count": 8,
   "id": "e672af12-9efe-413b-826a-e37958557b60",
   "metadata": {},
   "outputs": [],
   "source": [
    "#h=pd.read_csv('data/h.csv',engine='c',index_col=0)"
   ]
  },
  {
   "cell_type": "code",
   "execution_count": null,
   "id": "7897da3a-c3ca-4c2d-ab7c-d44254dfbf81",
   "metadata": {},
   "outputs": [],
   "source": [
    "hg=h.groupby('ch')['r'].apply(list)\n",
    "hg=hg.apply(lambda x:set.union(*x))"
   ]
  },
  {
   "cell_type": "code",
   "execution_count": 36,
   "id": "1e004c1f-77fe-40f4-8139-9b1fb842c069",
   "metadata": {},
   "outputs": [],
   "source": [
    "#hg.to_csv('data/hg.csv')"
   ]
  },
  {
   "cell_type": "code",
   "execution_count": 20,
   "id": "277958dd-2ecf-4c87-8df7-2b1e45abbc8f",
   "metadata": {},
   "outputs": [],
   "source": [
    "#hg=pd.read_csv('data/hg.csv',index_col=0,engine='c').squeeze()"
   ]
  }
 ],
 "metadata": {
  "kernelspec": {
   "display_name": "meth",
   "language": "python",
   "name": "meth"
  },
  "language_info": {
   "codemirror_mode": {
    "name": "ipython",
    "version": 3
   },
   "file_extension": ".py",
   "mimetype": "text/x-python",
   "name": "python",
   "nbconvert_exporter": "python",
   "pygments_lexer": "ipython3",
   "version": "3.9.7"
  }
 },
 "nbformat": 4,
 "nbformat_minor": 5
}
