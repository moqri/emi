{
 "cells": [
  {
   "cell_type": "code",
   "execution_count": 2,
   "id": "ce9e5fc0-1dbb-42d1-b6b6-86d637f642aa",
   "metadata": {},
   "outputs": [],
   "source": [
    "import time\n",
    "import pandas as pd\n",
    "import numpy as np\n",
    "import util\n",
    "import pyBigWig\n",
    "import seaborn as sns\n",
    "import glob\n",
    "from matplotlib_venn import venn2\n",
    "from matplotlib import pyplot as plt\n",
    "import warnings\n",
    "warnings.filterwarnings(\"ignore\")\n",
    "source='data/source/'\n",
    "tic=time.time()\n",
    "\n",
    "def get_cg(x):\n",
    "    cg=set(range(x['b'],x['e']))\n",
    "    cg=ind[x['ch']].intersection(cg)\n",
    "    return cg\n",
    "def hmr2df(hmr):\n",
    "    gs=pd.read_table(hmr,header=None,usecols=[0,1,2])\n",
    "    gs=gs[~gs[0].isin(['chrX','chrY','chrM'])]\n",
    "    print(len(gs),end=',')\n",
    "    gs.columns=['ch','b','e']   \n",
    "    gs['d']=gs['e']-gs['b']\n",
    "    gs['r']=gs.apply(lambda x:get_cg(x) ,axis=1)\n",
    "    gs['rd']=gs.r.apply(lambda x:len(x))\n",
    "    gg=gs.groupby('ch')['r'].apply(list)\n",
    "    gg=gg.apply(lambda x:set.union(*x))    \n",
    "    return (gs,gg)   \n",
    "def get_ts(x):\n",
    "    chrom=x['ch']\n",
    "    com=set(range(x['b'],x['e'])).intersection(expg[chrom])\n",
    "    if len(com)>0:\n",
    "        ts=list(com)[0]\n",
    "        ts=exp.loc[(exp['chrom']==int(chrom[3:])) & (exp.ts==ts)].index.values[0]\n",
    "    else:\n",
    "        ts=np.nan\n",
    "    return(ts)"
   ]
  },
  {
   "cell_type": "code",
   "execution_count": 9,
   "id": "58c409de-bed3-44cd-82a1-214abfdbbe44",
   "metadata": {},
   "outputs": [],
   "source": [
    "ind=pd.read_table('data/meth/h/Mouse_ESC.meth',engine='c',usecols=[0,1],header=None)\n",
    "ind=ind.groupby(0)[1].apply(list)\n",
    "ind=ind.apply(lambda x:set(x))"
   ]
  },
  {
   "cell_type": "code",
   "execution_count": 10,
   "id": "219fb104-5e02-4dac-addf-2a1c624d9d36",
   "metadata": {},
   "outputs": [
    {
     "name": "stdout",
     "output_type": "stream",
     "text": [
      "39073,"
     ]
    }
   ],
   "source": [
    "    c={};cg={}\n",
    "    s='h'\n",
    "    c[s],cg[s]=hmr2df('data/meth/'+s+'/'+s+'.hmr')"
   ]
  },
  {
   "cell_type": "code",
   "execution_count": 11,
   "id": "14fdeb58-fbb1-4bd4-b0dd-356ada453a78",
   "metadata": {},
   "outputs": [],
   "source": [
    "h=c['h']\n",
    "bw=source+'GSM2472741_E14_Ezh2_Rep1.bw'\n",
    "bw=pyBigWig.open(bw)\n",
    "bs=[]\n",
    "for i,r in h.iterrows():\n",
    "    bs.append(bw.stats(r['ch'],int(r['b']),int(r['e']),'max')[0])\n",
    "h['ez']=bs"
   ]
  },
  {
   "cell_type": "code",
   "execution_count": 12,
   "id": "118790c0-69ef-46f6-99e8-281cbac0998a",
   "metadata": {},
   "outputs": [],
   "source": [
    "fs=['SRR44738'+str(i) for i in range(55,71)]\n",
    "for sn in fs:\n",
    "    path='data/meth/l/'+sn+'.bw'\n",
    "    bw=pyBigWig.open(path)\n",
    "    h[sn]=h.apply(lambda x: bw.stats(x['ch'],x['b'],x['e'],'mean',exact=True)[0],axis=1)"
   ]
  },
  {
   "cell_type": "code",
   "execution_count": 13,
   "id": "71c1b805-4e4c-403c-a477-e39d9ab44358",
   "metadata": {},
   "outputs": [
    {
     "name": "stdout",
     "output_type": "stream",
     "text": [
      "(7213, 3)\n",
      "462,526102-687,899107-337,395428-455,508115-474,596826-400,520490-438,488638-400,473660-374,426816-293,335768-536,651924-332,389072-351,426337-286,369904-320,377446-155,193966-266,307134-252,284005-227,286329-"
     ]
    }
   ],
   "source": [
    "ez14_='https://ftp.ncbi.nlm.nih.gov/geo/series/GSE94nnn/GSE94300/suppl/GSE94300_E14Ezh2_MAnorm_unbiased.bed.gz' #\n",
    "ez14=[]\n",
    "ez=pd.read_table(ez14_,header=None)\n",
    "ez.columns=['chrom', 'chromStart', 'chromEnd']\n",
    "print(ez.shape)\n",
    "for ch in range(1,20):\n",
    "    ezc=ez[ez['chrom']=='chr'+str(ch)]\n",
    "    print(len(ezc),end=',')\n",
    "    ezc.loc[:,'r']=ezc.apply(lambda x:range(x['chromStart'],x['chromEnd']),1)\n",
    "    ezc=ezc['r'].tolist()\n",
    "    ezc=set([item for sublist in ezc for item in sublist])   \n",
    "    print(len(ezc),end='-')\n",
    "    for b in ezc:\n",
    "        ez14.append(['chr'+str(ch),b])\n",
    "ez14=pd.DataFrame(ez14) \n",
    "ez14['ezh']=True\n",
    "ez14.index=ez14[0].str[3:5]+'_'+ez14[1].astype(str)"
   ]
  },
  {
   "cell_type": "code",
   "execution_count": 14,
   "id": "e95f7d74-1431-4a71-9987-1b0d9a85f36c",
   "metadata": {},
   "outputs": [],
   "source": [
    "ezg=ez14.groupby(0)[1].apply(list)\n",
    "ezg=ezg.apply(lambda x:set(x))"
   ]
  },
  {
   "cell_type": "code",
   "execution_count": 15,
   "id": "74d94015-cc1b-4e71-ae9c-9e2d0e583efb",
   "metadata": {},
   "outputs": [],
   "source": [
    "h['ezl']=h.apply(lambda x:len(x['r'].intersection(ezg[x['ch']])),axis=1)"
   ]
  },
  {
   "cell_type": "code",
   "execution_count": 16,
   "id": "f36f6158-3618-4743-a698-ee4aaa51a23f",
   "metadata": {},
   "outputs": [
    {
     "name": "stdout",
     "output_type": "stream",
     "text": [
      "95\n"
     ]
    }
   ],
   "source": [
    "hz=h[h.ezl>300]\n",
    "print(len(hz))"
   ]
  },
  {
   "cell_type": "code",
   "execution_count": 17,
   "id": "ccf93f35-2da5-4601-b3b1-536a8f8c3268",
   "metadata": {},
   "outputs": [
    {
     "data": {
      "image/png": "[encoded data removed]",
      "text/plain": [
       "<Figure size 360x288 with 1 Axes>"
      ]
     },
     "metadata": {
      "needs_background": "light"
     },
     "output_type": "display_data"
    }
   ],
   "source": [
    "p=pd.DataFrame(hz[fs].mean())\n",
    "p['Age']=4*['Young']+4*['Old']+4*['Old-Met.']+4*['Old-CR']\n",
    "#p.columns=['Average DNAm','Passage']#,'Condition','Individual']\n",
    "fig, ax = plt.subplots(figsize=(5,4))\n",
    "ax=sns.boxplot(data=p,x='Age',y=0,palette=['g','r','m','c'])\n",
    "ax.set( ylabel='DNA Methylation')\n",
    "ax.tick_params(axis='x', rotation=90)"
   ]
  },
  {
   "cell_type": "code",
   "execution_count": 6,
   "id": "44c16e57-6f73-4235-a244-0abc6602dcfd",
   "metadata": {},
   "outputs": [
    {
     "data": {
      "text/plain": [
       "1940728"
      ]
     },
     "execution_count": 6,
     "metadata": {},
     "output_type": "execute_result"
    }
   ],
   "source": [
    "df=pd.read_csv('../../aging/mice/data/blood.csv',engine='c',index_col=0)\n",
    "len(df)"
   ]
  },
  {
   "cell_type": "code",
   "execution_count": 90,
   "id": "f3aba937-a5ae-4604-a58b-7ea8e61f3b3a",
   "metadata": {},
   "outputs": [],
   "source": [
    "def f(x):\n",
    "    return int(x.name.split('_')[1])-1 in hzg[x.name.split('_')[0]]"
   ]
  },
  {
   "cell_type": "code",
   "execution_count": 91,
   "id": "d07dad38-404a-4943-addb-622f5158fdfa",
   "metadata": {},
   "outputs": [],
   "source": [
    "dfhz=df[df.apply(lambda x:f(x),axis=1)]"
   ]
  },
  {
   "cell_type": "code",
   "execution_count": null,
   "id": "fbbc02f8-01d7-4733-8316-592831f12278",
   "metadata": {},
   "outputs": [],
   "source": [
    "dfhz.columns=dfhz.columns.astype(int)"
   ]
  },
  {
   "cell_type": "code",
   "execution_count": 131,
   "id": "8ffccfac-9974-4ea8-8203-5bb2ae6334b8",
   "metadata": {},
   "outputs": [
    {
     "data": {
      "text/plain": [
       "12486"
      ]
     },
     "execution_count": 131,
     "metadata": {},
     "output_type": "execute_result"
    }
   ],
   "source": [
    "len(dfhz)"
   ]
  },
  {
   "cell_type": "code",
   "execution_count": 175,
   "id": "866b8d49-bf1d-472a-a2d0-eb3a068836d5",
   "metadata": {},
   "outputs": [
    {
     "data": {
      "text/plain": [
       "195"
      ]
     },
     "execution_count": 175,
     "metadata": {},
     "output_type": "execute_result"
    }
   ],
   "source": [
    "age=pd.read_csv('../../aging/mice/data/blood_age.csv',index_col=0)\n",
    "len(age)"
   ]
  },
  {
   "cell_type": "code",
   "execution_count": 176,
   "id": "6270892c-982c-4560-9fdb-3394d2021aec",
   "metadata": {},
   "outputs": [],
   "source": [
    "age=age.merge(dfhz.mean().rename('m'),left_index=True,right_index=True)"
   ]
  },
  {
   "cell_type": "code",
   "execution_count": 177,
   "id": "7df2d582-988d-4974-9ea0-3b17266cf0be",
   "metadata": {},
   "outputs": [
    {
     "data": {
      "text/html": [
       "<div>\n",
       "<style scoped>\n",
       "    .dataframe tbody tr th:only-of-type {\n",
       "        vertical-align: middle;\n",
       "    }\n",
       "\n",
       "    .dataframe tbody tr th {\n",
       "        vertical-align: top;\n",
       "    }\n",
       "\n",
       "    .dataframe thead th {\n",
       "        text-align: right;\n",
       "    }\n",
       "</style>\n",
       "<table border=\"1\" class=\"dataframe\">\n",
       "  <thead>\n",
       "    <tr style=\"text-align: right;\">\n",
       "      <th></th>\n",
       "      <th>Diet</th>\n",
       "      <th>age</th>\n",
       "      <th>Avergae DNAm</th>\n",
       "    </tr>\n",
       "  </thead>\n",
       "  <tbody>\n",
       "    <tr>\n",
       "      <th>2132712</th>\n",
       "      <td>diet: standard</td>\n",
       "      <td>0.67</td>\n",
       "      <td>4.777591</td>\n",
       "    </tr>\n",
       "  </tbody>\n",
       "</table>\n",
       "</div>"
      ],
      "text/plain": [
       "                   Diet   age  Avergae DNAm\n",
       "2132712  diet: standard  0.67      4.777591"
      ]
     },
     "execution_count": 177,
     "metadata": {},
     "output_type": "execute_result"
    }
   ],
   "source": [
    "age.columns=['Diet','age','Avergae DNAm']\n",
    "age.head(1)"
   ]
  },
  {
   "cell_type": "code",
   "execution_count": 181,
   "id": "a91c80af-20e8-4301-ae08-b47776968322",
   "metadata": {},
   "outputs": [],
   "source": [
    "age['Age (month)']=pd.cut(age.age,[0,12,24,36])"
   ]
  },
  {
   "cell_type": "code",
   "execution_count": 182,
   "id": "de7faf5f-b3c9-47a1-b9d8-2e4ddae05bea",
   "metadata": {},
   "outputs": [
    {
     "data": {
      "image/png": "[encoded data removed]",
      "text/plain": [
       "<Figure size 432x288 with 1 Axes>"
      ]
     },
     "metadata": {
      "needs_background": "light"
     },
     "output_type": "display_data"
    }
   ],
   "source": [
    "ax=sns.boxplot(data=age,x='Age (month)',y='Avergae DNAm',hue='Diet')"
   ]
  },
  {
   "cell_type": "code",
   "execution_count": 45,
   "id": "5924146b-2827-4f4b-8dba-9a6ac023bf32",
   "metadata": {},
   "outputs": [],
   "source": [
    "hzg=hz.groupby('ch')['r'].apply(list)"
   ]
  },
  {
   "cell_type": "code",
   "execution_count": 46,
   "id": "b50c2bd1-8178-48a2-968f-9c8bc579478d",
   "metadata": {},
   "outputs": [],
   "source": [
    "hzg=hzg.apply(lambda x:set.union(*x))    "
   ]
  },
  {
   "cell_type": "code",
   "execution_count": 53,
   "id": "90731de7-73cb-4af2-8d4f-bb4658e74969",
   "metadata": {},
   "outputs": [],
   "source": [
    "df.index='chr'+df.index"
   ]
  },
  {
   "cell_type": "code",
   "execution_count": null,
   "id": "7d30ea20-4387-4d11-904b-98cd0f8e11f7",
   "metadata": {},
   "outputs": [],
   "source": []
  }
 ],
 "metadata": {
  "kernelspec": {
   "display_name": "meth",
   "language": "python",
   "name": "meth"
  },
  "language_info": {
   "codemirror_mode": {
    "name": "ipython",
    "version": 3
   },
   "file_extension": ".py",
   "mimetype": "text/x-python",
   "name": "python",
   "nbconvert_exporter": "python",
   "pygments_lexer": "ipython3",
   "version": "3.9.7"
  }
 },
 "nbformat": 4,
 "nbformat_minor": 5
}
