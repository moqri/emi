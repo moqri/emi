{
 "cells": [
  {
   "cell_type": "code",
   "execution_count": 1,
   "id": "ce9e5fc0-1dbb-42d1-b6b6-86d637f642aa",
   "metadata": {},
   "outputs": [],
   "source": [
    "import time\n",
    "import pandas as pd\n",
    "import numpy as np\n",
    "import util\n",
    "import pyBigWig\n",
    "import seaborn as sns\n",
    "import glob\n",
    "from matplotlib_venn import venn2\n",
    "from matplotlib import pyplot as plt\n",
    "import warnings\n",
    "warnings.filterwarnings(\"ignore\")\n",
    "source='data/source/'\n",
    "tic=time.time()\n",
    "\n",
    "def get_cg(x):\n",
    "    cg=set(range(x['b'],x['e']))\n",
    "    cg=ind[x['ch']].intersection(cg)\n",
    "    return cg\n",
    "def hmr2df(hmr):\n",
    "    gs=pd.read_table(hmr,header=None,usecols=[0,1,2])\n",
    "    gs=gs[~gs[0].isin(['chrX','chrY','chrM'])]\n",
    "    print(len(gs),end=',')\n",
    "    gs.columns=['ch','b','e']   \n",
    "    gs['d']=gs['e']-gs['b']\n",
    "    gs['r']=gs.apply(lambda x:get_cg(x) ,axis=1)\n",
    "    gs['rd']=gs.r.apply(lambda x:len(x))\n",
    "    gg=gs.groupby('ch')['r'].apply(list)\n",
    "    gg=gg.apply(lambda x:set.union(*x))    \n",
    "    return (gs,gg)   \n",
    "def get_ts(x):\n",
    "    chrom=x['ch']\n",
    "    com=set(range(x['b'],x['e'])).intersection(expg[chrom])\n",
    "    if len(com)>0:\n",
    "        ts=list(com)[0]\n",
    "        ts=exp.loc[(exp['chrom']==int(chrom[3:])) & (exp.ts==ts)].index.values[0]\n",
    "    else:\n",
    "        ts=np.nan\n",
    "    return(ts)\n",
    "def f(x):\n",
    "    return int(x.name.split('_')[1])-1 in hzg[x.name.split('_')[0]]"
   ]
  },
  {
   "cell_type": "code",
   "execution_count": 2,
   "id": "58c409de-bed3-44cd-82a1-214abfdbbe44",
   "metadata": {},
   "outputs": [],
   "source": [
    "ind=pd.read_table('data/meth/h/Mouse_ESC.meth',engine='c',usecols=[0,1],header=None)\n",
    "ind=ind.groupby(0)[1].apply(list)\n",
    "ind=ind.apply(lambda x:set(x))"
   ]
  },
  {
   "cell_type": "code",
   "execution_count": 4,
   "id": "219fb104-5e02-4dac-addf-2a1c624d9d36",
   "metadata": {},
   "outputs": [
    {
     "name": "stdout",
     "output_type": "stream",
     "text": [
      "39073,"
     ]
    }
   ],
   "source": [
    "h,hg=hmr2df('data/meth/h/h.hmr')"
   ]
  },
  {
   "cell_type": "code",
   "execution_count": 8,
   "id": "e632b2b1-4df4-4893-9bc4-33a1f37a9a29",
   "metadata": {},
   "outputs": [],
   "source": [
    "bw='SRX4338248.bw'\n",
    "bw=pyBigWig.open(source+bw)\n",
    "bs=[]\n",
    "for j,r in h.iterrows():\n",
    "    bs.append(bw.stats(r['ch'],int(r['b']),int(r['e']),'max')[0])\n",
    "h['suz']=bs"
   ]
  },
  {
   "cell_type": "code",
   "execution_count": 9,
   "id": "14fdeb58-fbb1-4bd4-b0dd-356ada453a78",
   "metadata": {},
   "outputs": [],
   "source": [
    "bws=['GSM2472741_E14_Ezh2_Rep1.bw','GSM2472742_E14_Ezh2_Rep2.bw']\n",
    "for i in range(2):\n",
    "    bw=pyBigWig.open(source+bws[i])\n",
    "    bs=[]\n",
    "    for j,r in h.iterrows():\n",
    "        bs.append(bw.stats(r['ch'],int(r['b']),int(r['e']),'max')[0])\n",
    "    h['ez'+str(i+1)]=bs"
   ]
  },
  {
   "cell_type": "code",
   "execution_count": 14,
   "id": "befcc748-ffa3-4f4f-b38b-430dbf0e1bf2",
   "metadata": {},
   "outputs": [],
   "source": [
    "bl=pd.read_table(source+'mm10-blacklist.v2.bed.gz',header=None)\n",
    "bl['r']=bl.apply(lambda x: set(range(x[1],x[2])),axis=1)\n",
    "bg=bl.groupby(0)['r'].apply(list)\n",
    "bg=bg.apply(lambda x:set.union(*x))   \n",
    "h['bl']=h.apply(lambda x: len(x['r'].intersection(bg[x['ch']])),axis=1)"
   ]
  },
  {
   "cell_type": "code",
   "execution_count": 15,
   "id": "577a59c7-860e-4ade-b34c-756a2b5205f1",
   "metadata": {},
   "outputs": [],
   "source": [
    "h.sort_values('suz',ascending=False).to_pickle('data/h.pkl')"
   ]
  },
  {
   "cell_type": "code",
   "execution_count": 16,
   "id": "9c6b7a02-9188-42f4-82b3-2bf54f0ee4fc",
   "metadata": {},
   "outputs": [],
   "source": [
    "h.to_csv('data/h.csv')"
   ]
  },
  {
   "cell_type": "code",
   "execution_count": 14,
   "id": "71c1b805-4e4c-403c-a477-e39d9ab44358",
   "metadata": {},
   "outputs": [
    {
     "name": "stdout",
     "output_type": "stream",
     "text": [
      "(7213, 3)\n",
      "462,526102-687,899107-337,395428-455,508115-474,596826-400,520490-438,488638-400,473660-374,426816-293,335768-536,651924-332,389072-351,426337-286,369904-320,377446-155,193966-266,307134-252,284005-227,286329-"
     ]
    }
   ],
   "source": [
    "ez14_='https://ftp.ncbi.nlm.nih.gov/geo/series/GSE94nnn/GSE94300/suppl/GSE94300_E14Ezh2_MAnorm_unbiased.bed.gz' #\n",
    "ez14=[]\n",
    "ez=pd.read_table(ez14_,header=None)\n",
    "ez.columns=['chrom', 'chromStart', 'chromEnd']\n",
    "print(ez.shape)\n",
    "for ch in range(1,20):\n",
    "    ezc=ez[ez['chrom']=='chr'+str(ch)]\n",
    "    print(len(ezc),end=',')\n",
    "    ezc.loc[:,'r']=ezc.apply(lambda x:range(x['chromStart'],x['chromEnd']),1)\n",
    "    ezc=ezc['r'].tolist()\n",
    "    ezc=set([item for sublist in ezc for item in sublist])   \n",
    "    print(len(ezc),end='-')\n",
    "    for b in ezc:\n",
    "        ez14.append(['chr'+str(ch),b])\n",
    "ez14=pd.DataFrame(ez14) \n",
    "ez14['ezh']=True\n",
    "ez14.index=ez14[0].str[3:5]+'_'+ez14[1].astype(str)"
   ]
  },
  {
   "cell_type": "code",
   "execution_count": 29,
   "id": "e95f7d74-1431-4a71-9987-1b0d9a85f36c",
   "metadata": {},
   "outputs": [],
   "source": [
    "ezg=ez14.groupby(0)[1].apply(list)\n",
    "ezg=ezg.apply(lambda x:set(x))"
   ]
  },
  {
   "cell_type": "code",
   "execution_count": 30,
   "id": "74d94015-cc1b-4e71-ae9c-9e2d0e583efb",
   "metadata": {},
   "outputs": [],
   "source": [
    "h['ezl']=h.apply(lambda x:len(x['r'].intersection(ezg[x['ch']])),axis=1)"
   ]
  },
  {
   "cell_type": "code",
   "execution_count": 31,
   "id": "f36f6158-3618-4743-a698-ee4aaa51a23f",
   "metadata": {},
   "outputs": [
    {
     "name": "stdout",
     "output_type": "stream",
     "text": [
      "100\n"
     ]
    }
   ],
   "source": [
    "hz=h.sort_values('ezl',ascending=False).head(100)\n",
    "print(len(hz))"
   ]
  },
  {
   "cell_type": "code",
   "execution_count": 32,
   "id": "b5221a4f-c6e3-4b12-af38-94f5137d130f",
   "metadata": {},
   "outputs": [
    {
     "data": {
      "text/plain": [
       "38088"
      ]
     },
     "execution_count": 32,
     "metadata": {},
     "output_type": "execute_result"
    }
   ],
   "source": [
    "hzg=hz.groupby('ch')['r'].apply(list)\n",
    "hzg=hzg.apply(lambda x:set.union(*x)) \n",
    "hzs=[]\n",
    "for i,r in hz.iterrows():\n",
    "    for rr in r['r']:\n",
    "        hzs.append((r['ch'],rr+1))\n",
    "hzs=pd.DataFrame(hzs)     \n",
    "hzs.index=hzs[0].str[3:5]+'_'+(hzs[1]-1).astype(str)\n",
    "len(hzs)"
   ]
  },
  {
   "cell_type": "code",
   "execution_count": 8,
   "id": "e672af12-9efe-413b-826a-e37958557b60",
   "metadata": {},
   "outputs": [],
   "source": [
    "#h=pd.read_csv('data/h.csv',engine='c',index_col=0)"
   ]
  },
  {
   "cell_type": "code",
   "execution_count": null,
   "id": "7897da3a-c3ca-4c2d-ab7c-d44254dfbf81",
   "metadata": {},
   "outputs": [],
   "source": [
    "hg=h.groupby('ch')['r'].apply(list)\n",
    "hg=hg.apply(lambda x:set.union(*x))"
   ]
  },
  {
   "cell_type": "code",
   "execution_count": 36,
   "id": "1e004c1f-77fe-40f4-8139-9b1fb842c069",
   "metadata": {},
   "outputs": [],
   "source": [
    "#hg.to_csv('data/hg.csv')"
   ]
  },
  {
   "cell_type": "code",
   "execution_count": 20,
   "id": "277958dd-2ecf-4c87-8df7-2b1e45abbc8f",
   "metadata": {},
   "outputs": [],
   "source": [
    "#hg=pd.read_csv('data/hg.csv',index_col=0,engine='c').squeeze()"
   ]
  },
  {
   "cell_type": "code",
   "execution_count": 76,
   "id": "3bea9d67-70fd-4c6d-96b5-5f1375b23705",
   "metadata": {},
   "outputs": [],
   "source": []
  },
  {
   "cell_type": "code",
   "execution_count": 94,
   "id": "ccf93f35-2da5-4601-b3b1-536a8f8c3268",
   "metadata": {},
   "outputs": [
    {
     "name": "stdout",
     "output_type": "stream",
     "text": [
      "100\n"
     ]
    },
    {
     "data": {
      "image/png": "[encoded data removed]",
      "text/plain": [
       "<Figure size 360x216 with 1 Axes>"
      ]
     },
     "metadata": {
      "needs_background": "light"
     },
     "output_type": "display_data"
    }
   ],
   "source": [
    "fs=['SRR44738'+str(i) for i in range(55,71)]\n",
    "for sn in fs:\n",
    "    path='data/meth/l/'+sn+'.bw'\n",
    "    bw=pyBigWig.open(path)\n",
    "    h[sn]=h.apply(lambda x: bw.stats(x['ch'],x['b'],x['e'],'mean',exact=True)[0],axis=1)\n",
    "hz=h.sort_values('ezl',ascending=False).head(100)\n",
    "print(len(hz))\n",
    "p=pd.DataFrame(hz[fs].mean())\n",
    "p['Age']=4*['Young']+4*['Old']+4*['Old-Rapa.']+4*['Old-CR']\n",
    "#p.columns=['Average DNAm','Passage']#,'Condition','Individual']\n",
    "fig, ax = plt.subplots(figsize=(5,3))\n",
    "ax=sns.boxplot(data=p,x='Age',y=0,palette=['g','r','m','c'])\n",
    "ax.set( ylabel='DNA Methylation',title='Mice Liver DNAm at EZH2 binding regions')\n",
    "ax.tick_params(axis='x', rotation=90)"
   ]
  },
  {
   "cell_type": "code",
   "execution_count": 92,
   "id": "44c16e57-6f73-4235-a244-0abc6602dcfd",
   "metadata": {},
   "outputs": [
    {
     "data": {
      "text/plain": [
       "1940728"
      ]
     },
     "execution_count": 92,
     "metadata": {},
     "output_type": "execute_result"
    }
   ],
   "source": [
    "df=pd.read_csv('../../aging/mice/data/blood.csv',engine='c',index_col=0)\n",
    "len(df)"
   ]
  },
  {
   "cell_type": "code",
   "execution_count": null,
   "id": "8ffccfac-9974-4ea8-8203-5bb2ae6334b8",
   "metadata": {},
   "outputs": [],
   "source": [
    "df.index='chr'+df.index\n",
    "dfhz=df[df.apply(lambda x:f(x),axis=1)]\n",
    "dfhz.columns=dfhz.columns.astype(int)\n",
    "len(dfhz)"
   ]
  },
  {
   "cell_type": "code",
   "execution_count": null,
   "id": "866b8d49-bf1d-472a-a2d0-eb3a068836d5",
   "metadata": {},
   "outputs": [],
   "source": [
    "age=pd.read_csv('../../aging/mice/data/blood_age.csv',index_col=0)\n",
    "len(age)"
   ]
  },
  {
   "cell_type": "code",
   "execution_count": null,
   "id": "6270892c-982c-4560-9fdb-3394d2021aec",
   "metadata": {},
   "outputs": [],
   "source": [
    "age=age.merge(dfhz.mean().rename('m'),left_index=True,right_index=True)"
   ]
  },
  {
   "cell_type": "code",
   "execution_count": null,
   "id": "7df2d582-988d-4974-9ea0-3b17266cf0be",
   "metadata": {},
   "outputs": [],
   "source": [
    "age.columns=['Diet','age','Avergae DNAm']\n",
    "age.head(1)"
   ]
  },
  {
   "cell_type": "code",
   "execution_count": 181,
   "id": "a91c80af-20e8-4301-ae08-b47776968322",
   "metadata": {},
   "outputs": [],
   "source": [
    "age['Age (month)']=pd.cut(age.age,[0,12,24,36])"
   ]
  },
  {
   "cell_type": "code",
   "execution_count": 182,
   "id": "de7faf5f-b3c9-47a1-b9d8-2e4ddae05bea",
   "metadata": {},
   "outputs": [
    {
     "data": {
      "image/png": "[encoded data removed]",
      "text/plain": [
       "<Figure size 432x288 with 1 Axes>"
      ]
     },
     "metadata": {
      "needs_background": "light"
     },
     "output_type": "display_data"
    }
   ],
   "source": [
    "fig, ax = plt.subplots(figsize=(5,3.5))\n",
    "ax=ax=sns.boxplot(data=age,x='Age (month)',y='Avergae DNAm',hue='Diet')\n",
    "ax.set(title='Mice blood DNAm at EZH2 binding regions')"
   ]
  },
  {
   "cell_type": "code",
   "execution_count": null,
   "id": "06f5a0b8-a0c3-4862-9e86-52dd82cc04dd",
   "metadata": {},
   "outputs": [],
   "source": []
  },
  {
   "cell_type": "code",
   "execution_count": 4,
   "id": "deb93175-1a75-4680-84f9-953fe3b4e998",
   "metadata": {},
   "outputs": [],
   "source": [
    "rrbs='https://ftp.ncbi.nlm.nih.gov/geo/series/GSE120nnn/GSE120137/matrix/GSE120137-GPL21103_series_matrix.txt.gz'\n",
    "age=pd.read_table(rrbs,skiprows=31).T\n",
    "age=age.drop('!Sample_title')\n",
    "age['age']=age[10].str[5:].str[:-2].astype(float)\n",
    "age['id']=age.index.str[-3:]"
   ]
  },
  {
   "cell_type": "code",
   "execution_count": null,
   "id": "7d30ea20-4387-4d11-904b-98cd0f8e11f7",
   "metadata": {},
   "outputs": [],
   "source": [
    "ps={}\n",
    "fs=glob.glob('data/meth/GSE120137/b/*.txt')\n",
    "fs.sort()\n",
    "print(len(fs))\n",
    "n=7\n",
    "dfs=[]\n",
    "for sn in fs:\n",
    "    name=sn.split('SH')[1][:3]\n",
    "    print(name,end=',')\n",
    "    df=pd.read_table(sn,engine='c',sep=' ',header=None,nrows=10**n)\n",
    "    df=df[df[0].isin(hg.index)]\n",
    "    df['hmr']=df.apply(lambda x:x[2]-1 in hg[x[0]],axis=1)\n",
    "    df=df[df['hmr']][[0,2,5]]\n",
    "    df.index=df[0].str[3:5]+'_'+(df[2]-1).astype(str)\n",
    "    #h[name]=h.apply(lambda x: bw.stats(x['ch'],x['b'],x['e'],'mean',exact=True)[0],axis=1)\n",
    "    dfs.append(df[5].rename(name))"
   ]
  },
  {
   "cell_type": "code",
   "execution_count": 40,
   "id": "1cf670f3-8455-4306-a928-cbe31a4ae1d2",
   "metadata": {
    "tags": []
   },
   "outputs": [
    {
     "name": "stdout",
     "output_type": "stream",
     "text": [
      "001,005,006,007,008,009,010,011,012,013,014,015,016,017,018,019,020,030,033,034,035,036,037,038,039,040,041,045,056,057,058,059,061,062,063,064,065,066,067,068,069,070,071,072,073,074,075,076,077,078,079,080,081,082,083,084,085,086,087,088,089,090,091,092,093,094,095,096,097,098,099,100,"
     ]
    }
   ],
   "source": [
    "for df in dfs:\n",
    "    print (df.name,end=',')\n",
    "    df.to_csv('data/meth/GSE120137/b/csv/'+df.name+'.csv')"
   ]
  },
  {
   "cell_type": "code",
   "execution_count": 43,
   "id": "5657ece2-5856-48f9-a95c-e666a8464600",
   "metadata": {},
   "outputs": [
    {
     "name": "stdout",
     "output_type": "stream",
     "text": [
      ",,,,,,,,,,,,,,,,,,,,,,,,,,,,,,,,,,,,,,,,,,,,,,,,,,,,,,,,,,,,2,3,4,5,6,7,8,9,10,11,12,13,14,15,16,17,18,19,20,21,22,23,24,25,26,27,28,29,30,31,32,33,34,35,36,37,38,39,40,41,42,43,44,45,46,47,48,49,50,51,52,53,54,55,56,57,58,59,,,,,,,,,,,,,,,,,,,,,,,,,,,,,,,,,,,,,,,,,,,,,,,,,,,,,,,,,2,3,4,5,6,7,8,9,10,11,12,13,14,15,16,17,18,19,20,21,22,23,24,25,26,27,28,29,30,31,32,33,34,35,36,37,38,39,40,41,42,43,44,45,46,47,48,49,50,51,52,53,54,55,,,,,,,,,,,,,,,,,,,,,,,,,,,,,,,,,,,,,,,,,,,,,,,,,,,,,,,2,3,4,5,6,7,8,9,10,11,12,13,14,15,16,17,18,19,20,21,22,23,24,25,26,27,28,29,30,31,32,33,34,35,36,37,38,39,40,41,42,43,44,45,46,47,48,49,50,51,52,53,,,,,,,,,,,,,,,,,,,,,,,,,,,,,,,,,,,,,,,,,,,,,,,,,,,,,,,,,,,,,2,3,4,5,6,7,8,9,10,11,12,13,14,15,16,17,18,19,20,21,22,23,24,25,26,27,28,29,30,31,32,33,34,35,36,37,38,39,40,41,42,43,44,45,46,47,48,49,50,51,52,53,54,55,56,57,58,59,,,,,,,,,,,,,,,,,,,,,,,,,,,,,,,,,,,,,,,,,,,,,,,,,,,,,,,,,,2,3,4,5,6,7,8,9,10,11,12,13,14,15,16,17,18,19,20,21,22,23,24,25,26,27,28,29,30,31,32,33,34,35,36,37,38,39,40,41,42,43,44,45,46,47,48,49,50,51,52,53,54,55,56,,,,,,,,,,,,,,,,,,,,,,,,,,,,,,,,,,,,,,,,,,,,,,,,,,,,,,,,,,,,,,,,,,,,,,,,,2,3,4,5,6,7,8,9,10,11,12,13,14,15,16,17,18,19,20,21,22,23,24,25,26,27,28,29,30,31,32,33,34,35,36,37,38,39,40,41,42,43,44,45,46,47,48,49,50,51,52,53,54,55,56,57,58,59,60,61,62,63,64,65,66,67,68,69,70,71,"
     ]
    }
   ],
   "source": [
    "for c in ['m','a','k','l','u','b']:\n",
    "    fs=glob.glob('data/meth/GSE120137/'+c+'/csv/*.csv')\n",
    "    dfs=[]\n",
    "    for f in fs:\n",
    "        print ('',end=',')\n",
    "        df=pd.read_csv(f,index_col=0)\n",
    "        df=df[df.index.isin(hzs.index)]\n",
    "        dfs.append(df)\n",
    "    df=dfs[0].merge(dfs[1],left_index=True,right_index=True,how='outer')\n",
    "    for i in range(2,len(dfs)):\n",
    "        print(i,end=',')\n",
    "        df=df.merge(dfs[i],left_index=True,right_index=True,how='outer')\n",
    "    df.shape\n",
    "    p=df.mean()\n",
    "    p=p.rename('DNAm')\n",
    "    ps[c]=age[['id','age']].drop_duplicates().merge(p,left_on='id',right_index=True)    "
   ]
  },
  {
   "cell_type": "code",
   "execution_count": 88,
   "id": "75d8e7c5-f85b-4c7b-b98d-c69f37a47226",
   "metadata": {},
   "outputs": [
    {
     "data": {
      "text/plain": [
       "[Text(0.5, 1.0, 'DNAm at EZH2 binding regions (mice)')]"
      ]
     },
     "execution_count": 88,
     "metadata": {},
     "output_type": "execute_result"
    },
    {
     "data": {
      "image/png": "[encoded data removed]",
      "text/plain": [
       "<Figure size 360x252 with 1 Axes>"
      ]
     },
     "metadata": {
      "needs_background": "light"
     },
     "output_type": "display_data"
    }
   ],
   "source": [
    "ps['m']['tissue']='Muscle'\n",
    "ps['a']['tissue']='Adipose'\n",
    "ps['k']['tissue']='Kidney'\n",
    "ps['l']['tissue']='Liver'\n",
    "ps['u']['tissue']='Lung'\n",
    "ps['b']['tissue']='Blood'\n",
    "ps['bb']=ps['b'][ps['b'].age.isin([2,10,20])]\n",
    "del ps['b']\n",
    "fig, ax = plt.subplots(figsize=(5,3.5))\n",
    "ax=sns.boxplot(data=pd.concat(ps),x='tissue',y='DNAm',hue='age'\n",
    "            ,order=['Adipose','Kidney','Muscle','Lung','Liver','Blood'])\n",
    "ax.set(title='DNAm at EZH2 binding regions (mice)')"
   ]
  },
  {
   "cell_type": "code",
   "execution_count": null,
   "id": "f54918db-22fd-4a5d-ae79-b6aa11ad567f",
   "metadata": {},
   "outputs": [],
   "source": []
  }
 ],
 "metadata": {
  "kernelspec": {
   "display_name": "meth",
   "language": "python",
   "name": "meth"
  },
  "language_info": {
   "codemirror_mode": {
    "name": "ipython",
    "version": 3
   },
   "file_extension": ".py",
   "mimetype": "text/x-python",
   "name": "python",
   "nbconvert_exporter": "python",
   "pygments_lexer": "ipython3",
   "version": "3.9.7"
  }
 },
 "nbformat": 4,
 "nbformat_minor": 5
}
