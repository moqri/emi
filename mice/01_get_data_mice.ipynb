{
 "cells": [
  {
   "cell_type": "code",
   "execution_count": 4,
   "id": "cb442868-380c-4d9e-af53-87ac2a2f2783",
   "metadata": {},
   "outputs": [],
   "source": [
    "import pandas as pd\n",
    "import time \n",
    "t=time.time()\n",
    "source='data/source/'\n",
    "#mane.gz from MANE Sellect for TSS\n",
    "h={\n",
    "    'h':'',\n",
    "    'h_hmr':'',\n",
    "    'hez':'https://ftp.ncbi.nlm.nih.gov/geo/samples/GSM2472nnn/GSM2472741/suppl/GSM2472741_E14_Ezh2_Rep1.bw',\n",
    "}\n",
    "\n",
    "tmp='https://storage.googleapis.com/gtex_analysis_v8/rna_seq_data/GTEx_Analysis_2017-06-05_v8_RNASeQCv1.1.9_gene_median_tpm.gct.gz'\n",
    "\n",
    "geo={\n",
    "'pbmc_neo':'https://ftp.ncbi.nlm.nih.gov/geo/series/GSE140nnn/GSE140730/matrix/GSE140730-GPL20795_series_matrix.txt.gz', #neonatal wg blood hg38\n",
    "}\n",
    "t4={\n",
    "    'nb':'http://smithdata.usc.edu/methbase/data/Heyn-Human-NewbornCentenarian-2012/Human_CD4T-Newborn/tracks_hg38/Human_CD4T-Newborn.meth.bw',\n",
    "    'ct':'http://smithdata.usc.edu/methbase/data/Heyn-Human-NewbornCentenarian-2012/Human_CD4T-100yr/tracks_hg38/Human_CD4T-100yr.meth.bw',\n",
    "}\n"
   ]
  },
  {
   "cell_type": "code",
   "execution_count": 5,
   "id": "fe721055-a82f-4b49-ac13-8182f41e33c1",
   "metadata": {},
   "outputs": [],
   "source": [
    "!wget -nc -q {h['hez']} -P {source}"
   ]
  },
  {
   "cell_type": "code",
   "execution_count": 4,
   "id": "994ed8c1-eabc-4458-9569-7f677b54cc7b",
   "metadata": {},
   "outputs": [],
   "source": [
    "!wget -nc -q {tmp} -P {source}"
   ]
  },
  {
   "cell_type": "code",
   "execution_count": 5,
   "id": "f1359151-b00e-418e-86d6-02f06aab492d",
   "metadata": {},
   "outputs": [],
   "source": [
    "!wget -nc -q {geo['pbmc_neo']} -P {source}pbmc_neo"
   ]
  },
  {
   "cell_type": "code",
   "execution_count": 6,
   "id": "37e425d3-0c2f-44f5-b171-1814e96ee143",
   "metadata": {},
   "outputs": [],
   "source": [
    "neo_=source+'pbmc_neo/GSE140730-GPL20795_series_matrix.txt.gz'\n",
    "neo=pd.read_csv(neo_,sep='\\t',skiprows=31).T\n",
    "neo=neo[neo[9]=='diagnosis: TD'] #typical development\n",
    "GSE140730=neo[43].to_dict()\n",
    "for gse,link in GSE140730.items():\n",
    "    !wget -nc -q \"{link}\" -O \"{source}pbmc_neo/{gse}.txt.gz\""
   ]
  },
  {
   "cell_type": "code",
   "execution_count": 10,
   "id": "f0798691-dd04-47de-8963-674761b84bbd",
   "metadata": {},
   "outputs": [],
   "source": [
    "!wget -nc -q {t4['nb']} -P 'data/meth/t4/'\n",
    "!wget -nc -q {t4['ct']} -P 'data/meth/t4/'"
   ]
  },
  {
   "cell_type": "code",
   "execution_count": 7,
   "id": "ea450009-a09a-48ee-a872-fb326c68d511",
   "metadata": {},
   "outputs": [],
   "source": [
    "!wget -nc -q {man450_19} -P {source}array\n",
    "!wget -nc -q {man450_38} -P {source}array\n",
    "!wget -nc -q {man_epic} -P {source}array"
   ]
  },
  {
   "cell_type": "code",
   "execution_count": 8,
   "id": "3be8b6e8-af28-4881-8ddb-ca13d296b668",
   "metadata": {},
   "outputs": [
    {
     "name": "stdout",
     "output_type": "stream",
     "text": [
      "9\n"
     ]
    }
   ],
   "source": [
    "print(round(time.time()-t))"
   ]
  }
 ],
 "metadata": {
  "kernelspec": {
   "display_name": "meth",
   "language": "python",
   "name": "meth"
  },
  "language_info": {
   "codemirror_mode": {
    "name": "ipython",
    "version": 3
   },
   "file_extension": ".py",
   "mimetype": "text/x-python",
   "name": "python",
   "nbconvert_exporter": "python",
   "pygments_lexer": "ipython3",
   "version": "3.9.7"
  }
 },
 "nbformat": 4,
 "nbformat_minor": 5
}
