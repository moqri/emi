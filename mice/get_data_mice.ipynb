{
 "cells": [
  {
   "cell_type": "code",
   "execution_count": 1,
   "id": "cb442868-380c-4d9e-af53-87ac2a2f2783",
   "metadata": {},
   "outputs": [],
   "source": [
    "import pandas as pd\n",
    "import time \n",
    "t=time.time()\n",
    "data='data/source/mice/'\n",
    "#mane.gz from MANE Sellect for TSS\n",
    "ez='https://www.encodeproject.org/files/ENCFF414CAB/@@download/ENCFF414CAB.bed.gz' #H1 EZH\n",
    "h={\n",
    "    'h1':'http://smithdata.usc.edu/methbase/data/Xie-Human-2013/Human_H1/tracks_hg38/Human_H1.meth.bw',\n",
    "    'h9':'http://smithdata.usc.edu/methbase/data/Xie-Human-2013/Human_H9/tracks_hg38/Human_H9.meth.bw',\n",
    "}\n",
    "\n",
    "tmp='https://storage.googleapis.com/gtex_analysis_v8/rna_seq_data/GTEx_Analysis_2017-06-05_v8_RNASeQCv1.1.9_gene_median_tpm.gct.gz'\n",
    "\n",
    "geo={\n",
    "'pbmc_neo':'https://ftp.ncbi.nlm.nih.gov/geo/series/GSE140nnn/GSE140730/matrix/GSE140730-GPL20795_series_matrix.txt.gz', #neonatal wg blood\n",
    "}\n",
    "man450_19='https://webdata.illumina.com/downloads/productfiles/humanmethylation450/humanmethylation450_15017482_v1-2.csv'\n",
    "man450_38='https://zhouserver.research.chop.edu/InfiniumAnnotation/20210615/HM450/HM450.hg38.manifest.gencode.v36.tsv.gz'\n",
    "man_epic='https://webdata.illumina.com/downloads/productfiles/methylationEPIC/infinium-methylationepic-v-1-0-b5-manifest-file-csv.zip'"
   ]
  },
  {
   "cell_type": "code",
   "execution_count": 2,
   "id": "2d03aea9-3d91-4ec1-9c5e-1ff15eb96ffb",
   "metadata": {},
   "outputs": [],
   "source": [
    "!wget -nc -q {man450_19} -P {data}\n",
    "!wget -nc -q {man450_38} -P {data}\n",
    "!wget -nc -q {man_epic} -P {data}\n",
    "!wget -nc -q {ez} -P {data}"
   ]
  },
  {
   "cell_type": "code",
   "execution_count": 3,
   "id": "fe721055-a82f-4b49-ac13-8182f41e33c1",
   "metadata": {},
   "outputs": [],
   "source": [
    "!wget -nc -q {h['h1']} -P {data}h\n",
    "!wget -nc -q {h['h9']} -P {data}h"
   ]
  },
  {
   "cell_type": "code",
   "execution_count": 4,
   "id": "994ed8c1-eabc-4458-9569-7f677b54cc7b",
   "metadata": {},
   "outputs": [],
   "source": [
    "!wget -nc -q {tmp} -P {data}"
   ]
  },
  {
   "cell_type": "code",
   "execution_count": 5,
   "id": "f1359151-b00e-418e-86d6-02f06aab492d",
   "metadata": {},
   "outputs": [],
   "source": [
    "!wget -nc -q {geo['pbmc_neo']} -P {data}pbmc_neo"
   ]
  },
  {
   "cell_type": "code",
   "execution_count": 6,
   "id": "37e425d3-0c2f-44f5-b171-1814e96ee143",
   "metadata": {},
   "outputs": [],
   "source": [
    "neo_=data+'pbmc_neo/GSE140730-GPL20795_series_matrix.txt.gz'\n",
    "neo=pd.read_csv(neo_,sep='\\t',skiprows=31).T\n",
    "neo=neo[neo[9]=='diagnosis: TD'] #typical development\n",
    "GSE140730=neo[43].to_dict()\n",
    "for gse,link in GSE140730.items():\n",
    "    !wget -nc -q \"{link}\" -O \"{data}pbmc_neo/{gse}.txt.gz\""
   ]
  },
  {
   "cell_type": "code",
   "execution_count": 7,
   "id": "3be8b6e8-af28-4881-8ddb-ca13d296b668",
   "metadata": {},
   "outputs": [
    {
     "name": "stdout",
     "output_type": "stream",
     "text": [
      "12\n"
     ]
    }
   ],
   "source": [
    "print(round(time.time()-t))"
   ]
  }
 ],
 "metadata": {
  "kernelspec": {
   "display_name": "meth",
   "language": "python",
   "name": "meth"
  },
  "language_info": {
   "codemirror_mode": {
    "name": "ipython",
    "version": 3
   },
   "file_extension": ".py",
   "mimetype": "text/x-python",
   "name": "python",
   "nbconvert_exporter": "python",
   "pygments_lexer": "ipython3",
   "version": "3.9.7"
  }
 },
 "nbformat": 4,
 "nbformat_minor": 5
}
