{
 "cells": [
  {
   "cell_type": "code",
   "execution_count": 13,
   "id": "f9e606d7-eb3f-451d-a730-90c11fca6587",
   "metadata": {},
   "outputs": [],
   "source": [
    "import pandas as pd\n",
    "import glob\n",
    "import numpy as np\n",
    "import seaborn as sns\n",
    "from matplotlib import pyplot as plt\n",
    "\n",
    "path='data/meth/GSE83947/'\n",
    "\n",
    "def get_meth(tissue,age,h7):\n",
    "    fs=glob.glob(path+tissue+'/'+str(age)+'/*')\n",
    "    print(len(fs))\n",
    "    dfs=[]\n",
    "    for i in range(1,len(fs)):\n",
    "        df=pd.read_table(fs[i],header=None,engine='c')\n",
    "        df=df[df[5]=='CG']\n",
    "        df=df[df[3]+df[4]>100]\n",
    "        df['b']=df[3]/(df[3]+df[4])\n",
    "        bs=[]\n",
    "        for j,r in h7.iterrows():\n",
    "            b=df[(df[1]>r['b'])&(df[1]<r['e'])].b.mean()\n",
    "            bs.append(b)\n",
    "        print(np.round(np.mean(np.array(bs)[~np.isnan(bs)]),3),end=',')\n",
    "        dfs.append(bs)\n",
    "    return dfs"
   ]
  },
  {
   "cell_type": "code",
   "execution_count": 5,
   "id": "ffc9ec67-fa15-438c-a371-c72d84fa7ed4",
   "metadata": {},
   "outputs": [],
   "source": [
    "h=pd.read_csv('data/h.csv',index_col=0)\n",
    "h['suz']=h.suz/h.suz.max()\n",
    "h['ez1']=h.ez1/h.ez1.max()\n",
    "h['ez2']=h.ez2/h.ez2.max()\n",
    "h['ez']=h[['ez1','ez2']].mean(1)\n",
    "h['prc']=h[['ez','suz']].mean(1)"
   ]
  },
  {
   "cell_type": "code",
   "execution_count": 6,
   "id": "04957062-1172-4032-b5a0-6219678d351e",
   "metadata": {},
   "outputs": [
    {
     "data": {
      "text/plain": [
       "1000"
      ]
     },
     "execution_count": 6,
     "metadata": {},
     "output_type": "execute_result"
    }
   ],
   "source": [
    "hz=h.sort_values('prc',ascending=False).head(1000)\n",
    "#hz=hz[hz.d>3500]\n",
    "len(hz)"
   ]
  },
  {
   "cell_type": "code",
   "execution_count": 55,
   "id": "bbbf523a-488a-43ba-90c2-154230043ee0",
   "metadata": {},
   "outputs": [
    {
     "data": {
      "text/plain": [
       "52"
      ]
     },
     "execution_count": 55,
     "metadata": {},
     "output_type": "execute_result"
    }
   ],
   "source": [
    "h7=hz[hz.ch=='chr7']\n",
    "len(h7)"
   ]
  },
  {
   "cell_type": "code",
   "execution_count": 64,
   "id": "daea2ab4-be1e-4736-a570-e536aa85d187",
   "metadata": {},
   "outputs": [
    {
     "name": "stdout",
     "output_type": "stream",
     "text": [
      "212\n",
      "0.141,0.155,0.143,0.147,0.155,0.146,0.147,0.144,0.141,0.146,0.141,0.141,0.147,0.144,0.15,0.148,0.142,0.149,0.155,0.149,0.142,0.154,0.152,0.151,0.136,0.14,0.146,0.143,0.143,0.146,0.149,0.142,0.144,0.151,0.151,0.143,0.142,0.145,0.14,0.148,0.147,0.15,0.144,0.143,0.143,0.143,0.149,0.146,0.142,0.142,0.143,0.142,0.15,0.148,0.154,0.15,0.137,0.156,0.145,0.143,0.146,0.139,0.146,0.151,0.146,0.149,0.142,0.152,0.152,0.134,0.144,0.146,0.14,0.136,0.149,0.144,0.139,0.136,0.154,0.147,0.142,0.146,0.149,0.146,0.145,0.147,0.138,0.142,0.151,0.15,0.146,0.147,0.141,0.149,0.144,0.145,0.14,0.152,0.145,0.149,0.146,0.138,"
     ]
    },
    {
     "name": "stderr",
     "output_type": "stream",
     "text": [
      "/home/moqri/miniconda3/envs/meth/lib/python3.9/site-packages/numpy/core/fromnumeric.py:3440: RuntimeWarning: Mean of empty slice.\n",
      "  return _methods._mean(a, axis=axis, dtype=dtype,\n",
      "/home/moqri/miniconda3/envs/meth/lib/python3.9/site-packages/numpy/core/_methods.py:189: RuntimeWarning: invalid value encountered in double_scalars\n",
      "  ret = ret.dtype.type(ret / rcount)\n"
     ]
    },
    {
     "name": "stdout",
     "output_type": "stream",
     "text": [
      "nan,0.134,0.148,0.153,0.147,0.145,0.15,0.145,0.148,0.146,0.159,0.147,0.139,0.142,0.156,0.146,0.142,0.143,0.148,0.143,0.137,0.149,0.147,0.143,0.144,0.148,0.144,0.151,0.143,0.152,0.149,0.152,0.153,0.15,0.142,0.15,0.149,0.142,0.149,0.142,nan,0.146,0.144,0.148,0.148,0.149,0.151,0.153,0.148,0.148,0.155,0.16,0.143,nan,0.149,0.143,0.137,0.148,0.156,0.146,0.141,0.143,0.148,0.14,nan,0.144,0.157,0.144,0.145,0.155,0.14,0.146,0.152,0.16,0.148,0.149,0.147,0.149,0.148,0.153,0.142,0.142,0.145,0.145,0.147,0.144,0.144,0.149,0.158,0.132,0.153,0.147,0.142,0.145,0.144,0.144,0.134,0.147,0.148,0.158,0.149,0.147,0.147,0.144,0.15,0.147,0.146,0.148,0.159,180\n",
      "0.146,0.157,0.158,0.128,0.143,0.166,0.155,0.141,0.158,0.153,0.155,0.147,0.14,0.147,0.138,0.144,0.154,nan,0.129,0.139,0.128,0.156,0.148,0.14,0.149,0.143,0.218,0.133,0.224,0.143,0.136,0.142,0.135,0.15,0.151,0.136,0.151,0.131,0.144,0.153,0.146,0.161,0.157,0.152,0.158,0.156,0.146,0.144,0.176,0.146,0.141,0.145,0.154,0.141,0.153,0.201,0.148,0.154,0.138,0.147,0.151,0.148,0.154,0.163,0.162,0.148,0.157,0.142,0.144,0.15,0.153,0.151,0.143,0.16,0.146,0.153,0.15,0.154,0.15,0.154,0.145,0.133,0.144,0.143,0.156,0.145,0.144,0.148,0.139,0.147,0.142,0.137,0.136,0.156,0.144,0.143,0.131,0.15,0.139,0.136,0.161,0.15,0.146,0.132,0.145,0.135,0.156,0.149,0.149,0.14,0.135,0.162,0.141,0.127,0.156,0.151,0.149,0.142,0.147,0.149,0.141,0.145,0.141,0.146,0.128,0.153,0.164,0.148,0.151,0.219,0.144,0.149,0.144,0.147,0.158,0.144,0.16,0.127,0.156,0.144,0.152,0.138,0.15,0.144,0.143,0.137,0.145,0.139,0.129,0.143,0.154,0.158,0.224,0.145,0.148,0.152,0.155,0.137,0.151,0.132,0.141,0.143,0.207,0.164,0.164,0.15,nan,0.141,0.16,0.129,0.151,0.141,0.161,0.151,0.148,0.163,0.149,0.153,0.146,180\n",
      "0.153,0.16,0.205,0.182,0.185,0.185,0.181,nan,0.17,0.183,0.176,0.162,0.151,0.185,0.159,0.142,0.155,0.16,0.181,0.158,0.159,0.158,0.155,0.188,0.156,0.148,0.172,0.222,0.153,0.181,0.173,0.199,0.16,0.159,0.151,0.183,0.169,0.16,0.186,0.157,0.153,0.159,0.166,0.191,0.168,0.175,0.153,0.167,0.157,0.187,0.165,0.16,0.146,0.153,0.177,0.159,0.148,0.141,0.202,0.152,0.144,0.194,0.207,0.179,0.179,0.171,0.147,0.186,0.159,0.169,0.178,0.17,0.178,nan,0.199,0.157,0.168,0.166,0.166,0.167,0.147,0.201,0.157,0.15,0.157,0.161,0.14,0.204,0.171,0.166,0.169,0.169,0.185,0.176,0.166,0.179,0.217,0.17,0.156,0.194,0.175,0.143,0.158,0.181,0.17,0.161,0.154,0.163,0.15,0.171,nan,0.153,0.167,nan,0.158,0.159,0.19,0.162,0.185,0.161,0.2,0.167,0.173,0.157,0.157,0.206,0.168,0.202,0.173,0.173,0.198,0.178,0.147,0.159,0.179,0.164,0.166,0.19,0.168,0.158,0.202,0.17,0.141,0.18,0.156,0.16,0.157,0.175,0.169,0.162,0.153,0.15,0.163,0.202,0.192,0.151,0.195,0.207,0.173,0.154,0.183,0.145,0.166,0.181,0.17,0.15,0.174,0.164,0.162,0.176,0.151,0.166,0.176,0.147,0.16,0.176,0.164,0.179,0.219,"
     ]
    }
   ],
   "source": [
    "ls={}\n",
    "for a in [9,15,25]:\n",
    "    ls[a]=get_meth('l',a,h7)\n",
    "    ls[a]=pd.DataFrame(ls[a]).mean(1)\n",
    "    ls[a].mean()"
   ]
  },
  {
   "cell_type": "code",
   "execution_count": 65,
   "id": "8cc53c08-f4cb-4454-8a4f-1e3d4b434e11",
   "metadata": {},
   "outputs": [
    {
     "name": "stdout",
     "output_type": "stream",
     "text": [
      "216\n",
      "0.114,0.151,0.117,0.126,0.137,0.136,0.122,0.129,0.159,0.125,0.13,0.131,0.132,0.141,0.132,0.117,0.136,0.141,0.135,0.131,0.129,0.124,0.132,0.135,0.13,0.157,0.151,0.163,0.159,0.116,0.13,nan,0.146,0.135,0.13,0.133,0.116,0.111,0.123,0.124,0.131,0.145,0.133,0.121,0.121,0.131,0.132,0.127,0.153,0.132,0.14,0.119,0.134,0.124,0.112,0.121,0.117,0.134,0.126,0.127,0.139,0.12,0.118,0.132,0.143,0.123,0.123,0.139,0.119,0.14,0.126,0.134,0.143,0.12,0.126,0.122,0.147,0.144,0.123,0.163,0.149,0.153,0.131,0.134,0.134,0.128,0.129,0.107,0.116,0.128,0.144,0.119,0.118,0.15,0.131,0.113,0.132,0.138,nan,0.126,0.124,0.13,0.14,0.133,0.129,0.129,0.131,0.125,0.131,0.121,0.127,0.144,0.127,0.132,0.166,0.134,0.127,0.124,0.131,0.132,0.13,0.137,0.13,0.139,0.142,0.145,0.132,0.133,0.132,0.108,0.16,0.158,0.127,0.12,0.126,0.139,0.144,0.142,0.114,0.114,0.141,0.128,0.13,0.137,0.156,0.131,0.124,0.119,0.121,0.123,0.148,nan,0.12,0.132,0.135,0.115,0.138,0.136,0.131,0.132,0.131,0.134,0.163,0.133,0.135,0.131,0.134,0.118,0.138,0.123,0.152,0.144,0.136,0.137,0.12,0.115,0.131,0.142,0.134,0.133,0.123,0.166,0.126,0.146,0.123,0.124,0.144,0.133,0.126,0.125,0.119,0.134,0.123,0.148,0.115,0.116,0.127,0.118,0.131,0.129,0.163,0.127,0.118,0.138,nan,0.118,0.117,0.122,0.13,0.124,0.144,0.127,0.13,0.123,0.137,90\n",
      "0.131,0.141,0.142,0.144,0.144,0.144,0.148,0.139,0.137,0.151,0.135,0.133,0.136,0.14,0.176,0.14,0.134,nan,0.138,0.132,0.139,0.159,0.144,0.152,0.132,0.14,0.137,0.152,0.143,0.127,0.149,0.136,0.15,0.148,0.167,0.143,0.132,0.142,0.133,0.139,0.152,0.143,0.136,0.14,0.192,0.15,0.14,0.115,0.135,0.146,0.137,0.133,0.126,0.129,0.188,0.14,0.129,0.125,0.146,0.132,0.13,0.136,0.188,0.131,0.144,0.135,0.132,0.153,0.136,0.136,0.137,0.128,0.13,0.166,0.144,0.143,0.143,0.143,0.147,0.145,0.147,0.128,0.134,0.127,0.127,0.137,0.143,0.141,0.142,180\n",
      "0.147,0.165,0.142,0.144,0.152,0.141,0.147,0.142,0.149,0.143,0.15,0.135,nan,0.162,0.151,0.148,0.142,0.172,0.131,0.141,0.15,0.148,0.164,0.152,0.152,0.15,0.155,0.163,0.124,0.16,0.142,0.156,0.141,0.178,0.156,0.162,0.158,0.142,0.148,0.147,nan,0.141,0.134,0.124,0.151,0.155,0.15,0.137,0.146,0.147,0.175,0.158,0.173,0.147,0.166,0.157,0.127,0.156,0.147,0.156,0.152,0.13,0.145,0.129,0.175,0.154,0.167,0.17,0.151,0.133,0.137,0.155,0.141,0.146,0.153,0.146,0.167,0.128,0.137,0.137,0.145,0.151,0.141,0.155,0.147,0.156,0.157,0.156,0.131,0.136,0.158,0.141,0.134,0.147,0.17,0.133,0.143,0.156,0.16,0.161,0.132,0.164,0.144,0.151,0.154,0.145,0.152,0.132,0.156,0.136,0.141,0.162,0.143,0.165,0.142,0.162,0.131,nan,0.152,0.139,0.154,0.138,0.174,0.151,0.159,0.153,0.149,0.141,0.135,0.124,0.158,0.145,0.163,0.157,0.151,0.134,0.152,0.15,0.134,0.151,0.137,0.165,0.134,0.156,0.137,0.15,0.129,0.144,0.144,0.146,0.149,0.132,0.152,0.147,0.135,0.142,0.145,nan,0.157,0.161,0.164,0.161,0.153,0.138,0.171,0.139,0.14,0.149,0.149,0.15,0.143,0.155,0.163,0.141,0.158,0.128,0.141,0.131,0.161,"
     ]
    }
   ],
   "source": [
    "rs={}\n",
    "for a in [9,15,25]:\n",
    "    rs[a]=get_meth('r',a,h7)\n",
    "    rs[a]=pd.DataFrame(rs[a]).mean(1)\n",
    "    rs[a].mean()"
   ]
  },
  {
   "cell_type": "code",
   "execution_count": 68,
   "id": "a37d578a-1a2d-4c00-958b-1232f3749f91",
   "metadata": {},
   "outputs": [],
   "source": [
    "ls=pd.DataFrame(ls)\n",
    "rs=pd.DataFrame(rs)"
   ]
  },
  {
   "cell_type": "code",
   "execution_count": 74,
   "id": "143508c7-7565-4102-a3ce-d3d31ad8a9b6",
   "metadata": {},
   "outputs": [],
   "source": [
    "ls['Tissue']='Liver'\n",
    "rs['Tissue']='Lung'"
   ]
  },
  {
   "cell_type": "code",
   "execution_count": 78,
   "id": "e1498c1f-8fa4-489b-bcc4-49574595be34",
   "metadata": {},
   "outputs": [],
   "source": [
    "pl=pd.concat([ls,rs]).melt('Tissue')"
   ]
  },
  {
   "cell_type": "code",
   "execution_count": 82,
   "id": "c49ecc5b-d80a-44a2-af37-d7459e4685d4",
   "metadata": {},
   "outputs": [],
   "source": [
    "pl.columns=['Tissue','Age (months)','DNAm']"
   ]
  },
  {
   "cell_type": "code",
   "execution_count": 85,
   "id": "066abec6-6e21-4286-8add-31b98ed4ac41",
   "metadata": {},
   "outputs": [
    {
     "data": {
      "text/plain": [
       "[Text(0, 0.5, 'Avergae DNAm'),\n",
       " Text(0.5, 1.0, 'DNAm at PRC2 binding regions (mice chr 7)'),\n",
       " (0.1, 0.2)]"
      ]
     },
     "execution_count": 85,
     "metadata": {},
     "output_type": "execute_result"
    },
    {
     "data": {
      "image/png": "[encoded data removed]",
      "text/plain": [
       "<Figure size 360x216 with 1 Axes>"
      ]
     },
     "metadata": {
      "needs_background": "light"
     },
     "output_type": "display_data"
    }
   ],
   "source": [
    "fig, ax = plt.subplots(figsize=(5,3))\n",
    "sns.barplot(data=pl,x='Tissue',y='DNAm',hue='Age (months)',ax=ax,palette=['g','orange','r'])\n",
    "ax.set(ylabel='Avergae DNAm',title='DNAm at PRC2 binding regions (mice chr 7)',ylim=[0.1,.2])"
   ]
  },
  {
   "cell_type": "code",
   "execution_count": null,
   "id": "c52258bf-3419-4233-a3ca-4b16198b4778",
   "metadata": {},
   "outputs": [],
   "source": []
  }
 ],
 "metadata": {
  "kernelspec": {
   "display_name": "Python 3 (ipykernel)",
   "language": "python",
   "name": "python3"
  },
  "language_info": {
   "codemirror_mode": {
    "name": "ipython",
    "version": 3
   },
   "file_extension": ".py",
   "mimetype": "text/x-python",
   "name": "python",
   "nbconvert_exporter": "python",
   "pygments_lexer": "ipython3",
   "version": "3.9.7"
  }
 },
 "nbformat": 4,
 "nbformat_minor": 5
}
