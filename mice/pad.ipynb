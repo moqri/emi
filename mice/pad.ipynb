{
 "cells": [
  {
   "cell_type": "code",
   "execution_count": 55,
   "id": "f9e606d7-eb3f-451d-a730-90c11fca6587",
   "metadata": {},
   "outputs": [],
   "source": [
    "import pandas as pd\n",
    "import glob\n",
    "import numpy as np\n",
    "import seaborn as sns\n",
    "from matplotlib import pyplot as plt\n",
    "\n",
    "path='data/meth/GSE83947/'\n",
    "\n",
    "def get_meth(tissue,age):\n",
    "    fs=glob.glob(path+tissue+'/'+str(age)+'/*')\n",
    "    print(len(fs))\n",
    "    dfs=[]\n",
    "    for i in range(1,len(fs)):\n",
    "        df=pd.read_table(fs[i],header=None,engine='c')\n",
    "        df=df[df[5]=='CG']\n",
    "        df=df[df[3]+df[4]>100]\n",
    "        df['b']=df[3]/(df[3]+df[4])\n",
    "        bs=[]\n",
    "        for j,r in h[h.ch=='chr7'].head(100).iterrows():\n",
    "            b=df[(df[1]>r['b'])&(df[1]<r['e'])].b.mean()\n",
    "            bs.append(b)\n",
    "        print(np.round(np.mean(np.array(bs)[~np.isnan(bs)]),3),end=',')\n",
    "        dfs.append(bs)\n",
    "    return dfs"
   ]
  },
  {
   "cell_type": "code",
   "execution_count": 62,
   "id": "ffc9ec67-fa15-438c-a371-c72d84fa7ed4",
   "metadata": {},
   "outputs": [
    {
     "data": {
      "text/html": [
       "<div>\n",
       "<style scoped>\n",
       "    .dataframe tbody tr th:only-of-type {\n",
       "        vertical-align: middle;\n",
       "    }\n",
       "\n",
       "    .dataframe tbody tr th {\n",
       "        vertical-align: top;\n",
       "    }\n",
       "\n",
       "    .dataframe thead th {\n",
       "        text-align: right;\n",
       "    }\n",
       "</style>\n",
       "<table border=\"1\" class=\"dataframe\">\n",
       "  <thead>\n",
       "    <tr style=\"text-align: right;\">\n",
       "      <th></th>\n",
       "      <th>ch</th>\n",
       "      <th>b</th>\n",
       "      <th>e</th>\n",
       "      <th>d</th>\n",
       "      <th>r</th>\n",
       "      <th>rd</th>\n",
       "      <th>ez</th>\n",
       "      <th>ezl</th>\n",
       "    </tr>\n",
       "  </thead>\n",
       "  <tbody>\n",
       "    <tr>\n",
       "      <th>34815</th>\n",
       "      <td>chr7</td>\n",
       "      <td>137309054</td>\n",
       "      <td>137315812</td>\n",
       "      <td>6758</td>\n",
       "      <td>{137310208, 137314313, 137310232, 137314328, 1...</td>\n",
       "      <td>475</td>\n",
       "      <td>4.04848</td>\n",
       "      <td>474</td>\n",
       "    </tr>\n",
       "    <tr>\n",
       "      <th>33865</th>\n",
       "      <td>chr7</td>\n",
       "      <td>70357813</td>\n",
       "      <td>70363020</td>\n",
       "      <td>5207</td>\n",
       "      <td>{70359042, 70359048, 70361110, 70361112, 70361...</td>\n",
       "      <td>358</td>\n",
       "      <td>3.63636</td>\n",
       "      <td>358</td>\n",
       "    </tr>\n",
       "    <tr>\n",
       "      <th>34816</th>\n",
       "      <td>chr7</td>\n",
       "      <td>137316064</td>\n",
       "      <td>137323500</td>\n",
       "      <td>7436</td>\n",
       "      <td>{137322504, 137318419, 137322520, 137322525, 1...</td>\n",
       "      <td>357</td>\n",
       "      <td>4.04848</td>\n",
       "      <td>357</td>\n",
       "    </tr>\n",
       "    <tr>\n",
       "      <th>34966</th>\n",
       "      <td>chr7</td>\n",
       "      <td>142657576</td>\n",
       "      <td>142665033</td>\n",
       "      <td>7457</td>\n",
       "      <td>{142659584, 142659588, 142659599, 142659604, 1...</td>\n",
       "      <td>334</td>\n",
       "      <td>3.68484</td>\n",
       "      <td>331</td>\n",
       "    </tr>\n",
       "    <tr>\n",
       "      <th>33356</th>\n",
       "      <td>chr7</td>\n",
       "      <td>36695216</td>\n",
       "      <td>36699133</td>\n",
       "      <td>3917</td>\n",
       "      <td>{36698114, 36698118, 36696072, 36698122, 36696...</td>\n",
       "      <td>312</td>\n",
       "      <td>2.52121</td>\n",
       "      <td>309</td>\n",
       "    </tr>\n",
       "  </tbody>\n",
       "</table>\n",
       "</div>"
      ],
      "text/plain": [
       "         ch          b          e     d  \\\n",
       "34815  chr7  137309054  137315812  6758   \n",
       "33865  chr7   70357813   70363020  5207   \n",
       "34816  chr7  137316064  137323500  7436   \n",
       "34966  chr7  142657576  142665033  7457   \n",
       "33356  chr7   36695216   36699133  3917   \n",
       "\n",
       "                                                       r   rd       ez  ezl  \n",
       "34815  {137310208, 137314313, 137310232, 137314328, 1...  475  4.04848  474  \n",
       "33865  {70359042, 70359048, 70361110, 70361112, 70361...  358  3.63636  358  \n",
       "34816  {137322504, 137318419, 137322520, 137322525, 1...  357  4.04848  357  \n",
       "34966  {142659584, 142659588, 142659599, 142659604, 1...  334  3.68484  331  \n",
       "33356  {36698114, 36698118, 36696072, 36698122, 36696...  312  2.52121  309  "
      ]
     },
     "execution_count": 62,
     "metadata": {},
     "output_type": "execute_result"
    }
   ],
   "source": [
    "h=pd.read_csv('data/h.csv',index_col=0).sort_values('ezl',ascending=False)\n",
    "h[h.ch=='chr7'].head(1)"
   ]
  },
  {
   "cell_type": "code",
   "execution_count": 63,
   "id": "daea2ab4-be1e-4736-a570-e536aa85d187",
   "metadata": {},
   "outputs": [
    {
     "name": "stdout",
     "output_type": "stream",
     "text": [
      "212\n",
      "0.135,0.145,0.139,0.143,0.145,0.141,0.142,0.138,0.14,0.137,0.141,0.142,0.141,0.136,0.143,0.144,0.139,0.141,0.148,0.144,0.136,0.143,0.143,0.148,0.131,0.139,0.139,0.139,0.146,0.143,0.145,0.136,0.144,0.146,0.142,0.137,0.138,0.14,0.136,0.141,0.146,0.144,0.138,0.137,0.139,0.139,0.136,0.136,0.138,0.134,0.138,0.135,0.146,0.141,0.14,0.143,0.137,0.146,0.139,0.142,0.14,0.14,0.137,0.145,0.141,0.146,0.144,0.146,0.143,0.131,0.14,0.142,0.133,0.143,0.143,0.141,0.138,0.134,0.145,0.142,0.149,0.141,0.145,0.142,0.139,0.137,0.143,0.141,0.148,0.143,0.145,0.139,0.142,0.141,0.142,0.139,0.137,0.142,0.136,0.145,0.142,0.137,"
     ]
    },
    {
     "name": "stderr",
     "output_type": "stream",
     "text": [
      "/home/moqri/miniconda3/envs/meth/lib/python3.9/site-packages/numpy/core/fromnumeric.py:3440: RuntimeWarning: Mean of empty slice.\n",
      "  return _methods._mean(a, axis=axis, dtype=dtype,\n",
      "/home/moqri/miniconda3/envs/meth/lib/python3.9/site-packages/numpy/core/_methods.py:189: RuntimeWarning: invalid value encountered in double_scalars\n",
      "  ret = ret.dtype.type(ret / rcount)\n"
     ]
    },
    {
     "name": "stdout",
     "output_type": "stream",
     "text": [
      "nan,0.132,0.142,0.15,0.138,0.144,0.148,0.134,0.138,0.145,0.149,0.149,0.142,0.141,0.149,0.145,0.141,0.137,0.141,0.137,0.135,0.146,0.14,0.139,0.137,0.143,0.14,0.145,0.138,0.144,0.139,0.148,0.144,0.141,0.136,0.14,0.139,0.137,0.144,0.134,nan,0.144,0.137,0.143,0.138,0.142,0.137,0.148,0.14,0.15,0.15,0.147,0.14,nan,0.151,0.142,0.14,0.145,0.145,0.145,0.137,0.142,0.144,0.136,nan,0.14,0.147,0.141,0.141,0.147,0.144,0.145,0.147,0.149,0.148,0.145,0.143,0.142,0.146,0.146,0.141,0.133,0.144,0.136,0.14,0.142,0.136,0.135,0.148,0.129,0.145,0.14,0.14,0.139,0.141,0.145,0.135,0.14,0.143,0.149,0.144,0.145,0.144,0.143,0.144,0.144,0.137,0.142,0.146,"
     ]
    },
    {
     "data": {
      "text/plain": [
       "0.14141303955560802"
      ]
     },
     "execution_count": 63,
     "metadata": {},
     "output_type": "execute_result"
    }
   ],
   "source": [
    "ys=get_meth('l',9)\n",
    "ys=pd.DataFrame(ys).mean(1)\n",
    "ys.mean()"
   ]
  },
  {
   "cell_type": "code",
   "execution_count": 64,
   "id": "8cc53c08-f4cb-4454-8a4f-1e3d4b434e11",
   "metadata": {},
   "outputs": [
    {
     "name": "stdout",
     "output_type": "stream",
     "text": [
      "180\n",
      "0.163,0.17,0.181,0.172,0.167,0.17,0.173,nan,0.151,0.171,0.166,0.153,0.16,0.165,0.138,0.155,0.143,0.165,0.165,0.147,0.143,0.145,0.148,0.169,0.159,0.148,0.169,0.181,0.157,0.151,0.167,0.169,0.161,0.166,0.162,0.152,0.158,0.165,0.158,0.136,0.161,0.143,0.146,0.178,0.166,0.161,0.161,0.167,0.167,0.153,0.164,0.167,0.137,0.164,0.17,0.159,0.156,0.146,0.175,0.152,0.163,0.173,0.177,0.166,0.168,0.15,0.138,0.158,0.15,0.159,0.17,0.172,0.165,nan,0.177,0.143,0.142,0.167,0.153,0.162,0.151,0.167,0.162,0.153,0.157,0.15,0.154,0.182,0.145,0.161,0.171,0.167,0.179,0.17,0.163,0.169,0.189,0.147,0.141,0.163,0.179,0.136,0.144,0.174,0.168,0.155,0.155,0.157,0.152,0.159,nan,0.16,0.134,nan,0.142,0.141,0.173,0.165,0.169,0.163,0.188,0.149,0.172,0.145,0.163,0.197,0.147,0.18,0.17,0.161,0.178,0.156,0.149,0.143,0.175,0.164,0.171,0.18,0.161,0.149,0.174,0.169,0.149,0.161,0.167,0.139,0.153,0.147,0.159,0.159,0.161,0.16,0.159,0.16,0.18,0.163,0.154,0.18,0.162,0.158,0.168,0.138,0.148,0.177,0.163,0.152,0.174,0.166,0.161,0.148,0.155,0.158,0.166,0.164,0.164,0.167,0.149,0.173,0.186,"
     ]
    },
    {
     "data": {
      "text/plain": [
       "0.16079331574891229"
      ]
     },
     "execution_count": 64,
     "metadata": {},
     "output_type": "execute_result"
    }
   ],
   "source": [
    "os=get_meth('l',25)\n",
    "os=pd.DataFrame(os).mean(1)\n",
    "os.mean()"
   ]
  },
  {
   "cell_type": "code",
   "execution_count": 81,
   "id": "3c8fab7c-ec30-493f-be90-21d1b9019999",
   "metadata": {},
   "outputs": [],
   "source": [
    "pl=pd.concat([ys,os],axis=1)\n",
    "pl.to_csv(path+'l/results_ezl.csv')"
   ]
  },
  {
   "cell_type": "code",
   "execution_count": 68,
   "id": "c49ecc5b-d80a-44a2-af37-d7459e4685d4",
   "metadata": {},
   "outputs": [],
   "source": [
    "l=pd.read_csv(path+'l/results_ezl.csv',index_col=0)\n",
    "r=pd.read_csv(path+'r/results.csv',index_col=0)\n",
    "l.columns=['9 Months','25 Months']\n",
    "r.columns=['9 Months','25 Months']"
   ]
  },
  {
   "cell_type": "code",
   "execution_count": 69,
   "id": "e020f0b0-af0a-45cb-a10e-18401af9fadf",
   "metadata": {},
   "outputs": [],
   "source": [
    "l['Tissue']='Liver'\n",
    "r['Tissue']='Lung'"
   ]
  },
  {
   "cell_type": "code",
   "execution_count": 70,
   "id": "11281dd0-ac26-4f31-a47f-cbefd80aafa7",
   "metadata": {},
   "outputs": [],
   "source": [
    "pl=pd.concat([l,r]).melt('Tissue')"
   ]
  },
  {
   "cell_type": "code",
   "execution_count": 71,
   "id": "e13ee403-fa08-4114-96b0-28de2968abc6",
   "metadata": {},
   "outputs": [],
   "source": [
    "pl.columns=['Tissue','Age','DNAm']"
   ]
  },
  {
   "cell_type": "code",
   "execution_count": 80,
   "id": "3b17015e-81cf-40ed-a876-08a30f5572e2",
   "metadata": {},
   "outputs": [
    {
     "data": {
      "text/plain": [
       "[Text(0, 0.5, 'Avergae DNAm'),\n",
       " Text(0.5, 1.0, 'DNAm at EZH2 binding regions (mice chr 7)'),\n",
       " (0.1, 0.2)]"
      ]
     },
     "execution_count": 80,
     "metadata": {},
     "output_type": "execute_result"
    },
    {
     "data": {
      "image/png": "[encoded data removed]",
      "text/plain": [
       "<Figure size 360x216 with 1 Axes>"
      ]
     },
     "metadata": {
      "needs_background": "light"
     },
     "output_type": "display_data"
    }
   ],
   "source": [
    "fig, ax = plt.subplots(figsize=(5,3))\n",
    "sns.barplot(data=pl,x='Tissue',y='DNAm',hue='Age',ax=ax)\n",
    "ax.set(ylabel='Avergae DNAm',title='DNAm at EZH2 binding regions (mice chr 7)',ylim=[0.1,.2])"
   ]
  },
  {
   "cell_type": "code",
   "execution_count": null,
   "id": "9d0eecea-347f-4f8b-83bc-09d7e83307a4",
   "metadata": {},
   "outputs": [],
   "source": []
  }
 ],
 "metadata": {
  "kernelspec": {
   "display_name": "Python 3 (ipykernel)",
   "language": "python",
   "name": "python3"
  },
  "language_info": {
   "codemirror_mode": {
    "name": "ipython",
    "version": 3
   },
   "file_extension": ".py",
   "mimetype": "text/x-python",
   "name": "python",
   "nbconvert_exporter": "python",
   "pygments_lexer": "ipython3",
   "version": "3.9.7"
  }
 },
 "nbformat": 4,
 "nbformat_minor": 5
}
