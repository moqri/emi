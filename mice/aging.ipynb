{
 "cells": [
  {
   "cell_type": "code",
   "execution_count": 1,
   "id": "f9e606d7-eb3f-451d-a730-90c11fca6587",
   "metadata": {},
   "outputs": [],
   "source": [
    "import pandas as pd\n",
    "import glob\n",
    "import numpy as np\n",
    "import seaborn as sns\n",
    "from matplotlib import pyplot as plt\n",
    "import pyBigWig\n",
    "source='data/source/'"
   ]
  },
  {
   "cell_type": "code",
   "execution_count": 2,
   "id": "ffc9ec67-fa15-438c-a371-c72d84fa7ed4",
   "metadata": {},
   "outputs": [
    {
     "name": "stdout",
     "output_type": "stream",
     "text": [
      "(37919, 10)\n"
     ]
    }
   ],
   "source": [
    "h=pd.read_pickle('data/h.pkl')\n",
    "h=h[h['bl']==0]\n",
    "print(h.shape)\n",
    "#h['ez']=h[['ez1','ez2']].min(1)\n",
    "#h=h.sort_values('ez',ascending=False)"
   ]
  },
  {
   "cell_type": "code",
   "execution_count": 3,
   "id": "b8933916-3f51-4422-acfd-2dffebfec929",
   "metadata": {},
   "outputs": [],
   "source": [
    "h['suz']=h.suz/h.suz.max()\n",
    "h['ez1']=h.ez1/h.ez1.max()\n",
    "h['ez2']=h.ez2/h.ez2.max()\n",
    "h['ez']=h[['ez1','ez2']].mean(1)\n",
    "h['prc']=h[['ez','suz']].mean(1)"
   ]
  },
  {
   "cell_type": "code",
   "execution_count": 4,
   "id": "d1c30172-7aab-4f24-90de-08a7c39c5cbe",
   "metadata": {},
   "outputs": [
    {
     "data": {
      "text/plain": [
       "1000"
      ]
     },
     "execution_count": 4,
     "metadata": {},
     "output_type": "execute_result"
    }
   ],
   "source": [
    "hz=h.sort_values('prc',ascending=False).head(1000)\n",
    "#hz=hz[hz.d>3500]\n",
    "len(hz)"
   ]
  },
  {
   "cell_type": "code",
   "execution_count": 29,
   "id": "2d832b99-ac3f-44df-ab8f-f7af3463e016",
   "metadata": {},
   "outputs": [
    {
     "data": {
      "text/html": [
       "<div>\n",
       "<style scoped>\n",
       "    .dataframe tbody tr th:only-of-type {\n",
       "        vertical-align: middle;\n",
       "    }\n",
       "\n",
       "    .dataframe tbody tr th {\n",
       "        vertical-align: top;\n",
       "    }\n",
       "\n",
       "    .dataframe thead th {\n",
       "        text-align: right;\n",
       "    }\n",
       "</style>\n",
       "<table border=\"1\" class=\"dataframe\">\n",
       "  <thead>\n",
       "    <tr style=\"text-align: right;\">\n",
       "      <th></th>\n",
       "      <th>ch</th>\n",
       "      <th>b</th>\n",
       "      <th>e</th>\n",
       "      <th>d</th>\n",
       "      <th>r</th>\n",
       "      <th>rd</th>\n",
       "      <th>suz</th>\n",
       "      <th>ez1</th>\n",
       "      <th>ez2</th>\n",
       "      <th>bl</th>\n",
       "      <th>ez</th>\n",
       "      <th>prc</th>\n",
       "    </tr>\n",
       "  </thead>\n",
       "  <tbody>\n",
       "    <tr>\n",
       "      <th>34815</th>\n",
       "      <td>chr7</td>\n",
       "      <td>137309054</td>\n",
       "      <td>137315812</td>\n",
       "      <td>6758</td>\n",
       "      <td>{137310208, 137314313, 137310232, 137314328, 1...</td>\n",
       "      <td>475</td>\n",
       "      <td>0.714282</td>\n",
       "      <td>0.647287</td>\n",
       "      <td>0.75</td>\n",
       "      <td>0</td>\n",
       "      <td>0.698643</td>\n",
       "      <td>0.706463</td>\n",
       "    </tr>\n",
       "  </tbody>\n",
       "</table>\n",
       "</div>"
      ],
      "text/plain": [
       "         ch          b          e     d  \\\n",
       "34815  chr7  137309054  137315812  6758   \n",
       "\n",
       "                                                       r   rd       suz  \\\n",
       "34815  {137310208, 137314313, 137310232, 137314328, 1...  475  0.714282   \n",
       "\n",
       "            ez1   ez2  bl        ez       prc  \n",
       "34815  0.647287  0.75   0  0.698643  0.706463  "
      ]
     },
     "execution_count": 29,
     "metadata": {},
     "output_type": "execute_result"
    }
   ],
   "source": [
    "hz[hz.ch=='chr7'].head(1)"
   ]
  },
  {
   "cell_type": "code",
   "execution_count": 27,
   "id": "f8925972-f4bf-4efc-b323-ab7cf51ce74f",
   "metadata": {},
   "outputs": [],
   "source": [
    "hg=h.groupby('ch')['r'].apply(list)\n",
    "hg=hg.apply(lambda x:set.union(*x))"
   ]
  },
  {
   "cell_type": "code",
   "execution_count": 29,
   "id": "c0f3a78e-5ea2-43f6-bffc-8c0e16d5436d",
   "metadata": {},
   "outputs": [],
   "source": [
    "fs=glob.glob('data/meth/GSE120137/l/*.txt')\n",
    "def get_meth(fs):\n",
    "    fs.sort()\n",
    "    print(len(fs))\n",
    "    n=7\n",
    "    dfs=[]\n",
    "    for sn in fs:\n",
    "        name=sn.split('SH')[1][:3]\n",
    "        print(name,end=',')\n",
    "        df=pd.read_table(sn,engine='c',sep=' ',header=None,nrows=10**n)\n",
    "        df=df[df[0].isin(hg.index)]\n",
    "        df['hmr']=df.apply(lambda x:x[2]-1 in hg[x[0]],axis=1)\n",
    "        df=df[df['hmr']][[0,2,5]]\n",
    "        df.index=df[0].str[3:5]+'_'+(df[2]-1).astype(str)\n",
    "        #h[name]=h.apply(lambda x: bw.stats(x['ch'],x['b'],x['e'],'mean',exact=True)[0],axis=1)\n",
    "        dfs.append(df[5].rename(name))"
   ]
  },
  {
   "cell_type": "code",
   "execution_count": 54,
   "id": "1be16953-8b44-447f-9d3b-ae529e72b2b8",
   "metadata": {},
   "outputs": [
    {
     "data": {
      "text/plain": [
       "177715"
      ]
     },
     "execution_count": 54,
     "metadata": {},
     "output_type": "execute_result"
    }
   ],
   "source": [
    "hzs=[]\n",
    "for i,rr in hz.iterrows():\n",
    "    for r in list(rr['r']):\n",
    "        hzs.append(rr['ch'][3:5]+'_'+str(r))\n",
    "len(hzs)"
   ]
  },
  {
   "cell_type": "code",
   "execution_count": 14,
   "id": "9db7da1e-2f10-450e-9a3a-35577f71a888",
   "metadata": {},
   "outputs": [],
   "source": [
    "rrbs='https://ftp.ncbi.nlm.nih.gov/geo/series/GSE120nnn/GSE120137/matrix/GSE120137-GPL21103_series_matrix.txt.gz'\n",
    "age=pd.read_table(rrbs,skiprows=31).T\n",
    "age=age.drop('!Sample_title')\n",
    "age['age']=age[10].str[5:].str[:-2].astype(float)\n",
    "age['id']=age.index.str[-3:]\n",
    "ps={}"
   ]
  },
  {
   "cell_type": "code",
   "execution_count": 86,
   "id": "a6cfb560-01ea-4591-b647-0b904283a87f",
   "metadata": {},
   "outputs": [],
   "source": [
    "age['age']=age['age'].astype(int).astype(str)+' months'"
   ]
  },
  {
   "cell_type": "code",
   "execution_count": 76,
   "id": "97d9e207-bbb6-4a13-b516-5985bbf71aef",
   "metadata": {},
   "outputs": [
    {
     "name": "stdout",
     "output_type": "stream",
     "text": [
      ",,,,,,,,,,,,,,,,,,,,,,,,,,,,,,,,,,,,,,,,,,,,,,,,,,,,,,,,,,,,2,3,4,5,6,7,8,9,10,11,12,13,14,15,16,17,18,19,20,21,22,23,24,25,26,27,28,29,30,31,32,33,34,35,36,37,38,39,40,41,42,43,44,45,46,47,48,49,50,51,52,53,54,55,56,57,58,59,,,,,,,,,,,,,,,,,,,,,,,,,,,,,,,,,,,,,,,,,,,,,,,,,,,,,,,,,2,3,4,5,6,7,8,9,10,11,12,13,14,15,16,17,18,19,20,21,22,23,24,25,26,27,28,29,30,31,32,33,34,35,36,37,38,39,40,41,42,43,44,45,46,47,48,49,50,51,52,53,54,55,,,,,,,,,,,,,,,,,,,,,,,,,,,,,,,,,,,,,,,,,,,,,,,,,,,,,,,2,3,4,5,6,7,8,9,10,11,12,13,14,15,16,17,18,19,20,21,22,23,24,25,26,27,28,29,30,31,32,33,34,35,36,37,38,39,40,41,42,43,44,45,46,47,48,49,50,51,52,53,,,,,,,,,,,,,,,,,,,,,,,,,,,,,,,,,,,,,,,,,,,,,,,,,,,,,,,,,,,,,2,3,4,5,6,7,8,9,10,11,12,13,14,15,16,17,18,19,20,21,22,23,24,25,26,27,28,29,30,31,32,33,34,35,36,37,38,39,40,41,42,43,44,45,46,47,48,49,50,51,52,53,54,55,56,57,58,59,,,,,,,,,,,,,,,,,,,,,,,,,,,,,,,,,,,,,,,,,,,,,,,,,,,,,,,,,,2,3,4,5,6,7,8,9,10,11,12,13,14,15,16,17,18,19,20,21,22,23,24,25,26,27,28,29,30,31,32,33,34,35,36,37,38,39,40,41,42,43,44,45,46,47,48,49,50,51,52,53,54,55,56,,,,,,,,,,,,,,,,,,,,,,,,,,,,,,,,,,,,,,,,,,,,,,,,,,,,,,,,,,,,,,,,,,,,,,,,,2,3,4,5,6,7,8,9,10,11,12,13,14,15,16,17,18,19,20,21,22,23,24,25,26,27,28,29,30,31,32,33,34,35,36,37,38,39,40,41,42,43,44,45,46,47,48,49,50,51,52,53,54,55,56,57,58,59,60,61,62,63,64,65,66,67,68,69,70,71,"
     ]
    }
   ],
   "source": [
    "for c in ['m','a','k','l','u','b']:\n",
    "    fs=glob.glob('data/meth/GSE120137/'+c+'/csv/*.csv')\n",
    "    dfs=[]\n",
    "    for f in fs:\n",
    "        print ('',end=',')\n",
    "        df=pd.read_csv(f,index_col=0)\n",
    "        df=df[df.index.isin(hzs)]\n",
    "        dfs.append(df)\n",
    "    df=dfs[0].merge(dfs[1],left_index=True,right_index=True,how='outer')\n",
    "    for i in range(2,len(dfs)):\n",
    "        print(i,end=',')\n",
    "        df=df.merge(dfs[i],left_index=True,right_index=True,how='outer')\n",
    "    df.shape\n",
    "    p=df.mean()\n",
    "    p=p.rename('DNAm')\n",
    "    ps[c]=age[['id','age']].drop_duplicates().merge(p,left_on='id',right_index=True)    "
   ]
  },
  {
   "cell_type": "code",
   "execution_count": 89,
   "id": "8af05a1b-a8d9-4075-af1d-478ff688ddbe",
   "metadata": {},
   "outputs": [],
   "source": [
    "ps['l']['Tissue']='Liver'\n",
    "ps['b']['Tissue']='Blood'\n",
    "ps['b']=ps['b'][ps['b'].age.isin([2,10,20])]"
   ]
  },
  {
   "cell_type": "code",
   "execution_count": 90,
   "id": "dfbc9aef-e5ae-4037-a0c8-da04cd62c3c9",
   "metadata": {},
   "outputs": [],
   "source": [
    "ps['m']['Tissue']='Muscle'\n",
    "ps['a']['Tissue']='Adipose'\n",
    "ps['k']['Tissue']='Kidney'\n",
    "ps['u']['Tissue']='Lung'"
   ]
  },
  {
   "cell_type": "code",
   "execution_count": null,
   "id": "052f46d5-6fed-4e7c-9f89-325605c109ac",
   "metadata": {},
   "outputs": [],
   "source": [
    "fig, ax = plt.subplots(figsize=(5,3))\n",
    "ax=sns.barplot(data=pd.concat(ps),x='Tissue',y='DNAm',hue='age'\n",
    "            ,order=['Adipose','Kidney','Muscle','Lung','Liver','Blood'],palette=['g','orange','r']);\n",
    "ax.set(title='DNAm at PRC2 binding regions (mice)',ylabel='Average DNAm');"
   ]
  },
  {
   "cell_type": "code",
   "execution_count": 228,
   "id": "98d9e3b1-cebe-40e2-9d8e-cc22bca687e6",
   "metadata": {},
   "outputs": [
    {
     "name": "stdout",
     "output_type": "stream",
     "text": [
      "1000\n"
     ]
    }
   ],
   "source": [
    "hz=h.sort_values('prc',ascending=False).head(1000)\n",
    "print(len(hz))"
   ]
  },
  {
   "cell_type": "code",
   "execution_count": 229,
   "id": "669009e0-af2c-4f6e-89c9-70cdce587e18",
   "metadata": {},
   "outputs": [],
   "source": [
    "fs=['SRR44738'+str(i) for i in range(55,71)]"
   ]
  },
  {
   "cell_type": "code",
   "execution_count": 230,
   "id": "9ea90f25-ba52-49a8-a4b1-ffc437a2ac1e",
   "metadata": {},
   "outputs": [
    {
     "name": "stdout",
     "output_type": "stream",
     "text": [
      "SRR4473855,SRR4473856,SRR4473857,SRR4473858,SRR4473859,SRR4473860,SRR4473861,SRR4473862,SRR4473863,SRR4473864,SRR4473865,SRR4473866,SRR4473867,SRR4473868,SRR4473869,SRR4473870,"
     ]
    }
   ],
   "source": [
    "for sn in fs:\n",
    "    print(sn,end=',')\n",
    "    path='data/meth/l/'+sn+'.bw'\n",
    "    bw=pyBigWig.open(path)\n",
    "    hz[sn]=hz.apply(lambda x: bw.stats(x['ch'],x['b'],x['e'],'mean',exact=True)[0],axis=1)"
   ]
  },
  {
   "cell_type": "code",
   "execution_count": 231,
   "id": "834c95a1-2f8a-4c96-97e7-41bb571870c2",
   "metadata": {},
   "outputs": [
    {
     "data": {
      "image/png": "[encoded data removed]",
      "text/plain": [
       "<Figure size 360x216 with 1 Axes>"
      ]
     },
     "metadata": {
      "needs_background": "light"
     },
     "output_type": "display_data"
    }
   ],
   "source": [
    "p=pd.DataFrame(hz[[f for f in fs]].mean())\n",
    "p['Age']=4*['Young']+4*['Old']+4*['Old-Rapa.']+4*['Old-CR']\n",
    "#p.columns=['Average DNAm','Passage']#,'Condition','Individual']\n",
    "fig, ax = plt.subplots(figsize=(5,3))\n",
    "ax=sns.barplot(data=p,x='Age',y=0,palette=['g','r','m','c'])\n",
    "ax.set( ylabel='DNA Methylation',title='DNAm at PRC2 binding regions (mice liver)')\n",
    "ax.tick_params(axis='x', rotation=45)"
   ]
  },
  {
   "cell_type": "code",
   "execution_count": null,
   "id": "ef070cb6-b9d9-4b64-8213-49d0b6b46c55",
   "metadata": {},
   "outputs": [],
   "source": []
  },
  {
   "cell_type": "code",
   "execution_count": null,
   "id": "b4d528bd-abd9-4dec-ba64-75baa7b6c861",
   "metadata": {},
   "outputs": [],
   "source": [
    "df=pd.read_csv('../../aging/mice/data/blood.csv',engine='c',index_col=0)\n",
    "age=pd.read_csv('../../aging/mice/data/blood_age.csv',index_col=0)"
   ]
  },
  {
   "cell_type": "code",
   "execution_count": null,
   "id": "5b3d118e-ed27-4767-bf07-550f61418132",
   "metadata": {},
   "outputs": [
    {
     "name": "stdout",
     "output_type": "stream",
     "text": [
      "(1940728, 195) 195\n"
     ]
    }
   ],
   "source": [
    "print(df.shape,len(age))"
   ]
  },
  {
   "cell_type": "code",
   "execution_count": 96,
   "id": "b3a890e4-eb72-4fe0-aa2f-9bda5ea43847",
   "metadata": {},
   "outputs": [
    {
     "data": {
      "text/plain": [
       "177715"
      ]
     },
     "execution_count": 96,
     "metadata": {},
     "output_type": "execute_result"
    }
   ],
   "source": [
    "hzg=hz.groupby('ch')['r'].apply(list)\n",
    "hzg=hzg.apply(lambda x:set.union(*x)) \n",
    "hzs=[]\n",
    "for i,r in hz.iterrows():\n",
    "    for rr in r['r']:\n",
    "        hzs.append((r['ch'],rr+1))\n",
    "hzs=pd.DataFrame(hzs)     \n",
    "hzs.index=hzs[0].str[3:5]+'_'+(hzs[1]-1).astype(str)\n",
    "len(hzs)"
   ]
  },
  {
   "cell_type": "code",
   "execution_count": 101,
   "id": "5c8123a9-a41b-4db8-8b31-c170723aa15a",
   "metadata": {},
   "outputs": [
    {
     "data": {
      "text/plain": [
       "60901"
      ]
     },
     "execution_count": 101,
     "metadata": {},
     "output_type": "execute_result"
    }
   ],
   "source": [
    "def f(x):\n",
    "    return int(x.name.split('_')[1])-1 in hzg[x.name.split('_')[0]]\n",
    "df.index='chr'+df.index\n",
    "dfhz=df[df.apply(lambda x:f(x),axis=1)]\n",
    "dfhz.columns=dfhz.columns.astype(int)\n",
    "len(dfhz)"
   ]
  },
  {
   "cell_type": "code",
   "execution_count": 116,
   "id": "b19126a1-a89c-4639-bc29-634436347c79",
   "metadata": {},
   "outputs": [
    {
     "data": {
      "text/html": [
       "<div>\n",
       "<style scoped>\n",
       "    .dataframe tbody tr th:only-of-type {\n",
       "        vertical-align: middle;\n",
       "    }\n",
       "\n",
       "    .dataframe tbody tr th {\n",
       "        vertical-align: top;\n",
       "    }\n",
       "\n",
       "    .dataframe thead th {\n",
       "        text-align: right;\n",
       "    }\n",
       "</style>\n",
       "<table border=\"1\" class=\"dataframe\">\n",
       "  <thead>\n",
       "    <tr style=\"text-align: right;\">\n",
       "      <th></th>\n",
       "      <th></th>\n",
       "      <th>Age (months)</th>\n",
       "      <th>Avergae DNAm</th>\n",
       "    </tr>\n",
       "  </thead>\n",
       "  <tbody>\n",
       "    <tr>\n",
       "      <th>2132712</th>\n",
       "      <td>diet: standard</td>\n",
       "      <td>0.67</td>\n",
       "      <td>4.543045</td>\n",
       "    </tr>\n",
       "  </tbody>\n",
       "</table>\n",
       "</div>"
      ],
      "text/plain": [
       "                         Age (months)  Avergae DNAm\n",
       "2132712  diet: standard          0.67      4.543045"
      ]
     },
     "execution_count": 116,
     "metadata": {},
     "output_type": "execute_result"
    }
   ],
   "source": [
    "age=age.merge(dfhz.mean().rename('m'),left_index=True,right_index=True)\n",
    "age.columns=['','Age (months)','Avergae DNAm']\n",
    "age.head(1)"
   ]
  },
  {
   "cell_type": "code",
   "execution_count": 121,
   "id": "0072da1c-8ab4-47bb-8e3e-c33c0589834d",
   "metadata": {},
   "outputs": [
    {
     "data": {
      "image/png": "[encoded data removed]",
      "text/plain": [
       "<Figure size 360x216 with 1 Axes>"
      ]
     },
     "metadata": {
      "needs_background": "light"
     },
     "output_type": "display_data"
    }
   ],
   "source": [
    "fig, ax = plt.subplots(figsize=(5,3))\n",
    "ax=sns.lineplot(data=age,x='Age (months)',y='Avergae DNAm',hue='',err_style='bars')\n",
    "ax.set(title='DNAm at PRC2 binding regions (mice blood)');"
   ]
  },
  {
   "cell_type": "code",
   "execution_count": 126,
   "id": "70f7770d-850c-45bb-8513-c6663c835239",
   "metadata": {},
   "outputs": [],
   "source": [
    "hz[['ch','b','e']].to_csv('data/h10.bed',header=None,index=None,sep='\\t')"
   ]
  },
  {
   "cell_type": "code",
   "execution_count": 6,
   "id": "f155a257-612c-41a6-93bf-27762be4df7b",
   "metadata": {},
   "outputs": [
    {
     "data": {
      "text/html": [
       "<div>\n",
       "<style scoped>\n",
       "    .dataframe tbody tr th:only-of-type {\n",
       "        vertical-align: middle;\n",
       "    }\n",
       "\n",
       "    .dataframe tbody tr th {\n",
       "        vertical-align: top;\n",
       "    }\n",
       "\n",
       "    .dataframe thead th {\n",
       "        text-align: right;\n",
       "    }\n",
       "</style>\n",
       "<table border=\"1\" class=\"dataframe\">\n",
       "  <thead>\n",
       "    <tr style=\"text-align: right;\">\n",
       "      <th></th>\n",
       "      <th>0</th>\n",
       "      <th>1</th>\n",
       "      <th>2</th>\n",
       "    </tr>\n",
       "  </thead>\n",
       "  <tbody>\n",
       "    <tr>\n",
       "      <th>0</th>\n",
       "      <td>chr8</td>\n",
       "      <td>87307571</td>\n",
       "      <td>87310845</td>\n",
       "    </tr>\n",
       "  </tbody>\n",
       "</table>\n",
       "</div>"
      ],
      "text/plain": [
       "      0         1         2\n",
       "0  chr8  87307571  87310845"
      ]
     },
     "execution_count": 6,
     "metadata": {},
     "output_type": "execute_result"
    }
   ],
   "source": [
    "h9=pd.read_table('data/h9.bed',header=None)\n",
    "h9.head(1)"
   ]
  },
  {
   "cell_type": "code",
   "execution_count": 36,
   "id": "f060d5b9-a3e5-47a0-b189-56085db9a6cc",
   "metadata": {},
   "outputs": [
    {
     "name": "stdout",
     "output_type": "stream",
     "text": [
      "GSM2839854_MEF,GSM2839855_d3_ineff,GSM2839856_d3_eff,GSM2839857_d6_ineff,GSM2839858_d6_eff,GSM1027571_DNA_CpG_coverage_E14_serum_LIF,"
     ]
    }
   ],
   "source": [
    "fs=['GSM2839854_MEF','GSM2839855_d3_ineff','GSM2839856_d3_eff','GSM2839857_d6_ineff','GSM2839858_d6_eff','GSM1027571_DNA_CpG_coverage_E14_serum_LIF']\n",
    "for sn in fs:\n",
    "    print(sn,end=',')\n",
    "    path='data/meth/rep/'+sn+'.bw'\n",
    "    bw=pyBigWig.open(path)\n",
    "    h9[sn]=h9.apply(lambda x: bw.stats(x[0],x[1],x[2],'mean',exact=True)[0],axis=1)\n",
    "for sn in fs:\n",
    "    h9[sn]=h9[sn]/1000    "
   ]
  },
  {
   "cell_type": "code",
   "execution_count": 56,
   "id": "fbe6a6d1-9943-4683-bd86-57f004f878e2",
   "metadata": {},
   "outputs": [],
   "source": [
    "h9=h9[[0]+fs]"
   ]
  },
  {
   "cell_type": "code",
   "execution_count": 62,
   "id": "b77c191f-24d5-473c-aaa5-80a8663a52a1",
   "metadata": {},
   "outputs": [],
   "source": [
    "h9.columns=[0]+[c[11:] for c in h9.columns[1:]]"
   ]
  },
  {
   "cell_type": "code",
   "execution_count": 73,
   "id": "5606876f-253d-4269-b0ee-723b1d25e584",
   "metadata": {},
   "outputs": [],
   "source": [
    "h9=h9.rename({'DNA_CpG_coverage_E14_serum_LIF':'ESC'},axis=1)"
   ]
  },
  {
   "cell_type": "code",
   "execution_count": 104,
   "id": "0a63fc5b-6d10-46bc-ad89-60a8b683c5b8",
   "metadata": {},
   "outputs": [],
   "source": [
    "pl=h9.melt(0)"
   ]
  },
  {
   "cell_type": "code",
   "execution_count": 105,
   "id": "9bc776f5-774c-437f-912c-4e1b0fc9d356",
   "metadata": {},
   "outputs": [],
   "source": [
    "pl['chn']=pl[0].str[3:].astype(int)\n",
    "pl=pl.sort_values('chn').drop('chn',axis=1)"
   ]
  },
  {
   "cell_type": "code",
   "execution_count": 108,
   "id": "9f97bc43-6876-42cc-a7d7-11f05a3d9234",
   "metadata": {},
   "outputs": [
    {
     "data": {
      "image/png": "[encoded data removed]",
      "text/plain": [
       "<Figure size 864x216 with 1 Axes>"
      ]
     },
     "metadata": {
      "needs_background": "light"
     },
     "output_type": "display_data"
    }
   ],
   "source": [
    "fig, ax = plt.subplots(figsize=(12,3))\n",
    "ax=sns.barplot(data=pl,x=0,hue='variable',y='value',ci=0,hue_order=h9.columns[1:]);\n",
    "ax.set(xlabel='',ylabel='Average DNAm');"
   ]
  },
  {
   "cell_type": "code",
   "execution_count": 99,
   "id": "11e0ace7-4314-4ae1-8c6d-b55dcfda8f71",
   "metadata": {},
   "outputs": [],
   "source": [
    "pl=h9"
   ]
  },
  {
   "cell_type": "code",
   "execution_count": 100,
   "id": "699715b4-225b-4553-86a3-137ffc615fed",
   "metadata": {},
   "outputs": [
    {
     "data": {
      "text/html": [
       "<div>\n",
       "<style scoped>\n",
       "    .dataframe tbody tr th:only-of-type {\n",
       "        vertical-align: middle;\n",
       "    }\n",
       "\n",
       "    .dataframe tbody tr th {\n",
       "        vertical-align: top;\n",
       "    }\n",
       "\n",
       "    .dataframe thead th {\n",
       "        text-align: right;\n",
       "    }\n",
       "</style>\n",
       "<table border=\"1\" class=\"dataframe\">\n",
       "  <thead>\n",
       "    <tr style=\"text-align: right;\">\n",
       "      <th></th>\n",
       "      <th>variable</th>\n",
       "      <th>value</th>\n",
       "    </tr>\n",
       "  </thead>\n",
       "  <tbody>\n",
       "    <tr>\n",
       "      <th>0</th>\n",
       "      <td>0</td>\n",
       "      <td>chr8</td>\n",
       "    </tr>\n",
       "  </tbody>\n",
       "</table>\n",
       "</div>"
      ],
      "text/plain": [
       "  variable value\n",
       "0        0  chr8"
      ]
     },
     "execution_count": 100,
     "metadata": {},
     "output_type": "execute_result"
    }
   ],
   "source": [
    "pl.melt().head(1)"
   ]
  },
  {
   "cell_type": "code",
   "execution_count": 102,
   "id": "366881ff-80f9-45de-9fe7-fe133fe22dda",
   "metadata": {},
   "outputs": [
    {
     "name": "stderr",
     "output_type": "stream",
     "text": [
      "/local/scratch/moqri/slrmtmp.30994955/ipykernel_16449/1044725566.py:2: FutureWarning: Dropping of nuisance columns in DataFrame reductions (with 'numeric_only=None') is deprecated; in a future version this will raise TypeError.  Select only valid columns before calling the reduction.\n",
      "  h9.mean().plot(kind='bar',ax=ax)\n"
     ]
    },
    {
     "data": {
      "image/png": "[encoded data removed]",
      "text/plain": [
       "<Figure size 216x216 with 1 Axes>"
      ]
     },
     "metadata": {
      "needs_background": "light"
     },
     "output_type": "display_data"
    }
   ],
   "source": [
    "fig, ax = plt.subplots(figsize=(3,3))\n",
    "h9.mean().plot(kind='bar',ax=ax)\n",
    "ax.set(xlabel='',ylabel='Average DNAm');"
   ]
  },
  {
   "cell_type": "code",
   "execution_count": 5,
   "id": "bfb767a3-7278-48d6-8f66-a1c7e227acfc",
   "metadata": {},
   "outputs": [
    {
     "name": "stdout",
     "output_type": "stream",
     "text": [
      "GSM2794005,GSM2794006,GSM2794007,GSM2794008,GSM2794009,GSM2794010,GSM2794011,GSM2794012,GSM2794013,GSM2794014,"
     ]
    }
   ],
   "source": [
    "fs=['GSM2794005','GSM2794006','GSM2794007','GSM2794008','GSM2794009','GSM2794010','GSM2794011','GSM2794012','GSM2794013','GSM2794014']\n",
    "for sn in fs:\n",
    "    print(sn,end=',')\n",
    "    path='data/meth/drep/'+sn+'.bw'\n",
    "    bw=pyBigWig.open(path)\n",
    "    hz[sn]=hz.apply(lambda x: bw.stats(x[0],x[1],x[2],'mean',exact=True)[0],axis=1)"
   ]
  },
  {
   "cell_type": "code",
   "execution_count": 25,
   "id": "371e2334-43c3-4d67-9c3a-1c9b987cd964",
   "metadata": {},
   "outputs": [
    {
     "name": "stderr",
     "output_type": "stream",
     "text": [
      "/local/scratch/moqri/slrmtmp.30999017/ipykernel_43140/3996466729.py:4: FutureWarning: Dropping of nuisance columns in DataFrame reductions (with 'numeric_only=None') is deprecated; in a future version this will raise TypeError.  Select only valid columns before calling the reduction.\n",
      "  ax=pl.mean().plot(kind='bar')\n"
     ]
    },
    {
     "data": {
      "image/png": "[encoded data removed]",
      "text/plain": [
       "<Figure size 216x216 with 1 Axes>"
      ]
     },
     "metadata": {
      "needs_background": "light"
     },
     "output_type": "display_data"
    }
   ],
   "source": [
    "fig, ax = plt.subplots(figsize=(3,3))\n",
    "pl=hz[['ch']+fs]\n",
    "pl.columns=['ch','MEF']+['Day'+str(c) for c in list(range(1,9))]+['iPSc']\n",
    "ax=pl.mean().plot(kind='bar')\n",
    "ax.tick_params(axis='x', rotation=45)\n",
    "ax.set(xlabel='',ylabel='Average DNAm');"
   ]
  },
  {
   "cell_type": "code",
   "execution_count": 27,
   "id": "0d13550c-2f2e-4b05-8a29-5e88fa44bb05",
   "metadata": {},
   "outputs": [],
   "source": [
    "pl=pl.melt('ch')"
   ]
  },
  {
   "cell_type": "code",
   "execution_count": 28,
   "id": "89db302a-141b-4524-86ef-f783b1f9d17f",
   "metadata": {},
   "outputs": [
    {
     "data": {
      "text/html": [
       "<div>\n",
       "<style scoped>\n",
       "    .dataframe tbody tr th:only-of-type {\n",
       "        vertical-align: middle;\n",
       "    }\n",
       "\n",
       "    .dataframe tbody tr th {\n",
       "        vertical-align: top;\n",
       "    }\n",
       "\n",
       "    .dataframe thead th {\n",
       "        text-align: right;\n",
       "    }\n",
       "</style>\n",
       "<table border=\"1\" class=\"dataframe\">\n",
       "  <thead>\n",
       "    <tr style=\"text-align: right;\">\n",
       "      <th></th>\n",
       "      <th>ch</th>\n",
       "      <th>variable</th>\n",
       "      <th>value</th>\n",
       "    </tr>\n",
       "  </thead>\n",
       "  <tbody>\n",
       "    <tr>\n",
       "      <th>0</th>\n",
       "      <td>chr8</td>\n",
       "      <td>MEF</td>\n",
       "      <td>0.252289</td>\n",
       "    </tr>\n",
       "  </tbody>\n",
       "</table>\n",
       "</div>"
      ],
      "text/plain": [
       "     ch variable     value\n",
       "0  chr8      MEF  0.252289"
      ]
     },
     "execution_count": 28,
     "metadata": {},
     "output_type": "execute_result"
    }
   ],
   "source": [
    "pl.head(1)"
   ]
  },
  {
   "cell_type": "code",
   "execution_count": 30,
   "id": "ea63f7d9-724a-42f2-a2cf-772d38ba4183",
   "metadata": {},
   "outputs": [
    {
     "data": {
      "image/png": "[encoded data removed]",
      "text/plain": [
       "<Figure size 720x216 with 1 Axes>"
      ]
     },
     "metadata": {
      "needs_background": "light"
     },
     "output_type": "display_data"
    }
   ],
   "source": [
    "fig, ax = plt.subplots(figsize=(10,3))\n",
    "ax=sns.barplot(data=pl,x='ch',hue='variable',y='value',ci=0);\n",
    "ax.set(xlabel='',ylabel='Average DNAm');\n",
    "ax.tick_params(axis='x', rotation=45)"
   ]
  },
  {
   "cell_type": "code",
   "execution_count": null,
   "id": "db05ba02-bb58-47b3-8928-85dfe03069d8",
   "metadata": {},
   "outputs": [],
   "source": []
  }
 ],
 "metadata": {
  "kernelspec": {
   "display_name": "Python 3 (ipykernel)",
   "language": "python",
   "name": "python3"
  },
  "language_info": {
   "codemirror_mode": {
    "name": "ipython",
    "version": 3
   },
   "file_extension": ".py",
   "mimetype": "text/x-python",
   "name": "python",
   "nbconvert_exporter": "python",
   "pygments_lexer": "ipython3",
   "version": "3.9.7"
  }
 },
 "nbformat": 4,
 "nbformat_minor": 5
}
