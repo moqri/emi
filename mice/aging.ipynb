{
 "cells": [
  {
   "cell_type": "code",
   "execution_count": 98,
   "id": "f9e606d7-eb3f-451d-a730-90c11fca6587",
   "metadata": {},
   "outputs": [],
   "source": [
    "import pandas as pd\n",
    "import glob\n",
    "import numpy as np\n",
    "import seaborn as sns\n",
    "from matplotlib import pyplot as plt\n",
    "import pyBigWig\n",
    "source='data/source/'"
   ]
  },
  {
   "cell_type": "code",
   "execution_count": 3,
   "id": "ffc9ec67-fa15-438c-a371-c72d84fa7ed4",
   "metadata": {},
   "outputs": [
    {
     "name": "stdout",
     "output_type": "stream",
     "text": [
      "(37919, 10)\n"
     ]
    },
    {
     "data": {
      "text/html": [
       "<div>\n",
       "<style scoped>\n",
       "    .dataframe tbody tr th:only-of-type {\n",
       "        vertical-align: middle;\n",
       "    }\n",
       "\n",
       "    .dataframe tbody tr th {\n",
       "        vertical-align: top;\n",
       "    }\n",
       "\n",
       "    .dataframe thead th {\n",
       "        text-align: right;\n",
       "    }\n",
       "</style>\n",
       "<table border=\"1\" class=\"dataframe\">\n",
       "  <thead>\n",
       "    <tr style=\"text-align: right;\">\n",
       "      <th></th>\n",
       "      <th>ch</th>\n",
       "      <th>b</th>\n",
       "      <th>e</th>\n",
       "      <th>d</th>\n",
       "      <th>r</th>\n",
       "      <th>rd</th>\n",
       "      <th>suz</th>\n",
       "      <th>ez1</th>\n",
       "      <th>ez2</th>\n",
       "      <th>bl</th>\n",
       "    </tr>\n",
       "  </thead>\n",
       "  <tbody>\n",
       "    <tr>\n",
       "      <th>14548</th>\n",
       "      <td>chr16</td>\n",
       "      <td>35540198</td>\n",
       "      <td>35543133</td>\n",
       "      <td>2935</td>\n",
       "      <td>{35542016, 35542020, 35542534, 35542023, 35541...</td>\n",
       "      <td>170</td>\n",
       "      <td>1.57904</td>\n",
       "      <td>4.26666</td>\n",
       "      <td>4.78787</td>\n",
       "      <td>0</td>\n",
       "    </tr>\n",
       "    <tr>\n",
       "      <th>5901</th>\n",
       "      <td>chr11</td>\n",
       "      <td>82930138</td>\n",
       "      <td>82933554</td>\n",
       "      <td>3416</td>\n",
       "      <td>{82931712, 82931720, 82931724, 82931729, 82931...</td>\n",
       "      <td>487</td>\n",
       "      <td>1.49445</td>\n",
       "      <td>3.61212</td>\n",
       "      <td>4.20912</td>\n",
       "      <td>0</td>\n",
       "    </tr>\n",
       "    <tr>\n",
       "      <th>21369</th>\n",
       "      <td>chr2</td>\n",
       "      <td>118702071</td>\n",
       "      <td>118704629</td>\n",
       "      <td>2558</td>\n",
       "      <td>{118703616, 118704131, 118702596, 118704133, 1...</td>\n",
       "      <td>204</td>\n",
       "      <td>1.43805</td>\n",
       "      <td>4.04848</td>\n",
       "      <td>4.65634</td>\n",
       "      <td>0</td>\n",
       "    </tr>\n",
       "    <tr>\n",
       "      <th>21150</th>\n",
       "      <td>chr2</td>\n",
       "      <td>93641813</td>\n",
       "      <td>93643793</td>\n",
       "      <td>1980</td>\n",
       "      <td>{93642752, 93643272, 93643792, 93643287, 93642...</td>\n",
       "      <td>140</td>\n",
       "      <td>1.43805</td>\n",
       "      <td>4.00000</td>\n",
       "      <td>4.41958</td>\n",
       "      <td>0</td>\n",
       "    </tr>\n",
       "    <tr>\n",
       "      <th>6413</th>\n",
       "      <td>chr11</td>\n",
       "      <td>98326745</td>\n",
       "      <td>98329952</td>\n",
       "      <td>3207</td>\n",
       "      <td>{98327552, 98329602, 98329604, 98327044, 98328...</td>\n",
       "      <td>246</td>\n",
       "      <td>1.40985</td>\n",
       "      <td>4.65454</td>\n",
       "      <td>5.76123</td>\n",
       "      <td>0</td>\n",
       "    </tr>\n",
       "    <tr>\n",
       "      <th>22806</th>\n",
       "      <td>chr2</td>\n",
       "      <td>181670295</td>\n",
       "      <td>181672137</td>\n",
       "      <td>1842</td>\n",
       "      <td>{181670912, 181671425, 181670914, 181670408, 1...</td>\n",
       "      <td>153</td>\n",
       "      <td>1.40985</td>\n",
       "      <td>3.70909</td>\n",
       "      <td>3.78821</td>\n",
       "      <td>0</td>\n",
       "    </tr>\n",
       "    <tr>\n",
       "      <th>26257</th>\n",
       "      <td>chr4</td>\n",
       "      <td>124656447</td>\n",
       "      <td>124660196</td>\n",
       "      <td>3749</td>\n",
       "      <td>{124657668, 124657671, 124657674, 124657677, 1...</td>\n",
       "      <td>376</td>\n",
       "      <td>1.38166</td>\n",
       "      <td>3.27272</td>\n",
       "      <td>3.63037</td>\n",
       "      <td>0</td>\n",
       "    </tr>\n",
       "    <tr>\n",
       "      <th>28166</th>\n",
       "      <td>chr5</td>\n",
       "      <td>33721373</td>\n",
       "      <td>33724201</td>\n",
       "      <td>2828</td>\n",
       "      <td>{33722369, 33723907, 33722371, 33723397, 33723...</td>\n",
       "      <td>227</td>\n",
       "      <td>1.35346</td>\n",
       "      <td>3.24848</td>\n",
       "      <td>4.47219</td>\n",
       "      <td>0</td>\n",
       "    </tr>\n",
       "    <tr>\n",
       "      <th>10824</th>\n",
       "      <td>chr14</td>\n",
       "      <td>21982490</td>\n",
       "      <td>21992024</td>\n",
       "      <td>9534</td>\n",
       "      <td>{21989385, 21983241, 21991433, 21983246, 21987...</td>\n",
       "      <td>514</td>\n",
       "      <td>1.32526</td>\n",
       "      <td>3.63636</td>\n",
       "      <td>4.31435</td>\n",
       "      <td>0</td>\n",
       "    </tr>\n",
       "    <tr>\n",
       "      <th>37937</th>\n",
       "      <td>chr9</td>\n",
       "      <td>63135302</td>\n",
       "      <td>63150517</td>\n",
       "      <td>15215</td>\n",
       "      <td>{63148032, 63141894, 63150086, 63143942, 63145...</td>\n",
       "      <td>707</td>\n",
       "      <td>1.32526</td>\n",
       "      <td>4.02424</td>\n",
       "      <td>4.81418</td>\n",
       "      <td>0</td>\n",
       "    </tr>\n",
       "  </tbody>\n",
       "</table>\n",
       "</div>"
      ],
      "text/plain": [
       "          ch          b          e      d  \\\n",
       "14548  chr16   35540198   35543133   2935   \n",
       "5901   chr11   82930138   82933554   3416   \n",
       "21369   chr2  118702071  118704629   2558   \n",
       "21150   chr2   93641813   93643793   1980   \n",
       "6413   chr11   98326745   98329952   3207   \n",
       "22806   chr2  181670295  181672137   1842   \n",
       "26257   chr4  124656447  124660196   3749   \n",
       "28166   chr5   33721373   33724201   2828   \n",
       "10824  chr14   21982490   21992024   9534   \n",
       "37937   chr9   63135302   63150517  15215   \n",
       "\n",
       "                                                       r   rd      suz  \\\n",
       "14548  {35542016, 35542020, 35542534, 35542023, 35541...  170  1.57904   \n",
       "5901   {82931712, 82931720, 82931724, 82931729, 82931...  487  1.49445   \n",
       "21369  {118703616, 118704131, 118702596, 118704133, 1...  204  1.43805   \n",
       "21150  {93642752, 93643272, 93643792, 93643287, 93642...  140  1.43805   \n",
       "6413   {98327552, 98329602, 98329604, 98327044, 98328...  246  1.40985   \n",
       "22806  {181670912, 181671425, 181670914, 181670408, 1...  153  1.40985   \n",
       "26257  {124657668, 124657671, 124657674, 124657677, 1...  376  1.38166   \n",
       "28166  {33722369, 33723907, 33722371, 33723397, 33723...  227  1.35346   \n",
       "10824  {21989385, 21983241, 21991433, 21983246, 21987...  514  1.32526   \n",
       "37937  {63148032, 63141894, 63150086, 63143942, 63145...  707  1.32526   \n",
       "\n",
       "           ez1      ez2  bl  \n",
       "14548  4.26666  4.78787   0  \n",
       "5901   3.61212  4.20912   0  \n",
       "21369  4.04848  4.65634   0  \n",
       "21150  4.00000  4.41958   0  \n",
       "6413   4.65454  5.76123   0  \n",
       "22806  3.70909  3.78821   0  \n",
       "26257  3.27272  3.63037   0  \n",
       "28166  3.24848  4.47219   0  \n",
       "10824  3.63636  4.31435   0  \n",
       "37937  4.02424  4.81418   0  "
      ]
     },
     "execution_count": 3,
     "metadata": {},
     "output_type": "execute_result"
    }
   ],
   "source": [
    "h=pd.read_pickle('data/h.pkl')\n",
    "h=h[h['bl']==0]\n",
    "print(h.shape)\n",
    "#h['ez']=h[['ez1','ez2']].min(1)\n",
    "#h=h.sort_values('ez',ascending=False)\n",
    "h.head(10)"
   ]
  },
  {
   "cell_type": "code",
   "execution_count": 7,
   "id": "b8933916-3f51-4422-acfd-2dffebfec929",
   "metadata": {},
   "outputs": [],
   "source": [
    "h['suz']=h.suz/h.suz.max()\n",
    "h['ez1']=h.ez1/h.ez1.max()\n",
    "h['ez2']=h.ez2/h.ez2.max()\n",
    "h['ez']=h[['ez1','ez2']].mean(1)\n",
    "h['prc']=h[['ez','suz']].mean(1)"
   ]
  },
  {
   "cell_type": "code",
   "execution_count": 32,
   "id": "d1c30172-7aab-4f24-90de-08a7c39c5cbe",
   "metadata": {},
   "outputs": [
    {
     "data": {
      "text/plain": [
       "1000"
      ]
     },
     "execution_count": 32,
     "metadata": {},
     "output_type": "execute_result"
    }
   ],
   "source": [
    "hz=h.sort_values('prc',ascending=False).head(1000)\n",
    "#hz=hz[hz.d>3500]\n",
    "len(hz)"
   ]
  },
  {
   "cell_type": "code",
   "execution_count": 29,
   "id": "2d832b99-ac3f-44df-ab8f-f7af3463e016",
   "metadata": {},
   "outputs": [
    {
     "data": {
      "text/html": [
       "<div>\n",
       "<style scoped>\n",
       "    .dataframe tbody tr th:only-of-type {\n",
       "        vertical-align: middle;\n",
       "    }\n",
       "\n",
       "    .dataframe tbody tr th {\n",
       "        vertical-align: top;\n",
       "    }\n",
       "\n",
       "    .dataframe thead th {\n",
       "        text-align: right;\n",
       "    }\n",
       "</style>\n",
       "<table border=\"1\" class=\"dataframe\">\n",
       "  <thead>\n",
       "    <tr style=\"text-align: right;\">\n",
       "      <th></th>\n",
       "      <th>ch</th>\n",
       "      <th>b</th>\n",
       "      <th>e</th>\n",
       "      <th>d</th>\n",
       "      <th>r</th>\n",
       "      <th>rd</th>\n",
       "      <th>suz</th>\n",
       "      <th>ez1</th>\n",
       "      <th>ez2</th>\n",
       "      <th>bl</th>\n",
       "      <th>ez</th>\n",
       "      <th>prc</th>\n",
       "    </tr>\n",
       "  </thead>\n",
       "  <tbody>\n",
       "    <tr>\n",
       "      <th>34815</th>\n",
       "      <td>chr7</td>\n",
       "      <td>137309054</td>\n",
       "      <td>137315812</td>\n",
       "      <td>6758</td>\n",
       "      <td>{137310208, 137314313, 137310232, 137314328, 1...</td>\n",
       "      <td>475</td>\n",
       "      <td>0.714282</td>\n",
       "      <td>0.647287</td>\n",
       "      <td>0.75</td>\n",
       "      <td>0</td>\n",
       "      <td>0.698643</td>\n",
       "      <td>0.706463</td>\n",
       "    </tr>\n",
       "  </tbody>\n",
       "</table>\n",
       "</div>"
      ],
      "text/plain": [
       "         ch          b          e     d  \\\n",
       "34815  chr7  137309054  137315812  6758   \n",
       "\n",
       "                                                       r   rd       suz  \\\n",
       "34815  {137310208, 137314313, 137310232, 137314328, 1...  475  0.714282   \n",
       "\n",
       "            ez1   ez2  bl        ez       prc  \n",
       "34815  0.647287  0.75   0  0.698643  0.706463  "
      ]
     },
     "execution_count": 29,
     "metadata": {},
     "output_type": "execute_result"
    }
   ],
   "source": [
    "hz[hz.ch=='chr7'].head(1)"
   ]
  },
  {
   "cell_type": "code",
   "execution_count": 27,
   "id": "f8925972-f4bf-4efc-b323-ab7cf51ce74f",
   "metadata": {},
   "outputs": [],
   "source": [
    "hg=h.groupby('ch')['r'].apply(list)\n",
    "hg=hg.apply(lambda x:set.union(*x))"
   ]
  },
  {
   "cell_type": "code",
   "execution_count": 29,
   "id": "c0f3a78e-5ea2-43f6-bffc-8c0e16d5436d",
   "metadata": {},
   "outputs": [],
   "source": [
    "fs=glob.glob('data/meth/GSE120137/l/*.txt')\n",
    "def get_meth(fs):\n",
    "    fs.sort()\n",
    "    print(len(fs))\n",
    "    n=7\n",
    "    dfs=[]\n",
    "    for sn in fs:\n",
    "        name=sn.split('SH')[1][:3]\n",
    "        print(name,end=',')\n",
    "        df=pd.read_table(sn,engine='c',sep=' ',header=None,nrows=10**n)\n",
    "        df=df[df[0].isin(hg.index)]\n",
    "        df['hmr']=df.apply(lambda x:x[2]-1 in hg[x[0]],axis=1)\n",
    "        df=df[df['hmr']][[0,2,5]]\n",
    "        df.index=df[0].str[3:5]+'_'+(df[2]-1).astype(str)\n",
    "        #h[name]=h.apply(lambda x: bw.stats(x['ch'],x['b'],x['e'],'mean',exact=True)[0],axis=1)\n",
    "        dfs.append(df[5].rename(name))"
   ]
  },
  {
   "cell_type": "code",
   "execution_count": 54,
   "id": "1be16953-8b44-447f-9d3b-ae529e72b2b8",
   "metadata": {},
   "outputs": [
    {
     "data": {
      "text/plain": [
       "177715"
      ]
     },
     "execution_count": 54,
     "metadata": {},
     "output_type": "execute_result"
    }
   ],
   "source": [
    "hzs=[]\n",
    "for i,rr in hz.iterrows():\n",
    "    for r in list(rr['r']):\n",
    "        hzs.append(rr['ch'][3:5]+'_'+str(r))\n",
    "len(hzs)"
   ]
  },
  {
   "cell_type": "code",
   "execution_count": 14,
   "id": "9db7da1e-2f10-450e-9a3a-35577f71a888",
   "metadata": {},
   "outputs": [],
   "source": [
    "rrbs='https://ftp.ncbi.nlm.nih.gov/geo/series/GSE120nnn/GSE120137/matrix/GSE120137-GPL21103_series_matrix.txt.gz'\n",
    "age=pd.read_table(rrbs,skiprows=31).T\n",
    "age=age.drop('!Sample_title')\n",
    "age['age']=age[10].str[5:].str[:-2].astype(float)\n",
    "age['id']=age.index.str[-3:]\n",
    "ps={}"
   ]
  },
  {
   "cell_type": "code",
   "execution_count": 86,
   "id": "a6cfb560-01ea-4591-b647-0b904283a87f",
   "metadata": {},
   "outputs": [],
   "source": [
    "age['age']=age['age'].astype(int).astype(str)+' months'"
   ]
  },
  {
   "cell_type": "code",
   "execution_count": 76,
   "id": "97d9e207-bbb6-4a13-b516-5985bbf71aef",
   "metadata": {},
   "outputs": [
    {
     "name": "stdout",
     "output_type": "stream",
     "text": [
      ",,,,,,,,,,,,,,,,,,,,,,,,,,,,,,,,,,,,,,,,,,,,,,,,,,,,,,,,,,,,2,3,4,5,6,7,8,9,10,11,12,13,14,15,16,17,18,19,20,21,22,23,24,25,26,27,28,29,30,31,32,33,34,35,36,37,38,39,40,41,42,43,44,45,46,47,48,49,50,51,52,53,54,55,56,57,58,59,,,,,,,,,,,,,,,,,,,,,,,,,,,,,,,,,,,,,,,,,,,,,,,,,,,,,,,,,2,3,4,5,6,7,8,9,10,11,12,13,14,15,16,17,18,19,20,21,22,23,24,25,26,27,28,29,30,31,32,33,34,35,36,37,38,39,40,41,42,43,44,45,46,47,48,49,50,51,52,53,54,55,,,,,,,,,,,,,,,,,,,,,,,,,,,,,,,,,,,,,,,,,,,,,,,,,,,,,,,2,3,4,5,6,7,8,9,10,11,12,13,14,15,16,17,18,19,20,21,22,23,24,25,26,27,28,29,30,31,32,33,34,35,36,37,38,39,40,41,42,43,44,45,46,47,48,49,50,51,52,53,,,,,,,,,,,,,,,,,,,,,,,,,,,,,,,,,,,,,,,,,,,,,,,,,,,,,,,,,,,,,2,3,4,5,6,7,8,9,10,11,12,13,14,15,16,17,18,19,20,21,22,23,24,25,26,27,28,29,30,31,32,33,34,35,36,37,38,39,40,41,42,43,44,45,46,47,48,49,50,51,52,53,54,55,56,57,58,59,,,,,,,,,,,,,,,,,,,,,,,,,,,,,,,,,,,,,,,,,,,,,,,,,,,,,,,,,,2,3,4,5,6,7,8,9,10,11,12,13,14,15,16,17,18,19,20,21,22,23,24,25,26,27,28,29,30,31,32,33,34,35,36,37,38,39,40,41,42,43,44,45,46,47,48,49,50,51,52,53,54,55,56,,,,,,,,,,,,,,,,,,,,,,,,,,,,,,,,,,,,,,,,,,,,,,,,,,,,,,,,,,,,,,,,,,,,,,,,,2,3,4,5,6,7,8,9,10,11,12,13,14,15,16,17,18,19,20,21,22,23,24,25,26,27,28,29,30,31,32,33,34,35,36,37,38,39,40,41,42,43,44,45,46,47,48,49,50,51,52,53,54,55,56,57,58,59,60,61,62,63,64,65,66,67,68,69,70,71,"
     ]
    }
   ],
   "source": [
    "for c in ['m','a','k','l','u','b']:\n",
    "    fs=glob.glob('data/meth/GSE120137/'+c+'/csv/*.csv')\n",
    "    dfs=[]\n",
    "    for f in fs:\n",
    "        print ('',end=',')\n",
    "        df=pd.read_csv(f,index_col=0)\n",
    "        df=df[df.index.isin(hzs)]\n",
    "        dfs.append(df)\n",
    "    df=dfs[0].merge(dfs[1],left_index=True,right_index=True,how='outer')\n",
    "    for i in range(2,len(dfs)):\n",
    "        print(i,end=',')\n",
    "        df=df.merge(dfs[i],left_index=True,right_index=True,how='outer')\n",
    "    df.shape\n",
    "    p=df.mean()\n",
    "    p=p.rename('DNAm')\n",
    "    ps[c]=age[['id','age']].drop_duplicates().merge(p,left_on='id',right_index=True)    "
   ]
  },
  {
   "cell_type": "code",
   "execution_count": 89,
   "id": "8af05a1b-a8d9-4075-af1d-478ff688ddbe",
   "metadata": {},
   "outputs": [],
   "source": [
    "ps['l']['Tissue']='Liver'\n",
    "ps['b']['Tissue']='Blood'\n",
    "ps['b']=ps['b'][ps['b'].age.isin([2,10,20])]"
   ]
  },
  {
   "cell_type": "code",
   "execution_count": 90,
   "id": "dfbc9aef-e5ae-4037-a0c8-da04cd62c3c9",
   "metadata": {},
   "outputs": [],
   "source": [
    "ps['m']['Tissue']='Muscle'\n",
    "ps['a']['Tissue']='Adipose'\n",
    "ps['k']['Tissue']='Kidney'\n",
    "ps['u']['Tissue']='Lung'"
   ]
  },
  {
   "cell_type": "code",
   "execution_count": null,
   "id": "052f46d5-6fed-4e7c-9f89-325605c109ac",
   "metadata": {},
   "outputs": [],
   "source": [
    "fig, ax = plt.subplots(figsize=(5,3))\n",
    "ax=sns.barplot(data=pd.concat(ps),x='Tissue',y='DNAm',hue='age'\n",
    "            ,order=['Adipose','Kidney','Muscle','Lung','Liver','Blood'],palette=['g','orange','r']);\n",
    "ax.set(title='DNAm at PRC2 binding regions (mice)',ylabel='Average DNAm');"
   ]
  },
  {
   "cell_type": "code",
   "execution_count": 81,
   "id": "669009e0-af2c-4f6e-89c9-70cdce587e18",
   "metadata": {},
   "outputs": [],
   "source": [
    "fs=['SRR44738'+str(i) for i in range(55,71)]"
   ]
  },
  {
   "cell_type": "code",
   "execution_count": 28,
   "id": "9ea90f25-ba52-49a8-a4b1-ffc437a2ac1e",
   "metadata": {},
   "outputs": [
    {
     "name": "stdout",
     "output_type": "stream",
     "text": [
      "SRR4473855,SRR4473856,SRR4473857,SRR4473858,SRR4473859,SRR4473860,SRR4473861,SRR4473862,SRR4473863,SRR4473864,SRR4473865,SRR4473866,SRR4473867,SRR4473868,SRR4473869,SRR4473870,"
     ]
    }
   ],
   "source": [
    "for sn in fs:\n",
    "    print(sn,end=',')\n",
    "    path='data/meth/l/'+sn+'.bw'\n",
    "    bw=pyBigWig.open(path)\n",
    "    h[sn]=h.apply(lambda x: bw.stats(x['ch'],x['b'],x['e'],'mean',exact=True)[0],axis=1)"
   ]
  },
  {
   "cell_type": "code",
   "execution_count": 122,
   "id": "834c95a1-2f8a-4c96-97e7-41bb571870c2",
   "metadata": {},
   "outputs": [
    {
     "name": "stdout",
     "output_type": "stream",
     "text": [
      "1000\n"
     ]
    },
    {
     "data": {
      "image/png": "[encoded data removed]",
      "text/plain": [
       "<Figure size 360x216 with 1 Axes>"
      ]
     },
     "metadata": {
      "needs_background": "light"
     },
     "output_type": "display_data"
    }
   ],
   "source": [
    "hz=h.sort_values('prc',ascending=False).head(1000)\n",
    "hz=hz[hz.d>0]\n",
    "print(len(hz))\n",
    "p=pd.DataFrame(hz[[f for f in fs]].mean())\n",
    "p['Age']=4*['Young']+4*['Old']+4*['Old-Rapa.']+4*['Old-CR']\n",
    "#p.columns=['Average DNAm','Passage']#,'Condition','Individual']\n",
    "fig, ax = plt.subplots(figsize=(5,3))\n",
    "ax=sns.barplot(data=p,x='Age',y=0,palette=['g','r','m','c'])\n",
    "ax.set( ylabel='DNA Methylation',title='DNAm at PRC2 binding regions (mice liver)')\n",
    "ax.tick_params(axis='x', rotation=45)"
   ]
  },
  {
   "cell_type": "code",
   "execution_count": null,
   "id": "b4d528bd-abd9-4dec-ba64-75baa7b6c861",
   "metadata": {},
   "outputs": [],
   "source": [
    "df=pd.read_csv('../../aging/mice/data/blood.csv',engine='c',index_col=0)"
   ]
  },
  {
   "cell_type": "code",
   "execution_count": 115,
   "id": "5b3d118e-ed27-4767-bf07-550f61418132",
   "metadata": {},
   "outputs": [
    {
     "name": "stdout",
     "output_type": "stream",
     "text": [
      "(1940728, 195) 195\n"
     ]
    }
   ],
   "source": [
    "age=pd.read_csv('../../aging/mice/data/blood_age.csv',index_col=0)\n",
    "print(df.shape,len(age))"
   ]
  },
  {
   "cell_type": "code",
   "execution_count": 96,
   "id": "b3a890e4-eb72-4fe0-aa2f-9bda5ea43847",
   "metadata": {},
   "outputs": [
    {
     "data": {
      "text/plain": [
       "177715"
      ]
     },
     "execution_count": 96,
     "metadata": {},
     "output_type": "execute_result"
    }
   ],
   "source": [
    "hzg=hz.groupby('ch')['r'].apply(list)\n",
    "hzg=hzg.apply(lambda x:set.union(*x)) \n",
    "hzs=[]\n",
    "for i,r in hz.iterrows():\n",
    "    for rr in r['r']:\n",
    "        hzs.append((r['ch'],rr+1))\n",
    "hzs=pd.DataFrame(hzs)     \n",
    "hzs.index=hzs[0].str[3:5]+'_'+(hzs[1]-1).astype(str)\n",
    "len(hzs)"
   ]
  },
  {
   "cell_type": "code",
   "execution_count": 101,
   "id": "5c8123a9-a41b-4db8-8b31-c170723aa15a",
   "metadata": {},
   "outputs": [
    {
     "data": {
      "text/plain": [
       "60901"
      ]
     },
     "execution_count": 101,
     "metadata": {},
     "output_type": "execute_result"
    }
   ],
   "source": [
    "def f(x):\n",
    "    return int(x.name.split('_')[1])-1 in hzg[x.name.split('_')[0]]\n",
    "df.index='chr'+df.index\n",
    "dfhz=df[df.apply(lambda x:f(x),axis=1)]\n",
    "dfhz.columns=dfhz.columns.astype(int)\n",
    "len(dfhz)"
   ]
  },
  {
   "cell_type": "code",
   "execution_count": 116,
   "id": "b19126a1-a89c-4639-bc29-634436347c79",
   "metadata": {},
   "outputs": [
    {
     "data": {
      "text/html": [
       "<div>\n",
       "<style scoped>\n",
       "    .dataframe tbody tr th:only-of-type {\n",
       "        vertical-align: middle;\n",
       "    }\n",
       "\n",
       "    .dataframe tbody tr th {\n",
       "        vertical-align: top;\n",
       "    }\n",
       "\n",
       "    .dataframe thead th {\n",
       "        text-align: right;\n",
       "    }\n",
       "</style>\n",
       "<table border=\"1\" class=\"dataframe\">\n",
       "  <thead>\n",
       "    <tr style=\"text-align: right;\">\n",
       "      <th></th>\n",
       "      <th></th>\n",
       "      <th>Age (months)</th>\n",
       "      <th>Avergae DNAm</th>\n",
       "    </tr>\n",
       "  </thead>\n",
       "  <tbody>\n",
       "    <tr>\n",
       "      <th>2132712</th>\n",
       "      <td>diet: standard</td>\n",
       "      <td>0.67</td>\n",
       "      <td>4.543045</td>\n",
       "    </tr>\n",
       "  </tbody>\n",
       "</table>\n",
       "</div>"
      ],
      "text/plain": [
       "                         Age (months)  Avergae DNAm\n",
       "2132712  diet: standard          0.67      4.543045"
      ]
     },
     "execution_count": 116,
     "metadata": {},
     "output_type": "execute_result"
    }
   ],
   "source": [
    "age=age.merge(dfhz.mean().rename('m'),left_index=True,right_index=True)\n",
    "age.columns=['','Age (months)','Avergae DNAm']\n",
    "age.head(1)"
   ]
  },
  {
   "cell_type": "code",
   "execution_count": 121,
   "id": "0072da1c-8ab4-47bb-8e3e-c33c0589834d",
   "metadata": {},
   "outputs": [
    {
     "data": {
      "image/png": "[encoded data removed]",
      "text/plain": [
       "<Figure size 360x216 with 1 Axes>"
      ]
     },
     "metadata": {
      "needs_background": "light"
     },
     "output_type": "display_data"
    }
   ],
   "source": [
    "fig, ax = plt.subplots(figsize=(5,3))\n",
    "ax=ax=sns.lineplot(data=age,x='Age (months)',y='Avergae DNAm',hue='',err_style='bars')\n",
    "ax.set(title='DNAm at PRC2 binding regions (mice blood)');"
   ]
  },
  {
   "cell_type": "code",
   "execution_count": 126,
   "id": "70f7770d-850c-45bb-8513-c6663c835239",
   "metadata": {},
   "outputs": [],
   "source": [
    "hz[['ch','b','e']].to_csv('data/h10.bed',header=None,index=None,sep='\\t')"
   ]
  },
  {
   "cell_type": "code",
   "execution_count": 234,
   "id": "fe1cf708-841f-4f4a-bb4f-6e4b244d86f4",
   "metadata": {},
   "outputs": [],
   "source": [
    "h9=pd.read_table('data/h9.bed',header=None)"
   ]
  },
  {
   "cell_type": "code",
   "execution_count": 237,
   "id": "f155a257-612c-41a6-93bf-27762be4df7b",
   "metadata": {},
   "outputs": [
    {
     "data": {
      "text/html": [
       "<div>\n",
       "<style scoped>\n",
       "    .dataframe tbody tr th:only-of-type {\n",
       "        vertical-align: middle;\n",
       "    }\n",
       "\n",
       "    .dataframe tbody tr th {\n",
       "        vertical-align: top;\n",
       "    }\n",
       "\n",
       "    .dataframe thead th {\n",
       "        text-align: right;\n",
       "    }\n",
       "</style>\n",
       "<table border=\"1\" class=\"dataframe\">\n",
       "  <thead>\n",
       "    <tr style=\"text-align: right;\">\n",
       "      <th></th>\n",
       "      <th>0</th>\n",
       "      <th>1</th>\n",
       "      <th>2</th>\n",
       "    </tr>\n",
       "  </thead>\n",
       "  <tbody>\n",
       "    <tr>\n",
       "      <th>0</th>\n",
       "      <td>chr8</td>\n",
       "      <td>87307571</td>\n",
       "      <td>87310845</td>\n",
       "    </tr>\n",
       "  </tbody>\n",
       "</table>\n",
       "</div>"
      ],
      "text/plain": [
       "      0         1         2\n",
       "0  chr8  87307571  87310845"
      ]
     },
     "execution_count": 237,
     "metadata": {},
     "output_type": "execute_result"
    }
   ],
   "source": [
    "h9.head(1)"
   ]
  },
  {
   "cell_type": "code",
   "execution_count": 242,
   "id": "f060d5b9-a3e5-47a0-b189-56085db9a6cc",
   "metadata": {},
   "outputs": [
    {
     "name": "stdout",
     "output_type": "stream",
     "text": [
      "GSM2839854_MEF,GSM2839858_d6_eff,"
     ]
    }
   ],
   "source": [
    "fs=['GSM2839854_MEF','GSM2839858_d6_eff']\n",
    "for sn in fs:\n",
    "    print(sn,end=',')\n",
    "    path='data/meth/rep/'+sn+'.bw'\n",
    "    bw=pyBigWig.open(path)\n",
    "    h9[sn]=h9.apply(lambda x: bw.stats(x[0],x[1],x[2],'mean',exact=True)[0],axis=1)"
   ]
  },
  {
   "cell_type": "code",
   "execution_count": 248,
   "id": "9f97bc43-6876-42cc-a7d7-11f05a3d9234",
   "metadata": {},
   "outputs": [
    {
     "data": {
      "text/plain": [
       "<AxesSubplot:xlabel='0'>"
      ]
     },
     "execution_count": 248,
     "metadata": {},
     "output_type": "execute_result"
    },
    {
     "data": {
      "image/png": "[encoded data removed]",
      "text/plain": [
       "<Figure size 432x288 with 1 Axes>"
      ]
     },
     "metadata": {
      "needs_background": "light"
     },
     "output_type": "display_data"
    }
   ],
   "source": [
    "h9.groupby(0)[['GSM2839854_MEF','GSM2839858_d6_eff']].mean().plot(kind='bar')"
   ]
  },
  {
   "cell_type": "code",
   "execution_count": null,
   "id": "835fac85-a72e-4907-8c24-d14a9865f672",
   "metadata": {},
   "outputs": [],
   "source": []
  }
 ],
 "metadata": {
  "kernelspec": {
   "display_name": "Python 3 (ipykernel)",
   "language": "python",
   "name": "python3"
  },
  "language_info": {
   "codemirror_mode": {
    "name": "ipython",
    "version": 3
   },
   "file_extension": ".py",
   "mimetype": "text/x-python",
   "name": "python",
   "nbconvert_exporter": "python",
   "pygments_lexer": "ipython3",
   "version": "3.9.7"
  }
 },
 "nbformat": 4,
 "nbformat_minor": 5
}
