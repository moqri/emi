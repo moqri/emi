{
 "cells": [
  {
   "cell_type": "code",
   "execution_count": 3,
   "id": "a26b8b2e-4e59-4754-99ae-5760f5312d92",
   "metadata": {},
   "outputs": [
    {
     "name": "stdout",
     "output_type": "stream",
     "text": [
      "33773,"
     ]
    },
    {
     "name": "stderr",
     "output_type": "stream",
     "text": [
      "/local/scratch/moqri/slrmtmp.30862967/ipykernel_54081/2985342134.py:36: SettingWithCopyWarning: \n",
      "A value is trying to be set on a copy of a slice from a DataFrame.\n",
      "Try using .loc[row_indexer,col_indexer] = value instead\n",
      "\n",
      "See the caveats in the documentation: https://pandas.pydata.org/pandas-docs/stable/user_guide/indexing.html#returning-a-view-versus-a-copy\n",
      "  gs['r']=gs.apply(lambda x:set(range(x['b'],x['e'])) if x['e']-x['b']< 5*10**4 else set() ,axis=1)\n"
     ]
    },
    {
     "name": "stdout",
     "output_type": "stream",
     "text": [
      "33773\n"
     ]
    }
   ],
   "source": [
    "h_hmr='data/meth/h/Human_H1.hmr'\n",
    "h,hg=hmr2df(h_hmr)"
   ]
  },
  {
   "cell_type": "code",
   "execution_count": 4,
   "id": "c186c6fa-2af0-4c2a-b09b-f66e6ba1bc00",
   "metadata": {},
   "outputs": [
    {
     "name": "stdout",
     "output_type": "stream",
     "text": [
      "52648,"
     ]
    },
    {
     "name": "stderr",
     "output_type": "stream",
     "text": [
      "/local/scratch/moqri/slrmtmp.30862967/ipykernel_54081/2985342134.py:36: SettingWithCopyWarning: \n",
      "A value is trying to be set on a copy of a slice from a DataFrame.\n",
      "Try using .loc[row_indexer,col_indexer] = value instead\n",
      "\n",
      "See the caveats in the documentation: https://pandas.pydata.org/pandas-docs/stable/user_guide/indexing.html#returning-a-view-versus-a-copy\n",
      "  gs['r']=gs.apply(lambda x:set(range(x['b'],x['e'])) if x['e']-x['b']< 5*10**4 else set() ,axis=1)\n"
     ]
    },
    {
     "name": "stdout",
     "output_type": "stream",
     "text": [
      "52648\n"
     ]
    }
   ],
   "source": [
    "t_hmr='data/meth/t4/t4.hmr'\n",
    "t,tg=hmr2df(t_hmr)"
   ]
  },
  {
   "cell_type": "code",
   "execution_count": 6,
   "id": "8c24e9c2-1bc2-490a-bc6b-b8daefc642e9",
   "metadata": {},
   "outputs": [
    {
     "name": "stdout",
     "output_type": "stream",
     "text": [
      "95351,"
     ]
    },
    {
     "name": "stderr",
     "output_type": "stream",
     "text": [
      "/local/scratch/moqri/slrmtmp.30862967/ipykernel_54081/2985342134.py:36: SettingWithCopyWarning: \n",
      "A value is trying to be set on a copy of a slice from a DataFrame.\n",
      "Try using .loc[row_indexer,col_indexer] = value instead\n",
      "\n",
      "See the caveats in the documentation: https://pandas.pydata.org/pandas-docs/stable/user_guide/indexing.html#returning-a-view-versus-a-copy\n",
      "  gs['r']=gs.apply(lambda x:set(range(x['b'],x['e'])) if x['e']-x['b']< 5*10**4 else set() ,axis=1)\n"
     ]
    },
    {
     "name": "stdout",
     "output_type": "stream",
     "text": [
      "95351\n"
     ]
    }
   ],
   "source": [
    "s_tmr='data/meth/skin/skin.hmr'\n",
    "s,sg=hmr2df(s_tmr)"
   ]
  },
  {
   "cell_type": "code",
   "execution_count": null,
   "id": "443d0b6e-c640-41bf-84ea-ccbad501dda7",
   "metadata": {},
   "outputs": [],
   "source": [
    "f_hmr='data/meth/fib/fib.hmr'\n",
    "f,fg=hmr2df(f_hmr)"
   ]
  },
  {
   "cell_type": "code",
   "execution_count": 7,
   "id": "198a4855-6890-4578-a094-aef19f9938d4",
   "metadata": {},
   "outputs": [],
   "source": [
    "h['t']=h.apply(lambda x:tg[x['ch']].isdisjoint(x['r']),1)\n",
    "h['s']=h.apply(lambda x:sg[x['ch']].isdisjoint(x['r']),1)\n",
    "h['f']=h.apply(lambda x:fg[x['ch']].isdisjoint(x['r']),1)\n",
    "t['h']=t.apply(lambda x:hg[x['ch']].isdisjoint(x['r']),1)\n",
    "t['s']=t.apply(lambda x:sg[x['ch']].isdisjoint(x['r']),1)\n",
    "t['f']=t.apply(lambda x:fg[x['ch']].isdisjoint(x['r']),1)"
   ]
  },
  {
   "cell_type": "code",
   "execution_count": 8,
   "id": "7c44c2a2-f9d5-46ac-a9ff-8b7f284a094f",
   "metadata": {},
   "outputs": [],
   "source": [
    "s['h']=s.apply(lambda x:hg[x['ch']].isdisjoint(x['r']),1)\n",
    "s['t']=s.apply(lambda x:tg[x['ch']].isdisjoint(x['r']),1)\n",
    "s['f']=s.apply(lambda x:fg[x['ch']].isdisjoint(x['r']),1)\n",
    "f['h']=f.apply(lambda x:hg[x['ch']].isdisjoint(x['r']),1)\n",
    "f['t']=f.apply(lambda x:tg[x['ch']].isdisjoint(x['r']),1)\n",
    "f['s']=f.apply(lambda x:sg[x['ch']].isdisjoint(x['r']),1)"
   ]
  },
  {
   "cell_type": "code",
   "execution_count": 14,
   "id": "acc6825f-8dc0-40a9-8a20-73019e1985f1",
   "metadata": {},
   "outputs": [
    {
     "data": {
      "text/plain": [
       "True     52580\n",
       "False    21336\n",
       "Name: h, dtype: int64"
      ]
     },
     "execution_count": 14,
     "metadata": {},
     "output_type": "execute_result"
    }
   ],
   "source": [
    "f.h.value_counts()"
   ]
  },
  {
   "cell_type": "code",
   "execution_count": null,
   "id": "da58b7dc-c054-4afe-8036-e9eddbb641c9",
   "metadata": {},
   "outputs": [],
   "source": [
    "bws=glob.glob('data/meth/t4/*.meth.bw')\n",
    "names=['o','y']\n",
    "bws.sort()\n",
    "for i in range(len(bws)):\n",
    "    name=names[i]\n",
    "    bw=pyBigWig.open(bws[i])\n",
    "    t[name]=t.apply(lambda x: bw.stats(x['ch'],x['b'],x['e'],'mean',exact=True)[0],axis=1)"
   ]
  },
  {
   "cell_type": "code",
   "execution_count": 45,
   "id": "000d5c1f-8c42-4865-b5cd-9e415fc47257",
   "metadata": {},
   "outputs": [
    {
     "name": "stderr",
     "output_type": "stream",
     "text": [
      "/local/scratch/moqri/slrmtmp.30862967/ipykernel_54081/2504023683.py:2: UserWarning: Boolean Series key will be reindexed to match DataFrame index.\n",
      "  su=t[s.dd>.1].copy()\n"
     ]
    },
    {
     "data": {
      "text/plain": [
       "19313"
      ]
     },
     "execution_count": 45,
     "metadata": {},
     "output_type": "execute_result"
    }
   ],
   "source": [
    "s['dd']=s['o']-t['y']\n",
    "su=t[s.dd>.1].copy()\n",
    "print(len(su))\n",
    "sgu=su.groupby('ch')['r'].apply(list)\n",
    "sgu=sgu.apply(lambda x:set.union(*x))"
   ]
  },
  {
   "cell_type": "code",
   "execution_count": 18,
   "id": "f71ccd72-8e19-4247-8635-d717b22ef840",
   "metadata": {},
   "outputs": [],
   "source": [
    "path='data/meth/skin/'\n",
    "bws=[path+'o/o.bw',path+'y/y.bw']\n",
    "names=['o','y']\n",
    "bws.sort()\n",
    "for i in range(len(bws)):\n",
    "    name=names[i]\n",
    "    bw=pyBigWig.open(bws[i])\n",
    "    s[name]=s.apply(lambda x: bw.stats(x['ch'],x['b'],x['e'],'mean',exact=True)[0],axis=1)\n",
    "t['dd']=t['o']-t['y']\n",
    "tu=t[t.dd>.1].copy()\n",
    "print(len(tu))\n",
    "tgu=tu.groupby('ch')['r'].apply(list)\n",
    "tgu=tgu.apply(lambda x:set.union(*x))    "
   ]
  },
  {
   "cell_type": "code",
   "execution_count": 103,
   "id": "f3043586-2376-4ab3-8fb5-8933c1523c1c",
   "metadata": {},
   "outputs": [
    {
     "name": "stdout",
     "output_type": "stream",
     "text": [
      "2087\n"
     ]
    }
   ],
   "source": [
    "path='data/meth/fib/'\n",
    "bws=[path+'o.bw',path+'y.bw']\n",
    "names=['o','y']\n",
    "bws.sort()\n",
    "for i in range(len(bws)):\n",
    "    name=names[i]\n",
    "    bw=pyBigWig.open(bws[i])\n",
    "    f[name]=f.apply(lambda x: bw.stats(x['ch'],x['b'],x['e'],'mean',exact=True)[0],axis=1)\n",
    "f['dd']=f['o']-f['y']\n",
    "fu=f[f.dd>.1].copy()\n",
    "print(len(fu))\n",
    "fgu=fu.groupby('ch')['r'].apply(list)\n",
    "fgu=fgu.apply(lambda x:set.union(*x))    "
   ]
  },
  {
   "cell_type": "code",
   "execution_count": 104,
   "id": "3b5e700a-7af9-4916-9c9f-cc050d2d55c9",
   "metadata": {},
   "outputs": [],
   "source": [
    "fu['su']=fu.apply(lambda x:sgu[x['ch']].isdisjoint(x['r']),1)\n",
    "fu['tu']=fu.apply(lambda x:tgu[x['ch']].isdisjoint(x['r']),1)\n",
    "fu['hu']=fu.apply(lambda x:hg[x['ch']].isdisjoint(x['r']),1)"
   ]
  },
  {
   "cell_type": "code",
   "execution_count": 123,
   "id": "7b389546-3f56-4338-8389-c0ed11232270",
   "metadata": {},
   "outputs": [],
   "source": [
    "tu['d']=tu['e']-tu['b']"
   ]
  },
  {
   "cell_type": "code",
   "execution_count": 139,
   "id": "98a7842f-84c4-4987-95ad-c84f87f06b28",
   "metadata": {},
   "outputs": [
    {
     "name": "stderr",
     "output_type": "stream",
     "text": [
      "/local/scratch/moqri/slrmtmp.30862967/ipykernel_54081/712158874.py:1: UserWarning: Boolean Series key will be reindexed to match DataFrame index.\n",
      "  t[~t['f']][~t['s']].groupby('h').sum()\n"
     ]
    },
    {
     "data": {
      "text/html": [
       "<div>\n",
       "<style scoped>\n",
       "    .dataframe tbody tr th:only-of-type {\n",
       "        vertical-align: middle;\n",
       "    }\n",
       "\n",
       "    .dataframe tbody tr th {\n",
       "        vertical-align: top;\n",
       "    }\n",
       "\n",
       "    .dataframe thead th {\n",
       "        text-align: right;\n",
       "    }\n",
       "</style>\n",
       "<table border=\"1\" class=\"dataframe\">\n",
       "  <thead>\n",
       "    <tr style=\"text-align: right;\">\n",
       "      <th></th>\n",
       "      <th>b</th>\n",
       "      <th>e</th>\n",
       "      <th>s</th>\n",
       "      <th>f</th>\n",
       "      <th>o</th>\n",
       "      <th>y</th>\n",
       "      <th>dd</th>\n",
       "      <th>su</th>\n",
       "      <th>d</th>\n",
       "    </tr>\n",
       "    <tr>\n",
       "      <th>h</th>\n",
       "      <th></th>\n",
       "      <th></th>\n",
       "      <th></th>\n",
       "      <th></th>\n",
       "      <th></th>\n",
       "      <th></th>\n",
       "      <th></th>\n",
       "      <th></th>\n",
       "      <th></th>\n",
       "    </tr>\n",
       "  </thead>\n",
       "  <tbody>\n",
       "    <tr>\n",
       "      <th>False</th>\n",
       "      <td>1487271493301</td>\n",
       "      <td>1487306903236</td>\n",
       "      <td>0</td>\n",
       "      <td>0</td>\n",
       "      <td>1565.363578</td>\n",
       "      <td>1024.643639</td>\n",
       "      <td>540.719939</td>\n",
       "      <td>9801</td>\n",
       "      <td>35409935</td>\n",
       "    </tr>\n",
       "    <tr>\n",
       "      <th>True</th>\n",
       "      <td>280654325773</td>\n",
       "      <td>280656661438</td>\n",
       "      <td>0</td>\n",
       "      <td>0</td>\n",
       "      <td>868.034724</td>\n",
       "      <td>725.960840</td>\n",
       "      <td>142.073884</td>\n",
       "      <td>3069</td>\n",
       "      <td>2335665</td>\n",
       "    </tr>\n",
       "  </tbody>\n",
       "</table>\n",
       "</div>"
      ],
      "text/plain": [
       "                   b              e  s  f            o            y  \\\n",
       "h                                                                     \n",
       "False  1487271493301  1487306903236  0  0  1565.363578  1024.643639   \n",
       "True    280654325773   280656661438  0  0   868.034724   725.960840   \n",
       "\n",
       "               dd    su         d  \n",
       "h                                  \n",
       "False  540.719939  9801  35409935  \n",
       "True   142.073884  3069   2335665  "
      ]
     },
     "execution_count": 139,
     "metadata": {},
     "output_type": "execute_result"
    }
   ],
   "source": [
    "t[~t['f']][~t['s']].groupby('h').sum()"
   ]
  },
  {
   "cell_type": "code",
   "execution_count": 174,
   "id": "c847a22b-26c1-4875-a21f-4265e6165e60",
   "metadata": {},
   "outputs": [
    {
     "name": "stderr",
     "output_type": "stream",
     "text": [
      "/local/scratch/moqri/slrmtmp.30862967/ipykernel_54081/1218682307.py:1: UserWarning: Boolean Series key will be reindexed to match DataFrame index.\n",
      "  a=tu[~tu['fu']][~tu['su']][~tu['h']][['ch','b','e','d']].copy()\n",
      "/local/scratch/moqri/slrmtmp.30862967/ipykernel_54081/1218682307.py:2: UserWarning: Boolean Series key will be reindexed to match DataFrame index.\n",
      "  b=tu[~tu['fu']][~tu['su']][tu['h']][['ch','b','e','d']].copy()\n"
     ]
    }
   ],
   "source": [
    "a=tu[~tu['fu']][~tu['su']][~tu['h']][['ch','b','e','d']].copy()\n",
    "b=tu[~tu['fu']][~tu['su']][tu['h']][['ch','b','e','d']].copy()"
   ]
  },
  {
   "cell_type": "code",
   "execution_count": 175,
   "id": "801d669f-507a-47ca-821c-fbd789d2ed14",
   "metadata": {},
   "outputs": [],
   "source": [
    "bw='data/source/ENCFF109KCQ.bigWig'\n",
    "bw=pyBigWig.open(bw)\n",
    "bs=[]\n",
    "for i,r in b.iterrows():\n",
    "    bs.append(bw.stats(r['ch'],int(r['b']),int(r['e']),'max')[0])\n",
    "b['ez']=bs    "
   ]
  },
  {
   "cell_type": "code",
   "execution_count": 176,
   "id": "43fa97ec-eaf4-404a-a2a9-72a167130e13",
   "metadata": {},
   "outputs": [],
   "source": []
  },
  {
   "cell_type": "code",
   "execution_count": 178,
   "id": "6a4fb7b9-917c-450d-af97-9dcb4296b155",
   "metadata": {},
   "outputs": [
    {
     "data": {
      "text/plain": [
       "1.5051100254058838"
      ]
     },
     "execution_count": 178,
     "metadata": {},
     "output_type": "execute_result"
    }
   ],
   "source": [
    "b.ez.median()"
   ]
  },
  {
   "cell_type": "code",
   "execution_count": 62,
   "id": "5d679dfa-39f3-47a7-80b1-f7179728e6d3",
   "metadata": {},
   "outputs": [],
   "source": [
    "tu['su']=tu.apply(lambda x:sgu[x['ch']].isdisjoint(x['r']),1)\n",
    "tu['hu']=tu.apply(lambda x:hg[x['ch']].isdisjoint(x['r']),1)\n",
    "tu['fu']=tu.apply(lambda x:fgu[x['ch']].isdisjoint(x['r']),1)\n",
    "su['tu']=su.apply(lambda x:tgu[x['ch']].isdisjoint(x['r']),1)\n",
    "su['hu']=su.apply(lambda x:hg[x['ch']].isdisjoint(x['r']),1)"
   ]
  },
  {
   "cell_type": "code",
   "execution_count": 73,
   "id": "62e7bd84-05c9-4c23-8511-fce37dcfa8c8",
   "metadata": {},
   "outputs": [
    {
     "data": {
      "text/plain": [
       "True     2107\n",
       "False    1063\n",
       "Name: hu, dtype: int64"
      ]
     },
     "execution_count": 73,
     "metadata": {},
     "output_type": "execute_result"
    }
   ],
   "source": [
    "tu[~tu['su']].hu.value_counts()"
   ]
  },
  {
   "cell_type": "code",
   "execution_count": 206,
   "id": "ea1e65ba-d6b5-4937-be76-5f336c79cf21",
   "metadata": {},
   "outputs": [
    {
     "name": "stderr",
     "output_type": "stream",
     "text": [
      "/local/scratch/moqri/slrmtmp.30837612/ipykernel_23392/786612754.py:1: SettingWithCopyWarning: \n",
      "A value is trying to be set on a copy of a slice from a DataFrame.\n",
      "Try using .loc[row_indexer,col_indexer] = value instead\n",
      "\n",
      "See the caveats in the documentation: https://pandas.pydata.org/pandas-docs/stable/user_guide/indexing.html#returning-a-view-versus-a-copy\n",
      "  t4['h']=t4.apply(lambda x:hg[x['ch']].isdisjoint(x['r']),1)\n"
     ]
    },
    {
     "data": {
      "text/html": [
       "<div>\n",
       "<style scoped>\n",
       "    .dataframe tbody tr th:only-of-type {\n",
       "        vertical-align: middle;\n",
       "    }\n",
       "\n",
       "    .dataframe tbody tr th {\n",
       "        vertical-align: top;\n",
       "    }\n",
       "\n",
       "    .dataframe thead th {\n",
       "        text-align: right;\n",
       "    }\n",
       "</style>\n",
       "<table border=\"1\" class=\"dataframe\">\n",
       "  <thead>\n",
       "    <tr style=\"text-align: right;\">\n",
       "      <th></th>\n",
       "      <th>b</th>\n",
       "      <th>e</th>\n",
       "      <th>ch</th>\n",
       "      <th>r</th>\n",
       "      <th>dis</th>\n",
       "      <th>o</th>\n",
       "      <th>y</th>\n",
       "      <th>dd</th>\n",
       "    </tr>\n",
       "    <tr>\n",
       "      <th>h</th>\n",
       "      <th></th>\n",
       "      <th></th>\n",
       "      <th></th>\n",
       "      <th></th>\n",
       "      <th></th>\n",
       "      <th></th>\n",
       "      <th></th>\n",
       "      <th></th>\n",
       "    </tr>\n",
       "  </thead>\n",
       "  <tbody>\n",
       "    <tr>\n",
       "      <th>False</th>\n",
       "      <td>786</td>\n",
       "      <td>786</td>\n",
       "      <td>786</td>\n",
       "      <td>786</td>\n",
       "      <td>786</td>\n",
       "      <td>786</td>\n",
       "      <td>786</td>\n",
       "      <td>786</td>\n",
       "    </tr>\n",
       "    <tr>\n",
       "      <th>True</th>\n",
       "      <td>2526</td>\n",
       "      <td>2526</td>\n",
       "      <td>2526</td>\n",
       "      <td>2526</td>\n",
       "      <td>2526</td>\n",
       "      <td>2526</td>\n",
       "      <td>2526</td>\n",
       "      <td>2526</td>\n",
       "    </tr>\n",
       "  </tbody>\n",
       "</table>\n",
       "</div>"
      ],
      "text/plain": [
       "          b     e    ch     r   dis     o     y    dd\n",
       "h                                                    \n",
       "False   786   786   786   786   786   786   786   786\n",
       "True   2526  2526  2526  2526  2526  2526  2526  2526"
      ]
     },
     "execution_count": 206,
     "metadata": {},
     "output_type": "execute_result"
    }
   ],
   "source": [
    "t4['h']=t4.apply(lambda x:hg[x['ch']].isdisjoint(x['r']),1)\n",
    "t4.groupby('h').count()"
   ]
  },
  {
   "cell_type": "code",
   "execution_count": 211,
   "id": "15da22ab-08eb-4f7d-8c53-50da1a558310",
   "metadata": {},
   "outputs": [
    {
     "data": {
      "text/html": [
       "<div>\n",
       "<style scoped>\n",
       "    .dataframe tbody tr th:only-of-type {\n",
       "        vertical-align: middle;\n",
       "    }\n",
       "\n",
       "    .dataframe tbody tr th {\n",
       "        vertical-align: top;\n",
       "    }\n",
       "\n",
       "    .dataframe thead th {\n",
       "        text-align: right;\n",
       "    }\n",
       "</style>\n",
       "<table border=\"1\" class=\"dataframe\">\n",
       "  <thead>\n",
       "    <tr style=\"text-align: right;\">\n",
       "      <th></th>\n",
       "      <th>b</th>\n",
       "      <th>e</th>\n",
       "      <th>ch</th>\n",
       "      <th>r</th>\n",
       "      <th>dis</th>\n",
       "      <th>o</th>\n",
       "      <th>y</th>\n",
       "      <th>dd</th>\n",
       "      <th>h</th>\n",
       "    </tr>\n",
       "  </thead>\n",
       "  <tbody>\n",
       "    <tr>\n",
       "      <th>164</th>\n",
       "      <td>2127196</td>\n",
       "      <td>2127703</td>\n",
       "      <td>chr1</td>\n",
       "      <td>{2127196, 2127197, 2127198, 2127199, 2127200, ...</td>\n",
       "      <td>False</td>\n",
       "      <td>0.480095</td>\n",
       "      <td>0.191859</td>\n",
       "      <td>0.288236</td>\n",
       "      <td>True</td>\n",
       "    </tr>\n",
       "    <tr>\n",
       "      <th>495</th>\n",
       "      <td>4561287</td>\n",
       "      <td>4561481</td>\n",
       "      <td>chr1</td>\n",
       "      <td>{4561408, 4561409, 4561410, 4561411, 4561412, ...</td>\n",
       "      <td>False</td>\n",
       "      <td>0.351201</td>\n",
       "      <td>0.221927</td>\n",
       "      <td>0.129274</td>\n",
       "      <td>True</td>\n",
       "    </tr>\n",
       "    <tr>\n",
       "      <th>685</th>\n",
       "      <td>7069927</td>\n",
       "      <td>7070778</td>\n",
       "      <td>chr1</td>\n",
       "      <td>{7069927, 7069928, 7069929, 7069930, 7069931, ...</td>\n",
       "      <td>False</td>\n",
       "      <td>0.169094</td>\n",
       "      <td>0.067877</td>\n",
       "      <td>0.101216</td>\n",
       "      <td>False</td>\n",
       "    </tr>\n",
       "    <tr>\n",
       "      <th>885</th>\n",
       "      <td>9850531</td>\n",
       "      <td>9851173</td>\n",
       "      <td>chr1</td>\n",
       "      <td>{9850880, 9850881, 9850882, 9850883, 9850884, ...</td>\n",
       "      <td>False</td>\n",
       "      <td>0.428399</td>\n",
       "      <td>0.258369</td>\n",
       "      <td>0.170031</td>\n",
       "      <td>True</td>\n",
       "    </tr>\n",
       "    <tr>\n",
       "      <th>1021</th>\n",
       "      <td>11501403</td>\n",
       "      <td>11501740</td>\n",
       "      <td>chr1</td>\n",
       "      <td>{11501568, 11501569, 11501570, 11501571, 11501...</td>\n",
       "      <td>False</td>\n",
       "      <td>0.490243</td>\n",
       "      <td>0.373427</td>\n",
       "      <td>0.116816</td>\n",
       "      <td>True</td>\n",
       "    </tr>\n",
       "    <tr>\n",
       "      <th>...</th>\n",
       "      <td>...</td>\n",
       "      <td>...</td>\n",
       "      <td>...</td>\n",
       "      <td>...</td>\n",
       "      <td>...</td>\n",
       "      <td>...</td>\n",
       "      <td>...</td>\n",
       "      <td>...</td>\n",
       "      <td>...</td>\n",
       "    </tr>\n",
       "    <tr>\n",
       "      <th>81404</th>\n",
       "      <td>132744862</td>\n",
       "      <td>132745495</td>\n",
       "      <td>chr9</td>\n",
       "      <td>{132745216, 132745217, 132745218, 132745219, 1...</td>\n",
       "      <td>False</td>\n",
       "      <td>0.644446</td>\n",
       "      <td>0.227328</td>\n",
       "      <td>0.417118</td>\n",
       "      <td>False</td>\n",
       "    </tr>\n",
       "    <tr>\n",
       "      <th>81445</th>\n",
       "      <td>133188252</td>\n",
       "      <td>133188594</td>\n",
       "      <td>chr9</td>\n",
       "      <td>{133188252, 133188253, 133188254, 133188255, 1...</td>\n",
       "      <td>False</td>\n",
       "      <td>0.305846</td>\n",
       "      <td>0.171590</td>\n",
       "      <td>0.134256</td>\n",
       "      <td>False</td>\n",
       "    </tr>\n",
       "    <tr>\n",
       "      <th>81641</th>\n",
       "      <td>134983222</td>\n",
       "      <td>134983388</td>\n",
       "      <td>chr9</td>\n",
       "      <td>{134983222, 134983223, 134983224, 134983225, 1...</td>\n",
       "      <td>False</td>\n",
       "      <td>0.495441</td>\n",
       "      <td>0.231938</td>\n",
       "      <td>0.263503</td>\n",
       "      <td>False</td>\n",
       "    </tr>\n",
       "    <tr>\n",
       "      <th>81954</th>\n",
       "      <td>137271457</td>\n",
       "      <td>137271782</td>\n",
       "      <td>chr9</td>\n",
       "      <td>{137271457, 137271458, 137271459, 137271460, 1...</td>\n",
       "      <td>False</td>\n",
       "      <td>0.539405</td>\n",
       "      <td>0.241466</td>\n",
       "      <td>0.297939</td>\n",
       "      <td>True</td>\n",
       "    </tr>\n",
       "    <tr>\n",
       "      <th>81957</th>\n",
       "      <td>137280854</td>\n",
       "      <td>137281718</td>\n",
       "      <td>chr9</td>\n",
       "      <td>{137281536, 137281537, 137281538, 137281539, 1...</td>\n",
       "      <td>False</td>\n",
       "      <td>0.342789</td>\n",
       "      <td>0.209513</td>\n",
       "      <td>0.133276</td>\n",
       "      <td>False</td>\n",
       "    </tr>\n",
       "  </tbody>\n",
       "</table>\n",
       "<p>616 rows × 9 columns</p>\n",
       "</div>"
      ],
      "text/plain": [
       "               b          e    ch  \\\n",
       "164      2127196    2127703  chr1   \n",
       "495      4561287    4561481  chr1   \n",
       "685      7069927    7070778  chr1   \n",
       "885      9850531    9851173  chr1   \n",
       "1021    11501403   11501740  chr1   \n",
       "...          ...        ...   ...   \n",
       "81404  132744862  132745495  chr9   \n",
       "81445  133188252  133188594  chr9   \n",
       "81641  134983222  134983388  chr9   \n",
       "81954  137271457  137271782  chr9   \n",
       "81957  137280854  137281718  chr9   \n",
       "\n",
       "                                                       r    dis         o  \\\n",
       "164    {2127196, 2127197, 2127198, 2127199, 2127200, ...  False  0.480095   \n",
       "495    {4561408, 4561409, 4561410, 4561411, 4561412, ...  False  0.351201   \n",
       "685    {7069927, 7069928, 7069929, 7069930, 7069931, ...  False  0.169094   \n",
       "885    {9850880, 9850881, 9850882, 9850883, 9850884, ...  False  0.428399   \n",
       "1021   {11501568, 11501569, 11501570, 11501571, 11501...  False  0.490243   \n",
       "...                                                  ...    ...       ...   \n",
       "81404  {132745216, 132745217, 132745218, 132745219, 1...  False  0.644446   \n",
       "81445  {133188252, 133188253, 133188254, 133188255, 1...  False  0.305846   \n",
       "81641  {134983222, 134983223, 134983224, 134983225, 1...  False  0.495441   \n",
       "81954  {137271457, 137271458, 137271459, 137271460, 1...  False  0.539405   \n",
       "81957  {137281536, 137281537, 137281538, 137281539, 1...  False  0.342789   \n",
       "\n",
       "              y        dd      h  \n",
       "164    0.191859  0.288236   True  \n",
       "495    0.221927  0.129274   True  \n",
       "685    0.067877  0.101216  False  \n",
       "885    0.258369  0.170031   True  \n",
       "1021   0.373427  0.116816   True  \n",
       "...         ...       ...    ...  \n",
       "81404  0.227328  0.417118  False  \n",
       "81445  0.171590  0.134256  False  \n",
       "81641  0.231938  0.263503  False  \n",
       "81954  0.241466  0.297939   True  \n",
       "81957  0.209513  0.133276  False  \n",
       "\n",
       "[616 rows x 9 columns]"
      ]
     },
     "execution_count": 211,
     "metadata": {},
     "output_type": "execute_result"
    }
   ],
   "source": [
    "t4[~t4.dis]"
   ]
  },
  {
   "cell_type": "code",
   "execution_count": null,
   "id": "73db45fa-78bc-40a9-a0b0-95551d3f678f",
   "metadata": {},
   "outputs": [],
   "source": []
  },
  {
   "cell_type": "code",
   "execution_count": 117,
   "id": "25f727b3-5cbe-44aa-b77b-48b94a1259a6",
   "metadata": {},
   "outputs": [],
   "source": [
    "hv=pd.read_csv('data/hv.csv',index_col=0)"
   ]
  },
  {
   "cell_type": "code",
   "execution_count": 216,
   "id": "066b9bf1-2237-4451-80ea-898fc5522206",
   "metadata": {},
   "outputs": [],
   "source": [
    "path='data/meth/skin/'\n",
    "bws=[path+'o/o.bw',path+'y/y.bw']\n",
    "names=['o','y']\n",
    "bws.sort()\n",
    "for i in range(len(bws)):\n",
    "    name=names[i]\n",
    "    bw=pyBigWig.open(bws[i])\n",
    "    hv[name]=hv.apply(lambda x: bw.stats(x['ch'],x['b'],x['e'],'mean')[0],axis=1)"
   ]
  },
  {
   "cell_type": "code",
   "execution_count": 217,
   "id": "1ca6755a-522d-42f2-ab88-5200e99bb205",
   "metadata": {},
   "outputs": [],
   "source": [
    "hv['ec']=pd.cut(hv.e_blood,[0,1,1000],include_lowest=True)"
   ]
  },
  {
   "cell_type": "code",
   "execution_count": 218,
   "id": "6359e6b0-6eae-4b1c-a0d7-a9ea6d0860d8",
   "metadata": {},
   "outputs": [],
   "source": [
    "hv1=hv[hv.ez>100]"
   ]
  },
  {
   "cell_type": "code",
   "execution_count": 222,
   "id": "21f6d067-eef4-458b-8be2-a8e29d51aa59",
   "metadata": {},
   "outputs": [
    {
     "data": {
      "image/png": "[encoded data removed]",
      "text/plain": [
       "<Figure size 432x288 with 1 Axes>"
      ]
     },
     "metadata": {
      "needs_background": "light"
     },
     "output_type": "display_data"
    }
   ],
   "source": [
    "ax=sns.barplot(data=hv[['o','y']])"
   ]
  },
  {
   "cell_type": "code",
   "execution_count": null,
   "id": "22a95398-87a0-42f8-9693-0ca1ae18a469",
   "metadata": {},
   "outputs": [],
   "source": [
    "# get TSS\n",
    "mane_=source+'mane.gz'\n",
    "tss=get_tss(mane_)\n",
    "tss.to_csv('data/tss.csv')\n",
    "print(round(time.time()-t))\n",
    "# get exp\n",
    "tpm=source+'gtex/GTEx_Analysis_2017-06-05_v8_RNASeQCv1.1.9_gene_median_tpm.gct.gz'\n",
    "exp=get_exp(tss,tpm)\n",
    "exp.to_csv('data/exp.csv')\n",
    "print(round(time.time()-t))"
   ]
  }
 ],
 "metadata": {
  "kernelspec": {
   "display_name": "meth",
   "language": "python",
   "name": "meth"
  },
  "language_info": {
   "codemirror_mode": {
    "name": "ipython",
    "version": 3
   },
   "file_extension": ".py",
   "mimetype": "text/x-python",
   "name": "python",
   "nbconvert_exporter": "python",
   "pygments_lexer": "ipython3",
   "version": "3.9.7"
  }
 },
 "nbformat": 4,
 "nbformat_minor": 5
}
