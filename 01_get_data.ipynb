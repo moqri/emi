{
 "cells": [
  {
   "cell_type": "code",
   "execution_count": 1,
   "id": "cb442868-380c-4d9e-af53-87ac2a2f2783",
   "metadata": {},
   "outputs": [],
   "source": [
    "import pandas as pd\n",
    "import numpy as np\n",
    "import time \n",
    "def max_exp(l,tpm,tpmi,tissue):\n",
    "    ex=0\n",
    "    for i in l:\n",
    "        if i in tpmi:\n",
    "            ex=1\n",
    "    if ex==1:\n",
    "        em=0\n",
    "        for i in l:\n",
    "            if i in tpmi:\n",
    "                e=tpm.loc[i,tissue]\n",
    "                if e>em:\n",
    "                    em=e\n",
    "    else:\n",
    "        em=np.nan\n",
    "    return em\n",
    "t=time.time()\n",
    "source='data/source/'\n",
    "#mane.gz from MANE Sellect for TSS\n",
    "h={\n",
    "    #'ez':'https://www.encodeproject.org/files/ENCFF414CAB/@@download/ENCFF414CAB.bed.gz' #H1 EZH Bed\n",
    "    'h1ez':'https://www.encodeproject.org/files/ENCFF109KCQ/@@download/ENCFF109KCQ.bigWig', #H1 EZH bw\n",
    "    'h1suz':'https://www.encodeproject.org/files/ENCFF609MMJ/@@download/ENCFF609MMJ.bigWig', #h1 suz\n",
    "    'h1':'http://smithdata.usc.edu/methbase/data/Xie-Human-2013/Human_H1/tracks_hg38/Human_H1.meth.bw',\n",
    "    'h9':'http://smithdata.usc.edu/methbase/data/Xie-Human-2013/Human_H9/tracks_hg38/Human_H9.meth.bw',\n",
    "    'h1_hmr':'http://smithdata.usc.edu/methbase/data/Xie-Human-2013/Human_H1/tracks_hg38/Human_H1.hmr.bb',\n",
    "}\n",
    "t4={\n",
    "    't4y':'http://smithdata.usc.edu/methbase/data/Heyn-Human-NewbornCentenarian-2012/Human_CD4T-Newborn/tracks_hg38/Human_CD4T-Newborn.meth.bw',\n",
    "    't4o':'http://smithdata.usc.edu/methbase/data/Heyn-Human-NewbornCentenarian-2012/Human_CD4T-100yr/tracks_hg38/Human_CD4T-100yr.meth.bw',\n",
    "    't4y_hmr':'http://smithdata.usc.edu/methbase/data/Heyn-Human-NewbornCentenarian-2012/Human_CD4T-Newborn/tracks_hg38/Human_CD4T-Newborn.hmr.bb',    \n",
    "    't4o_hmr':'http://smithdata.usc.edu/methbase/data/Heyn-Human-NewbornCentenarian-2012/Human_CD4T-100yr/tracks_hg38/Human_CD4T-100yr.hmr.bb' ,   \n",
    "}\n",
    "\n",
    "tmp='https://storage.googleapis.com/gtex_analysis_v8/rna_seq_data/GTEx_Analysis_2017-06-05_v8_RNASeQCv1.1.9_gene_median_tpm.gct.gz'\n",
    "\n",
    "geo={\n",
    "'pbmc_neo':'https://ftp.ncbi.nlm.nih.gov/geo/series/GSE140nnn/GSE140730/matrix/GSE140730-GPL20795_series_matrix.txt.gz', #neonatal wg blood hg38\n",
    "}\n",
    "\n",
    "\n",
    "man450_19='https://webdata.illumina.com/downloads/productfiles/humanmethylation450/humanmethylation450_15017482_v1-2.csv'\n",
    "man450_38='https://zhouserver.research.chop.edu/InfiniumAnnotation/20210615/HM450/HM450.hg38.manifest.gencode.v36.tsv.gz'\n",
    "man_epic='https://webdata.illumina.com/downloads/productfiles/methylationEPIC/infinium-methylationepic-v-1-0-b5-manifest-file-csv.zip'\n",
    "array_gses={\n",
    "    'GSE76626':'https://ftp.ncbi.nlm.nih.gov/geo/series/GSE76nnn/GSE76626/suppl/GSE76626_ChIP-Seq_RPM.txt.gz', ## EZH hg38\n",
    "    'GSE103657':'https://ftp.ncbi.nlm.nih.gov/geo/series/GSE103nnn/GSE103657/suppl/GSE103657_beta_values.txt.gz', #neo\n",
    "    'GSE103657m':'https://ftp.ncbi.nlm.nih.gov/geo/series/GSE103nnn/GSE103657/matrix/GSE103657_series_matrix.txt.gz', \n",
    "    'GSE152027':'https://ftp.ncbi.nlm.nih.gov/geo/series/GSE152nnn/GSE152027/suppl/GSE152027_IOP_processed_signals.csv.gz', # Schizophrenia ML\n",
    "    'GSE152027m':'https://ftp.ncbi.nlm.nih.gov/geo/series/GSE152nnn/GSE152027/matrix/GSE152027_series_matrix.txt.gz',    \n",
    "    'GSE40279':'https://ftp.ncbi.nlm.nih.gov/geo/series/GSE40nnn/GSE40279/matrix/GSE40279_series_matrix.txt.gz', # Hannum\n",
    "    'GSE42861':'https://ftp.ncbi.nlm.nih.gov/geo/series/GSE42nnn/GSE42861/matrix/GSE42861_series_matrix.txt.gz', # arthritis\n",
    "    'GSE55763':'https://ftp.ncbi.nlm.nih.gov/geo/series/GSE55nnn/GSE55763/suppl/GSE55763_normalized_betas.txt.gz', # quality 2,700\n",
    "    'GSE55763m':'https://ftp.ncbi.nlm.nih.gov/geo/series/GSE55nnn/GSE55763/matrix/GSE55763_series_matrix.txt.gz',    \n",
    "    'GSE132203':'https://ftp.ncbi.nlm.nih.gov/geo/series/GSE132nnn/GSE132203/suppl/GSE132203_Geo_Submission_GTPEpic.csv.gz',\n",
    "}"
   ]
  },
  {
   "cell_type": "code",
   "execution_count": 15,
   "id": "fe721055-a82f-4b49-ac13-8182f41e33c1",
   "metadata": {},
   "outputs": [],
   "source": [
    "#!wget -nc -q {h['ez']} -P {source}\n",
    "!wget -nc -q {h['h1ez']} -P {source}\n",
    "!wget -nc -q {h['h1suz']} -P {source}\n",
    "!wget -nc -q {h['h1']} -P 'data/meth/h/'\n",
    "!wget -nc -q {h['h9']} -P 'data/meth/h/'\n",
    "!wget -nc -q {h['h1_hmr']} -P 'data/meth/h/'\n",
    "!wget -nc -q {h['t4y_hmr']} -P 'data/meth/t4/'\n",
    "!wget -nc -q {h['t4o_hmr']} -P 'data/meth/t4/'\n",
    "!wget -nc -q {t4['t4y']} -P 'data/meth/t4/'\n",
    "!wget -nc -q {t4['t4o']} -P 'data/meth/t4/'"
   ]
  },
  {
   "cell_type": "code",
   "execution_count": 4,
   "id": "994ed8c1-eabc-4458-9569-7f677b54cc7b",
   "metadata": {},
   "outputs": [],
   "source": [
    "!wget -nc -q {tmp} -P {source}"
   ]
  },
  {
   "cell_type": "code",
   "execution_count": 5,
   "id": "f1359151-b00e-418e-86d6-02f06aab492d",
   "metadata": {},
   "outputs": [],
   "source": [
    "!wget -nc -q {geo['pbmc_neo']} -P {source}pbmc_neo"
   ]
  },
  {
   "cell_type": "code",
   "execution_count": 6,
   "id": "37e425d3-0c2f-44f5-b171-1814e96ee143",
   "metadata": {},
   "outputs": [],
   "source": [
    "neo_=source+'pbmc_neo/GSE140730-GPL20795_series_matrix.txt.gz'\n",
    "neo=pd.read_csv(neo_,sep='\\t',skiprows=31).T\n",
    "neo=neo[neo[9]=='diagnosis: TD'] #typical development\n",
    "GSE140730=neo[43].to_dict()\n",
    "for gse,link in GSE140730.items():\n",
    "    !wget -nc -q \"{link}\" -O \"{source}pbmc_neo/{gse}.txt.gz\""
   ]
  },
  {
   "cell_type": "code",
   "execution_count": 7,
   "id": "ea450009-a09a-48ee-a872-fb326c68d511",
   "metadata": {},
   "outputs": [],
   "source": [
    "!wget -nc -q {man450_19} -P {source}array\n",
    "!wget -nc -q {man450_38} -P {source}array\n",
    "!wget -nc -q {man_epic} -P {source}array"
   ]
  },
  {
   "cell_type": "code",
   "execution_count": 8,
   "id": "8cf277ca-405b-4771-b570-8d30e851c0ee",
   "metadata": {},
   "outputs": [
    {
     "name": "stdout",
     "output_type": "stream",
     "text": [
      "1518.2068514823914\n",
      "(438, 407850)\n"
     ]
    },
    {
     "data": {
      "text/plain": [
       "(407839, 4)"
      ]
     },
     "execution_count": 8,
     "metadata": {},
     "output_type": "execute_result"
    }
   ],
   "source": [
    "man450_of_='data/source/array/humanmethylation450_15017482_v1-2.csv'\n",
    "meth450_hg38_='data/source/array/HM450.hg38.manifest.gencode.v36.tsv.gz'\n",
    "cols=['IlmnID','CHR','UCSC_RefGene_Name']\n",
    "man=pd.read_csv(man450_of_,skiprows=7,index_col=0,low_memory=False,engine='c',usecols=cols)\n",
    "man=man[(~man.CHR.isna())&(~man.CHR.isin(['X','Y','M']))]\n",
    "man38=pd.read_table(meth450_hg38_,index_col='probeID')\n",
    "man38=man38[(~man38.CpG_chrm.isna())&(~man38.CpG_chrm.isin(['chrX','chrY','chrM']))].copy()\n",
    "man38['CpG_chrm']=man38.CpG_chrm.str[3:].astype(float)\n",
    "man38['g']=man38.CpG_chrm.astype(int)*10**9+man38.CpG_beg.astype(int)\n",
    "man=man.merge(man38['g'],left_index=True,right_index=True)\n",
    "gse='GSE103657' #neonatal\n",
    "df=pd.read_csv('data/array/'+gse+'.csv',index_col=0,engine='c')\n",
    "print(time.time()-t)\n",
    "df=df.T\n",
    "print(df.shape)\n",
    "man=man.merge(df.median().rename('n'),left_index=True,right_index=True)"
   ]
  },
  {
   "cell_type": "code",
   "execution_count": 15,
   "id": "4aca2556-912d-4d87-8957-e64ad431b00e",
   "metadata": {},
   "outputs": [],
   "source": [
    "tmp_='https://storage.googleapis.com/gtex_analysis_v8/rna_seq_data/GTEx_Analysis_2017-06-05_v8_RNASeQCv1.1.9_gene_median_tpm.gct.gz'\n",
    "tpm=pd.read_csv(tmp_,sep='\\t',skiprows=2,index_col=0)\n",
    "tpm=tpm.groupby('Description').mean()\n",
    "tpmi=tpm.index\n",
    "man['gs']=man.UCSC_RefGene_Name.apply(lambda x: np.nan if pd.isnull(x) else set(x.split(';')))\n",
    "man['e']=man['gs'].apply(lambda x: np.nan if pd.isnull(x) else  max_exp(list(x),tpm,tpmi,'Whole Blood'))"
   ]
  },
  {
   "cell_type": "code",
   "execution_count": 16,
   "id": "40c04526-af75-41ba-9674-d7d2548c5999",
   "metadata": {},
   "outputs": [
    {
     "data": {
      "text/plain": [
       "(407839, 6)"
      ]
     },
     "execution_count": 16,
     "metadata": {},
     "output_type": "execute_result"
    }
   ],
   "source": [
    "man.to_csv('data/array/man_450.csv')\n",
    "man.shape"
   ]
  },
  {
   "cell_type": "code",
   "execution_count": 8,
   "id": "3be8b6e8-af28-4881-8ddb-ca13d296b668",
   "metadata": {},
   "outputs": [
    {
     "name": "stdout",
     "output_type": "stream",
     "text": [
      "9\n"
     ]
    }
   ],
   "source": [
    "print(round(time.time()-t))"
   ]
  }
 ],
 "metadata": {
  "kernelspec": {
   "display_name": "meth",
   "language": "python",
   "name": "meth"
  },
  "language_info": {
   "codemirror_mode": {
    "name": "ipython",
    "version": 3
   },
   "file_extension": ".py",
   "mimetype": "text/x-python",
   "name": "python",
   "nbconvert_exporter": "python",
   "pygments_lexer": "ipython3",
   "version": "3.9.7"
  }
 },
 "nbformat": 4,
 "nbformat_minor": 5
}
