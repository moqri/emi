{
 "cells": [
  {
   "cell_type": "code",
   "execution_count": 2,
   "id": "7c537b53-d4b7-4c3b-b020-69bd465a8b38",
   "metadata": {},
   "outputs": [],
   "source": [
    "import pandas as pd\n",
    "import seaborn as sns\n",
    "from matplotlib import pyplot\n",
    "import pyBigWig\n",
    "import numpy as np"
   ]
  },
  {
   "cell_type": "code",
   "execution_count": 3,
   "id": "529c00e3-34e3-49e6-9a58-c8d6120265df",
   "metadata": {},
   "outputs": [],
   "source": [
    "ez=pd.read_csv('data/ez.csv',index_col=0,engine='c')\n",
    "exp=pd.read_csv('data/exp.csv',index_col=0,engine='c')"
   ]
  },
  {
   "cell_type": "code",
   "execution_count": 4,
   "id": "4570ad6b-4091-427b-9839-03c612033f3c",
   "metadata": {},
   "outputs": [],
   "source": [
    "#h=pd.read_csv('data/h.csv',index_col=0,engine='c')\n",
    "#ez=ez.merge(h,left_index=True,right_index=True)"
   ]
  },
  {
   "cell_type": "code",
   "execution_count": null,
   "id": "c34cfaa1-41c9-4461-a702-0cabf5bdcaaf",
   "metadata": {},
   "outputs": [],
   "source": [
    "df=pd.read_csv('data/meth/t4_all.csv',index_col=0)\n",
    "df.shape"
   ]
  },
  {
   "cell_type": "code",
   "execution_count": null,
   "id": "2ae31608-7f73-4e29-896e-7f6bfef61d7b",
   "metadata": {},
   "outputs": [],
   "source": [
    "fs=[c.strip('.meth') for c in df.columns]\n",
    "df.columns=fs"
   ]
  },
  {
   "cell_type": "code",
   "execution_count": 6,
   "id": "1620f1c5-d3ac-46e5-b490-966f5467adb8",
   "metadata": {},
   "outputs": [
    {
     "ename": "NameError",
     "evalue": "name 'df' is not defined",
     "output_type": "error",
     "traceback": [
      "\u001b[0;31m---------------------------------------------------------------------------\u001b[0m",
      "\u001b[0;31mNameError\u001b[0m                                 Traceback (most recent call last)",
      "\u001b[0;32m/local/scratch/moqri/slrmtmp.30800439/ipykernel_13118/1127658553.py\u001b[0m in \u001b[0;36m<module>\u001b[0;34m\u001b[0m\n\u001b[1;32m      1\u001b[0m \u001b[0mind\u001b[0m\u001b[0;34m=\u001b[0m\u001b[0mpd\u001b[0m\u001b[0;34m.\u001b[0m\u001b[0mread_csv\u001b[0m\u001b[0;34m(\u001b[0m\u001b[0;34m'data/ind.csv'\u001b[0m\u001b[0;34m,\u001b[0m\u001b[0mindex_col\u001b[0m\u001b[0;34m=\u001b[0m\u001b[0;36m0\u001b[0m\u001b[0;34m,\u001b[0m\u001b[0mengine\u001b[0m\u001b[0;34m=\u001b[0m\u001b[0;34m'c'\u001b[0m\u001b[0;34m)\u001b[0m\u001b[0;34m\u001b[0m\u001b[0;34m\u001b[0m\u001b[0m\n\u001b[0;32m----> 2\u001b[0;31m \u001b[0mdf\u001b[0m\u001b[0;34m=\u001b[0m\u001b[0mdf\u001b[0m\u001b[0;34m.\u001b[0m\u001b[0mmerge\u001b[0m\u001b[0;34m(\u001b[0m\u001b[0mind\u001b[0m\u001b[0;34m[\u001b[0m\u001b[0;34m[\u001b[0m\u001b[0;34m'd'\u001b[0m\u001b[0;34m,\u001b[0m\u001b[0;34m'gene'\u001b[0m\u001b[0;34m]\u001b[0m\u001b[0;34m]\u001b[0m\u001b[0;34m,\u001b[0m\u001b[0mleft_index\u001b[0m\u001b[0;34m=\u001b[0m\u001b[0;32mTrue\u001b[0m\u001b[0;34m,\u001b[0m\u001b[0mright_index\u001b[0m\u001b[0;34m=\u001b[0m\u001b[0;32mTrue\u001b[0m\u001b[0;34m)\u001b[0m\u001b[0;34m\u001b[0m\u001b[0;34m\u001b[0m\u001b[0m\n\u001b[0m\u001b[1;32m      3\u001b[0m \u001b[0;31m#ind=ind.merge(ez,left_index=True, right_index=True)\u001b[0m\u001b[0;34m\u001b[0m\u001b[0;34m\u001b[0m\u001b[0m\n",
      "\u001b[0;31mNameError\u001b[0m: name 'df' is not defined"
     ]
    }
   ],
   "source": [
    "ind=pd.read_csv('data/ind.csv',index_col=0,engine='c')\n",
    "df=df.merge(ind[['d','gene']],left_index=True,right_index=True)\n",
    "#ind=ind.merge(ez,left_index=True, right_index=True)"
   ]
  },
  {
   "cell_type": "code",
   "execution_count": 7,
   "id": "7c4361da-0e77-4e6d-b00c-6ec1a53a7098",
   "metadata": {},
   "outputs": [
    {
     "data": {
      "text/plain": [
       "<AxesSubplot:>"
      ]
     },
     "execution_count": 7,
     "metadata": {},
     "output_type": "execute_result"
    },
    {
     "data": {
      "image/png": "[encoded data removed]",
      "text/plain": [
       "<Figure size 432x288 with 1 Axes>"
      ]
     },
     "metadata": {
      "needs_background": "light"
     },
     "output_type": "display_data"
    }
   ],
   "source": [
    "df.d.hist(bins=100)"
   ]
  },
  {
   "cell_type": "code",
   "execution_count": 8,
   "id": "703bb743-1f28-4963-9472-2fda0ffea6d2",
   "metadata": {},
   "outputs": [
    {
     "name": "stdout",
     "output_type": "stream",
     "text": [
      "(2213449, 4)\n"
     ]
    },
    {
     "data": {
      "text/plain": [
       "<AxesSubplot:>"
      ]
     },
     "execution_count": 8,
     "metadata": {},
     "output_type": "execute_result"
    },
    {
     "data": {
      "image/png": "[encoded data removed]",
      "text/plain": [
       "<Figure size 432x288 with 1 Axes>"
      ]
     },
     "metadata": {
      "needs_background": "light"
     },
     "output_type": "display_data"
    }
   ],
   "source": [
    "df['s']=df[fs].sum(1)\n",
    "df=df[df.s>0]\n",
    "df=df[df.s<len(fs)]\n",
    "df=df.drop('s',axis=1).round(3)\n",
    "print(df.shape)\n",
    "df.d.hist(bins=100)"
   ]
  },
  {
   "cell_type": "code",
   "execution_count": 36,
   "id": "8e09bcdb-898a-4bd1-a97f-f42f3219a9ed",
   "metadata": {},
   "outputs": [],
   "source": [
    "neo=pd.read_csv('data/neo.csv',index_col=0)"
   ]
  },
  {
   "cell_type": "code",
   "execution_count": 47,
   "id": "b7254f87-3497-4576-a853-f3e6f664a502",
   "metadata": {},
   "outputs": [],
   "source": [
    "neo=neo.merge(ind[['d','gene']],left_index=True,right_index=True)"
   ]
  },
  {
   "cell_type": "code",
   "execution_count": 78,
   "id": "10388d48-1f4c-4a9c-900c-908fd9c481bc",
   "metadata": {},
   "outputs": [
    {
     "data": {
      "text/plain": [
       "1096435"
      ]
     },
     "execution_count": 78,
     "metadata": {},
     "output_type": "execute_result"
    }
   ],
   "source": [
    "neo=neo[neo.d.abs()<500]\n",
    "len(neo)"
   ]
  },
  {
   "cell_type": "code",
   "execution_count": 69,
   "id": "c04fa9d1-a4cd-41e1-8485-ccd9b3f02d0d",
   "metadata": {},
   "outputs": [],
   "source": [
    "cs=neo.groupby('gene').size()"
   ]
  },
  {
   "cell_type": "code",
   "execution_count": 72,
   "id": "1ee98f5c-7dc8-4285-9496-f89bc0283d7c",
   "metadata": {},
   "outputs": [],
   "source": [
    "cs=cs[cs>10]"
   ]
  },
  {
   "cell_type": "code",
   "execution_count": 99,
   "id": "793ea923-5a5a-4c16-af87-44f38a0b3300",
   "metadata": {},
   "outputs": [
    {
     "data": {
      "text/plain": [
       "1084822"
      ]
     },
     "execution_count": 99,
     "metadata": {},
     "output_type": "execute_result"
    }
   ],
   "source": [
    "neo=neo[neo.gene.isin(cs.index)]\n",
    "len(neo)"
   ]
  },
  {
   "cell_type": "code",
   "execution_count": 101,
   "id": "d2250ba5-ca9f-4659-a2ff-0b7c04c84965",
   "metadata": {},
   "outputs": [
    {
     "data": {
      "text/plain": [
       "1084822"
      ]
     },
     "execution_count": 102,
     "metadata": {},
     "output_type": "execute_result"
    }
   ],
   "source": [
    "neo=neo.merge(exp['e_blood'],left_index=True,right_index=True)\n",
    "len(neo)"
   ]
  },
  {
   "cell_type": "code",
   "execution_count": 188,
   "id": "6ff020b0-6b31-4c69-a3a8-d1dd358593e0",
   "metadata": {},
   "outputs": [
    {
     "data": {
      "text/plain": [
       "1084822"
      ]
     },
     "execution_count": 188,
     "metadata": {},
     "output_type": "execute_result"
    }
   ],
   "source": [
    "neo=neo.merge(ez,left_index=True,right_index=True)\n",
    "len(neo)"
   ]
  },
  {
   "cell_type": "code",
   "execution_count": 189,
   "id": "4c195f72-5bad-4873-8057-7cb52154591d",
   "metadata": {},
   "outputs": [],
   "source": [
    "dg=neo.groupby('gene').mean()"
   ]
  },
  {
   "cell_type": "code",
   "execution_count": 190,
   "id": "f1bd6aeb-3f12-45d0-8580-03d9649a411c",
   "metadata": {},
   "outputs": [],
   "source": [
    "me=dg[dg.neo>.8]"
   ]
  },
  {
   "cell_type": "code",
   "execution_count": 191,
   "id": "304de985-189d-402f-ac04-e494a2c1b7cd",
   "metadata": {},
   "outputs": [
    {
     "data": {
      "text/plain": [
       "1.625351000000004"
      ]
     },
     "execution_count": 191,
     "metadata": {},
     "output_type": "execute_result"
    }
   ],
   "source": [
    "me.e_blood.quantile(.9)"
   ]
  },
  {
   "cell_type": "code",
   "execution_count": 192,
   "id": "4662a040-f799-4470-8443-7c273014db34",
   "metadata": {},
   "outputs": [],
   "source": [
    "um=dg[dg.neo<.2]"
   ]
  },
  {
   "cell_type": "code",
   "execution_count": 193,
   "id": "294487a5-e95b-41b5-accd-66e2d691d0a2",
   "metadata": {},
   "outputs": [
    {
     "data": {
      "text/plain": [
       "2.91638"
      ]
     },
     "execution_count": 193,
     "metadata": {},
     "output_type": "execute_result"
    }
   ],
   "source": [
    "um.e_blood.quantile(.5)"
   ]
  },
  {
   "cell_type": "code",
   "execution_count": 194,
   "id": "ae55f23f-84e5-4645-abcb-b2799ee907c1",
   "metadata": {},
   "outputs": [
    {
     "data": {
      "text/plain": [
       "<AxesSubplot:>"
      ]
     },
     "execution_count": 194,
     "metadata": {},
     "output_type": "execute_result"
    },
    {
     "data": {
      "image/png": "[encoded data removed]",
      "text/plain": [
       "<Figure size 432x288 with 1 Axes>"
      ]
     },
     "metadata": {
      "needs_background": "light"
     },
     "output_type": "display_data"
    }
   ],
   "source": [
    "dg[dg.e_blood<1].neo.hist(bins=100)"
   ]
  }
 ],
 "metadata": {
  "kernelspec": {
   "display_name": "meth",
   "language": "python",
   "name": "meth"
  },
  "language_info": {
   "codemirror_mode": {
    "name": "ipython",
    "version": 3
   },
   "file_extension": ".py",
   "mimetype": "text/x-python",
   "name": "python",
   "nbconvert_exporter": "python",
   "pygments_lexer": "ipython3",
   "version": "3.9.7"
  }
 },
 "nbformat": 4,
 "nbformat_minor": 5
}
