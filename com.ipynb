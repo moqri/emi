{
 "cells": [
  {
   "cell_type": "code",
   "execution_count": 220,
   "id": "ce35573f-8edd-4852-925a-e0ac81ded2a4",
   "metadata": {},
   "outputs": [],
   "source": [
    "import time\n",
    "import pandas as pd\n",
    "import numpy as np\n",
    "import util\n",
    "import pyBigWig\n",
    "import seaborn as sns\n",
    "import glob\n",
    "from matplotlib_venn import venn2\n",
    "from matplotlib import pyplot as plt\n",
    "source='data/source/'\n",
    "\n",
    "tic=time.time()\n",
    "def fix(rs):\n",
    "    ratio=1\n",
    "    gs=[]\n",
    "    while len(gs)<len(rs):\n",
    "        if len(gs)>0:\n",
    "            rs=gs.copy()\n",
    "        gs=[]\n",
    "        skip=0\n",
    "        for i in range(len(rs)-1):\n",
    "            if skip==1:\n",
    "                skip=0\n",
    "                continue\n",
    "            d0=rs[i][2]-rs[i][1]\n",
    "            d1=rs[i+1][2]-rs[i+1][1]\n",
    "            gap=rs[i+1][1]-rs[i][2]\n",
    "            if rs[i][0]==rs[i+1][0] and d0>+ratio*gap and d1>ratio*gap:\n",
    "                gs.append([rs[i][0],rs[i][1],rs[i+1][2]])\n",
    "                skip=1\n",
    "            else :\n",
    "                gs.append([rs[i][0],rs[i][1],rs[i][2]])\n",
    "        gs.append(rs[-1])\n",
    "    print(len(gs))\n",
    "    return pd.DataFrame(rs)\n",
    "def get_cg(x):\n",
    "    cg=set(range(x['b'],x['e']))\n",
    "    cg=ind[x['ch']].intersection(cg)\n",
    "    return cg\n",
    "def hmr2df(hmr):\n",
    "    gs=pd.read_table(hmr,header=None,usecols=[0,1,2])\n",
    "    #gs=gs[gs[0]=='chr1']\n",
    "    gs=gs[~gs[0].isin(['chrX','chrY','chrM'])]\n",
    "    print(len(gs),end=',')\n",
    "    #gs=fix(gs.values)\n",
    "    gs.columns=['ch','b','e']   \n",
    "    gs['d']=gs['e']-gs['b']\n",
    "    gs['r']=gs.apply(lambda x:get_cg(x) ,axis=1)\n",
    "    gs['rd']=gs.r.apply(lambda x:len(x))\n",
    "    gg=gs.groupby('ch')['r'].apply(list)\n",
    "    gg=gg.apply(lambda x:set.union(*x))    \n",
    "    return (gs,gg)   \n",
    "def get_ts(x):\n",
    "    chrom=x['ch']\n",
    "    com=set(range(x['b'],x['e'])).intersection(expg[chrom])\n",
    "    if len(com)>0:\n",
    "        ts=list(com)[0]\n",
    "        ts=exp.loc[(exp['chrom']==int(chrom[3:])) & (exp.ts==ts)].index.values[0]\n",
    "    else:\n",
    "        ts=np.nan\n",
    "    return(ts)"
   ]
  },
  {
   "cell_type": "code",
   "execution_count": 3,
   "id": "b2bbe1de-93f9-428f-bc14-4e6ea3bab94e",
   "metadata": {},
   "outputs": [],
   "source": [
    "ind=pd.read_table('data/meth/h/Human_H1.meth',engine='c',usecols=[0,1],header=None)\n",
    "ind=ind.groupby(0)[1].apply(list)\n",
    "ind=ind.apply(lambda x:set(x))"
   ]
  },
  {
   "cell_type": "code",
   "execution_count": 4,
   "id": "f3f4c1f5-c44f-429a-8225-43122aba948c",
   "metadata": {},
   "outputs": [],
   "source": [
    "samples=['s','t','h']\n",
    "c={}\n",
    "cg={}\n",
    "cu={}\n",
    "cug={}"
   ]
  },
  {
   "cell_type": "code",
   "execution_count": 5,
   "id": "363c9fed-8bb3-4244-b67d-2ac86500d22a",
   "metadata": {},
   "outputs": [
    {
     "name": "stdout",
     "output_type": "stream",
     "text": [
      "95351,52648,39517,"
     ]
    }
   ],
   "source": [
    "for s in samples:\n",
    "    c[s],cg[s]=hmr2df('data/meth/'+s+'/'+s+'.hmr')"
   ]
  },
  {
   "cell_type": "code",
   "execution_count": 11,
   "id": "49717b06-0a5b-4463-966f-5ce29bae1dce",
   "metadata": {},
   "outputs": [],
   "source": [
    "c['t']['s']=c['t'].apply(lambda x:len(cg['s'][x['ch']].intersection(x['r'])),1)\n",
    "c['t']['sh']=c['t'].apply(lambda x:len(cg['s'][x['ch']].intersection(x['r']).intersection(cg['h'][x['ch']])),1)\n",
    "c['s']['t']=c['s'].apply(lambda x:len(cg['t'][x['ch']].intersection(x['r'])),1)\n",
    "c['s']['th']=c['s'].apply(lambda x:len(cg['t'][x['ch']].intersection(x['r']).intersection(cg['h'][x['ch']])),1)"
   ]
  },
  {
   "cell_type": "code",
   "execution_count": 60,
   "id": "65357d32-5c36-4c07-ae1f-b591da05e1b2",
   "metadata": {},
   "outputs": [
    {
     "name": "stdout",
     "output_type": "stream",
     "text": [
      "2609 2352 2144\n",
      "3486 2352 2144\n"
     ]
    }
   ],
   "source": [
    "print(round(c['t']['rd'].sum()/10**3),\n",
    "      round(c['t']['s'].sum()/10**3),\n",
    "      round(c['t'][c['t']['s']>0]['sh'].sum()/10**3))\n",
    "print(round(c['s']['rd'].sum()/10**3),\n",
    "      round(c['s']['t'].sum()/10**3),\n",
    "      round(c['s'][c['s']['t']>0]['th'].sum()/10**3))"
   ]
  },
  {
   "cell_type": "code",
   "execution_count": 61,
   "id": "2b7c5178-bb7a-480b-be4e-df4d2fa6b17b",
   "metadata": {},
   "outputs": [
    {
     "name": "stdout",
     "output_type": "stream",
     "text": [
      "208\n"
     ]
    }
   ],
   "source": [
    "print(2352-2144)"
   ]
  },
  {
   "cell_type": "code",
   "execution_count": 82,
   "id": "b29c1d66-875a-401a-831c-605a686729c2",
   "metadata": {},
   "outputs": [
    {
     "data": {
      "text/plain": [
       "<matplotlib_venn._common.VennDiagram at 0x2ae348d43100>"
      ]
     },
     "execution_count": 82,
     "metadata": {},
     "output_type": "execute_result"
    },
    {
     "data": {
      "image/png": "[encoded data removed]",
      "text/plain": [
       "<Figure size 432x288 with 1 Axes>"
      ]
     },
     "metadata": {},
     "output_type": "display_data"
    }
   ],
   "source": [
    "venn2(subsets = (3486-2352, 2609-2352, 2352), set_labels = ('HMR in Epidermis', 'HMR in T cells'))"
   ]
  },
  {
   "cell_type": "code",
   "execution_count": 69,
   "id": "fb19e4fa-001d-48e0-880f-ba85e7da9793",
   "metadata": {},
   "outputs": [],
   "source": [
    "for s in ['s','t']:\n",
    "    for n in ['y','o']:\n",
    "        path='data/meth/'+s+'/'+n+'.bw'\n",
    "        bw=pyBigWig.open(path)\n",
    "        c[s][n]=c[s].apply(lambda x: bw.stats(x['ch'],x['b'],x['e'],'mean',exact=True)[0],axis=1)\n",
    "    c[s]['dd']=c[s]['o']-c[s]['y']\n",
    "    cu[s]=c[s][c[s]['dd']>.1]\n",
    "    cug[s]=cu[s].groupby('ch')['r'].apply(list)\n",
    "    cug[s]=cug[s].apply(lambda x:set.union(*x))                   "
   ]
  },
  {
   "cell_type": "code",
   "execution_count": null,
   "id": "f66530e2-9a64-4a12-a665-e75ad034623c",
   "metadata": {},
   "outputs": [],
   "source": [
    "cu['t']['su']=cu['t'].apply(lambda x:len(cug['s'][x['ch']].intersection(x['r'])),1)\n",
    "cu['t']['suh']=cu['t'].apply(lambda x:len(cug['s'][x['ch']].intersection(cg['h'][x['ch']]).intersection(x['r'])),axis=1)\n",
    "cu['s']['tu']=cu['s'].apply(lambda x:len(cug['t'][x['ch']].intersection(x['r'])),1)\n",
    "cu['s']['tuh']=cu['s'].apply(lambda x:len(cug['t'][x['ch']].intersection(cg['h'][x['ch']]).intersection(x['r'])),axis=1)"
   ]
  },
  {
   "cell_type": "code",
   "execution_count": 78,
   "id": "2c838eb5-b11e-4b88-bf09-fd656ff2ed7d",
   "metadata": {},
   "outputs": [
    {
     "name": "stdout",
     "output_type": "stream",
     "text": [
      "259 27 15\n",
      "95 27 15\n"
     ]
    }
   ],
   "source": [
    "print(round(cu['t'].rd.sum()/10**3),\n",
    "      round(cu['t']['su'].sum()/10**3),\n",
    "      round(cu['t'][cu['t']['su']>0]['suh'].sum()/10**3))\n",
    "print(round(cu['s'].rd.sum()/10**3),\n",
    "      round(cu['s']['tu'].sum()/10**3),\n",
    "      round(cu['s'][cu['s']['tu']>0]['tuh'].sum()/10**3))"
   ]
  },
  {
   "cell_type": "code",
   "execution_count": 83,
   "id": "8a28dd03-5a16-440a-a4d4-7204f56aea39",
   "metadata": {},
   "outputs": [
    {
     "data": {
      "text/plain": [
       "<matplotlib_venn._common.VennDiagram at 0x2ae348d8c6a0>"
      ]
     },
     "execution_count": 83,
     "metadata": {},
     "output_type": "execute_result"
    },
    {
     "data": {
      "image/png": "[encoded data removed]",
      "text/plain": [
       "<Figure size 432x288 with 1 Axes>"
      ]
     },
     "metadata": {},
     "output_type": "display_data"
    }
   ],
   "source": [
    "venn2(subsets = (259-27, 95-27, 27), set_labels = ('ageHMR in Epidermis', 'ageHMR in T cells'))"
   ]
  },
  {
   "cell_type": "code",
   "execution_count": null,
   "id": "1ed6e3b8-37f1-4dc1-8897-8e24dc3d44bb",
   "metadata": {},
   "outputs": [],
   "source": [
    "bw='data/source/ENCFF109KCQ.bigWig'\n",
    "bw=pyBigWig.open(bw)\n",
    "ts=cu['t'][cu['t']['su']>0]\n",
    "st=cu['s'][cu['s']['tu']>0]\n",
    "bs=[]\n",
    "for i,r in ts.iterrows():\n",
    "    bs.append(bw.stats(r['ch'],int(r['b']),int(r['e']),'max')[0])\n",
    "ts['ez']=bs    \n",
    "bs=[]\n",
    "for i,r in st.iterrows():\n",
    "    bs.append(bw.stats(r['ch'],int(r['b']),int(r['e']),'max')[0])\n",
    "st['ez']=bs    "
   ]
  },
  {
   "cell_type": "code",
   "execution_count": 195,
   "id": "08b36edc-7dde-40cd-805c-8edd2f661636",
   "metadata": {},
   "outputs": [
    {
     "name": "stdout",
     "output_type": "stream",
     "text": [
      "2.892130427157452 40.63913004243051\n",
      "2.9151432654522944 40.820904419018945\n"
     ]
    }
   ],
   "source": [
    "print(ts[ts.suh==0].ez.mean(),ts[ts.suh>0].ez.mean())\n",
    "print(st[st.tuh==0].ez.mean(),st[st.tuh>0].ez.mean())"
   ]
  },
  {
   "cell_type": "code",
   "execution_count": null,
   "id": "eefd0001-a641-43b2-8278-2dec8f49f696",
   "metadata": {},
   "outputs": [],
   "source": [
    "ts['suhb']=ts['suh']>0\n",
    "st['tuhb']=st['tuh']>0"
   ]
  },
  {
   "cell_type": "code",
   "execution_count": 301,
   "id": "2f74a3a7-620c-463f-8bf0-b31b15da4c36",
   "metadata": {},
   "outputs": [
    {
     "data": {
      "text/plain": [
       "<AxesSubplot:xlabel='HMR group', ylabel='ez'>"
      ]
     },
     "execution_count": 301,
     "metadata": {},
     "output_type": "execute_result"
    },
    {
     "data": {
      "image/png": "[encoded data removed]",
      "text/plain": [
       "<Figure size 432x288 with 1 Axes>"
      ]
     },
     "metadata": {
      "needs_background": "light"
     },
     "output_type": "display_data"
    }
   ],
   "source": [
    "tst=ts.append(st[~st.tuhb])\n",
    "tst.loc[tst.tuhb==False,'HMR group']='CD4 T'\n",
    "tst.loc[tst.suhb==False,'HMR group']='Epidermis'\n",
    "tst=tst.fillna('HMR in ESC')\n",
    "sns.barplot(data=tst[['HMR group','ez']],x='HMR group',y='ez')"
   ]
  },
  {
   "cell_type": "code",
   "execution_count": 86,
   "id": "9d507001-4c91-41bc-bd4b-61f003262f64",
   "metadata": {},
   "outputs": [],
   "source": [
    "h=c['h'].copy()"
   ]
  },
  {
   "cell_type": "code",
   "execution_count": 88,
   "id": "b0a56e86-bccf-4b93-846e-829c6b10a0fd",
   "metadata": {},
   "outputs": [],
   "source": [
    "bw='data/source/ENCFF109KCQ.bigWig'\n",
    "bw=pyBigWig.open(bw)\n",
    "bs=[]\n",
    "for i,r in h.iterrows():\n",
    "    bs.append(bw.stats(r['ch'],int(r['b']),int(r['e']),'max')[0])\n",
    "h['ez']=bs"
   ]
  },
  {
   "cell_type": "code",
   "execution_count": 144,
   "id": "197015fa-eb83-448e-95ca-09f5b74a1ea5",
   "metadata": {},
   "outputs": [],
   "source": [
    "for s in ['s','f','t']:\n",
    "    for n in ['y','o']:\n",
    "        path='data/meth/'+s+'/'+n+'.bw'\n",
    "        bw=pyBigWig.open(path)\n",
    "        h[s+n]=h.apply(lambda x: bw.stats(x['ch'],x['b'],x['e'],'mean',exact=True)[0],axis=1)\n",
    "    h[s+'d']=h[s+'o']-h[s+'y']"
   ]
  },
  {
   "cell_type": "code",
   "execution_count": 283,
   "id": "7907e040-598b-4138-b33d-8ed21e10440e",
   "metadata": {},
   "outputs": [],
   "source": [
    "h.loc[h.ez>100,'ezg']='>100'\n",
    "h.loc[(h.ez>10)&(h.ez<100),'ezg']='10-100'\n",
    "h.loc[h.ez<10,'ezg']='<10'"
   ]
  },
  {
   "cell_type": "code",
   "execution_count": 293,
   "id": "59378f1a-89d8-405f-9e7f-dcdf285b8052",
   "metadata": {},
   "outputs": [
    {
     "data": {
      "text/html": [
       "<div>\n",
       "<style scoped>\n",
       "    .dataframe tbody tr th:only-of-type {\n",
       "        vertical-align: middle;\n",
       "    }\n",
       "\n",
       "    .dataframe tbody tr th {\n",
       "        vertical-align: top;\n",
       "    }\n",
       "\n",
       "    .dataframe thead th {\n",
       "        text-align: right;\n",
       "    }\n",
       "</style>\n",
       "<table border=\"1\" class=\"dataframe\">\n",
       "  <thead>\n",
       "    <tr style=\"text-align: right;\">\n",
       "      <th></th>\n",
       "      <th>ezg</th>\n",
       "      <th>variable</th>\n",
       "      <th>value</th>\n",
       "    </tr>\n",
       "  </thead>\n",
       "  <tbody>\n",
       "    <tr>\n",
       "      <th>0</th>\n",
       "      <td>&lt;10</td>\n",
       "      <td>ty</td>\n",
       "      <td>0.003165</td>\n",
       "    </tr>\n",
       "  </tbody>\n",
       "</table>\n",
       "</div>"
      ],
      "text/plain": [
       "   ezg variable     value\n",
       "0  <10       ty  0.003165"
      ]
     },
     "execution_count": 293,
     "metadata": {},
     "output_type": "execute_result"
    }
   ],
   "source": [
    "pl=h[['ezg','ty','to']].melt('ezg')\n",
    "pl.head(1)"
   ]
  },
  {
   "cell_type": "code",
   "execution_count": 296,
   "id": "8b644360-3fb8-43d1-b97b-ed99d88a3263",
   "metadata": {},
   "outputs": [
    {
     "data": {
      "text/plain": [
       "[Text(0.5, 0, 'EZH Binding Level'), Text(0, 0.5, 'DNA Methylation')]"
      ]
     },
     "execution_count": 296,
     "metadata": {},
     "output_type": "execute_result"
    },
    {
     "data": {
      "image/png": "[encoded data removed]",
      "text/plain": [
       "<Figure size 432x288 with 1 Axes>"
      ]
     },
     "metadata": {
      "needs_background": "light"
     },
     "output_type": "display_data"
    }
   ],
   "source": [
    "ax=sns.barplot(data=pl,x='ezg',y='value',hue='variable')\n",
    "ax.set(xlabel='EZH Binding Level', ylabel='DNA Methylation')"
   ]
  },
  {
   "cell_type": "code",
   "execution_count": null,
   "id": "b75f2e98-9a24-4f87-974f-c0093cf95301",
   "metadata": {},
   "outputs": [],
   "source": [
    "fs=['SRR3264'+str(i) for i in [413,414,415,416,722]]\n",
    "for sn in fs:\n",
    "    path='data/meth/f/'+sn+'.bw'\n",
    "    bw=pyBigWig.open(path)\n",
    "    h[sn]=h.apply(lambda x: bw.stats(x['ch'],x['b'],x['e'],'mean',exact=True)[0],axis=1)"
   ]
  },
  {
   "cell_type": "code",
   "execution_count": null,
   "id": "3aedef7b-76fd-4a15-8d1c-8063a17a70fe",
   "metadata": {},
   "outputs": [],
   "source": [
    "sp=['SRR10429'+ i for i in  ['03','06','07','09','11','13']]\n",
    "se=['SRR10429'+ i for i in  ['04','05','08','10','12','14']]\n",
    "sep=sp+se\n",
    "for sn in sep:\n",
    "    path='data/meth/s/'+sn+'.bw'\n",
    "    bw=pyBigWig.open(path)\n",
    "    h[sn]=h.apply(lambda x: bw.stats(x['ch'],x['b'],x['e'],'mean',exact=True)[0],axis=1)"
   ]
  },
  {
   "cell_type": "code",
   "execution_count": 340,
   "id": "55914c64-ea24-4dad-b96f-d4bf83d2984d",
   "metadata": {},
   "outputs": [
    {
     "name": "stdout",
     "output_type": "stream",
     "text": [
      "1035 972\n"
     ]
    }
   ],
   "source": [
    "hz=h[h.ez>100].copy()\n",
    "print(len(hz),len(hz[hz.td>0]))"
   ]
  },
  {
   "cell_type": "code",
   "execution_count": 341,
   "id": "9d697274-46bf-4746-bef9-78e620b8d324",
   "metadata": {},
   "outputs": [
    {
     "data": {
      "text/plain": [
       "587"
      ]
     },
     "execution_count": 341,
     "metadata": {},
     "output_type": "execute_result"
    }
   ],
   "source": [
    "tss=pd.read_csv('data/tss.csv',index_col=0)\n",
    "exp=pd.read_csv('data/exp.csv',index_col=0)\n",
    "exp['ch']='chr'+exp['chrom'].astype(str)\n",
    "expg=exp.groupby('ch')['ts'].apply(list)\n",
    "hz['ts']=hz.apply(lambda x: get_ts(x),axis=1)\n",
    "hzt=hz[hz.ts.notna()]\n",
    "len(hzt)"
   ]
  },
  {
   "cell_type": "code",
   "execution_count": 343,
   "id": "3284285f-3f53-46ba-bee0-fb8b84ffadf8",
   "metadata": {},
   "outputs": [
    {
     "data": {
      "text/plain": [
       "<AxesSubplot:xlabel='Age', ylabel='Average DNAm'>"
      ]
     },
     "execution_count": 343,
     "metadata": {},
     "output_type": "execute_result"
    },
    {
     "data": {
      "image/png": "[encoded data removed]",
      "text/plain": [
       "<Figure size 360x288 with 1 Axes>"
      ]
     },
     "metadata": {
      "needs_background": "light"
     },
     "output_type": "display_data"
    }
   ],
   "source": [
    "p=pd.DataFrame(hz[sep].mean())\n",
    "p['age']=[25,23,18,75,74,83]+[25,23,18,75,74,83]\n",
    "p['g']= ['Sun-protected']*6+['Sun-exposed']*6\n",
    "p['indivudal']=2*['Young1','Young2','Young3','Old1','Old2','Old3']\n",
    "p.columns=['Average DNAm','Age','Condition','Individual']\n",
    "fig, ax = pyplot.subplots(figsize=(5,4))\n",
    "sns.scatterplot(data=p,x='Age',y='Average DNAm',hue='Condition',hue_order=['Sun-exposed','Sun-protected'],\n",
    "                palette=['red','green'],markers=True, style='Individual',s=100,alpha=.7)"
   ]
  },
  {
   "cell_type": "code",
   "execution_count": 372,
   "id": "4802de58-f5f3-4d49-8ad0-fd18c8ff22b7",
   "metadata": {},
   "outputs": [
    {
     "data": {
      "text/plain": [
       "<matplotlib.legend.Legend at 0x2ae359193dc0>"
      ]
     },
     "execution_count": 372,
     "metadata": {},
     "output_type": "execute_result"
    },
    {
     "data": {
      "image/png": "[encoded data removed]",
      "text/plain": [
       "<Figure size 360x288 with 1 Axes>"
      ]
     },
     "metadata": {
      "needs_background": "light"
     },
     "output_type": "display_data"
    }
   ],
   "source": [
    "p=pd.DataFrame(hz[fs].mean())\n",
    "p['Passage']=[4,7,10,31,33]\n",
    "p.columns=['Average DNAm','Passage']#,'Condition','Individual']\n",
    "fig, ax = pyplot.subplots(figsize=(5,4))\n",
    "ax=sns.regplot(data=p,x='Passage',y='Average DNAm',label='R-squared = 0.99991')\n",
    "ax.legend(loc=\"best\")"
   ]
  },
  {
   "cell_type": "code",
   "execution_count": 373,
   "id": "4e9ccb3f-3b51-42be-96ef-932882a3b155",
   "metadata": {},
   "outputs": [
    {
     "data": {
      "text/html": [
       "<div>\n",
       "<style scoped>\n",
       "    .dataframe tbody tr th:only-of-type {\n",
       "        vertical-align: middle;\n",
       "    }\n",
       "\n",
       "    .dataframe tbody tr th {\n",
       "        vertical-align: top;\n",
       "    }\n",
       "\n",
       "    .dataframe thead th {\n",
       "        text-align: right;\n",
       "    }\n",
       "</style>\n",
       "<table border=\"1\" class=\"dataframe\">\n",
       "  <thead>\n",
       "    <tr style=\"text-align: right;\">\n",
       "      <th></th>\n",
       "      <th>Average DNAm</th>\n",
       "      <th>Passage</th>\n",
       "    </tr>\n",
       "  </thead>\n",
       "  <tbody>\n",
       "    <tr>\n",
       "      <th>Average DNAm</th>\n",
       "      <td>1.00000</td>\n",
       "      <td>0.99991</td>\n",
       "    </tr>\n",
       "    <tr>\n",
       "      <th>Passage</th>\n",
       "      <td>0.99991</td>\n",
       "      <td>1.00000</td>\n",
       "    </tr>\n",
       "  </tbody>\n",
       "</table>\n",
       "</div>"
      ],
      "text/plain": [
       "              Average DNAm  Passage\n",
       "Average DNAm       1.00000  0.99991\n",
       "Passage            0.99991  1.00000"
      ]
     },
     "execution_count": 373,
     "metadata": {},
     "output_type": "execute_result"
    }
   ],
   "source": [
    "p.corr()"
   ]
  },
  {
   "cell_type": "code",
   "execution_count": null,
   "id": "3c1a1f7d-1e21-47ba-bcfc-afc105e7de5e",
   "metadata": {},
   "outputs": [],
   "source": [
    "sns.scatterplot(data=p,x='Age',y='Average DNAm',hue='Condition',hue_order=['Sun-exposed','Sun-protected'],\n",
    "                palette=['red','green'],markers=True, style='Individual',s=100,alpha=.7)"
   ]
  },
  {
   "cell_type": "code",
   "execution_count": 337,
   "id": "94b47219-c1a5-417a-b5b9-57544c7b62fa",
   "metadata": {},
   "outputs": [
    {
     "data": {
      "text/plain": [
       "<AxesSubplot:>"
      ]
     },
     "execution_count": 337,
     "metadata": {},
     "output_type": "execute_result"
    },
    {
     "data": {
      "image/png": "[encoded data removed]",
      "text/plain": [
       "<Figure size 432x288 with 1 Axes>"
      ]
     },
     "metadata": {
      "needs_background": "light"
     },
     "output_type": "display_data"
    }
   ],
   "source": [
    "sns.barplot(data=hz[['fy','fo']])"
   ]
  },
  {
   "cell_type": "code",
   "execution_count": null,
   "id": "2fea35bc-1e8c-47d6-9ec7-afeb5229c70b",
   "metadata": {},
   "outputs": [],
   "source": []
  }
 ],
 "metadata": {
  "kernelspec": {
   "display_name": "meth",
   "language": "python",
   "name": "meth"
  },
  "language_info": {
   "codemirror_mode": {
    "name": "ipython",
    "version": 3
   },
   "file_extension": ".py",
   "mimetype": "text/x-python",
   "name": "python",
   "nbconvert_exporter": "python",
   "pygments_lexer": "ipython3",
   "version": "3.9.7"
  }
 },
 "nbformat": 4,
 "nbformat_minor": 5
}
