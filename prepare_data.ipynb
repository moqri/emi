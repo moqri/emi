{
 "cells": [
  {
   "cell_type": "code",
   "execution_count": 142,
   "id": "b1f0dc2b-6d6d-4a4c-bdfc-e63c6f1f556a",
   "metadata": {},
   "outputs": [],
   "source": [
    "import time\n",
    "t=time.time()\n",
    "import pandas as pd\n",
    "import numpy as np\n",
    "import util\n",
    "source='data/source/'\n",
    "def get_tss(mane,w=5000):\n",
    "    cols=['#chrom','chromStart','chromEnd','strand','geneSymbol']\n",
    "    tss=pd.read_csv(mane_,sep='\\t',usecols=cols).drop_duplicates()\n",
    "    tss=tss[~tss['#chrom'].isin(['chrX','chrY'])]\n",
    "    tss['ts']=tss.apply(lambda x:x['chromStart'] if x['strand']=='+' else x['chromEnd'],axis=1)\n",
    "    tss['tss']=tss['#chrom'].str[3:5].astype(int)*10**9+tss['ts']\n",
    "    tss=tss.drop_duplicates('tss',keep=False)\n",
    "    tss=tss.drop_duplicates('geneSymbol',keep=False)\n",
    "    tss.index=tss['geneSymbol']\n",
    "    tss['chrom']=tss['#chrom'].str[3:5].astype(int)\n",
    "    tss=tss[['chrom','ts','tss']]\n",
    "    tss['chromStart']=tss['tss'].astype(str).str[-9:].astype(int)-w\n",
    "    tss['chromEnd']=tss['tss'].astype(str).str[-9:].astype(int)+w\n",
    "    return tss\n",
    "def get_h(tss,h1,h9):\n",
    "    h1=util.bw2df(h1,tss)\n",
    "    h9=util.bw2df(h9,tss)\n",
    "    h=pd.concat([h1['beta'],h9['beta']],axis=1)\n",
    "    h.columns=['h1','h9']\n",
    "    h.index=h.index.rename('_')\n",
    "    return h\n",
    "def get_tss_distance(ind):\n",
    "    ind['g']=ind.index.str.split('_').str[0].astype(int)*10**9+ind.index.str.split('_').str[1].astype(int)\n",
    "    tssl=tss['tss'].sort_values().tolist()\n",
    "    ind['tss']=ind.g.apply(lambda x:util.take_closest(tssl, x))\n",
    "    ind['d']=ind.g-ind.tss\n",
    "    tss['gene']=tss.index\n",
    "    dic=tss[['tss','gene']].set_index('tss')['gene'].to_dict()\n",
    "    ind['gene']=ind.tss.apply(lambda x: dic[x])  \n",
    "    return ind\n",
    "def get_ez(ezp_):\n",
    "    ezp=pd.read_csv(ezp_,sep='\\t',header=None,usecols=[0,1,2,4]).drop_duplicates()\n",
    "    ezp=ezp[~ezp[0].isin(['chrX','chrY','chrM',np.nan])]\n",
    "    ezp=ezp[~ezp[0].str.contains('Un')][~ezp[0].str.contains('random')]\n",
    "    ezp['b']=ezp[0].str[3:5].astype(int)*10**9+ezp[1]\n",
    "    ezp['e']=ezp[0].str[3:5].astype(int)*10**9+ezp[2]\n",
    "    ezp['r']=ezp.apply(lambda x:range(x['b'],x['e']),axis=1)\n",
    "    ezp=ezp[['r',4]]\n",
    "    ezs=ezp.r.values\n",
    "    ss=ezp[4].values\n",
    "    ezd={}\n",
    "    for i in range(len(ezs)):\n",
    "        for e in ezs[i]:\n",
    "            if e in ezd:\n",
    "                ezd[e]=np.max([ezd[e],ss[i]])\n",
    "            else:\n",
    "                ezd[e]=ss[i]\n",
    "    return ezd\n",
    "def get_exp(ind_gene,tpm):\n",
    "    dic={'Whole Blood':'exp_blood',\n",
    "         'Skin - Not Sun Exposed (Suprapubic)':'exp_skin_se',\n",
    "         'Skin - Sun Exposed (Lower leg)':'exp_skin_sp',\n",
    "         'Cells - Cultured fibroblasts':'exp_fib',\n",
    "        }\n",
    "    tpm=pd.read_csv(tpm,sep='\\t',skiprows=2,index_col=0)\n",
    "    tpm=tpm.drop_duplicates('Description',keep=False)\n",
    "    tpm.index=tpm['Description']\n",
    "    tpm=tpm[list(dic.keys())].rename(dic,axis=1)\n",
    "    exp=ind_gene.merge(tpm,left_on='gene',right_index=True,how='left')\n",
    "    return exp"
   ]
  },
  {
   "cell_type": "code",
   "execution_count": 30,
   "id": "54add9c4-26fe-461b-af52-82fa2193e97d",
   "metadata": {},
   "outputs": [],
   "source": [
    "# get TSS\n",
    "mane_=source+'mane.gz'\n",
    "tss=get_tss(mane_)\n",
    "tss.to_csv('data/tss.csv')"
   ]
  },
  {
   "cell_type": "code",
   "execution_count": 3,
   "id": "3cfc5f07-7c43-4810-be3d-117821d96d55",
   "metadata": {},
   "outputs": [
    {
     "name": "stdout",
     "output_type": "stream",
     "text": [
      "1.2.2.3.5.6.7.8.9.11.12.13.15.16.17.19.20.22.(3623674, 1)\n",
      "1.2.2.3.5.6.7.8.9.11.12.13.15.16.17.19.20.22.(3623674, 1)\n"
     ]
    }
   ],
   "source": [
    "# get H\n",
    "h1=source+'h/Human_H1.meth.bw'\n",
    "h9=source+'h/Human_H9.meth.bw'\n",
    "h=get_h(tss,h1,h9)\n",
    "h.to_csv('data/h.csv')"
   ]
  },
  {
   "cell_type": "code",
   "execution_count": null,
   "id": "ae3a4c41-aee3-4339-85bd-fbd776976e61",
   "metadata": {},
   "outputs": [],
   "source": [
    "# get ind\n",
    "ind=pd.read_csv('data/h.csv',index_col=0,usecols=['_'])\n",
    "ind=get_tss_distance(ind)\n",
    "ind.to_csv('data/ind.csv')"
   ]
  },
  {
   "cell_type": "code",
   "execution_count": 152,
   "id": "5b53c786-9742-42a1-8b39-b44df183084d",
   "metadata": {},
   "outputs": [],
   "source": [
    "#ind=pd.read_csv('data/ind.csv',index_col=0)"
   ]
  },
  {
   "cell_type": "code",
   "execution_count": 143,
   "id": "299f5a7b-abaf-4ee9-9342-c68a097c2fee",
   "metadata": {},
   "outputs": [],
   "source": [
    "# get EZ\n",
    "ezp_=source+'ENCFF414CAB.bed.gz'\n",
    "ez=get_ez(ezp_)\n",
    "ind['ez']=ind.g.apply(lambda x:ez[x] if x in ez else 0)\n",
    "ind[['ez']].to_csv('data/ez.csv')"
   ]
  },
  {
   "cell_type": "code",
   "execution_count": 11,
   "id": "62750ce7-b527-4fca-a8d5-2de4cb131daa",
   "metadata": {},
   "outputs": [],
   "source": [
    "# get exp\n",
    "ind_gene=ind[['gene']]\n",
    "tpm=source+'GTEx_Analysis_2017-06-05_v8_RNASeQCv1.1.9_gene_median_tpm.gct.gz'\n",
    "exp=get_exp(ind_gene,tpm)\n",
    "exp.to_csv('data/exp.csv')"
   ]
  },
  {
   "cell_type": "code",
   "execution_count": null,
   "id": "d8f88b3f-d533-4aa2-b555-265e6314b824",
   "metadata": {},
   "outputs": [],
   "source": [
    "#egt neo\n"
   ]
  },
  {
   "cell_type": "code",
   "execution_count": null,
   "id": "e3987497-5bef-4bc0-8123-07b7e50c3ad3",
   "metadata": {},
   "outputs": [],
   "source": [
    "print(round(time.time()-t))"
   ]
  }
 ],
 "metadata": {
  "kernelspec": {
   "display_name": "meth",
   "language": "python",
   "name": "meth"
  },
  "language_info": {
   "codemirror_mode": {
    "name": "ipython",
    "version": 3
   },
   "file_extension": ".py",
   "mimetype": "text/x-python",
   "name": "python",
   "nbconvert_exporter": "python",
   "pygments_lexer": "ipython3",
   "version": "3.9.7"
  }
 },
 "nbformat": 4,
 "nbformat_minor": 5
}
