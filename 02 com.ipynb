{
 "cells": [
  {
   "cell_type": "code",
   "execution_count": 1,
   "id": "ce35573f-8edd-4852-925a-e0ac81ded2a4",
   "metadata": {},
   "outputs": [],
   "source": [
    "import time\n",
    "import pandas as pd\n",
    "import numpy as np\n",
    "import util\n",
    "import pyBigWig\n",
    "import seaborn as sns\n",
    "import glob\n",
    "from matplotlib_venn import venn2,venn3\n",
    "from matplotlib import pyplot as plt\n",
    "import warnings\n",
    "warnings.filterwarnings(\"ignore\")\n",
    "tic=time.time()\n",
    "\n",
    "def get_cg(x):\n",
    "    cg=set(range(x['b'],x['e']))\n",
    "    cg=ind[x['ch']].intersection(cg)\n",
    "    return cg\n",
    "def hmr2df(hmr):\n",
    "    gs=pd.read_table(hmr,header=None,usecols=[0,1,2])\n",
    "    gs=gs[~gs[0].isin(['chrX','chrY','chrM'])]\n",
    "    print(len(gs),end=',')\n",
    "    gs.columns=['ch','b','e']   \n",
    "    gs['d']=gs['e']-gs['b']\n",
    "    gs['r']=gs.apply(lambda x:get_cg(x) ,axis=1)\n",
    "    gs['rd']=gs.r.apply(lambda x:len(x))\n",
    "    gs.index=gs['ch']+'_'+gs['b'].astype(str)\n",
    "    gg=gs.groupby('ch')['r'].apply(list)\n",
    "    gg=gg.apply(lambda x:set.union(*x))    \n",
    "    return (gs,gg)   \n",
    "def get_ts(x):\n",
    "    chrom=x['ch']\n",
    "    com=set(range(x['b'],x['e'])).intersection(expg[chrom])\n",
    "    if len(com)>0:\n",
    "        ts=list(com)[0]\n",
    "        ts=exp.loc[(exp['chrom']==int(chrom[3:])) & (exp.ts==ts)].index.values[0]\n",
    "    else:\n",
    "        ts=np.nan\n",
    "    return(ts)"
   ]
  },
  {
   "cell_type": "code",
   "execution_count": 2,
   "id": "b2bbe1de-93f9-428f-bc14-4e6ea3bab94e",
   "metadata": {},
   "outputs": [],
   "source": [
    "ind=pd.read_table('data/meth/h/Human_H1.meth',engine='c',usecols=[0,1],header=None)\n",
    "ind=ind.groupby(0)[1].apply(list)\n",
    "ind=ind.apply(lambda x:set(x))"
   ]
  },
  {
   "cell_type": "code",
   "execution_count": 3,
   "id": "f3f4c1f5-c44f-429a-8225-43122aba948c",
   "metadata": {},
   "outputs": [],
   "source": [
    "samples=['s','t','h']\n",
    "c={}\n",
    "cg={}\n",
    "cu={}\n",
    "cug={}"
   ]
  },
  {
   "cell_type": "code",
   "execution_count": 4,
   "id": "363c9fed-8bb3-4244-b67d-2ac86500d22a",
   "metadata": {},
   "outputs": [
    {
     "name": "stdout",
     "output_type": "stream",
     "text": [
      "95351,52648,39517,"
     ]
    }
   ],
   "source": [
    "for s in samples:\n",
    "    c[s],cg[s]=hmr2df('data/meth/'+s+'/'+s+'.hmr')"
   ]
  },
  {
   "cell_type": "code",
   "execution_count": 5,
   "id": "49717b06-0a5b-4463-966f-5ce29bae1dce",
   "metadata": {},
   "outputs": [],
   "source": [
    "c['t']['s']=c['t'].apply(lambda x:len(cg['s'][x['ch']].intersection(x['r'])),1)\n",
    "c['t']['sh']=c['t'].apply(lambda x:len(cg['s'][x['ch']].intersection(x['r']).intersection(cg['h'][x['ch']])),1)\n",
    "c['s']['t']=c['s'].apply(lambda x:len(cg['t'][x['ch']].intersection(x['r'])),1)\n",
    "c['s']['th']=c['s'].apply(lambda x:len(cg['t'][x['ch']].intersection(x['r']).intersection(cg['h'][x['ch']])),1)"
   ]
  },
  {
   "cell_type": "code",
   "execution_count": 6,
   "id": "a400c17c-de0c-42cc-bb75-f093d50b6605",
   "metadata": {},
   "outputs": [],
   "source": [
    "c['h']['t']=c['h'].apply(lambda x:len(cg['t'][x['ch']].intersection(x['r'])),1)\n",
    "c['h']['s']=c['h'].apply(lambda x:len(cg['s'][x['ch']].intersection(x['r'])),1)"
   ]
  },
  {
   "cell_type": "code",
   "execution_count": 7,
   "id": "65357d32-5c36-4c07-ae1f-b591da05e1b2",
   "metadata": {},
   "outputs": [
    {
     "name": "stdout",
     "output_type": "stream",
     "text": [
      "2609 2352 2144\n",
      "3486 2352 2144\n"
     ]
    }
   ],
   "source": [
    "print(round(c['t']['rd'].sum()/10**3),\n",
    "      round(c['t']['s'].sum()/10**3),\n",
    "      round(c['t'][c['t']['s']>0]['sh'].sum()/10**3))\n",
    "print(round(c['s']['rd'].sum()/10**3),\n",
    "      round(c['s']['t'].sum()/10**3),\n",
    "      round(c['s'][c['s']['t']>0]['th'].sum()/10**3))"
   ]
  },
  {
   "cell_type": "code",
   "execution_count": 8,
   "id": "2cb7a1e5-cb8f-438e-aa54-8d7a1b69284e",
   "metadata": {},
   "outputs": [],
   "source": [
    "ct,cs,ch=[],[],[]\n",
    "for i,r in c['t'].iterrows():\n",
    "    for j in list(r['r']):\n",
    "        ct.append(r['ch']+'_'+str(j))\n",
    "for i,r in c['s'].iterrows():\n",
    "    for j in list(r['r']):\n",
    "        cs.append(r['ch']+'_'+str(j)) \n",
    "for i,r in c['h'].iterrows():\n",
    "    for j in list(r['r']):\n",
    "        ch.append(r['ch']+'_'+str(j))        "
   ]
  },
  {
   "cell_type": "code",
   "execution_count": 9,
   "id": "57bf192d-e05f-405b-9f33-6b83ad81a738",
   "metadata": {},
   "outputs": [],
   "source": [
    "pd.DataFrame(ct).to_csv('data/t.csv',index=False,header=False)\n",
    "pd.DataFrame(cs).to_csv('data/s.csv',index=False,header=False)\n",
    "pd.DataFrame(ch).to_csv('data/h.csv',index=False,header=False)"
   ]
  },
  {
   "cell_type": "code",
   "execution_count": 10,
   "id": "b29c1d66-875a-401a-831c-605a686729c2",
   "metadata": {},
   "outputs": [
    {
     "data": {
      "image/png": "[encoded data removed]",
      "text/plain": [
       "<Figure size 432x288 with 1 Axes>"
      ]
     },
     "metadata": {},
     "output_type": "display_data"
    }
   ],
   "source": [
    "subsets=(set(cs),set(ct),set(ch))\n",
    "v=venn3(subsets = subsets, set_labels = ('HMR in Epidermis', 'HMR in T cells','HMR in ESC'))"
   ]
  },
  {
   "cell_type": "code",
   "execution_count": 11,
   "id": "fb19e4fa-001d-48e0-880f-ba85e7da9793",
   "metadata": {},
   "outputs": [],
   "source": [
    "for s in ['s','t']:\n",
    "    for n in ['y','o']:\n",
    "        path='data/meth/'+s+'/'+n+'.bw'\n",
    "        bw=pyBigWig.open(path)\n",
    "        c[s][n]=c[s].apply(lambda x: bw.stats(x['ch'],x['b'],x['e'],'mean',exact=True)[0],axis=1)\n",
    "    c[s]['dd']=c[s]['o']-c[s]['y']\n",
    "    cu[s]=c[s][c[s]['dd']>.1]\n",
    "    cug[s]=cu[s].groupby('ch')['r'].apply(list)\n",
    "    cug[s]=cug[s].apply(lambda x:set.union(*x))                   "
   ]
  },
  {
   "cell_type": "code",
   "execution_count": 12,
   "id": "f66530e2-9a64-4a12-a665-e75ad034623c",
   "metadata": {},
   "outputs": [],
   "source": [
    "cu['t']['su']=cu['t'].apply(lambda x:len(cug['s'][x['ch']].intersection(x['r'])),1)\n",
    "cu['t']['suh']=cu['t'].apply(lambda x:len(cug['s'][x['ch']].intersection(cg['h'][x['ch']]).intersection(x['r'])),axis=1)\n",
    "cu['s']['tu']=cu['s'].apply(lambda x:len(cug['t'][x['ch']].intersection(x['r'])),1)\n",
    "cu['s']['tuh']=cu['s'].apply(lambda x:len(cug['t'][x['ch']].intersection(cg['h'][x['ch']]).intersection(x['r'])),axis=1)"
   ]
  },
  {
   "cell_type": "code",
   "execution_count": 13,
   "id": "2c838eb5-b11e-4b88-bf09-fd656ff2ed7d",
   "metadata": {},
   "outputs": [
    {
     "name": "stdout",
     "output_type": "stream",
     "text": [
      "259 27 15\n",
      "95 27 15\n"
     ]
    }
   ],
   "source": [
    "print(round(cu['t'].rd.sum()/10**3),\n",
    "      round(cu['t']['su'].sum()/10**3),\n",
    "      round(cu['t'][cu['t']['su']>0]['suh'].sum()/10**3))\n",
    "print(round(cu['s'].rd.sum()/10**3),\n",
    "      round(cu['s']['tu'].sum()/10**3),\n",
    "      round(cu['s'][cu['s']['tu']>0]['tuh'].sum()/10**3))"
   ]
  },
  {
   "cell_type": "code",
   "execution_count": 21,
   "id": "8dd290c1-57dd-4ab3-acc6-758a66f45643",
   "metadata": {},
   "outputs": [
    {
     "data": {
      "text/plain": [
       "2.528111"
      ]
     },
     "execution_count": 21,
     "metadata": {},
     "output_type": "execute_result"
    }
   ],
   "source": [
    "cu['s'].d.sum()/10**6"
   ]
  },
  {
   "cell_type": "code",
   "execution_count": 14,
   "id": "002369e0-d547-422b-ae5b-1759cc67f168",
   "metadata": {},
   "outputs": [],
   "source": [
    "cu['t'][['ch','b','e','su','suh']].to_csv('data/tu.csv')\n",
    "cu['s'][['ch','b','e','tu','tuh']].to_csv('data/su.csv')"
   ]
  },
  {
   "cell_type": "code",
   "execution_count": 22,
   "id": "abe3df2d-4c12-4ea1-9194-68fbc0597ac4",
   "metadata": {},
   "outputs": [],
   "source": [
    "ct,cs,=[],[]\n",
    "for i,r in cu['t'].iterrows():\n",
    "    for j in list(r['r']):\n",
    "        ct.append(r['ch']+'_'+str(j))\n",
    "for i,r in cu['s'].iterrows():\n",
    "    for j in list(r['r']):\n",
    "        cs.append(r['ch']+'_'+str(j)) "
   ]
  },
  {
   "cell_type": "code",
   "execution_count": 23,
   "id": "8a28dd03-5a16-440a-a4d4-7204f56aea39",
   "metadata": {},
   "outputs": [
    {
     "data": {
      "text/plain": [
       "<matplotlib_venn._common.VennDiagram at 0x2ac7562224f0>"
      ]
     },
     "execution_count": 23,
     "metadata": {},
     "output_type": "execute_result"
    },
    {
     "data": {
      "image/png": "[encoded data removed]",
      "text/plain": [
       "<Figure size 432x288 with 1 Axes>"
      ]
     },
     "metadata": {},
     "output_type": "display_data"
    }
   ],
   "source": [
    "subsets=(set(cs),set(ct),set(ch))\n",
    "venn3(subsets = subsets, set_labels = ('ageHMR in Epidermis', 'ageHMR in T cells','HMR in ESC'))"
   ]
  },
  {
   "cell_type": "code",
   "execution_count": 24,
   "id": "1ed6e3b8-37f1-4dc1-8897-8e24dc3d44bb",
   "metadata": {},
   "outputs": [],
   "source": [
    "bw='data/source/ENCFF109KCQ.bigWig'\n",
    "bw=pyBigWig.open(bw)\n",
    "ts=cu['t'][cu['t']['su']>0]\n",
    "st=cu['s'][cu['s']['tu']>0]\n",
    "bs=[]\n",
    "for i,r in ts.iterrows():\n",
    "    bs.append(bw.stats(r['ch'],int(r['b']),int(r['e']),'max')[0])\n",
    "ts['ez']=bs    \n",
    "bs=[]\n",
    "for i,r in st.iterrows():\n",
    "    bs.append(bw.stats(r['ch'],int(r['b']),int(r['e']),'max')[0])\n",
    "st['ez']=bs    "
   ]
  },
  {
   "cell_type": "code",
   "execution_count": 33,
   "id": "80d12bdc-554f-47f7-b785-7cefbd3d58aa",
   "metadata": {},
   "outputs": [],
   "source": [
    "st[st.ez>100][['ch','b','e']].to_csv('data/tsz.bed',sep='\\t',header=False,index=False)"
   ]
  },
  {
   "cell_type": "code",
   "execution_count": 17,
   "id": "08b36edc-7dde-40cd-805c-8edd2f661636",
   "metadata": {},
   "outputs": [
    {
     "name": "stdout",
     "output_type": "stream",
     "text": [
      "2.892130427157452 40.63913004243051\n",
      "2.9151432654522944 40.820904419018945\n"
     ]
    }
   ],
   "source": [
    "print(ts[ts.suh==0].ez.mean(),ts[ts.suh>0].ez.mean())\n",
    "print(st[st.tuh==0].ez.mean(),st[st.tuh>0].ez.mean())"
   ]
  },
  {
   "cell_type": "code",
   "execution_count": 18,
   "id": "eefd0001-a641-43b2-8278-2dec8f49f696",
   "metadata": {},
   "outputs": [],
   "source": [
    "ts['suhb']=ts['suh']>0\n",
    "st['tuhb']=st['tuh']>0"
   ]
  },
  {
   "cell_type": "code",
   "execution_count": 19,
   "id": "2f74a3a7-620c-463f-8bf0-b31b15da4c36",
   "metadata": {},
   "outputs": [
    {
     "data": {
      "image/png": "[encoded data removed]",
      "text/plain": [
       "<Figure size 144x108 with 1 Axes>"
      ]
     },
     "metadata": {},
     "output_type": "display_data"
    }
   ],
   "source": [
    "sns.set(rc={'figure.figsize':(2,1.5)})\n",
    "tst=ts.append(st[~st.tuhb])\n",
    "tst.loc[tst.tuhb==False,'group']='CD4 T AgeHMR'\n",
    "tst.loc[tst.suhb==False,'group']='Epidermis AgeHMR'\n",
    "tst=tst.fillna('Common AgeHMR in ESC')\n",
    "ax=sns.barplot(data=tst[['group','ez']],x='group',y='ez')\n",
    "ax.set(xlabel='',ylabel='EZH binding level');\n",
    "plt.xticks(rotation=90);"
   ]
  },
  {
   "cell_type": "code",
   "execution_count": 27,
   "id": "a6ee263b-1fc5-4d2b-9c0d-24d256c5c991",
   "metadata": {},
   "outputs": [],
   "source": [
    "############################\n",
    "############################"
   ]
  },
  {
   "cell_type": "code",
   "execution_count": 28,
   "id": "9d507001-4c91-41bc-bd4b-61f003262f64",
   "metadata": {},
   "outputs": [],
   "source": [
    "h=c['h'].copy()\n",
    "bw='data/source/ENCFF109KCQ.bigWig'\n",
    "bw=pyBigWig.open(bw)\n",
    "bs=[]\n",
    "for i,r in h.iterrows():\n",
    "    bs.append(bw.stats(r['ch'],int(r['b']),int(r['e']),'max')[0])\n",
    "h['ez']=bs\n",
    "h.loc[h.ez>100,'ezg']='High'\n",
    "h.loc[(h.ez>10)&(h.ez<100),'ezg']='Moderate'\n",
    "h.loc[h.ez<10,'ezg']='Low'"
   ]
  },
  {
   "cell_type": "code",
   "execution_count": 29,
   "id": "b75f2e98-9a24-4f87-974f-c0093cf95301",
   "metadata": {},
   "outputs": [],
   "source": [
    "h[['ch','b','e','d','rd','ez','ezg']].to_csv('data/h.csv')"
   ]
  },
  {
   "cell_type": "code",
   "execution_count": null,
   "id": "55914c64-ea24-4dad-b96f-d4bf83d2984d",
   "metadata": {},
   "outputs": [],
   "source": [
    "hz=h[h.ez>100].copy()\n",
    "print(len(hz),len(hz[hz.td>0]))"
   ]
  },
  {
   "cell_type": "code",
   "execution_count": null,
   "id": "9d697274-46bf-4746-bef9-78e620b8d324",
   "metadata": {},
   "outputs": [],
   "source": [
    "tss=pd.read_csv('data/tss.csv',index_col=0)\n",
    "exp=pd.read_csv('data/exp.csv',index_col=0)\n",
    "exp['ch']='chr'+exp['chrom'].astype(str)\n",
    "expg=exp.groupby('ch')['ts'].apply(list)\n",
    "hz['ts']=hz.apply(lambda x: get_ts(x),axis=1)\n",
    "hzt=hz[hz.ts.notna()]\n",
    "len(hzt)"
   ]
  }
 ],
 "metadata": {
  "kernelspec": {
   "display_name": "meth",
   "language": "python",
   "name": "meth"
  },
  "language_info": {
   "codemirror_mode": {
    "name": "ipython",
    "version": 3
   },
   "file_extension": ".py",
   "mimetype": "text/x-python",
   "name": "python",
   "nbconvert_exporter": "python",
   "pygments_lexer": "ipython3",
   "version": "3.9.7"
  }
 },
 "nbformat": 4,
 "nbformat_minor": 5
}
