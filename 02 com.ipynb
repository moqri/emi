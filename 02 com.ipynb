{
 "cells": [
  {
   "cell_type": "code",
   "execution_count": 120,
   "id": "ce35573f-8edd-4852-925a-e0ac81ded2a4",
   "metadata": {},
   "outputs": [],
   "source": [
    "import time\n",
    "import pandas as pd\n",
    "import numpy as np\n",
    "import util\n",
    "import pyBigWig\n",
    "import seaborn as sns\n",
    "import glob\n",
    "from matplotlib_venn import venn2,venn3\n",
    "from matplotlib import pyplot as plt\n",
    "import warnings\n",
    "warnings.filterwarnings(\"ignore\")\n",
    "tic=time.time()\n",
    "source='data/source/'\n",
    "def get_cg(x):\n",
    "    cg=set(range(x['b'],x['e']))\n",
    "    cg=ind[x['ch']].intersection(cg)\n",
    "    return cg\n",
    "def hmr2df(hmr):\n",
    "    gs=pd.read_table(hmr,header=None,usecols=[0,1,2])\n",
    "    gs=gs[~gs[0].isin(['chrX','chrY','chrM'])]\n",
    "    print(len(gs),end=',')\n",
    "    gs.columns=['ch','b','e']   \n",
    "    gs['d']=gs['e']-gs['b']\n",
    "    gs['r']=gs.apply(lambda x:get_cg(x) ,axis=1)\n",
    "    gs['rd']=gs.r.apply(lambda x:len(x))\n",
    "    gs.index=gs['ch']+'_'+gs['b'].astype(str)\n",
    "    gg=gs.groupby('ch')['r'].apply(list)\n",
    "    gg=gg.apply(lambda x:set.union(*x))    \n",
    "    return (gs,gg)   \n",
    "def get_ts(x):\n",
    "    chrom=x['ch']\n",
    "    com=set(range(x['b'],x['e'])).intersection(expg[chrom])\n",
    "    if len(com)>0:\n",
    "        ts=list(com)[0]\n",
    "        ts=exp.loc[(exp['chrom']==int(chrom[3:])) & (exp.ts==ts)].index.values[0]\n",
    "    else:\n",
    "        ts=np.nan\n",
    "    return(ts)"
   ]
  },
  {
   "cell_type": "code",
   "execution_count": 2,
   "id": "b2bbe1de-93f9-428f-bc14-4e6ea3bab94e",
   "metadata": {},
   "outputs": [],
   "source": [
    "ind=pd.read_table('data/meth/h/Human_H1.meth',engine='c',usecols=[0,1],header=None)\n",
    "ind=ind.groupby(0)[1].apply(list)\n",
    "ind=ind.apply(lambda x:set(x))"
   ]
  },
  {
   "cell_type": "code",
   "execution_count": 3,
   "id": "f3f4c1f5-c44f-429a-8225-43122aba948c",
   "metadata": {},
   "outputs": [],
   "source": [
    "samples=['s','t','h']\n",
    "c={}\n",
    "cg={}\n",
    "cu={}\n",
    "cug={}"
   ]
  },
  {
   "cell_type": "code",
   "execution_count": 4,
   "id": "363c9fed-8bb3-4244-b67d-2ac86500d22a",
   "metadata": {},
   "outputs": [
    {
     "name": "stdout",
     "output_type": "stream",
     "text": [
      "95351,52648,39517,"
     ]
    }
   ],
   "source": [
    "for s in samples:\n",
    "    c[s],cg[s]=hmr2df('data/meth/'+s+'/'+s+'.hmr')"
   ]
  },
  {
   "cell_type": "code",
   "execution_count": 5,
   "id": "49717b06-0a5b-4463-966f-5ce29bae1dce",
   "metadata": {},
   "outputs": [],
   "source": [
    "c['t']['s']=c['t'].apply(lambda x:len(cg['s'][x['ch']].intersection(x['r'])),1)\n",
    "c['t']['sh']=c['t'].apply(lambda x:len(cg['s'][x['ch']].intersection(x['r']).intersection(cg['h'][x['ch']])),1)\n",
    "c['s']['t']=c['s'].apply(lambda x:len(cg['t'][x['ch']].intersection(x['r'])),1)\n",
    "c['s']['th']=c['s'].apply(lambda x:len(cg['t'][x['ch']].intersection(x['r']).intersection(cg['h'][x['ch']])),1)"
   ]
  },
  {
   "cell_type": "code",
   "execution_count": 6,
   "id": "a400c17c-de0c-42cc-bb75-f093d50b6605",
   "metadata": {},
   "outputs": [],
   "source": [
    "c['h']['t']=c['h'].apply(lambda x:len(cg['t'][x['ch']].intersection(x['r'])),1)\n",
    "c['h']['s']=c['h'].apply(lambda x:len(cg['s'][x['ch']].intersection(x['r'])),1)"
   ]
  },
  {
   "cell_type": "code",
   "execution_count": 7,
   "id": "65357d32-5c36-4c07-ae1f-b591da05e1b2",
   "metadata": {},
   "outputs": [
    {
     "name": "stdout",
     "output_type": "stream",
     "text": [
      "2609 2352 2144\n",
      "3486 2352 2144\n"
     ]
    }
   ],
   "source": [
    "print(round(c['t']['rd'].sum()/10**3),\n",
    "      round(c['t']['s'].sum()/10**3),\n",
    "      round(c['t'][c['t']['s']>0]['sh'].sum()/10**3))\n",
    "print(round(c['s']['rd'].sum()/10**3),\n",
    "      round(c['s']['t'].sum()/10**3),\n",
    "      round(c['s'][c['s']['t']>0]['th'].sum()/10**3))"
   ]
  },
  {
   "cell_type": "code",
   "execution_count": 8,
   "id": "2cb7a1e5-cb8f-438e-aa54-8d7a1b69284e",
   "metadata": {},
   "outputs": [],
   "source": [
    "def van():\n",
    "    ct,cs,ch=[],[],[]\n",
    "    for i,r in c['t'].iterrows():\n",
    "        for j in list(r['r']):\n",
    "            ct.append(r['ch']+'_'+str(j))\n",
    "    for i,r in c['s'].iterrows():\n",
    "        for j in list(r['r']):\n",
    "            cs.append(r['ch']+'_'+str(j)) \n",
    "    for i,r in c['h'].iterrows():\n",
    "        for j in list(r['r']):\n",
    "            ch.append(r['ch']+'_'+str(j))        \n",
    "    pd.DataFrame(ct).to_csv('data/ti.csv',index=False,header=False)\n",
    "    pd.DataFrame(cs).to_csv('data/si.csv',index=False,header=False)\n",
    "    pd.DataFrame(ch).to_csv('data/hi.csv',index=False,header=False)        \n",
    "    subsets=(set(cs),set(ct),set(ch))\n",
    "    v=venn3(subsets = subsets, set_labels = ('HMR in Epidermis', 'HMR in T cells','HMR in ESC'))"
   ]
  },
  {
   "cell_type": "code",
   "execution_count": 9,
   "id": "2c838eb5-b11e-4b88-bf09-fd656ff2ed7d",
   "metadata": {},
   "outputs": [
    {
     "name": "stdout",
     "output_type": "stream",
     "text": [
      "259 27 15\n",
      "95 27 15\n"
     ]
    }
   ],
   "source": [
    "for s in ['s','t']:\n",
    "    for n in ['y','o']:\n",
    "        path='data/meth/'+s+'/'+n+'.bw'\n",
    "        bw=pyBigWig.open(path)\n",
    "        c[s][n]=c[s].apply(lambda x: bw.stats(x['ch'],x['b'],x['e'],'mean',exact=True)[0],axis=1)\n",
    "    c[s]['dd']=c[s]['o']-c[s]['y']\n",
    "    cu[s]=c[s][c[s]['dd']>.1]\n",
    "    cug[s]=cu[s].groupby('ch')['r'].apply(list)\n",
    "    cug[s]=cug[s].apply(lambda x:set.union(*x))                   \n",
    "cu['t']['su']=cu['t'].apply(lambda x:len(cug['s'][x['ch']].intersection(x['r'])),1)\n",
    "cu['t']['suh']=cu['t'].apply(lambda x:len(cug['s'][x['ch']].intersection(cg['h'][x['ch']]).intersection(x['r'])),axis=1)\n",
    "cu['s']['tu']=cu['s'].apply(lambda x:len(cug['t'][x['ch']].intersection(x['r'])),1)\n",
    "cu['s']['tuh']=cu['s'].apply(lambda x:len(cug['t'][x['ch']].intersection(cg['h'][x['ch']]).intersection(x['r'])),axis=1)\n",
    "print(round(cu['t'].rd.sum()/10**3),\n",
    "      round(cu['t']['su'].sum()/10**3),\n",
    "      round(cu['t'][cu['t']['su']>0]['suh'].sum()/10**3))\n",
    "print(round(cu['s'].rd.sum()/10**3),\n",
    "      round(cu['s']['tu'].sum()/10**3),\n",
    "      round(cu['s'][cu['s']['tu']>0]['tuh'].sum()/10**3))"
   ]
  },
  {
   "cell_type": "code",
   "execution_count": 10,
   "id": "002369e0-d547-422b-ae5b-1759cc67f168",
   "metadata": {},
   "outputs": [],
   "source": [
    "#cu['t'][['ch','b','e','su','suh']].to_csv('data/tu.csv')\n",
    "#cu['s'][['ch','b','e','tu','tuh']].to_csv('data/su.csv')"
   ]
  },
  {
   "cell_type": "code",
   "execution_count": 11,
   "id": "8a28dd03-5a16-440a-a4d4-7204f56aea39",
   "metadata": {},
   "outputs": [],
   "source": [
    "def vanAge():\n",
    "    ct,cs,=[],[]\n",
    "    for i,r in cu['t'].iterrows():\n",
    "        for j in list(r['r']):\n",
    "            ct.append(r['ch']+'_'+str(j))\n",
    "    for i,r in cu['s'].iterrows():\n",
    "        for j in list(r['r']):\n",
    "            cs.append(r['ch']+'_'+str(j)) \n",
    "    subsets=(set(cs),set(ct),set(ch))\n",
    "    venn3(subsets = subsets, set_labels = ('ageHMR in Epidermis', 'ageHMR in T cells','HMR in ESC'))"
   ]
  },
  {
   "cell_type": "code",
   "execution_count": 237,
   "id": "1ed6e3b8-37f1-4dc1-8897-8e24dc3d44bb",
   "metadata": {},
   "outputs": [],
   "source": [
    "bw='data/source/ENCFF109KCQ.bigWig'\n",
    "bw=pyBigWig.open(bw)\n",
    "ts=cu['t'][cu['t']['su']>0]\n",
    "st=cu['s'][cu['s']['tu']>0]\n",
    "bs=[]\n",
    "for i,r in ts.iterrows():\n",
    "    bs.append(bw.stats(r['ch'],int(r['b']),int(r['e']),'max')[0])\n",
    "ts['EZH2']=bs    \n",
    "bs=[]\n",
    "for i,r in st.iterrows():\n",
    "    bs.append(bw.stats(r['ch'],int(r['b']),int(r['e']),'max')[0])\n",
    "st['EZH2']=bs    "
   ]
  },
  {
   "cell_type": "code",
   "execution_count": 238,
   "id": "1886cf88-3603-4283-9818-cc4c63974f39",
   "metadata": {},
   "outputs": [],
   "source": [
    "bw=source+'ENCFF609MMJ.bigWig'\n",
    "bw=pyBigWig.open(bw)\n",
    "bs=[]\n",
    "for i,r in ts.iterrows():\n",
    "    bs.append(bw.stats(r['ch'],int(r['b']),int(r['e']),'max')[0])\n",
    "ts['SUZ12']=bs    \n",
    "bs=[]\n",
    "for i,r in st.iterrows():\n",
    "    bs.append(bw.stats(r['ch'],int(r['b']),int(r['e']),'max')[0])\n",
    "st['SUZ12']=bs    "
   ]
  },
  {
   "cell_type": "code",
   "execution_count": 239,
   "id": "08b36edc-7dde-40cd-805c-8edd2f661636",
   "metadata": {},
   "outputs": [
    {
     "name": "stdout",
     "output_type": "stream",
     "text": [
      "2.892130427157452 40.63913004243051\n",
      "2.9151432654522944 40.820904419018945\n"
     ]
    }
   ],
   "source": [
    "print(ts[ts.suh==0].EZH2.mean(),ts[ts.suh>0].EZH2.mean())\n",
    "print(st[st.tuh==0].EZH2.mean(),st[st.tuh>0].EZH2.mean())"
   ]
  },
  {
   "cell_type": "code",
   "execution_count": 240,
   "id": "c76c1507-1546-4e1d-8851-2179283db117",
   "metadata": {},
   "outputs": [
    {
     "name": "stdout",
     "output_type": "stream",
     "text": [
      "2.954944704872758 43.77948179267556\n",
      "2.9289105135828004 44.725046445130616\n"
     ]
    }
   ],
   "source": [
    "print(ts[ts.suh==0].SUZ12.mean(),ts[ts.suh>0].SUZ12.mean())\n",
    "print(st[st.tuh==0].SUZ12.mean(),st[st.tuh>0].SUZ12.mean())"
   ]
  },
  {
   "cell_type": "code",
   "execution_count": 241,
   "id": "6ca90c11-811c-4e86-bce0-240badbc6b60",
   "metadata": {},
   "outputs": [
    {
     "name": "stdout",
     "output_type": "stream",
     "text": [
      "0.14361480704892\n",
      "0.35914103308183404\n"
     ]
    }
   ],
   "source": [
    "print(ts.rd.sum()/cu['t'].rd.sum())\n",
    "print(st.rd.sum()/cu['s'].rd.sum())"
   ]
  },
  {
   "cell_type": "code",
   "execution_count": 271,
   "id": "2f74a3a7-620c-463f-8bf0-b31b15da4c36",
   "metadata": {},
   "outputs": [],
   "source": [
    "ts.loc[ts.suh>0,'group']='AgeLMRs within ESC LMRs'\n",
    "ts.loc[ts.suh==0,'group']='AgeLMRs outside ESC LMRs'"
   ]
  },
  {
   "cell_type": "code",
   "execution_count": 272,
   "id": "9a7b8f15-a1d4-482b-8623-124f8a16274b",
   "metadata": {},
   "outputs": [
    {
     "data": {
      "image/png": "[encoded data removed]",
      "text/plain": [
       "<Figure size 144x144 with 1 Axes>"
      ]
     },
     "metadata": {},
     "output_type": "display_data"
    }
   ],
   "source": [
    "sns.set(rc={'figure.figsize':(2,2)})\n",
    "pl=ts[['group','d']]\n",
    "ax=sns.barplot(data=pl,x='group',y='d',palette=sns.color_palette(['b','g','y']))\n",
    "ax.set(xlabel='',ylabel='Length of LMR');\n",
    "plt.xticks(rotation=70);"
   ]
  },
  {
   "cell_type": "code",
   "execution_count": 273,
   "id": "2d8d4001-8b6e-4e99-b552-675464a6c39c",
   "metadata": {},
   "outputs": [
    {
     "data": {
      "image/png": "[encoded data removed]",
      "text/plain": [
       "<Figure size 216x144 with 1 Axes>"
      ]
     },
     "metadata": {},
     "output_type": "display_data"
    }
   ],
   "source": [
    "pl=ts[['group','EZH2','SUZ12']].melt('group')\n",
    "pl.columns=['Group','PRC2 comp.','Binding']\n",
    "sns.set(rc={'figure.figsize':(3,2)})\n",
    "ax=sns.barplot(data=pl,x='Group',y='Binding',hue='PRC2 comp.')\n",
    "ax.set(xlabel='',ylabel='Binding levels');\n",
    "plt.xticks(rotation=70);"
   ]
  },
  {
   "cell_type": "code",
   "execution_count": 253,
   "id": "9af8e753-5371-4e9b-8e85-99915051548f",
   "metadata": {},
   "outputs": [],
   "source": [
    "tmp_='https://storage.googleapis.com/gtex_analysis_v8/rna_seq_data/GTEx_Analysis_2017-06-05_v8_RNASeQCv1.1.9_gene_median_tpm.gct.gz'\n",
    "tpm=pd.read_csv(tmp_,sep='\\t',skiprows=2,index_col=0)\n",
    "tpm=tpm.groupby('Description').mean()"
   ]
  },
  {
   "cell_type": "code",
   "execution_count": 254,
   "id": "15274376-bf8e-4091-a51d-af79b7d1b577",
   "metadata": {},
   "outputs": [],
   "source": [
    "mane=pd.read_table(source+'mane.gz')"
   ]
  },
  {
   "cell_type": "code",
   "execution_count": 255,
   "id": "fb75efa5-9704-40bd-8b34-e500314e37ff",
   "metadata": {},
   "outputs": [],
   "source": [
    "mane['tss']=mane.apply(lambda x:x['chromStart'] if x['strand']=='+' else x['chromEnd'],axis=1)"
   ]
  },
  {
   "cell_type": "code",
   "execution_count": 256,
   "id": "5ae6e2a8-6c89-44c8-9487-6b23a852c6e0",
   "metadata": {},
   "outputs": [],
   "source": [
    "tpm=tpm[['Whole Blood','Skin - Sun Exposed (Lower leg)']].merge(mane[['geneSymbol','#chrom','tss']],left_index=True,right_on='geneSymbol')"
   ]
  },
  {
   "cell_type": "code",
   "execution_count": 257,
   "id": "0990e9f0-1170-43d9-8988-57757df64c0b",
   "metadata": {},
   "outputs": [],
   "source": [
    "tpmg=tpm.groupby('#chrom')['tss'].apply(set)"
   ]
  },
  {
   "cell_type": "code",
   "execution_count": 259,
   "id": "19842f1c-1ca1-4df8-87ce-5303023b8db2",
   "metadata": {},
   "outputs": [],
   "source": [
    "ts['tpm']=ts.apply(lambda x:len(set(range(x['b'],x['e'])).intersection(tpmg[x['ch']])),axis=1)"
   ]
  },
  {
   "cell_type": "code",
   "execution_count": 260,
   "id": "66a2ec8f-6069-43e9-af7a-0ba33958f78a",
   "metadata": {},
   "outputs": [
    {
     "data": {
      "text/plain": [
       "tpm\n",
       "0    734\n",
       "1     91\n",
       "2      2\n",
       "dtype: int64"
      ]
     },
     "execution_count": 260,
     "metadata": {},
     "output_type": "execute_result"
    }
   ],
   "source": [
    "ts.value_counts('tpm')"
   ]
  },
  {
   "cell_type": "code",
   "execution_count": 261,
   "id": "93349020-5b3d-48dc-af6c-c0ee2d624b6e",
   "metadata": {},
   "outputs": [],
   "source": [
    "ts['blood']=ts.apply(lambda x: tpm[(tpm['#chrom']==x['ch'])&(tpm['tss'].isin(range(x['b'],x['e'])))]['Whole Blood'].values[0] if x['tpm']==1 else np.nan ,axis=1)\n",
    "ts['skin']=ts.apply(lambda x: tpm[(tpm['#chrom']==x['ch'])&(tpm['tss'].isin(range(x['b'],x['e'])))]['Skin - Sun Exposed (Lower leg)'].values[0] if x['tpm']==1 else np.nan ,axis=1)\n"
   ]
  },
  {
   "cell_type": "code",
   "execution_count": 263,
   "id": "763e10e2-4fea-4d9e-b694-c91a4a92b510",
   "metadata": {},
   "outputs": [
    {
     "data": {
      "text/html": [
       "<div>\n",
       "<style scoped>\n",
       "    .dataframe tbody tr th:only-of-type {\n",
       "        vertical-align: middle;\n",
       "    }\n",
       "\n",
       "    .dataframe tbody tr th {\n",
       "        vertical-align: top;\n",
       "    }\n",
       "\n",
       "    .dataframe thead th {\n",
       "        text-align: right;\n",
       "    }\n",
       "</style>\n",
       "<table border=\"1\" class=\"dataframe\">\n",
       "  <thead>\n",
       "    <tr style=\"text-align: right;\">\n",
       "      <th></th>\n",
       "      <th>b</th>\n",
       "      <th>e</th>\n",
       "      <th>d</th>\n",
       "      <th>rd</th>\n",
       "      <th>s</th>\n",
       "      <th>sh</th>\n",
       "      <th>y</th>\n",
       "      <th>o</th>\n",
       "      <th>dd</th>\n",
       "      <th>su</th>\n",
       "      <th>suh</th>\n",
       "      <th>EZH2</th>\n",
       "      <th>SUZ12</th>\n",
       "      <th>tpm</th>\n",
       "      <th>blood</th>\n",
       "      <th>skin</th>\n",
       "    </tr>\n",
       "    <tr>\n",
       "      <th>group</th>\n",
       "      <th></th>\n",
       "      <th></th>\n",
       "      <th></th>\n",
       "      <th></th>\n",
       "      <th></th>\n",
       "      <th></th>\n",
       "      <th></th>\n",
       "      <th></th>\n",
       "      <th></th>\n",
       "      <th></th>\n",
       "      <th></th>\n",
       "      <th></th>\n",
       "      <th></th>\n",
       "      <th></th>\n",
       "      <th></th>\n",
       "      <th></th>\n",
       "    </tr>\n",
       "  </thead>\n",
       "  <tbody>\n",
       "    <tr>\n",
       "      <th>AgeLMRs outside ESC LMR</th>\n",
       "      <td>60430834.5</td>\n",
       "      <td>60431309.5</td>\n",
       "      <td>317.5</td>\n",
       "      <td>18.0</td>\n",
       "      <td>15.5</td>\n",
       "      <td>0.0</td>\n",
       "      <td>0.163095</td>\n",
       "      <td>0.381252</td>\n",
       "      <td>0.190558</td>\n",
       "      <td>15.0</td>\n",
       "      <td>0.0</td>\n",
       "      <td>1.01688</td>\n",
       "      <td>0.73499</td>\n",
       "      <td>0.0</td>\n",
       "      <td>0.000000</td>\n",
       "      <td>0.454153</td>\n",
       "    </tr>\n",
       "    <tr>\n",
       "      <th>AgeLMRs within ESC LMR</th>\n",
       "      <td>53889693.0</td>\n",
       "      <td>53890325.0</td>\n",
       "      <td>632.0</td>\n",
       "      <td>33.0</td>\n",
       "      <td>28.0</td>\n",
       "      <td>23.0</td>\n",
       "      <td>0.090548</td>\n",
       "      <td>0.272751</td>\n",
       "      <td>0.164437</td>\n",
       "      <td>25.0</td>\n",
       "      <td>21.0</td>\n",
       "      <td>4.74542</td>\n",
       "      <td>4.34706</td>\n",
       "      <td>0.0</td>\n",
       "      <td>0.034541</td>\n",
       "      <td>0.916598</td>\n",
       "    </tr>\n",
       "  </tbody>\n",
       "</table>\n",
       "</div>"
      ],
      "text/plain": [
       "                                  b           e      d    rd     s    sh  \\\n",
       "group                                                                      \n",
       "AgeLMRs outside ESC LMR  60430834.5  60431309.5  317.5  18.0  15.5   0.0   \n",
       "AgeLMRs within ESC LMR   53889693.0  53890325.0  632.0  33.0  28.0  23.0   \n",
       "\n",
       "                                y         o        dd    su   suh     EZH2  \\\n",
       "group                                                                        \n",
       "AgeLMRs outside ESC LMR  0.163095  0.381252  0.190558  15.0   0.0  1.01688   \n",
       "AgeLMRs within ESC LMR   0.090548  0.272751  0.164437  25.0  21.0  4.74542   \n",
       "\n",
       "                           SUZ12  tpm     blood      skin  \n",
       "group                                                      \n",
       "AgeLMRs outside ESC LMR  0.73499  0.0  0.000000  0.454153  \n",
       "AgeLMRs within ESC LMR   4.34706  0.0  0.034541  0.916598  "
      ]
     },
     "execution_count": 263,
     "metadata": {},
     "output_type": "execute_result"
    }
   ],
   "source": [
    "ts.groupby('group').median()"
   ]
  },
  {
   "cell_type": "code",
   "execution_count": 27,
   "id": "a6ee263b-1fc5-4d2b-9c0d-24d256c5c991",
   "metadata": {},
   "outputs": [],
   "source": [
    "############################\n",
    "############################"
   ]
  },
  {
   "cell_type": "code",
   "execution_count": 122,
   "id": "9d507001-4c91-41bc-bd4b-61f003262f64",
   "metadata": {},
   "outputs": [],
   "source": [
    "h=c['h'].copy()\n",
    "bw='data/source/ENCFF109KCQ.bigWig'\n",
    "bw=pyBigWig.open(bw)\n",
    "bs=[]\n",
    "for i,r in h.iterrows():\n",
    "    bs.append(bw.stats(r['ch'],int(r['b']),int(r['e']),'max')[0])\n",
    "h['ez']=bs"
   ]
  },
  {
   "cell_type": "code",
   "execution_count": 125,
   "id": "d85b53cc-2781-4fd1-9c82-784b042e8c71",
   "metadata": {},
   "outputs": [],
   "source": [
    "bw='data/source/ENCFF609MMJ.bigWig'\n",
    "bw=pyBigWig.open(bw)\n",
    "bs=[]\n",
    "for i,r in h.iterrows():\n",
    "    bs.append(bw.stats(r['ch'],int(r['b']),int(r['e']),'max')[0])\n",
    "h['suz']=bs"
   ]
  },
  {
   "cell_type": "code",
   "execution_count": 128,
   "id": "3c088d89-8646-4f63-9498-acc048106812",
   "metadata": {},
   "outputs": [],
   "source": [
    "h['prc']=h[['ez','suz']].mean(1)"
   ]
  },
  {
   "cell_type": "code",
   "execution_count": 138,
   "id": "b75f2e98-9a24-4f87-974f-c0093cf95301",
   "metadata": {},
   "outputs": [],
   "source": [
    "h[['ch','b','e','d','rd','ez','suz','prc']].to_csv('data/h.csv')"
   ]
  },
  {
   "cell_type": "code",
   "execution_count": 134,
   "id": "55914c64-ea24-4dad-b96f-d4bf83d2984d",
   "metadata": {},
   "outputs": [],
   "source": [
    "hz=h[h.prc>100].copy()"
   ]
  },
  {
   "cell_type": "code",
   "execution_count": 135,
   "id": "9d697274-46bf-4746-bef9-78e620b8d324",
   "metadata": {},
   "outputs": [
    {
     "data": {
      "text/plain": [
       "633"
      ]
     },
     "execution_count": 135,
     "metadata": {},
     "output_type": "execute_result"
    }
   ],
   "source": [
    "tss=pd.read_csv('data/tss.csv',index_col=0)\n",
    "exp=pd.read_csv('data/exp.csv',index_col=0)\n",
    "exp['ch']='chr'+exp['chrom'].astype(str)\n",
    "expg=exp.groupby('ch')['ts'].apply(list)\n",
    "hz['ts']=hz.apply(lambda x: get_ts(x),axis=1)\n",
    "hzt=hz[hz.ts.notna()]\n",
    "len(hzt)"
   ]
  },
  {
   "cell_type": "code",
   "execution_count": null,
   "id": "95f71bee-6983-4039-952e-a26619a0b43e",
   "metadata": {},
   "outputs": [],
   "source": []
  }
 ],
 "metadata": {
  "kernelspec": {
   "display_name": "meth",
   "language": "python",
   "name": "meth"
  },
  "language_info": {
   "codemirror_mode": {
    "name": "ipython",
    "version": 3
   },
   "file_extension": ".py",
   "mimetype": "text/x-python",
   "name": "python",
   "nbconvert_exporter": "python",
   "pygments_lexer": "ipython3",
   "version": "3.9.7"
  }
 },
 "nbformat": 4,
 "nbformat_minor": 5
}
