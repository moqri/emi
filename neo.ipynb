{
 "cells": [
  {
   "cell_type": "code",
   "execution_count": 4,
   "id": "5ba121fe-967c-4216-b8a3-c4388614c4a8",
   "metadata": {},
   "outputs": [],
   "source": [
    "import pandas as pd\n",
    "import time\n",
    "source='data/source/'\n",
    "neo_=source+'pbmc_neo/GSE140730-GPL20795_series_matrix.txt.gz'"
   ]
  },
  {
   "cell_type": "code",
   "execution_count": 5,
   "id": "c3a52b1d-760d-463b-aacb-dd1ccd0140d9",
   "metadata": {},
   "outputs": [
    {
     "name": "stdout",
     "output_type": "stream",
     "text": [
      "GSM4182609,"
     ]
    },
    {
     "ename": "NameError",
     "evalue": "name 'np' is not defined",
     "output_type": "error",
     "traceback": [
      "\u001b[0;31m---------------------------------------------------------------------------\u001b[0m",
      "\u001b[0;31mNameError\u001b[0m                                 Traceback (most recent call last)",
      "\u001b[0;32m/local/scratch/moqri/slrmtmp.30739733/ipykernel_43969/1841236842.py\u001b[0m in \u001b[0;36m<module>\u001b[0;34m\u001b[0m\n\u001b[1;32m     19\u001b[0m     \u001b[0;32mif\u001b[0m \u001b[0mi\u001b[0m\u001b[0;34m==\u001b[0m\u001b[0;36m0\u001b[0m\u001b[0;34m:\u001b[0m\u001b[0;34m\u001b[0m\u001b[0;34m\u001b[0m\u001b[0m\n\u001b[1;32m     20\u001b[0m         \u001b[0mind\u001b[0m\u001b[0;34m=\u001b[0m\u001b[0mneo\u001b[0m\u001b[0;34m.\u001b[0m\u001b[0mindex\u001b[0m\u001b[0;34m\u001b[0m\u001b[0;34m\u001b[0m\u001b[0m\n\u001b[0;32m---> 21\u001b[0;31m         \u001b[0ms3\u001b[0m\u001b[0;34m=\u001b[0m\u001b[0mnp\u001b[0m\u001b[0;34m.\u001b[0m\u001b[0marray\u001b[0m\u001b[0;34m(\u001b[0m\u001b[0mneo\u001b[0m\u001b[0;34m.\u001b[0m\u001b[0mloc\u001b[0m\u001b[0;34m[\u001b[0m\u001b[0;34m:\u001b[0m\u001b[0;34m,\u001b[0m\u001b[0;36m3\u001b[0m\u001b[0;34m]\u001b[0m\u001b[0;34m)\u001b[0m\u001b[0;34m\u001b[0m\u001b[0;34m\u001b[0m\u001b[0m\n\u001b[0m\u001b[1;32m     22\u001b[0m         \u001b[0ms4\u001b[0m\u001b[0;34m=\u001b[0m\u001b[0mnp\u001b[0m\u001b[0;34m.\u001b[0m\u001b[0marray\u001b[0m\u001b[0;34m(\u001b[0m\u001b[0mneo\u001b[0m\u001b[0;34m.\u001b[0m\u001b[0mloc\u001b[0m\u001b[0;34m[\u001b[0m\u001b[0;34m:\u001b[0m\u001b[0;34m,\u001b[0m\u001b[0;36m4\u001b[0m\u001b[0;34m]\u001b[0m\u001b[0;34m)\u001b[0m\u001b[0;34m\u001b[0m\u001b[0;34m\u001b[0m\u001b[0m\n\u001b[1;32m     23\u001b[0m     \u001b[0;32melse\u001b[0m\u001b[0;34m:\u001b[0m\u001b[0;34m\u001b[0m\u001b[0;34m\u001b[0m\u001b[0m\n",
      "\u001b[0;31mNameError\u001b[0m: name 'np' is not defined"
     ]
    }
   ],
   "source": [
    "    n=8\n",
    "    neos=[]\n",
    "    t=time.time()\n",
    "    neo=pd.read_csv(neo_,sep='\\t',skiprows=31).T\n",
    "    neo=neo[neo[9]=='diagnosis: TD']\n",
    "    gsms=neo[43].index\n",
    "    s3s=[]\n",
    "    s4s=[]\n",
    "    for i in range(len(gsms[0:2])):\n",
    "        gsm=gsms[i]           \n",
    "        print(gsm,end=',')\n",
    "        neo=pd.read_table('data/source/pbmc_neo/'+gsm+'.txt.gz',header=None,usecols=[0,1,2,3,4],nrows=10**n)\n",
    "        neo=neo[~neo[0].isin(['chrX','chrY','chrM'])]\n",
    "        neo=neo[~neo[0].str.startswith('chrU')]\n",
    "        neo=neo[~neo[0].str.endswith('m')]\n",
    "        neo=neo[~neo[0].str.endswith('t')]\n",
    "        neo.index=neo[0].str[3:]+'_'+(neo[1]-1).astype(str)    \n",
    "        neo=neo.drop([0,1],axis=1)\n",
    "        if i==0:\n",
    "            ind=neo.index\n",
    "            s3=np.array(neo.loc[:,3])\n",
    "            s4=np.array(neo.loc[:,4])\n",
    "        else:\n",
    "            s3=np.array(neo.loc[ind,3])\n",
    "            s4=np.array(neo.loc[ind,4])\n",
    "        s3s.append(s3)\n",
    "        s4s.append(s4)\n",
    "        print(round(time.time()-t))\n",
    "    s3ss=np.array(s3s).sum(0)\n",
    "    s4ss=np.array(s4s).sum(0)\n",
    "    df=pd.concat([pd.DataFrame(s3ss),pd.DataFrame(s4ss)],1)\n",
    "    df.index=ind\n",
    "    df.to_csv(data+'pmbc_neo_signals.csv')  \n"
   ]
  },
  {
   "cell_type": "code",
   "execution_count": null,
   "id": "f8d6fed6-cf30-4257-831e-0272acdb5dca",
   "metadata": {},
   "outputs": [],
   "source": [
    "    neo['cpg']=neo.apply(lambda x: x[1] if x[2]=='+' else x[1]-1,axis=1)\n",
    "    neo[['-',3,4]].groupby('_').mean()"
   ]
  }
 ],
 "metadata": {
  "kernelspec": {
   "display_name": "meth",
   "language": "python",
   "name": "meth"
  },
  "language_info": {
   "codemirror_mode": {
    "name": "ipython",
    "version": 3
   },
   "file_extension": ".py",
   "mimetype": "text/x-python",
   "name": "python",
   "nbconvert_exporter": "python",
   "pygments_lexer": "ipython3",
   "version": "3.9.7"
  }
 },
 "nbformat": 4,
 "nbformat_minor": 5
}
