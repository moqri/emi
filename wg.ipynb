{
 "cells": [
  {
   "cell_type": "code",
   "execution_count": 1,
   "id": "1f8bc120-8c43-49f4-8b8f-c1ceecf18132",
   "metadata": {},
   "outputs": [],
   "source": [
    "import time\n",
    "import pandas as pd\n",
    "import numpy as np\n",
    "import util\n",
    "import pyBigWig\n",
    "import seaborn as sns\n",
    "import glob\n",
    "from matplotlib_venn import venn2,venn3\n",
    "from matplotlib import pyplot as plt\n",
    "import warnings\n",
    "warnings.filterwarnings(\"ignore\")\n",
    "tic=time.time()"
   ]
  },
  {
   "cell_type": "code",
   "execution_count": 5,
   "id": "141641ef-9c07-4f17-a285-610329af4ea4",
   "metadata": {},
   "outputs": [
    {
     "data": {
      "text/plain": [
       "39517"
      ]
     },
     "execution_count": 5,
     "metadata": {},
     "output_type": "execute_result"
    }
   ],
   "source": [
    "h=pd.read_csv('data/h.csv',index_col=0)\n",
    "len(h)"
   ]
  },
  {
   "cell_type": "code",
   "execution_count": 6,
   "id": "b197af4e-542c-41c0-b0a4-dff0cb469b47",
   "metadata": {},
   "outputs": [
    {
     "name": "stdout",
     "output_type": "stream",
     "text": [
      "   ezg T cell     value\n",
      "0  Low     ty  0.003165\n"
     ]
    },
    {
     "data": {
      "text/plain": [
       "[Text(0.5, 0, 'EZH Binding Level'), Text(0, 0.5, 'DNA Methylation')]"
      ]
     },
     "execution_count": 6,
     "metadata": {},
     "output_type": "execute_result"
    },
    {
     "data": {
      "image/png": "[encoded data removed]",
      "text/plain": [
       "<Figure size 432x288 with 1 Axes>"
      ]
     },
     "metadata": {
      "needs_background": "light"
     },
     "output_type": "display_data"
    }
   ],
   "source": [
    "for n in ['y','o']:\n",
    "    path='data/meth/t/'+n+'.bw'\n",
    "    bw=pyBigWig.open(path)\n",
    "    h[s+n]=h.apply(lambda x: bw.stats(x['ch'],x['b'],x['e'],'mean',exact=True)[0],axis=1)\n",
    "h[s+'d']=h[s+'o']-h[s+'y']\n",
    "pl=h[['ezg','ty','to']].melt('ezg')\n",
    "pl.columns=['ezg','T cell','value']\n",
    "print(pl.head(1))\n",
    "pl['T cell']=pl['T cell'].replace({'ty':'Young','to':'Old'})\n",
    "ax=sns.barplot(data=pl,x='ezg',y='value',hue='T cell')\n",
    "ax.set(xlabel='EZH Binding Level', ylabel='DNA Methylation')"
   ]
  },
  {
   "cell_type": "code",
   "execution_count": 11,
   "id": "891c2ede-f77c-467f-9cb1-fb565183b5d1",
   "metadata": {},
   "outputs": [
    {
     "data": {
      "text/plain": [
       "[Text(0, 0.5, 'DNA Methylation')]"
      ]
     },
     "execution_count": 11,
     "metadata": {},
     "output_type": "execute_result"
    },
    {
     "data": {
      "image/png": "[encoded data removed]",
      "text/plain": [
       "<Figure size 360x288 with 1 Axes>"
      ]
     },
     "metadata": {
      "needs_background": "light"
     },
     "output_type": "display_data"
    }
   ],
   "source": [
    "fyo=['Young-381','Young-400','Young-498','Old-247','Old-602','Old-725']\n",
    "for sn in fyo:\n",
    "    path='data/meth/f/yo/'+sn+'.bw'\n",
    "    bw=pyBigWig.open(path)\n",
    "    h[sn]=h.apply(lambda x: bw.stats(x['ch'],x['b'],x['e'],'mean',exact=True)[0],axis=1)\n",
    "hz=h[h.ezg=='High']\n",
    "p=pd.DataFrame(hz[fyo].mean())\n",
    "p['Age']=3*['Young']+3*['Old']\n",
    "#p.columns=['Average DNAm','Passage']#,'Condition','Individual']\n",
    "fig, ax = plt.subplots(figsize=(5,4))\n",
    "ax=sns.boxplot(data=p,x='Age',y=0,boxprops=dict(alpha=.3))\n",
    "ax=sns.stripplot(data=p,x='Age',y=0,marker=\".\",size=20)\n",
    "ax.set( ylabel='DNA Methylation')"
   ]
  },
  {
   "cell_type": "code",
   "execution_count": null,
   "id": "2d645643-cfbd-4db8-8cd3-ca339a4ee21f",
   "metadata": {},
   "outputs": [],
   "source": [
    "fs=['SRR3264'+str(i) for i in [413,414,415,416,722]]\n",
    "for sn in fs:\n",
    "    path='data/meth/f/'+sn+'.bw'\n",
    "    bw=pyBigWig.open(path)\n",
    "    h[sn]=h.apply(lambda x: bw.stats(x['ch'],x['b'],x['e'],'mean',exact=True)[0],axis=1)\n",
    "p=pd.DataFrame(hz[fs].mean())\n",
    "p['Passage']=[4,7,10,31,33]\n",
    "p.columns=['Average DNAm','Passage']#,'Condition','Individual']\n",
    "fig, ax = plt.subplots(figsize=(5,4))\n",
    "ax=sns.regplot(data=p,x='Passage',y='Average DNAm',label='R-squared = 0.99991')\n",
    "ax.legend(loc=\"best\")    \n",
    "print(p.corr())"
   ]
  },
  {
   "cell_type": "code",
   "execution_count": null,
   "id": "1bb2fa94-ca9b-48c5-9c24-94f2b322137f",
   "metadata": {},
   "outputs": [],
   "source": [
    "sp=['SRR10429'+ i for i in  ['03','06','07','09','11','13']]\n",
    "se=['SRR10429'+ i for i in  ['04','05','08','10','12','14']]\n",
    "sep=sp+se\n",
    "for sn in sep:\n",
    "    path='data/meth/s/'+sn+'.bw'\n",
    "    bw=pyBigWig.open(path)\n",
    "    h[sn]=h.apply(lambda x: bw.stats(x['ch'],x['b'],x['e'],'mean',exact=True)[0],axis=1)\n",
    "p=pd.DataFrame(hz[sep].mean())\n",
    "p['age']=[25,23,18,75,74,83]+[25,23,18,75,74,83]\n",
    "p['g']= ['Sun-protected']*6+['Sun-exposed']*6\n",
    "p['indivudal']=2*['Young1','Young2','Young3','Old1','Old2','Old3']\n",
    "p.columns=['Average DNAm','Age','Condition','Individual']\n",
    "fig, ax = plt.subplots(figsize=(5,4))\n",
    "sns.scatterplot(data=p,x='Age',y='Average DNAm',hue='Condition',hue_order=['Sun-exposed','Sun-protected'],\n",
    "                palette=['red','green'],markers=True, style='Individual',s=100,alpha=.7)"
   ]
  },
  {
   "cell_type": "code",
   "execution_count": null,
   "id": "01037346-4f30-4714-9d04-b63d1f061e18",
   "metadata": {},
   "outputs": [],
   "source": []
  }
 ],
 "metadata": {
  "kernelspec": {
   "display_name": "meth",
   "language": "python",
   "name": "meth"
  },
  "language_info": {
   "codemirror_mode": {
    "name": "ipython",
    "version": 3
   },
   "file_extension": ".py",
   "mimetype": "text/x-python",
   "name": "python",
   "nbconvert_exporter": "python",
   "pygments_lexer": "ipython3",
   "version": "3.9.7"
  }
 },
 "nbformat": 4,
 "nbformat_minor": 5
}
