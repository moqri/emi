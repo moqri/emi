{
 "cells": [
  {
   "cell_type": "code",
   "execution_count": null,
   "id": "8eb52fc4-d565-460d-941a-5af4ed6a519a",
   "metadata": {},
   "outputs": [],
   "source": [
    "tssl=tss.tss.sort_values().tolist()\n",
    "\n",
    "cols=['IlmnID','CHR','MAPINFO','UCSC_RefGene_Name']\n",
    "man=pd.read_csv(man450_19,skiprows=7,index_col=0,usecols=cols,low_memory=False,engine='c')\n",
    "man38=pd.read_csv(man450_38,sep='\\t',usecols=['probeID','CpG_chrm','CpG_beg'],index_col='probeID')\n",
    "man=man.merge(man38,left_index=True,right_index=True)\n",
    "man=man[~man['CpG_chrm'].isin(['chrX','chrY','chrM',np.nan])]\n",
    "man['g']=man['CpG_chrm'].str[3:5].astype(int)*10**9+man['CpG_beg']\n",
    "man['tss']=man.g.apply(lambda x:util.take_closest(tssl,x))\n",
    "man['gene']=tss.loc[man['tss'].values].geneSymbol.tolist()\n",
    "man['d']=np.abs(man['g']-man['tss'])\n",
    "man.loc[['cg17110586', 'cg13954457', 'cg06204735', 'cg26885220', 'cg23606718',\n",
    "       'cg11705975', 'cg07955995', 'cg02479575', 'cg21572722', 'cg08097417',\n",
    "       'cg24724428', 'cg22454769', 'cg04940570', 'cg14361627', 'cg06784991',\n",
    "       'cg06782035', 'cg06639320', 'cg07544187', 'cg16867657']].d.values"
   ]
  },
  {
   "cell_type": "code",
   "execution_count": null,
   "id": "04ebdd3e-d97a-48a2-9c00-32f4e29ddd4a",
   "metadata": {},
   "outputs": [],
   "source": [
    "#mane_='data/infinium-methylationepic-v-1-0-b5-manifest-file-csv.zip'\n",
    "#cols=['IlmnID','CHR_hg38','Start_hg38']\n",
    "#mane=pd.read_csv(mane_,skiprows=7,index_col=0, low_memory=False,engine='c',usecols=cols)\n",
    "ez=pd.read_csv(remap,sep='\\t',engine='c',header=None,usecols=[0,1,2,3,4,6])\n",
    "ez=ez[ez[3].str.contains('blood')]\n",
    "#ez=ez[ez[4]>10]\n",
    "ez=ez[~ez[0].str.contains('random')][~ez[0].str.contains('Un')][~ez[0].str.contains('EBV')]\n",
    "ez=ez[~ez[0].isin(['chrX','chrY','chrM',np.nan])]\n",
    "ez['ez']=ez[0].str[3:5].astype(int)*10**9+ez[1]\n",
    "ez=ez['ez'].sort_values().tolist()\n",
    "man['ez']=man.g.apply(lambda x:util.take_closest(ez,x))\n",
    "man['ezd']=np.abs(man['g']-man['ez'])"
   ]
  }
 ],
 "metadata": {
  "kernelspec": {
   "display_name": "meth",
   "language": "python",
   "name": "meth"
  },
  "language_info": {
   "codemirror_mode": {
    "name": "ipython",
    "version": 3
   },
   "file_extension": ".py",
   "mimetype": "text/x-python",
   "name": "python",
   "nbconvert_exporter": "python",
   "pygments_lexer": "ipython3",
   "version": "3.9.7"
  }
 },
 "nbformat": 4,
 "nbformat_minor": 5
}
