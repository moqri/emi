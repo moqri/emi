{
 "cells": [
  {
   "cell_type": "code",
   "execution_count": 1,
   "id": "7c537b53-d4b7-4c3b-b020-69bd465a8b38",
   "metadata": {},
   "outputs": [],
   "source": [
    "import pandas as pd\n",
    "import seaborn as sns\n",
    "from matplotlib import pyplot\n",
    "import pyBigWig\n",
    "import numpy as np"
   ]
  },
  {
   "cell_type": "code",
   "execution_count": 2,
   "id": "529c00e3-34e3-49e6-9a58-c8d6120265df",
   "metadata": {},
   "outputs": [],
   "source": [
    "#ind=pd.read_csv('data/ind.csv',index_col=0,engine='c')\n",
    "ez=pd.read_csv('data/ez.csv',index_col=0,engine='c')\n",
    "exp=pd.read_csv('data/exp.csv',index_col=0,engine='c')"
   ]
  },
  {
   "cell_type": "code",
   "execution_count": 3,
   "id": "c34cfaa1-41c9-4461-a702-0cabf5bdcaaf",
   "metadata": {},
   "outputs": [
    {
     "data": {
      "text/plain": [
       "(3150367, 5)"
      ]
     },
     "execution_count": 3,
     "metadata": {},
     "output_type": "execute_result"
    }
   ],
   "source": [
    "df=pd.read_csv('data/meth/fib.csv',index_col=0)\n",
    "df.shape"
   ]
  },
  {
   "cell_type": "code",
   "execution_count": 4,
   "id": "65b0e95f-0563-474d-86f5-6a29196c187f",
   "metadata": {},
   "outputs": [],
   "source": [
    "fs=df.columns"
   ]
  },
  {
   "cell_type": "code",
   "execution_count": 5,
   "id": "db0920d0-aa61-472c-986b-63a678403f5d",
   "metadata": {},
   "outputs": [
    {
     "data": {
      "text/plain": [
       "(2039630, 5)"
      ]
     },
     "execution_count": 5,
     "metadata": {},
     "output_type": "execute_result"
    }
   ],
   "source": [
    "df['s']=df.sum(1)\n",
    "df=df[df.s>0]\n",
    "df=df[df.s<len(fs)]\n",
    "df=df.drop('s',axis=1).round(3)\n",
    "df.shape"
   ]
  },
  {
   "cell_type": "code",
   "execution_count": 6,
   "id": "1620f1c5-d3ac-46e5-b490-966f5467adb8",
   "metadata": {},
   "outputs": [],
   "source": [
    "#ind=ind.merge(ez,left_index=True, right_index=True)"
   ]
  },
  {
   "cell_type": "code",
   "execution_count": 7,
   "id": "7caa2c3b-c365-4c21-8c09-87f6a1599235",
   "metadata": {},
   "outputs": [
    {
     "data": {
      "text/plain": [
       "(132685, 5)"
      ]
     },
     "execution_count": 7,
     "metadata": {},
     "output_type": "execute_result"
    }
   ],
   "source": [
    "cut=ez[(ez['ez']==1000)]\n",
    "dg=df[df.index.isin(cut.index)].copy()\n",
    "dg.shape"
   ]
  },
  {
   "cell_type": "code",
   "execution_count": 8,
   "id": "dc136283-2a77-47bf-a394-7ea6a5dc8ea6",
   "metadata": {},
   "outputs": [
    {
     "data": {
      "text/html": [
       "<div>\n",
       "<style scoped>\n",
       "    .dataframe tbody tr th:only-of-type {\n",
       "        vertical-align: middle;\n",
       "    }\n",
       "\n",
       "    .dataframe tbody tr th {\n",
       "        vertical-align: top;\n",
       "    }\n",
       "\n",
       "    .dataframe thead th {\n",
       "        text-align: right;\n",
       "    }\n",
       "</style>\n",
       "<table border=\"1\" class=\"dataframe\">\n",
       "  <thead>\n",
       "    <tr style=\"text-align: right;\">\n",
       "      <th></th>\n",
       "      <th>0</th>\n",
       "      <th>age</th>\n",
       "    </tr>\n",
       "  </thead>\n",
       "  <tbody>\n",
       "    <tr>\n",
       "      <th>SRR3264413.meth</th>\n",
       "      <td>0.187936</td>\n",
       "      <td>4</td>\n",
       "    </tr>\n",
       "    <tr>\n",
       "      <th>SRR3264414.meth</th>\n",
       "      <td>0.197349</td>\n",
       "      <td>7</td>\n",
       "    </tr>\n",
       "    <tr>\n",
       "      <th>SRR3264415.meth</th>\n",
       "      <td>0.207920</td>\n",
       "      <td>10</td>\n",
       "    </tr>\n",
       "    <tr>\n",
       "      <th>SRR3264416.meth</th>\n",
       "      <td>0.286376</td>\n",
       "      <td>31</td>\n",
       "    </tr>\n",
       "    <tr>\n",
       "      <th>SRR3264722.meth</th>\n",
       "      <td>0.292249</td>\n",
       "      <td>33</td>\n",
       "    </tr>\n",
       "  </tbody>\n",
       "</table>\n",
       "</div>"
      ],
      "text/plain": [
       "                        0  age\n",
       "SRR3264413.meth  0.187936    4\n",
       "SRR3264414.meth  0.197349    7\n",
       "SRR3264415.meth  0.207920   10\n",
       "SRR3264416.meth  0.286376   31\n",
       "SRR3264722.meth  0.292249   33"
      ]
     },
     "execution_count": 8,
     "metadata": {},
     "output_type": "execute_result"
    }
   ],
   "source": [
    "p=pd.DataFrame(dg.mean())\n",
    "p['age']=[4,7,10,31,33]\n",
    "p"
   ]
  },
  {
   "cell_type": "code",
   "execution_count": 9,
   "id": "8bb395ff-ce79-4c3b-8e62-08e2378802f5",
   "metadata": {},
   "outputs": [],
   "source": [
    "dg['dd']=dg[fs[-1]]-dg[fs[0]]"
   ]
  },
  {
   "cell_type": "code",
   "execution_count": 10,
   "id": "c2d3ad89-58f6-4d74-966a-a48f78b99c99",
   "metadata": {},
   "outputs": [
    {
     "data": {
      "text/plain": [
       "<AxesSubplot:>"
      ]
     },
     "execution_count": 10,
     "metadata": {},
     "output_type": "execute_result"
    },
    {
     "data": {
      "image/png": "[encoded data removed]",
      "text/plain": [
       "<Figure size 432x288 with 1 Axes>"
      ]
     },
     "metadata": {
      "needs_background": "light"
     },
     "output_type": "display_data"
    }
   ],
   "source": [
    "dg[dg.dd!=0].dd.hist(bins=100)"
   ]
  },
  {
   "cell_type": "code",
   "execution_count": 11,
   "id": "e1cddf3a-4796-4a1f-8e29-904498979bc8",
   "metadata": {},
   "outputs": [
    {
     "data": {
      "text/plain": [
       "<AxesSubplot:xlabel='age', ylabel='0'>"
      ]
     },
     "execution_count": 11,
     "metadata": {},
     "output_type": "execute_result"
    },
    {
     "data": {
      "image/png": "[encoded data removed]",
      "text/plain": [
       "<Figure size 432x288 with 1 Axes>"
      ]
     },
     "metadata": {
      "needs_background": "light"
     },
     "output_type": "display_data"
    }
   ],
   "source": [
    "sns.scatterplot(data=p,x='age',y=0)"
   ]
  },
  {
   "cell_type": "code",
   "execution_count": 12,
   "id": "cf9281a5-7360-434f-a354-b00bf3289948",
   "metadata": {},
   "outputs": [
    {
     "data": {
      "text/html": [
       "<div>\n",
       "<style scoped>\n",
       "    .dataframe tbody tr th:only-of-type {\n",
       "        vertical-align: middle;\n",
       "    }\n",
       "\n",
       "    .dataframe tbody tr th {\n",
       "        vertical-align: top;\n",
       "    }\n",
       "\n",
       "    .dataframe thead th {\n",
       "        text-align: right;\n",
       "    }\n",
       "</style>\n",
       "<table border=\"1\" class=\"dataframe\">\n",
       "  <thead>\n",
       "    <tr style=\"text-align: right;\">\n",
       "      <th></th>\n",
       "      <th>0</th>\n",
       "      <th>age</th>\n",
       "    </tr>\n",
       "  </thead>\n",
       "  <tbody>\n",
       "    <tr>\n",
       "      <th>0</th>\n",
       "      <td>1.000000</td>\n",
       "      <td>0.999845</td>\n",
       "    </tr>\n",
       "    <tr>\n",
       "      <th>age</th>\n",
       "      <td>0.999845</td>\n",
       "      <td>1.000000</td>\n",
       "    </tr>\n",
       "  </tbody>\n",
       "</table>\n",
       "</div>"
      ],
      "text/plain": [
       "            0       age\n",
       "0    1.000000  0.999845\n",
       "age  0.999845  1.000000"
      ]
     },
     "execution_count": 12,
     "metadata": {},
     "output_type": "execute_result"
    }
   ],
   "source": [
    "p.corr()"
   ]
  },
  {
   "cell_type": "code",
   "execution_count": null,
   "id": "4185a3ae-fab2-4576-9185-ac96e2196ab1",
   "metadata": {},
   "outputs": [],
   "source": []
  }
 ],
 "metadata": {
  "kernelspec": {
   "display_name": "meth",
   "language": "python",
   "name": "meth"
  },
  "language_info": {
   "codemirror_mode": {
    "name": "ipython",
    "version": 3
   },
   "file_extension": ".py",
   "mimetype": "text/x-python",
   "name": "python",
   "nbconvert_exporter": "python",
   "pygments_lexer": "ipython3",
   "version": "3.9.7"
  }
 },
 "nbformat": 4,
 "nbformat_minor": 5
}
