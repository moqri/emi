{
 "cells": [
  {
   "cell_type": "code",
   "execution_count": 1,
   "id": "3498266f-e3d3-4107-81be-67b66fb82b20",
   "metadata": {},
   "outputs": [],
   "source": [
    "import pandas as pd"
   ]
  },
  {
   "cell_type": "code",
   "execution_count": 33,
   "id": "90ce400a-9188-4157-b1e7-bb9987c620b4",
   "metadata": {},
   "outputs": [],
   "source": [
    "ind=pd.read_csv('data/ind.csv',index_col=0,engine='c',usecols=['_'])"
   ]
  },
  {
   "cell_type": "code",
   "execution_count": 9,
   "id": "ea9d2b67-95ee-46fc-befc-6e2ddb13fc56",
   "metadata": {},
   "outputs": [],
   "source": []
  },
  {
   "cell_type": "code",
   "execution_count": 12,
   "id": "b8bb4b36-c35c-4097-a67d-b35ef456ec53",
   "metadata": {},
   "outputs": [],
   "source": [
    "ez=pd.read_csv('data/ez.csv',index_col=0,engine='c')\n",
    "exp=pd.read_csv('data/exp.csv',index_col=0,engine='c')"
   ]
  },
  {
   "cell_type": "code",
   "execution_count": null,
   "id": "8436c7f7-2160-4b97-8f82-292bb2e478ae",
   "metadata": {},
   "outputs": [
    {
     "name": "stdout",
     "output_type": "stream",
     "text": [
      "SRR3264413.meth,3469996,SRR3264414.meth,"
     ]
    }
   ],
   "source": [
    "files=['SRR3264'+str(i) +'.meth' for i in [413,414,415,416,722]]\n",
    "n=8\n",
    "dfs=[]\n",
    "for f in files:\n",
    "    print(f,end=',')\n",
    "    df=pd.read_csv('data/meth/fib/'+f,sep='\\t',header=None,nrows=5*10**n)\n",
    "    df=df[df[5]>0]\n",
    "    df.index=df[0].str[3:5]+'_'+df[1].astype(str)\n",
    "    df=df[df.index.isin(ind.index)][[4]]\n",
    "    print(len(df),end=',')\n",
    "    df.columns=[f]\n",
    "    dfs.append(df)    "
   ]
  },
  {
   "cell_type": "code",
   "execution_count": null,
   "id": "aa675b15-b541-41f6-9331-d2c4b3ddbc85",
   "metadata": {},
   "outputs": [],
   "source": [
    "df=dfs[0]\n",
    "for i in range(1,len(files)):\n",
    "    print(i,end=',')\n",
    "    dt=dfs[i]\n",
    "    df=df.merge(dt,left_index=True,right_index=True)\n",
    "print(df.shape)    "
   ]
  }
 ],
 "metadata": {
  "kernelspec": {
   "display_name": "meth",
   "language": "python",
   "name": "meth"
  },
  "language_info": {
   "codemirror_mode": {
    "name": "ipython",
    "version": 3
   },
   "file_extension": ".py",
   "mimetype": "text/x-python",
   "name": "python",
   "nbconvert_exporter": "python",
   "pygments_lexer": "ipython3",
   "version": "3.9.7"
  }
 },
 "nbformat": 4,
 "nbformat_minor": 5
}
