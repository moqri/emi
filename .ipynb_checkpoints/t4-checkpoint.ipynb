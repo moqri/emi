{
 "cells": [
  {
   "cell_type": "code",
   "execution_count": 1,
   "id": "7c537b53-d4b7-4c3b-b020-69bd465a8b38",
   "metadata": {},
   "outputs": [],
   "source": [
    "import pandas as pd\n",
    "import seaborn as sns\n",
    "from matplotlib import pyplot\n",
    "import pyBigWig\n",
    "import numpy as np"
   ]
  },
  {
   "cell_type": "code",
   "execution_count": 2,
   "id": "529c00e3-34e3-49e6-9a58-c8d6120265df",
   "metadata": {},
   "outputs": [],
   "source": [
    "ez=pd.read_csv('data/ez.csv',index_col=0,engine='c')\n",
    "exp=pd.read_csv('data/exp.csv',index_col=0,engine='c')"
   ]
  },
  {
   "cell_type": "code",
   "execution_count": 3,
   "id": "4570ad6b-4091-427b-9839-03c612033f3c",
   "metadata": {},
   "outputs": [],
   "source": [
    "#h=pd.read_csv('data/h.csv',index_col=0,engine='c')\n",
    "#ez=ez.merge(h,left_index=True,right_index=True)"
   ]
  },
  {
   "cell_type": "code",
   "execution_count": 195,
   "id": "c34cfaa1-41c9-4461-a702-0cabf5bdcaaf",
   "metadata": {},
   "outputs": [
    {
     "data": {
      "text/plain": [
       "(3150367, 5)"
      ]
     },
     "execution_count": 200,
     "metadata": {},
     "output_type": "execute_result"
    }
   ],
   "source": [
    "df=pd.read_csv('data/meth/fib.csv',index_col=0)\n",
    "df.shape"
   ]
  },
  {
   "cell_type": "code",
   "execution_count": 196,
   "id": "2ae31608-7f73-4e29-896e-7f6bfef61d7b",
   "metadata": {},
   "outputs": [],
   "source": [
    "fs=[c.strip('.meth') for c in df.columns]\n",
    "df.columns=fs"
   ]
  },
  {
   "cell_type": "code",
   "execution_count": 197,
   "id": "1620f1c5-d3ac-46e5-b490-966f5467adb8",
   "metadata": {},
   "outputs": [],
   "source": [
    "ind=pd.read_csv('data/ind.csv',index_col=0,engine='c')\n",
    "df=df.merge(ind[['d','gene']],left_index=True,right_index=True)\n",
    "#ind=ind.merge(ez,left_index=True, right_index=True)"
   ]
  },
  {
   "cell_type": "code",
   "execution_count": 198,
   "id": "7c4361da-0e77-4e6d-b00c-6ec1a53a7098",
   "metadata": {},
   "outputs": [
    {
     "data": {
      "text/plain": [
       "<AxesSubplot:>"
      ]
     },
     "execution_count": 203,
     "metadata": {},
     "output_type": "execute_result"
    },
    {
     "data": {
      "image/png": "[encoded data removed]",
      "text/plain": [
       "<Figure size 432x288 with 1 Axes>"
      ]
     },
     "metadata": {
      "needs_background": "light"
     },
     "output_type": "display_data"
    }
   ],
   "source": [
    "df.d.hist(bins=100)"
   ]
  },
  {
   "cell_type": "code",
   "execution_count": 208,
   "id": "703bb743-1f28-4963-9472-2fda0ffea6d2",
   "metadata": {},
   "outputs": [
    {
     "data": {
      "text/plain": [
       "<AxesSubplot:>"
      ]
     },
     "execution_count": 208,
     "metadata": {},
     "output_type": "execute_result"
    },
    {
     "data": {
      "image/png": "[encoded data removed]",
      "text/plain": [
       "<Figure size 432x288 with 1 Axes>"
      ]
     },
     "metadata": {
      "needs_background": "light"
     },
     "output_type": "display_data"
    }
   ],
   "source": [
    "df['s']=df[fs].sum(1)\n",
    "df=df[df.s>0]\n",
    "df=df[df.s<len(fs)]\n",
    "df=df.drop('s',axis=1).round(3)\n",
    "print(df.shape)\n",
    "df.d.hist(bins=100)"
   ]
  },
  {
   "cell_type": "code",
   "execution_count": 212,
   "id": "33fbb81c-2b2e-4923-8e1d-afdb845e7365",
   "metadata": {},
   "outputs": [],
   "source": [
    "df=df.merge(ez,left_index=True,right_index=True)"
   ]
  },
  {
   "cell_type": "code",
   "execution_count": 213,
   "id": "089494f9-11ee-472d-ac76-25fad3924622",
   "metadata": {},
   "outputs": [],
   "source": [
    "df=df.merge(exp['e_fib'].rename('e'),left_index=True,right_index=True)"
   ]
  },
  {
   "cell_type": "code",
   "execution_count": 216,
   "id": "2908323e-1ba1-4bd0-929f-a9ec1fad26d7",
   "metadata": {},
   "outputs": [
    {
     "data": {
      "text/plain": [
       "<AxesSubplot:>"
      ]
     },
     "execution_count": 216,
     "metadata": {},
     "output_type": "execute_result"
    },
    {
     "data": {
      "image/png": "[encoded data removed]",
      "text/plain": [
       "<Figure size 432x288 with 1 Axes>"
      ]
     },
     "metadata": {
      "needs_background": "light"
     },
     "output_type": "display_data"
    }
   ],
   "source": [
    "df['y']=df['SRR3264413']\n",
    "df.y.hist(bins=100)"
   ]
  },
  {
   "cell_type": "code",
   "execution_count": 281,
   "id": "0509b1e6-0f14-4efb-ab41-929003d0be86",
   "metadata": {},
   "outputs": [],
   "source": [
    "df22=df[df.index.str.split('_').str[0]=='22']"
   ]
  },
  {
   "cell_type": "code",
   "execution_count": 301,
   "id": "760a0d0c-6a29-4430-9aa7-7c45f468239a",
   "metadata": {},
   "outputs": [
    {
     "name": "stderr",
     "output_type": "stream",
     "text": [
      "/local/scratch/moqri/slrmtmp.30788900/ipykernel_39297/2105974390.py:1: UserWarning: Boolean Series key will be reindexed to match DataFrame index.\n",
      "  counts=df22[df22.ez==1000][df22.d.abs()<500].groupby('gene').size()\n"
     ]
    }
   ],
   "source": [
    "counts=df22[df22.ez==1000][df22.d.abs()<500].groupby('gene').size()"
   ]
  },
  {
   "cell_type": "code",
   "execution_count": 303,
   "id": "0812a0ab-25ac-4d8a-b88f-4d86a90dfb65",
   "metadata": {},
   "outputs": [
    {
     "data": {
      "text/plain": [
       "gene\n",
       "CABP7       14\n",
       "CARD10      26\n",
       "GP1BB       64\n",
       "GSC2        21\n",
       "KCNJ4       13\n",
       "MAPK8IP2    11\n",
       "MICAL3      17\n",
       "NEFH        54\n",
       "PKDREJ      48\n",
       "PVALB       34\n",
       "RASL10A     37\n",
       "SCUBE1      15\n",
       "SHISA8      29\n",
       "TBX1        27\n",
       "TYMP        51\n",
       "UPB1        32\n",
       "WNT7B       14\n",
       "dtype: int64"
      ]
     },
     "execution_count": 303,
     "metadata": {},
     "output_type": "execute_result"
    }
   ],
   "source": [
    "counts[counts>10]"
   ]
  },
  {
   "cell_type": "code",
   "execution_count": 305,
   "id": "b1885310-f82e-46e2-a26f-2cc8ec8e6e63",
   "metadata": {},
   "outputs": [
    {
     "name": "stderr",
     "output_type": "stream",
     "text": [
      "/local/scratch/moqri/slrmtmp.30788900/ipykernel_39297/3504107357.py:1: UserWarning: Boolean Series key will be reindexed to match DataFrame index.\n",
      "  dg=df22[df22.ez==1000][df22.d.abs()<500].groupby('gene').mean()\n"
     ]
    },
    {
     "data": {
      "text/html": [
       "<div>\n",
       "<style scoped>\n",
       "    .dataframe tbody tr th:only-of-type {\n",
       "        vertical-align: middle;\n",
       "    }\n",
       "\n",
       "    .dataframe tbody tr th {\n",
       "        vertical-align: top;\n",
       "    }\n",
       "\n",
       "    .dataframe thead th {\n",
       "        text-align: right;\n",
       "    }\n",
       "</style>\n",
       "<table border=\"1\" class=\"dataframe\">\n",
       "  <thead>\n",
       "    <tr style=\"text-align: right;\">\n",
       "      <th></th>\n",
       "      <th>SRR3264413</th>\n",
       "      <th>SRR3264414</th>\n",
       "      <th>SRR3264415</th>\n",
       "      <th>SRR3264416</th>\n",
       "      <th>SRR3264722</th>\n",
       "      <th>d</th>\n",
       "      <th>ez</th>\n",
       "      <th>e</th>\n",
       "      <th>y</th>\n",
       "    </tr>\n",
       "    <tr>\n",
       "      <th>gene</th>\n",
       "      <th></th>\n",
       "      <th></th>\n",
       "      <th></th>\n",
       "      <th></th>\n",
       "      <th></th>\n",
       "      <th></th>\n",
       "      <th></th>\n",
       "      <th></th>\n",
       "      <th></th>\n",
       "    </tr>\n",
       "  </thead>\n",
       "  <tbody>\n",
       "    <tr>\n",
       "      <th>GSC2</th>\n",
       "      <td>0.047619</td>\n",
       "      <td>0.047619</td>\n",
       "      <td>0.190476</td>\n",
       "      <td>0.321333</td>\n",
       "      <td>0.202381</td>\n",
       "      <td>182.285714</td>\n",
       "      <td>1000.0</td>\n",
       "      <td>0.000000</td>\n",
       "      <td>0.047619</td>\n",
       "    </tr>\n",
       "    <tr>\n",
       "      <th>PVALB</th>\n",
       "      <td>0.072559</td>\n",
       "      <td>0.090206</td>\n",
       "      <td>0.066676</td>\n",
       "      <td>0.235500</td>\n",
       "      <td>0.278176</td>\n",
       "      <td>112.352941</td>\n",
       "      <td>1000.0</td>\n",
       "      <td>0.000000</td>\n",
       "      <td>0.072559</td>\n",
       "    </tr>\n",
       "    <tr>\n",
       "      <th>SHISA8</th>\n",
       "      <td>0.032759</td>\n",
       "      <td>0.047138</td>\n",
       "      <td>0.017241</td>\n",
       "      <td>0.217828</td>\n",
       "      <td>0.160448</td>\n",
       "      <td>-113.965517</td>\n",
       "      <td>1000.0</td>\n",
       "      <td>0.000000</td>\n",
       "      <td>0.032759</td>\n",
       "    </tr>\n",
       "    <tr>\n",
       "      <th>UPB1</th>\n",
       "      <td>0.339938</td>\n",
       "      <td>0.257812</td>\n",
       "      <td>0.270781</td>\n",
       "      <td>0.385937</td>\n",
       "      <td>0.438844</td>\n",
       "      <td>-244.406250</td>\n",
       "      <td>1000.0</td>\n",
       "      <td>0.014406</td>\n",
       "      <td>0.339938</td>\n",
       "    </tr>\n",
       "    <tr>\n",
       "      <th>SCUBE1</th>\n",
       "      <td>0.066667</td>\n",
       "      <td>0.107733</td>\n",
       "      <td>0.055533</td>\n",
       "      <td>0.088867</td>\n",
       "      <td>0.233267</td>\n",
       "      <td>188.533333</td>\n",
       "      <td>1000.0</td>\n",
       "      <td>0.014779</td>\n",
       "      <td>0.066667</td>\n",
       "    </tr>\n",
       "    <tr>\n",
       "      <th>KCNJ4</th>\n",
       "      <td>0.064077</td>\n",
       "      <td>0.000000</td>\n",
       "      <td>0.064077</td>\n",
       "      <td>0.110231</td>\n",
       "      <td>0.346077</td>\n",
       "      <td>-309.384615</td>\n",
       "      <td>1000.0</td>\n",
       "      <td>0.027275</td>\n",
       "      <td>0.064077</td>\n",
       "    </tr>\n",
       "    <tr>\n",
       "      <th>RASL10A</th>\n",
       "      <td>0.020270</td>\n",
       "      <td>0.000000</td>\n",
       "      <td>0.022514</td>\n",
       "      <td>0.137351</td>\n",
       "      <td>0.237784</td>\n",
       "      <td>-185.486486</td>\n",
       "      <td>1000.0</td>\n",
       "      <td>0.034581</td>\n",
       "      <td>0.020270</td>\n",
       "    </tr>\n",
       "    <tr>\n",
       "      <th>WNT7B</th>\n",
       "      <td>0.089286</td>\n",
       "      <td>0.052357</td>\n",
       "      <td>0.119000</td>\n",
       "      <td>0.107143</td>\n",
       "      <td>0.041643</td>\n",
       "      <td>-73.642857</td>\n",
       "      <td>1000.0</td>\n",
       "      <td>0.047689</td>\n",
       "      <td>0.089286</td>\n",
       "    </tr>\n",
       "    <tr>\n",
       "      <th>CABP7</th>\n",
       "      <td>0.157357</td>\n",
       "      <td>0.115643</td>\n",
       "      <td>0.095714</td>\n",
       "      <td>0.267857</td>\n",
       "      <td>0.277357</td>\n",
       "      <td>-42.142857</td>\n",
       "      <td>1000.0</td>\n",
       "      <td>0.158787</td>\n",
       "      <td>0.157357</td>\n",
       "    </tr>\n",
       "    <tr>\n",
       "      <th>PKDREJ</th>\n",
       "      <td>0.230542</td>\n",
       "      <td>0.298292</td>\n",
       "      <td>0.311229</td>\n",
       "      <td>0.445479</td>\n",
       "      <td>0.543229</td>\n",
       "      <td>-99.187500</td>\n",
       "      <td>1000.0</td>\n",
       "      <td>0.167772</td>\n",
       "      <td>0.230542</td>\n",
       "    </tr>\n",
       "    <tr>\n",
       "      <th>MAPK8IP2</th>\n",
       "      <td>0.063636</td>\n",
       "      <td>0.090909</td>\n",
       "      <td>0.000000</td>\n",
       "      <td>0.304727</td>\n",
       "      <td>0.186364</td>\n",
       "      <td>412.363636</td>\n",
       "      <td>1000.0</td>\n",
       "      <td>0.397947</td>\n",
       "      <td>0.063636</td>\n",
       "    </tr>\n",
       "    <tr>\n",
       "      <th>TBX1</th>\n",
       "      <td>0.068963</td>\n",
       "      <td>0.091481</td>\n",
       "      <td>0.050926</td>\n",
       "      <td>0.095630</td>\n",
       "      <td>0.072000</td>\n",
       "      <td>81.407407</td>\n",
       "      <td>1000.0</td>\n",
       "      <td>1.647580</td>\n",
       "      <td>0.068963</td>\n",
       "    </tr>\n",
       "    <tr>\n",
       "      <th>NEFH</th>\n",
       "      <td>0.007722</td>\n",
       "      <td>0.098426</td>\n",
       "      <td>0.080722</td>\n",
       "      <td>0.257611</td>\n",
       "      <td>0.162944</td>\n",
       "      <td>126.740741</td>\n",
       "      <td>1000.0</td>\n",
       "      <td>5.095290</td>\n",
       "      <td>0.007722</td>\n",
       "    </tr>\n",
       "    <tr>\n",
       "      <th>CARD10</th>\n",
       "      <td>0.059731</td>\n",
       "      <td>0.070500</td>\n",
       "      <td>0.051269</td>\n",
       "      <td>0.295538</td>\n",
       "      <td>0.264731</td>\n",
       "      <td>-341.115385</td>\n",
       "      <td>1000.0</td>\n",
       "      <td>5.278590</td>\n",
       "      <td>0.059731</td>\n",
       "    </tr>\n",
       "    <tr>\n",
       "      <th>MICAL3</th>\n",
       "      <td>0.058176</td>\n",
       "      <td>0.049000</td>\n",
       "      <td>0.099294</td>\n",
       "      <td>0.351529</td>\n",
       "      <td>0.407529</td>\n",
       "      <td>154.352941</td>\n",
       "      <td>1000.0</td>\n",
       "      <td>8.142880</td>\n",
       "      <td>0.058176</td>\n",
       "    </tr>\n",
       "    <tr>\n",
       "      <th>TYMP</th>\n",
       "      <td>0.057843</td>\n",
       "      <td>0.133784</td>\n",
       "      <td>0.084667</td>\n",
       "      <td>0.349020</td>\n",
       "      <td>0.267941</td>\n",
       "      <td>-65.568627</td>\n",
       "      <td>1000.0</td>\n",
       "      <td>30.264700</td>\n",
       "      <td>0.057843</td>\n",
       "    </tr>\n",
       "    <tr>\n",
       "      <th>GP1BB</th>\n",
       "      <td>0.804156</td>\n",
       "      <td>0.788625</td>\n",
       "      <td>0.873125</td>\n",
       "      <td>0.912094</td>\n",
       "      <td>0.884391</td>\n",
       "      <td>86.578125</td>\n",
       "      <td>1000.0</td>\n",
       "      <td>NaN</td>\n",
       "      <td>0.804156</td>\n",
       "    </tr>\n",
       "  </tbody>\n",
       "</table>\n",
       "</div>"
      ],
      "text/plain": [
       "          SRR3264413  SRR3264414  SRR3264415  SRR3264416  SRR3264722  \\\n",
       "gene                                                                   \n",
       "GSC2        0.047619    0.047619    0.190476    0.321333    0.202381   \n",
       "PVALB       0.072559    0.090206    0.066676    0.235500    0.278176   \n",
       "SHISA8      0.032759    0.047138    0.017241    0.217828    0.160448   \n",
       "UPB1        0.339938    0.257812    0.270781    0.385937    0.438844   \n",
       "SCUBE1      0.066667    0.107733    0.055533    0.088867    0.233267   \n",
       "KCNJ4       0.064077    0.000000    0.064077    0.110231    0.346077   \n",
       "RASL10A     0.020270    0.000000    0.022514    0.137351    0.237784   \n",
       "WNT7B       0.089286    0.052357    0.119000    0.107143    0.041643   \n",
       "CABP7       0.157357    0.115643    0.095714    0.267857    0.277357   \n",
       "PKDREJ      0.230542    0.298292    0.311229    0.445479    0.543229   \n",
       "MAPK8IP2    0.063636    0.090909    0.000000    0.304727    0.186364   \n",
       "TBX1        0.068963    0.091481    0.050926    0.095630    0.072000   \n",
       "NEFH        0.007722    0.098426    0.080722    0.257611    0.162944   \n",
       "CARD10      0.059731    0.070500    0.051269    0.295538    0.264731   \n",
       "MICAL3      0.058176    0.049000    0.099294    0.351529    0.407529   \n",
       "TYMP        0.057843    0.133784    0.084667    0.349020    0.267941   \n",
       "GP1BB       0.804156    0.788625    0.873125    0.912094    0.884391   \n",
       "\n",
       "                   d      ez          e         y  \n",
       "gene                                               \n",
       "GSC2      182.285714  1000.0   0.000000  0.047619  \n",
       "PVALB     112.352941  1000.0   0.000000  0.072559  \n",
       "SHISA8   -113.965517  1000.0   0.000000  0.032759  \n",
       "UPB1     -244.406250  1000.0   0.014406  0.339938  \n",
       "SCUBE1    188.533333  1000.0   0.014779  0.066667  \n",
       "KCNJ4    -309.384615  1000.0   0.027275  0.064077  \n",
       "RASL10A  -185.486486  1000.0   0.034581  0.020270  \n",
       "WNT7B     -73.642857  1000.0   0.047689  0.089286  \n",
       "CABP7     -42.142857  1000.0   0.158787  0.157357  \n",
       "PKDREJ    -99.187500  1000.0   0.167772  0.230542  \n",
       "MAPK8IP2  412.363636  1000.0   0.397947  0.063636  \n",
       "TBX1       81.407407  1000.0   1.647580  0.068963  \n",
       "NEFH      126.740741  1000.0   5.095290  0.007722  \n",
       "CARD10   -341.115385  1000.0   5.278590  0.059731  \n",
       "MICAL3    154.352941  1000.0   8.142880  0.058176  \n",
       "TYMP      -65.568627  1000.0  30.264700  0.057843  \n",
       "GP1BB      86.578125  1000.0        NaN  0.804156  "
      ]
     },
     "execution_count": 305,
     "metadata": {},
     "output_type": "execute_result"
    }
   ],
   "source": [
    "dg=df22[df22.ez==1000][df22.d.abs()<500].groupby('gene').mean()\n",
    "dg.loc[counts[counts>10].index].sort_values('e')"
   ]
  },
  {
   "cell_type": "code",
   "execution_count": 334,
   "id": "b637582a-8d19-4d18-ae8c-d8dccb6d4052",
   "metadata": {},
   "outputs": [
    {
     "name": "stderr",
     "output_type": "stream",
     "text": [
      "/local/scratch/moqri/slrmtmp.30788900/ipykernel_39297/2337723323.py:1: FutureWarning: Dropping of nuisance columns in DataFrame reductions (with 'numeric_only=None') is deprecated; in a future version this will raise TypeError.  Select only valid columns before calling the reduction.\n",
      "  df[df.gene=='SEMA3D'].sort_values('ez').mean()\n"
     ]
    },
    {
     "data": {
      "text/plain": [
       "SRR3264413      0.484348\n",
       "SRR3264414      0.479188\n",
       "SRR3264415      0.510087\n",
       "SRR3264416      0.598913\n",
       "SRR3264722      0.613971\n",
       "d            -567.521739\n",
       "ez            185.971014\n",
       "e               0.369631\n",
       "y               0.484348\n",
       "dtype: float64"
      ]
     },
     "execution_count": 334,
     "metadata": {},
     "output_type": "execute_result"
    }
   ],
   "source": [
    "df[df.gene=='SEMA3D'].sort_values('ez').mean()"
   ]
  },
  {
   "cell_type": "code",
   "execution_count": 276,
   "id": "187cfa29-2444-4230-9beb-771a9ce2dbc7",
   "metadata": {},
   "outputs": [
    {
     "data": {
      "text/html": [
       "<div>\n",
       "<style scoped>\n",
       "    .dataframe tbody tr th:only-of-type {\n",
       "        vertical-align: middle;\n",
       "    }\n",
       "\n",
       "    .dataframe tbody tr th {\n",
       "        vertical-align: top;\n",
       "    }\n",
       "\n",
       "    .dataframe thead th {\n",
       "        text-align: right;\n",
       "    }\n",
       "</style>\n",
       "<table border=\"1\" class=\"dataframe\">\n",
       "  <thead>\n",
       "    <tr style=\"text-align: right;\">\n",
       "      <th></th>\n",
       "      <th>0</th>\n",
       "    </tr>\n",
       "  </thead>\n",
       "  <tbody>\n",
       "    <tr>\n",
       "      <th>SRR3264413</th>\n",
       "      <td>0.072289</td>\n",
       "    </tr>\n",
       "    <tr>\n",
       "      <th>SRR3264414</th>\n",
       "      <td>0.078467</td>\n",
       "    </tr>\n",
       "    <tr>\n",
       "      <th>SRR3264415</th>\n",
       "      <td>0.086366</td>\n",
       "    </tr>\n",
       "    <tr>\n",
       "      <th>SRR3264416</th>\n",
       "      <td>0.156232</td>\n",
       "    </tr>\n",
       "    <tr>\n",
       "      <th>SRR3264722</th>\n",
       "      <td>0.157645</td>\n",
       "    </tr>\n",
       "  </tbody>\n",
       "</table>\n",
       "</div>"
      ],
      "text/plain": [
       "                   0\n",
       "SRR3264413  0.072289\n",
       "SRR3264414  0.078467\n",
       "SRR3264415  0.086366\n",
       "SRR3264416  0.156232\n",
       "SRR3264722  0.157645"
      ]
     },
     "execution_count": 276,
     "metadata": {},
     "output_type": "execute_result"
    }
   ],
   "source": [
    "p=pd.DataFrame(dg.mean()[fs])\n",
    "p"
   ]
  },
  {
   "cell_type": "code",
   "execution_count": 277,
   "id": "e1cddf3a-4796-4a1f-8e29-904498979bc8",
   "metadata": {},
   "outputs": [
    {
     "data": {
      "text/plain": [
       "<AxesSubplot:xlabel='passage', ylabel='0'>"
      ]
     },
     "execution_count": 277,
     "metadata": {},
     "output_type": "execute_result"
    },
    {
     "data": {
      "image/png": "[encoded data removed]",
      "text/plain": [
       "<Figure size 432x288 with 1 Axes>"
      ]
     },
     "metadata": {
      "needs_background": "light"
     },
     "output_type": "display_data"
    }
   ],
   "source": [
    "p['passage']=[4,7,10,31,33]\n",
    "sns.scatterplot(data=p,x='passage',y=0)"
   ]
  },
  {
   "cell_type": "code",
   "execution_count": 269,
   "id": "cf9281a5-7360-434f-a354-b00bf3289948",
   "metadata": {},
   "outputs": [
    {
     "data": {
      "text/html": [
       "<div>\n",
       "<style scoped>\n",
       "    .dataframe tbody tr th:only-of-type {\n",
       "        vertical-align: middle;\n",
       "    }\n",
       "\n",
       "    .dataframe tbody tr th {\n",
       "        vertical-align: top;\n",
       "    }\n",
       "\n",
       "    .dataframe thead th {\n",
       "        text-align: right;\n",
       "    }\n",
       "</style>\n",
       "<table border=\"1\" class=\"dataframe\">\n",
       "  <thead>\n",
       "    <tr style=\"text-align: right;\">\n",
       "      <th></th>\n",
       "      <th>0</th>\n",
       "      <th>passage</th>\n",
       "    </tr>\n",
       "  </thead>\n",
       "  <tbody>\n",
       "    <tr>\n",
       "      <th>0</th>\n",
       "      <td>1.000000</td>\n",
       "      <td>0.986556</td>\n",
       "    </tr>\n",
       "    <tr>\n",
       "      <th>passage</th>\n",
       "      <td>0.986556</td>\n",
       "      <td>1.000000</td>\n",
       "    </tr>\n",
       "  </tbody>\n",
       "</table>\n",
       "</div>"
      ],
      "text/plain": [
       "                0   passage\n",
       "0        1.000000  0.986556\n",
       "passage  0.986556  1.000000"
      ]
     },
     "execution_count": 269,
     "metadata": {},
     "output_type": "execute_result"
    }
   ],
   "source": [
    "p.corr()"
   ]
  },
  {
   "cell_type": "code",
   "execution_count": null,
   "id": "a9d88d11-13dc-48fd-a562-f1eb6a3afba0",
   "metadata": {},
   "outputs": [],
   "source": []
  }
 ],
 "metadata": {
  "kernelspec": {
   "display_name": "meth",
   "language": "python",
   "name": "meth"
  },
  "language_info": {
   "codemirror_mode": {
    "name": "ipython",
    "version": 3
   },
   "file_extension": ".py",
   "mimetype": "text/x-python",
   "name": "python",
   "nbconvert_exporter": "python",
   "pygments_lexer": "ipython3",
   "version": "3.9.7"
  }
 },
 "nbformat": 4,
 "nbformat_minor": 5
}
