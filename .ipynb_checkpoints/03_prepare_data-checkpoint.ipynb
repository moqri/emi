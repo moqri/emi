{
 "cells": [
  {
   "cell_type": "code",
   "execution_count": 16,
   "id": "b1f0dc2b-6d6d-4a4c-bdfc-e63c6f1f556a",
   "metadata": {},
   "outputs": [],
   "source": [
    "import time\n",
    "t=time.time()\n",
    "import pandas as pd\n",
    "import numpy as np\n",
    "import util\n",
    "source='data/source/'\n",
    "def get_tss(mane,w=5000):\n",
    "    cols=['#chrom','chromStart','chromEnd','strand','geneSymbol']\n",
    "    tss=pd.read_csv(mane_,sep='\\t',usecols=cols).drop_duplicates()\n",
    "    tss=tss[~tss['#chrom'].isin(['chrX','chrY'])]\n",
    "    tss['ts']=tss.apply(lambda x:x['chromStart'] if x['strand']=='+' else x['chromEnd'],axis=1)\n",
    "    tss['tss']=tss['#chrom'].str[3:5].astype(int)*10**9+tss['ts']\n",
    "    tss=tss.drop_duplicates('tss',keep=False)\n",
    "    tss=tss.drop_duplicates('geneSymbol',keep=False)\n",
    "    tss.index=tss['geneSymbol']\n",
    "    tss['chrom']=tss['#chrom'].str[3:5].astype(int)\n",
    "    tss=tss[['chrom','ts','tss']]\n",
    "    tss['chromStart']=tss['tss'].astype(str).str[-9:].astype(int)-w\n",
    "    tss['chromEnd']=tss['tss'].astype(str).str[-9:].astype(int)+w\n",
    "    return tss\n",
    "def get_h(tss,h1,h9):\n",
    "    h1=util.bw2df(h1,tss)\n",
    "    h9=util.bw2df(h9,tss)\n",
    "    h=pd.concat([h1['beta'],h9['beta']],axis=1)\n",
    "    h.columns=['h1','h9']\n",
    "    h.index=h.index.rename('_')\n",
    "    return h\n",
    "def get_tss_distance(ind):\n",
    "    ind['g']=ind.index.str.split('_').str[0].astype(int)*10**9+ind.index.str.split('_').str[1].astype(int)\n",
    "    tssl=tss['tss'].sort_values().tolist()\n",
    "    ind['tss']=ind.g.apply(lambda x:util.take_closest(tssl, x))\n",
    "    ind['d']=ind.g-ind.tss\n",
    "    tss['gene']=tss.index\n",
    "    dic=tss[['tss','gene']].set_index('tss')['gene'].to_dict()\n",
    "    ind['gene']=ind.tss.apply(lambda x: dic[x])  \n",
    "    return ind\n",
    "def get_ez(ezp_):\n",
    "    ezp=pd.read_csv(ezp_,sep='\\t',header=None,usecols=[0,1,2,4]).drop_duplicates()\n",
    "    ezp=ezp[~ezp[0].isin(['chrX','chrY','chrM',np.nan])]\n",
    "    ezp=ezp[~ezp[0].str.contains('Un')][~ezp[0].str.contains('random')]\n",
    "    ezp['b']=ezp[0].str[3:5].astype(int)*10**9+ezp[1]\n",
    "    ezp['e']=ezp[0].str[3:5].astype(int)*10**9+ezp[2]\n",
    "    ezp['r']=ezp.apply(lambda x:range(x['b'],x['e']),axis=1)\n",
    "    ezp=ezp[['r',4]]\n",
    "    ezs=ezp.r.values\n",
    "    ss=ezp[4].values\n",
    "    ezd={}\n",
    "    for i in range(len(ezs)):\n",
    "        for e in ezs[i]:\n",
    "            if e in ezd:\n",
    "                ezd[e]=np.max([ezd[e],ss[i]])\n",
    "            else:\n",
    "                ezd[e]=ss[i]\n",
    "    return ezd\n",
    "def get_exp(tss,tpm):\n",
    "    dic={'Whole Blood':'e_blood',\n",
    "         'Cells - Cultured fibroblasts':'e_fib',\n",
    "         'Skin - Not Sun Exposed (Suprapubic)':'e_skin_se',\n",
    "         'Skin - Sun Exposed (Lower leg)':'e_skin_sp',\n",
    "        }\n",
    "    tpm=pd.read_csv(tpm,sep='\\t',skiprows=2,index_col=0)\n",
    "    tpm=tpm.drop_duplicates('Description',keep=False)\n",
    "    tpm.index=tpm['Description']\n",
    "    tpm=tpm[list(dic.keys())].rename(dic,axis=1)\n",
    "    exp=tss.merge(tpm,left_index=True,right_index=True,how='left')\n",
    "    return exp"
   ]
  },
  {
   "cell_type": "code",
   "execution_count": 2,
   "id": "54add9c4-26fe-461b-af52-82fa2193e97d",
   "metadata": {},
   "outputs": [
    {
     "name": "stdout",
     "output_type": "stream",
     "text": [
      "7\n"
     ]
    }
   ],
   "source": [
    "# get TSS\n",
    "mane_=source+'mane.gz'\n",
    "tss=get_tss(mane_)\n",
    "tss.to_csv('data/tss.csv')\n",
    "print(round(time.time()-t))"
   ]
  },
  {
   "cell_type": "code",
   "execution_count": 17,
   "id": "62750ce7-b527-4fca-a8d5-2de4cb131daa",
   "metadata": {},
   "outputs": [
    {
     "name": "stdout",
     "output_type": "stream",
     "text": [
      "2\n"
     ]
    }
   ],
   "source": [
    "# get exp\n",
    "tpm=source+'gtex/GTEx_Analysis_2017-06-05_v8_RNASeQCv1.1.9_gene_median_tpm.gct.gz'\n",
    "exp=get_exp(tss,tpm)\n",
    "exp.to_csv('data/exp.csv')\n",
    "print(round(time.time()-t))"
   ]
  },
  {
   "cell_type": "code",
   "execution_count": 87,
   "id": "d8f88b3f-d533-4aa2-b555-265e6314b824",
   "metadata": {},
   "outputs": [],
   "source": [
    "#get neo\n",
    "neo=pd.read_csv('data/pmbc_neo_signals.csv',index_col=0,header=None,engine='c')\n",
    "neo['r1']=neo[1].shift(-1)\n",
    "neo['r2']=neo[2].shift(-1)\n",
    "neo=neo.iloc[::2]\n",
    "neo['m']=neo[1]+neo['r1']\n",
    "neo['u']=neo[2]+neo['r2']\n",
    "neo=neo[['m','u']]\n",
    "neo['s']=neo.sum(1)\n",
    "neo=neo[neo.s>0]\n",
    "neo['neo']=neo['m']/neo['s']"
   ]
  },
  {
   "cell_type": "code",
   "execution_count": 92,
   "id": "31a0f06a-bd51-47bb-819b-14726f915ab3",
   "metadata": {},
   "outputs": [
    {
     "data": {
      "text/plain": [
       "<AxesSubplot:>"
      ]
     },
     "execution_count": 92,
     "metadata": {},
     "output_type": "execute_result"
    },
    {
     "data": {
      "image/png": "[encoded data removed]",
      "text/plain": [
       "<Figure size 432x288 with 1 Axes>"
      ]
     },
     "metadata": {
      "needs_background": "light"
     },
     "output_type": "display_data"
    }
   ],
   "source": [
    "neo.neo.hist(bins=200)"
   ]
  },
  {
   "cell_type": "code",
   "execution_count": 95,
   "id": "a4c17d9a-d3b7-4057-89c3-b072f7afd1d9",
   "metadata": {},
   "outputs": [],
   "source": [
    "neo[['s','neo']].to_csv('data/pbmc_neo.csv')"
   ]
  },
  {
   "cell_type": "code",
   "execution_count": 69,
   "id": "07e092a9-126e-4a74-897e-f87d1f862e93",
   "metadata": {},
   "outputs": [],
   "source": [
    "neo=pd.read_csv('data/pbmc_neo.csv',index_col=0)"
   ]
  },
  {
   "cell_type": "code",
   "execution_count": 70,
   "id": "2ed5f947-270d-41c2-9c04-c38ae76b4fd1",
   "metadata": {},
   "outputs": [],
   "source": [
    "neo['ch']=neo.index.str.split('_').str[0]\n",
    "neo['b']=neo.index.str.split('_').str[1]"
   ]
  },
  {
   "cell_type": "code",
   "execution_count": 71,
   "id": "d65240df-0266-49e7-b3cb-be023e6df137",
   "metadata": {},
   "outputs": [],
   "source": [
    "neo.index=neo['ch']+'_'+(neo['b'].astype(int)-1).astype(str)"
   ]
  }
 ],
 "metadata": {
  "kernelspec": {
   "display_name": "meth",
   "language": "python",
   "name": "meth"
  },
  "language_info": {
   "codemirror_mode": {
    "name": "ipython",
    "version": 3
   },
   "file_extension": ".py",
   "mimetype": "text/x-python",
   "name": "python",
   "nbconvert_exporter": "python",
   "pygments_lexer": "ipython3",
   "version": "3.9.7"
  }
 },
 "nbformat": 4,
 "nbformat_minor": 5
}
