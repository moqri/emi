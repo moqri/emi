{
 "cells": [
  {
   "cell_type": "code",
   "execution_count": 122,
   "id": "ce35573f-8edd-4852-925a-e0ac81ded2a4",
   "metadata": {},
   "outputs": [],
   "source": [
    "import time\n",
    "import pandas as pd\n",
    "import numpy as np\n",
    "import util\n",
    "import pyBigWig\n",
    "import seaborn as sns\n",
    "import glob\n",
    "from matplotlib_venn import venn2\n",
    "\n",
    "source='data/source/'\n",
    "\n",
    "tic=time.time()\n",
    "def fix(rs):\n",
    "    ratio=1\n",
    "    gs=[]\n",
    "    while len(gs)<len(rs):\n",
    "        if len(gs)>0:\n",
    "            rs=gs.copy()\n",
    "        gs=[]\n",
    "        skip=0\n",
    "        for i in range(len(rs)-1):\n",
    "            if skip==1:\n",
    "                skip=0\n",
    "                continue\n",
    "            d0=rs[i][2]-rs[i][1]\n",
    "            d1=rs[i+1][2]-rs[i+1][1]\n",
    "            gap=rs[i+1][1]-rs[i][2]\n",
    "            if rs[i][0]==rs[i+1][0] and d0>+ratio*gap and d1>ratio*gap:\n",
    "                gs.append([rs[i][0],rs[i][1],rs[i+1][2]])\n",
    "                skip=1\n",
    "            else :\n",
    "                gs.append([rs[i][0],rs[i][1],rs[i][2]])\n",
    "        gs.append(rs[-1])\n",
    "    print(len(gs))\n",
    "    return pd.DataFrame(rs)\n",
    "def get_cg(x):\n",
    "    cg=set(range(x['b'],x['e']))\n",
    "    cg=ind[x['ch']].intersection(cg)\n",
    "    return cg\n",
    "def hmr2df(hmr):\n",
    "    gs=pd.read_table(hmr,header=None,usecols=[0,1,2])\n",
    "    #gs=gs[gs[0]=='chr1']\n",
    "    gs=gs[~gs[0].isin(['chrX','chrY','chrM'])]\n",
    "    print(len(gs),end=',')\n",
    "    #gs=fix(gs.values)\n",
    "    gs.columns=['ch','b','e']   \n",
    "    gs['d']=gs['e']-gs['b']\n",
    "    gs['r']=gs.apply(lambda x:get_cg(x) ,axis=1)\n",
    "    gs['rd']=gs.r.apply(lambda x:len(x))\n",
    "    gg=gs.groupby('ch')['r'].apply(list)\n",
    "    gg=gg.apply(lambda x:set.union(*x))    \n",
    "    return (gs,gg)   \n",
    "def get_ts(x):\n",
    "    com=set(range(x['b'],x['e'])).intersection(expg[x['ch']])\n",
    "    if len(com)>0:\n",
    "        ts=list(com)[0]\n",
    "        ts=exp.loc[(exp.chrom==int(chrom[3:])) & (exp.ts==ts)].index.values[0]\n",
    "    else:\n",
    "        ts=np.nan\n",
    "    return(ts)"
   ]
  },
  {
   "cell_type": "code",
   "execution_count": 3,
   "id": "b2bbe1de-93f9-428f-bc14-4e6ea3bab94e",
   "metadata": {},
   "outputs": [],
   "source": [
    "ind=pd.read_table('data/meth/h/Human_H1.meth',engine='c',usecols=[0,1],header=None)\n",
    "ind=ind.groupby(0)[1].apply(list)\n",
    "ind=ind.apply(lambda x:set(x))"
   ]
  },
  {
   "cell_type": "code",
   "execution_count": 4,
   "id": "f3f4c1f5-c44f-429a-8225-43122aba948c",
   "metadata": {},
   "outputs": [],
   "source": [
    "samples=['s','t','h']\n",
    "c={}\n",
    "cg={}\n",
    "cu={}\n",
    "cug={}"
   ]
  },
  {
   "cell_type": "code",
   "execution_count": 5,
   "id": "363c9fed-8bb3-4244-b67d-2ac86500d22a",
   "metadata": {},
   "outputs": [
    {
     "name": "stdout",
     "output_type": "stream",
     "text": [
      "95351,52648,39517,"
     ]
    }
   ],
   "source": [
    "for s in samples:\n",
    "    c[s],cg[s]=hmr2df('data/meth/'+s+'/'+s+'.hmr')"
   ]
  },
  {
   "cell_type": "code",
   "execution_count": 11,
   "id": "49717b06-0a5b-4463-966f-5ce29bae1dce",
   "metadata": {},
   "outputs": [],
   "source": [
    "c['t']['s']=c['t'].apply(lambda x:len(cg['s'][x['ch']].intersection(x['r'])),1)\n",
    "c['t']['sh']=c['t'].apply(lambda x:len(cg['s'][x['ch']].intersection(x['r']).intersection(cg['h'][x['ch']])),1)\n",
    "c['s']['t']=c['s'].apply(lambda x:len(cg['t'][x['ch']].intersection(x['r'])),1)\n",
    "c['s']['th']=c['s'].apply(lambda x:len(cg['t'][x['ch']].intersection(x['r']).intersection(cg['h'][x['ch']])),1)"
   ]
  },
  {
   "cell_type": "code",
   "execution_count": 60,
   "id": "65357d32-5c36-4c07-ae1f-b591da05e1b2",
   "metadata": {},
   "outputs": [
    {
     "name": "stdout",
     "output_type": "stream",
     "text": [
      "2609 2352 2144\n",
      "3486 2352 2144\n"
     ]
    }
   ],
   "source": [
    "print(round(c['t']['rd'].sum()/10**3),\n",
    "      round(c['t']['s'].sum()/10**3),\n",
    "      round(c['t'][c['t']['s']>0]['sh'].sum()/10**3))\n",
    "print(round(c['s']['rd'].sum()/10**3),\n",
    "      round(c['s']['t'].sum()/10**3),\n",
    "      round(c['s'][c['s']['t']>0]['th'].sum()/10**3))"
   ]
  },
  {
   "cell_type": "code",
   "execution_count": 61,
   "id": "2b7c5178-bb7a-480b-be4e-df4d2fa6b17b",
   "metadata": {},
   "outputs": [
    {
     "name": "stdout",
     "output_type": "stream",
     "text": [
      "208\n"
     ]
    }
   ],
   "source": [
    "print(2352-2144)"
   ]
  },
  {
   "cell_type": "code",
   "execution_count": 82,
   "id": "b29c1d66-875a-401a-831c-605a686729c2",
   "metadata": {},
   "outputs": [
    {
     "data": {
      "text/plain": [
       "<matplotlib_venn._common.VennDiagram at 0x2ae348d43100>"
      ]
     },
     "execution_count": 82,
     "metadata": {},
     "output_type": "execute_result"
    },
    {
     "data": {
      "image/png": "[encoded data removed]",
      "text/plain": [
       "<Figure size 432x288 with 1 Axes>"
      ]
     },
     "metadata": {},
     "output_type": "display_data"
    }
   ],
   "source": [
    "venn2(subsets = (3486-2352, 2609-2352, 2352), set_labels = ('HMR in Epidermis', 'HMR in T cells'))"
   ]
  },
  {
   "cell_type": "code",
   "execution_count": 69,
   "id": "fb19e4fa-001d-48e0-880f-ba85e7da9793",
   "metadata": {},
   "outputs": [],
   "source": [
    "for s in ['s','t']:\n",
    "    for n in ['y','o']:\n",
    "        path='data/meth/'+s+'/'+n+'.bw'\n",
    "        bw=pyBigWig.open(path)\n",
    "        c[s][n]=c[s].apply(lambda x: bw.stats(x['ch'],x['b'],x['e'],'mean',exact=True)[0],axis=1)\n",
    "    c[s]['dd']=c[s]['o']-c[s]['y']\n",
    "    cu[s]=c[s][c[s]['dd']>.1]\n",
    "    cug[s]=cu[s].groupby('ch')['r'].apply(list)\n",
    "    cug[s]=cug[s].apply(lambda x:set.union(*x))                   "
   ]
  },
  {
   "cell_type": "code",
   "execution_count": null,
   "id": "f66530e2-9a64-4a12-a665-e75ad034623c",
   "metadata": {},
   "outputs": [],
   "source": [
    "cu['t']['su']=cu['t'].apply(lambda x:len(cug['s'][x['ch']].intersection(x['r'])),1)\n",
    "cu['t']['suh']=cu['t'].apply(lambda x:len(cug['s'][x['ch']].intersection(cg['h'][x['ch']]).intersection(x['r'])),axis=1)\n",
    "cu['s']['tu']=cu['s'].apply(lambda x:len(cug['t'][x['ch']].intersection(x['r'])),1)\n",
    "cu['s']['tuh']=cu['s'].apply(lambda x:len(cug['t'][x['ch']].intersection(cg['h'][x['ch']]).intersection(x['r'])),axis=1)"
   ]
  },
  {
   "cell_type": "code",
   "execution_count": 78,
   "id": "2c838eb5-b11e-4b88-bf09-fd656ff2ed7d",
   "metadata": {},
   "outputs": [
    {
     "name": "stdout",
     "output_type": "stream",
     "text": [
      "259 27 15\n",
      "95 27 15\n"
     ]
    }
   ],
   "source": [
    "print(round(cu['t'].rd.sum()/10**3),\n",
    "      round(cu['t']['su'].sum()/10**3),\n",
    "      round(cu['t'][cu['t']['su']>0]['suh'].sum()/10**3))\n",
    "print(round(cu['s'].rd.sum()/10**3),\n",
    "      round(cu['s']['tu'].sum()/10**3),\n",
    "      round(cu['s'][cu['s']['tu']>0]['tuh'].sum()/10**3))"
   ]
  },
  {
   "cell_type": "code",
   "execution_count": 83,
   "id": "8a28dd03-5a16-440a-a4d4-7204f56aea39",
   "metadata": {},
   "outputs": [
    {
     "data": {
      "text/plain": [
       "<matplotlib_venn._common.VennDiagram at 0x2ae348d8c6a0>"
      ]
     },
     "execution_count": 83,
     "metadata": {},
     "output_type": "execute_result"
    },
    {
     "data": {
      "image/png": "[encoded data removed]",
      "text/plain": [
       "<Figure size 432x288 with 1 Axes>"
      ]
     },
     "metadata": {},
     "output_type": "display_data"
    }
   ],
   "source": [
    "venn2(subsets = (259-27, 95-27, 27), set_labels = ('ageHMR in Epidermis', 'ageHMR in T cells'))"
   ]
  },
  {
   "cell_type": "code",
   "execution_count": 21,
   "id": "239d4848-e423-4d1f-a9d7-54257b5e99f5",
   "metadata": {},
   "outputs": [],
   "source": [
    "ts=cu['t'][cu['t']['su']>0]"
   ]
  },
  {
   "cell_type": "code",
   "execution_count": null,
   "id": "1ed6e3b8-37f1-4dc1-8897-8e24dc3d44bb",
   "metadata": {},
   "outputs": [],
   "source": [
    "bw='data/source/ENCFF109KCQ.bigWig'\n",
    "bw=pyBigWig.open(bw)\n",
    "bs=[]\n",
    "for i,r in ts.iterrows():\n",
    "    bs.append(bw.stats(r['ch'],int(r['b']),int(r['e']),'max')[0])\n",
    "ts['ez']=bs    "
   ]
  },
  {
   "cell_type": "code",
   "execution_count": 84,
   "id": "08b36edc-7dde-40cd-805c-8edd2f661636",
   "metadata": {},
   "outputs": [
    {
     "name": "stdout",
     "output_type": "stream",
     "text": [
      "2.892130427157452 40.63913004243051\n"
     ]
    }
   ],
   "source": [
    "print(ts[ts.suh==0].ez.mean(),ts[ts.suh>0].ez.mean())"
   ]
  },
  {
   "cell_type": "code",
   "execution_count": 30,
   "id": "2fa621a6-2cde-47f0-b3d9-3c37701151ef",
   "metadata": {},
   "outputs": [
    {
     "data": {
      "text/plain": [
       "<AxesSubplot:>"
      ]
     },
     "execution_count": 30,
     "metadata": {},
     "output_type": "execute_result"
    },
    {
     "data": {
      "image/png": "[encoded data removed]",
      "text/plain": [
       "<Figure size 432x288 with 1 Axes>"
      ]
     },
     "metadata": {
      "needs_background": "light"
     },
     "output_type": "display_data"
    }
   ],
   "source": [
    "c['t'].dd.hist(bins=100)"
   ]
  },
  {
   "cell_type": "code",
   "execution_count": 86,
   "id": "9d507001-4c91-41bc-bd4b-61f003262f64",
   "metadata": {},
   "outputs": [],
   "source": [
    "h=c['h'].copy()"
   ]
  },
  {
   "cell_type": "code",
   "execution_count": 87,
   "id": "50a8eb8c-2704-476d-a237-35cb7cd93772",
   "metadata": {},
   "outputs": [],
   "source": [
    "#h,hg=hmr2df('data/meth/h/h.hmr')"
   ]
  },
  {
   "cell_type": "code",
   "execution_count": 88,
   "id": "b0a56e86-bccf-4b93-846e-829c6b10a0fd",
   "metadata": {},
   "outputs": [],
   "source": [
    "bw='data/source/ENCFF109KCQ.bigWig'\n",
    "bw=pyBigWig.open(bw)\n",
    "bs=[]\n",
    "for i,r in h.iterrows():\n",
    "    bs.append(bw.stats(r['ch'],int(r['b']),int(r['e']),'max')[0])\n",
    "h['ez']=bs"
   ]
  },
  {
   "cell_type": "code",
   "execution_count": 89,
   "id": "197015fa-eb83-448e-95ca-09f5b74a1ea5",
   "metadata": {},
   "outputs": [],
   "source": [
    "for s in ['s','f','t']:\n",
    "    for n in ['y','o']:\n",
    "        path='data/meth/'+s+'/'+n+'.bw'\n",
    "        bw=pyBigWig.open(path)\n",
    "        h[s+n]=h.apply(lambda x: bw.stats(x['ch'],x['b'],x['e'],'mean',exact=True)[0],axis=1)\n",
    "    h[s+'d']=h[s+'o']-h[s+'y']"
   ]
  },
  {
   "cell_type": "code",
   "execution_count": 90,
   "id": "d75296cd-fdcb-4447-8af8-d72eb2c5913b",
   "metadata": {},
   "outputs": [
    {
     "data": {
      "text/plain": [
       "<AxesSubplot:>"
      ]
     },
     "execution_count": 90,
     "metadata": {},
     "output_type": "execute_result"
    },
    {
     "data": {
      "image/png": "[encoded data removed]",
      "text/plain": [
       "<Figure size 432x288 with 1 Axes>"
      ]
     },
     "metadata": {
      "needs_background": "light"
     },
     "output_type": "display_data"
    }
   ],
   "source": [
    "h['td'].hist(bins=100)"
   ]
  },
  {
   "cell_type": "code",
   "execution_count": 99,
   "id": "8b644360-3fb8-43d1-b97b-ed99d88a3263",
   "metadata": {},
   "outputs": [
    {
     "data": {
      "text/plain": [
       "<AxesSubplot:>"
      ]
     },
     "execution_count": 99,
     "metadata": {},
     "output_type": "execute_result"
    },
    {
     "data": {
      "image/png": "[encoded data removed]",
      "text/plain": [
       "<Figure size 432x288 with 1 Axes>"
      ]
     },
     "metadata": {
      "needs_background": "light"
     },
     "output_type": "display_data"
    }
   ],
   "source": [
    "sns.barplot(data=h[['ty','to']])"
   ]
  },
  {
   "cell_type": "code",
   "execution_count": 100,
   "id": "8194acb4-e1de-41d4-be0c-463d1be38095",
   "metadata": {},
   "outputs": [
    {
     "data": {
      "text/plain": [
       "<AxesSubplot:>"
      ]
     },
     "execution_count": 100,
     "metadata": {},
     "output_type": "execute_result"
    },
    {
     "data": {
      "image/png": "[encoded data removed]",
      "text/plain": [
       "<Figure size 432x288 with 1 Axes>"
      ]
     },
     "metadata": {
      "needs_background": "light"
     },
     "output_type": "display_data"
    }
   ],
   "source": [
    "sns.barplot(data=h[h.ez>100][['ty','to']])"
   ]
  },
  {
   "cell_type": "code",
   "execution_count": 101,
   "id": "5316529c-be29-44f9-953d-1a53671baa84",
   "metadata": {},
   "outputs": [
    {
     "data": {
      "text/plain": [
       "<AxesSubplot:>"
      ]
     },
     "execution_count": 101,
     "metadata": {},
     "output_type": "execute_result"
    },
    {
     "data": {
      "image/png": "[encoded data removed]",
      "text/plain": [
       "<Figure size 432x288 with 1 Axes>"
      ]
     },
     "metadata": {
      "needs_background": "light"
     },
     "output_type": "display_data"
    }
   ],
   "source": [
    "sns.barplot(data=h[h.ez>100][['sy','so']])"
   ]
  },
  {
   "cell_type": "code",
   "execution_count": 110,
   "id": "58283c1e-b446-4dcd-aa20-dd340294b6f1",
   "metadata": {},
   "outputs": [
    {
     "name": "stdout",
     "output_type": "stream",
     "text": [
      "1035 972\n"
     ]
    }
   ],
   "source": [
    "hz=h[h.ez>100].copy()\n",
    "print(len(hz),len(hz[hz.td>0]))"
   ]
  },
  {
   "cell_type": "code",
   "execution_count": 123,
   "id": "fe5f5eb3-0b23-4641-9ee3-1e9a01b73c0d",
   "metadata": {},
   "outputs": [
    {
     "ename": "NameError",
     "evalue": "name 'chrom' is not defined",
     "output_type": "error",
     "traceback": [
      "\u001b[0;31m---------------------------------------------------------------------------\u001b[0m",
      "\u001b[0;31mNameError\u001b[0m                                 Traceback (most recent call last)",
      "\u001b[0;32m/local/scratch/moqri/slrmtmp.30876597/ipykernel_3948/3418241868.py\u001b[0m in \u001b[0;36m<module>\u001b[0;34m\u001b[0m\n\u001b[1;32m      3\u001b[0m \u001b[0mexp\u001b[0m\u001b[0;34m[\u001b[0m\u001b[0;34m'ch'\u001b[0m\u001b[0;34m]\u001b[0m\u001b[0;34m=\u001b[0m\u001b[0;34m'chr'\u001b[0m\u001b[0;34m+\u001b[0m\u001b[0mexp\u001b[0m\u001b[0;34m[\u001b[0m\u001b[0;34m'chrom'\u001b[0m\u001b[0;34m]\u001b[0m\u001b[0;34m.\u001b[0m\u001b[0mastype\u001b[0m\u001b[0;34m(\u001b[0m\u001b[0mstr\u001b[0m\u001b[0;34m)\u001b[0m\u001b[0;34m\u001b[0m\u001b[0;34m\u001b[0m\u001b[0m\n\u001b[1;32m      4\u001b[0m \u001b[0mexpg\u001b[0m\u001b[0;34m=\u001b[0m\u001b[0mexp\u001b[0m\u001b[0;34m.\u001b[0m\u001b[0mgroupby\u001b[0m\u001b[0;34m(\u001b[0m\u001b[0;34m'ch'\u001b[0m\u001b[0;34m)\u001b[0m\u001b[0;34m[\u001b[0m\u001b[0;34m'ts'\u001b[0m\u001b[0;34m]\u001b[0m\u001b[0;34m.\u001b[0m\u001b[0mapply\u001b[0m\u001b[0;34m(\u001b[0m\u001b[0mlist\u001b[0m\u001b[0;34m)\u001b[0m\u001b[0;34m\u001b[0m\u001b[0;34m\u001b[0m\u001b[0m\n\u001b[0;32m----> 5\u001b[0;31m \u001b[0mhz\u001b[0m\u001b[0;34m[\u001b[0m\u001b[0;34m'ts'\u001b[0m\u001b[0;34m]\u001b[0m\u001b[0;34m=\u001b[0m\u001b[0mhz\u001b[0m\u001b[0;34m.\u001b[0m\u001b[0mapply\u001b[0m\u001b[0;34m(\u001b[0m\u001b[0;32mlambda\u001b[0m \u001b[0mx\u001b[0m\u001b[0;34m:\u001b[0m \u001b[0mget_ts\u001b[0m\u001b[0;34m(\u001b[0m\u001b[0mx\u001b[0m\u001b[0;34m)\u001b[0m\u001b[0;34m,\u001b[0m\u001b[0maxis\u001b[0m\u001b[0;34m=\u001b[0m\u001b[0;36m1\u001b[0m\u001b[0;34m)\u001b[0m\u001b[0;34m\u001b[0m\u001b[0;34m\u001b[0m\u001b[0m\n\u001b[0m",
      "\u001b[0;32m~/miniconda3/envs/meth/lib/python3.9/site-packages/pandas/core/frame.py\u001b[0m in \u001b[0;36mapply\u001b[0;34m(self, func, axis, raw, result_type, args, **kwargs)\u001b[0m\n\u001b[1;32m   8738\u001b[0m             \u001b[0mkwargs\u001b[0m\u001b[0;34m=\u001b[0m\u001b[0mkwargs\u001b[0m\u001b[0;34m,\u001b[0m\u001b[0;34m\u001b[0m\u001b[0;34m\u001b[0m\u001b[0m\n\u001b[1;32m   8739\u001b[0m         )\n\u001b[0;32m-> 8740\u001b[0;31m         \u001b[0;32mreturn\u001b[0m \u001b[0mop\u001b[0m\u001b[0;34m.\u001b[0m\u001b[0mapply\u001b[0m\u001b[0;34m(\u001b[0m\u001b[0;34m)\u001b[0m\u001b[0;34m\u001b[0m\u001b[0;34m\u001b[0m\u001b[0m\n\u001b[0m\u001b[1;32m   8741\u001b[0m \u001b[0;34m\u001b[0m\u001b[0m\n\u001b[1;32m   8742\u001b[0m     def applymap(\n",
      "\u001b[0;32m~/miniconda3/envs/meth/lib/python3.9/site-packages/pandas/core/apply.py\u001b[0m in \u001b[0;36mapply\u001b[0;34m(self)\u001b[0m\n\u001b[1;32m    686\u001b[0m             \u001b[0;32mreturn\u001b[0m \u001b[0mself\u001b[0m\u001b[0;34m.\u001b[0m\u001b[0mapply_raw\u001b[0m\u001b[0;34m(\u001b[0m\u001b[0;34m)\u001b[0m\u001b[0;34m\u001b[0m\u001b[0;34m\u001b[0m\u001b[0m\n\u001b[1;32m    687\u001b[0m \u001b[0;34m\u001b[0m\u001b[0m\n\u001b[0;32m--> 688\u001b[0;31m         \u001b[0;32mreturn\u001b[0m \u001b[0mself\u001b[0m\u001b[0;34m.\u001b[0m\u001b[0mapply_standard\u001b[0m\u001b[0;34m(\u001b[0m\u001b[0;34m)\u001b[0m\u001b[0;34m\u001b[0m\u001b[0;34m\u001b[0m\u001b[0m\n\u001b[0m\u001b[1;32m    689\u001b[0m \u001b[0;34m\u001b[0m\u001b[0m\n\u001b[1;32m    690\u001b[0m     \u001b[0;32mdef\u001b[0m \u001b[0magg\u001b[0m\u001b[0;34m(\u001b[0m\u001b[0mself\u001b[0m\u001b[0;34m)\u001b[0m\u001b[0;34m:\u001b[0m\u001b[0;34m\u001b[0m\u001b[0;34m\u001b[0m\u001b[0m\n",
      "\u001b[0;32m~/miniconda3/envs/meth/lib/python3.9/site-packages/pandas/core/apply.py\u001b[0m in \u001b[0;36mapply_standard\u001b[0;34m(self)\u001b[0m\n\u001b[1;32m    810\u001b[0m \u001b[0;34m\u001b[0m\u001b[0m\n\u001b[1;32m    811\u001b[0m     \u001b[0;32mdef\u001b[0m \u001b[0mapply_standard\u001b[0m\u001b[0;34m(\u001b[0m\u001b[0mself\u001b[0m\u001b[0;34m)\u001b[0m\u001b[0;34m:\u001b[0m\u001b[0;34m\u001b[0m\u001b[0;34m\u001b[0m\u001b[0m\n\u001b[0;32m--> 812\u001b[0;31m         \u001b[0mresults\u001b[0m\u001b[0;34m,\u001b[0m \u001b[0mres_index\u001b[0m \u001b[0;34m=\u001b[0m \u001b[0mself\u001b[0m\u001b[0;34m.\u001b[0m\u001b[0mapply_series_generator\u001b[0m\u001b[0;34m(\u001b[0m\u001b[0;34m)\u001b[0m\u001b[0;34m\u001b[0m\u001b[0;34m\u001b[0m\u001b[0m\n\u001b[0m\u001b[1;32m    813\u001b[0m \u001b[0;34m\u001b[0m\u001b[0m\n\u001b[1;32m    814\u001b[0m         \u001b[0;31m# wrap results\u001b[0m\u001b[0;34m\u001b[0m\u001b[0;34m\u001b[0m\u001b[0m\n",
      "\u001b[0;32m~/miniconda3/envs/meth/lib/python3.9/site-packages/pandas/core/apply.py\u001b[0m in \u001b[0;36mapply_series_generator\u001b[0;34m(self)\u001b[0m\n\u001b[1;32m    826\u001b[0m             \u001b[0;32mfor\u001b[0m \u001b[0mi\u001b[0m\u001b[0;34m,\u001b[0m \u001b[0mv\u001b[0m \u001b[0;32min\u001b[0m \u001b[0menumerate\u001b[0m\u001b[0;34m(\u001b[0m\u001b[0mseries_gen\u001b[0m\u001b[0;34m)\u001b[0m\u001b[0;34m:\u001b[0m\u001b[0;34m\u001b[0m\u001b[0;34m\u001b[0m\u001b[0m\n\u001b[1;32m    827\u001b[0m                 \u001b[0;31m# ignore SettingWithCopy here in case the user mutates\u001b[0m\u001b[0;34m\u001b[0m\u001b[0;34m\u001b[0m\u001b[0m\n\u001b[0;32m--> 828\u001b[0;31m                 \u001b[0mresults\u001b[0m\u001b[0;34m[\u001b[0m\u001b[0mi\u001b[0m\u001b[0;34m]\u001b[0m \u001b[0;34m=\u001b[0m \u001b[0mself\u001b[0m\u001b[0;34m.\u001b[0m\u001b[0mf\u001b[0m\u001b[0;34m(\u001b[0m\u001b[0mv\u001b[0m\u001b[0;34m)\u001b[0m\u001b[0;34m\u001b[0m\u001b[0;34m\u001b[0m\u001b[0m\n\u001b[0m\u001b[1;32m    829\u001b[0m                 \u001b[0;32mif\u001b[0m \u001b[0misinstance\u001b[0m\u001b[0;34m(\u001b[0m\u001b[0mresults\u001b[0m\u001b[0;34m[\u001b[0m\u001b[0mi\u001b[0m\u001b[0;34m]\u001b[0m\u001b[0;34m,\u001b[0m \u001b[0mABCSeries\u001b[0m\u001b[0;34m)\u001b[0m\u001b[0;34m:\u001b[0m\u001b[0;34m\u001b[0m\u001b[0;34m\u001b[0m\u001b[0m\n\u001b[1;32m    830\u001b[0m                     \u001b[0;31m# If we have a view on v, we need to make a copy because\u001b[0m\u001b[0;34m\u001b[0m\u001b[0;34m\u001b[0m\u001b[0m\n",
      "\u001b[0;32m/local/scratch/moqri/slrmtmp.30876597/ipykernel_3948/3418241868.py\u001b[0m in \u001b[0;36m<lambda>\u001b[0;34m(x)\u001b[0m\n\u001b[1;32m      3\u001b[0m \u001b[0mexp\u001b[0m\u001b[0;34m[\u001b[0m\u001b[0;34m'ch'\u001b[0m\u001b[0;34m]\u001b[0m\u001b[0;34m=\u001b[0m\u001b[0;34m'chr'\u001b[0m\u001b[0;34m+\u001b[0m\u001b[0mexp\u001b[0m\u001b[0;34m[\u001b[0m\u001b[0;34m'chrom'\u001b[0m\u001b[0;34m]\u001b[0m\u001b[0;34m.\u001b[0m\u001b[0mastype\u001b[0m\u001b[0;34m(\u001b[0m\u001b[0mstr\u001b[0m\u001b[0;34m)\u001b[0m\u001b[0;34m\u001b[0m\u001b[0;34m\u001b[0m\u001b[0m\n\u001b[1;32m      4\u001b[0m \u001b[0mexpg\u001b[0m\u001b[0;34m=\u001b[0m\u001b[0mexp\u001b[0m\u001b[0;34m.\u001b[0m\u001b[0mgroupby\u001b[0m\u001b[0;34m(\u001b[0m\u001b[0;34m'ch'\u001b[0m\u001b[0;34m)\u001b[0m\u001b[0;34m[\u001b[0m\u001b[0;34m'ts'\u001b[0m\u001b[0;34m]\u001b[0m\u001b[0;34m.\u001b[0m\u001b[0mapply\u001b[0m\u001b[0;34m(\u001b[0m\u001b[0mlist\u001b[0m\u001b[0;34m)\u001b[0m\u001b[0;34m\u001b[0m\u001b[0;34m\u001b[0m\u001b[0m\n\u001b[0;32m----> 5\u001b[0;31m \u001b[0mhz\u001b[0m\u001b[0;34m[\u001b[0m\u001b[0;34m'ts'\u001b[0m\u001b[0;34m]\u001b[0m\u001b[0;34m=\u001b[0m\u001b[0mhz\u001b[0m\u001b[0;34m.\u001b[0m\u001b[0mapply\u001b[0m\u001b[0;34m(\u001b[0m\u001b[0;32mlambda\u001b[0m \u001b[0mx\u001b[0m\u001b[0;34m:\u001b[0m \u001b[0mget_ts\u001b[0m\u001b[0;34m(\u001b[0m\u001b[0mx\u001b[0m\u001b[0;34m)\u001b[0m\u001b[0;34m,\u001b[0m\u001b[0maxis\u001b[0m\u001b[0;34m=\u001b[0m\u001b[0;36m1\u001b[0m\u001b[0;34m)\u001b[0m\u001b[0;34m\u001b[0m\u001b[0;34m\u001b[0m\u001b[0m\n\u001b[0m",
      "\u001b[0;32m/local/scratch/moqri/slrmtmp.30876597/ipykernel_3948/2285248451.py\u001b[0m in \u001b[0;36mget_ts\u001b[0;34m(x)\u001b[0m\n\u001b[1;32m     55\u001b[0m     \u001b[0;32mif\u001b[0m \u001b[0mlen\u001b[0m\u001b[0;34m(\u001b[0m\u001b[0mcom\u001b[0m\u001b[0;34m)\u001b[0m\u001b[0;34m>\u001b[0m\u001b[0;36m0\u001b[0m\u001b[0;34m:\u001b[0m\u001b[0;34m\u001b[0m\u001b[0;34m\u001b[0m\u001b[0m\n\u001b[1;32m     56\u001b[0m         \u001b[0mts\u001b[0m\u001b[0;34m=\u001b[0m\u001b[0mlist\u001b[0m\u001b[0;34m(\u001b[0m\u001b[0mcom\u001b[0m\u001b[0;34m)\u001b[0m\u001b[0;34m[\u001b[0m\u001b[0;36m0\u001b[0m\u001b[0;34m]\u001b[0m\u001b[0;34m\u001b[0m\u001b[0;34m\u001b[0m\u001b[0m\n\u001b[0;32m---> 57\u001b[0;31m         \u001b[0mts\u001b[0m\u001b[0;34m=\u001b[0m\u001b[0mexp\u001b[0m\u001b[0;34m.\u001b[0m\u001b[0mloc\u001b[0m\u001b[0;34m[\u001b[0m\u001b[0;34m(\u001b[0m\u001b[0mexp\u001b[0m\u001b[0;34m.\u001b[0m\u001b[0mchrom\u001b[0m\u001b[0;34m==\u001b[0m\u001b[0mint\u001b[0m\u001b[0;34m(\u001b[0m\u001b[0mchrom\u001b[0m\u001b[0;34m[\u001b[0m\u001b[0;36m3\u001b[0m\u001b[0;34m:\u001b[0m\u001b[0;34m]\u001b[0m\u001b[0;34m)\u001b[0m\u001b[0;34m)\u001b[0m \u001b[0;34m&\u001b[0m \u001b[0;34m(\u001b[0m\u001b[0mexp\u001b[0m\u001b[0;34m.\u001b[0m\u001b[0mts\u001b[0m\u001b[0;34m==\u001b[0m\u001b[0mts\u001b[0m\u001b[0;34m)\u001b[0m\u001b[0;34m]\u001b[0m\u001b[0;34m.\u001b[0m\u001b[0mindex\u001b[0m\u001b[0;34m.\u001b[0m\u001b[0mvalues\u001b[0m\u001b[0;34m[\u001b[0m\u001b[0;36m0\u001b[0m\u001b[0;34m]\u001b[0m\u001b[0;34m\u001b[0m\u001b[0;34m\u001b[0m\u001b[0m\n\u001b[0m\u001b[1;32m     58\u001b[0m     \u001b[0;32melse\u001b[0m\u001b[0;34m:\u001b[0m\u001b[0;34m\u001b[0m\u001b[0;34m\u001b[0m\u001b[0m\n\u001b[1;32m     59\u001b[0m         \u001b[0mts\u001b[0m\u001b[0;34m=\u001b[0m\u001b[0mnp\u001b[0m\u001b[0;34m.\u001b[0m\u001b[0mnan\u001b[0m\u001b[0;34m\u001b[0m\u001b[0;34m\u001b[0m\u001b[0m\n",
      "\u001b[0;31mNameError\u001b[0m: name 'chrom' is not defined"
     ]
    }
   ],
   "source": [
    "tss=pd.read_csv('data/tss.csv',index_col=0)\n",
    "exp=pd.read_csv('data/exp.csv',index_col=0)\n",
    "exp['ch']='chr'+exp['chrom'].astype(str)\n",
    "expg=exp.groupby('ch')['ts'].apply(list)\n",
    "hz['ts']=hz.apply(lambda x: get_ts(x),axis=1)"
   ]
  },
  {
   "cell_type": "code",
   "execution_count": 117,
   "id": "f33bb320-5479-41dd-9a85-70bd268abba2",
   "metadata": {},
   "outputs": [
    {
     "data": {
      "text/html": [
       "<div>\n",
       "<style scoped>\n",
       "    .dataframe tbody tr th:only-of-type {\n",
       "        vertical-align: middle;\n",
       "    }\n",
       "\n",
       "    .dataframe tbody tr th {\n",
       "        vertical-align: top;\n",
       "    }\n",
       "\n",
       "    .dataframe thead th {\n",
       "        text-align: right;\n",
       "    }\n",
       "</style>\n",
       "<table border=\"1\" class=\"dataframe\">\n",
       "  <thead>\n",
       "    <tr style=\"text-align: right;\">\n",
       "      <th></th>\n",
       "      <th>ch</th>\n",
       "      <th>b</th>\n",
       "      <th>e</th>\n",
       "      <th>d</th>\n",
       "      <th>r</th>\n",
       "      <th>rd</th>\n",
       "      <th>ez</th>\n",
       "      <th>sy</th>\n",
       "      <th>so</th>\n",
       "      <th>sd</th>\n",
       "      <th>fy</th>\n",
       "      <th>fo</th>\n",
       "      <th>fd</th>\n",
       "      <th>ty</th>\n",
       "      <th>to</th>\n",
       "      <th>td</th>\n",
       "      <th>ts</th>\n",
       "    </tr>\n",
       "  </thead>\n",
       "  <tbody>\n",
       "    <tr>\n",
       "      <th>22</th>\n",
       "      <td>chr1</td>\n",
       "      <td>923025</td>\n",
       "      <td>926506</td>\n",
       "      <td>3481</td>\n",
       "      <td>{925696, 923648, 925699, 923651, 923655, 92570...</td>\n",
       "      <td>364</td>\n",
       "      <td>304.180542</td>\n",
       "      <td>0.006469</td>\n",
       "      <td>0.004608</td>\n",
       "      <td>-0.001861</td>\n",
       "      <td>0.034559</td>\n",
       "      <td>0.053516</td>\n",
       "      <td>0.018957</td>\n",
       "      <td>0.038518</td>\n",
       "      <td>0.042965</td>\n",
       "      <td>0.004447</td>\n",
       "      <td>NaN</td>\n",
       "    </tr>\n",
       "    <tr>\n",
       "      <th>24</th>\n",
       "      <td>chr1</td>\n",
       "      <td>939085</td>\n",
       "      <td>943607</td>\n",
       "      <td>4522</td>\n",
       "      <td>{940035, 942087, 940039, 942093, 942099, 94210...</td>\n",
       "      <td>342</td>\n",
       "      <td>189.923279</td>\n",
       "      <td>0.061750</td>\n",
       "      <td>0.049200</td>\n",
       "      <td>-0.012549</td>\n",
       "      <td>0.114255</td>\n",
       "      <td>0.137146</td>\n",
       "      <td>0.022890</td>\n",
       "      <td>0.099525</td>\n",
       "      <td>0.091846</td>\n",
       "      <td>-0.007678</td>\n",
       "      <td>NaN</td>\n",
       "    </tr>\n",
       "    <tr>\n",
       "      <th>30</th>\n",
       "      <td>chr1</td>\n",
       "      <td>998127</td>\n",
       "      <td>1002181</td>\n",
       "      <td>4054</td>\n",
       "      <td>{999427, 999429, 1001478, 999435, 999441, 9994...</td>\n",
       "      <td>443</td>\n",
       "      <td>134.046753</td>\n",
       "      <td>0.020143</td>\n",
       "      <td>0.015303</td>\n",
       "      <td>-0.004840</td>\n",
       "      <td>0.017925</td>\n",
       "      <td>0.085442</td>\n",
       "      <td>0.067517</td>\n",
       "      <td>0.016016</td>\n",
       "      <td>0.057634</td>\n",
       "      <td>0.041618</td>\n",
       "      <td>NaN</td>\n",
       "    </tr>\n",
       "    <tr>\n",
       "      <th>177</th>\n",
       "      <td>chr1</td>\n",
       "      <td>3061940</td>\n",
       "      <td>3064382</td>\n",
       "      <td>2442</td>\n",
       "      <td>{3062784, 3063809, 3063299, 3063815, 3064329, ...</td>\n",
       "      <td>167</td>\n",
       "      <td>206.139008</td>\n",
       "      <td>0.047625</td>\n",
       "      <td>0.065270</td>\n",
       "      <td>0.017645</td>\n",
       "      <td>0.045763</td>\n",
       "      <td>0.080532</td>\n",
       "      <td>0.034769</td>\n",
       "      <td>0.888531</td>\n",
       "      <td>0.881725</td>\n",
       "      <td>-0.006806</td>\n",
       "      <td>NaN</td>\n",
       "    </tr>\n",
       "    <tr>\n",
       "      <th>178</th>\n",
       "      <td>chr1</td>\n",
       "      <td>3066297</td>\n",
       "      <td>3071672</td>\n",
       "      <td>5375</td>\n",
       "      <td>{3067905, 3069955, 3067910, 3069973, 3067932, ...</td>\n",
       "      <td>519</td>\n",
       "      <td>336.657074</td>\n",
       "      <td>0.083777</td>\n",
       "      <td>0.087859</td>\n",
       "      <td>0.004082</td>\n",
       "      <td>0.098894</td>\n",
       "      <td>0.170592</td>\n",
       "      <td>0.071698</td>\n",
       "      <td>0.087513</td>\n",
       "      <td>0.103823</td>\n",
       "      <td>0.016310</td>\n",
       "      <td>NaN</td>\n",
       "    </tr>\n",
       "    <tr>\n",
       "      <th>...</th>\n",
       "      <td>...</td>\n",
       "      <td>...</td>\n",
       "      <td>...</td>\n",
       "      <td>...</td>\n",
       "      <td>...</td>\n",
       "      <td>...</td>\n",
       "      <td>...</td>\n",
       "      <td>...</td>\n",
       "      <td>...</td>\n",
       "      <td>...</td>\n",
       "      <td>...</td>\n",
       "      <td>...</td>\n",
       "      <td>...</td>\n",
       "      <td>...</td>\n",
       "      <td>...</td>\n",
       "      <td>...</td>\n",
       "      <td>...</td>\n",
       "    </tr>\n",
       "    <tr>\n",
       "      <th>39389</th>\n",
       "      <td>chr9</td>\n",
       "      <td>136195599</td>\n",
       "      <td>136198108</td>\n",
       "      <td>2509</td>\n",
       "      <td>{136197120, 136196868, 136197380, 136196742, 1...</td>\n",
       "      <td>69</td>\n",
       "      <td>156.781677</td>\n",
       "      <td>0.192945</td>\n",
       "      <td>0.224196</td>\n",
       "      <td>0.031251</td>\n",
       "      <td>0.035680</td>\n",
       "      <td>0.039385</td>\n",
       "      <td>0.003706</td>\n",
       "      <td>0.099769</td>\n",
       "      <td>0.069429</td>\n",
       "      <td>-0.030339</td>\n",
       "      <td>NaN</td>\n",
       "    </tr>\n",
       "    <tr>\n",
       "      <th>39390</th>\n",
       "      <td>chr9</td>\n",
       "      <td>136198288</td>\n",
       "      <td>136200097</td>\n",
       "      <td>1809</td>\n",
       "      <td>{136199174, 136199689, 136198669, 136199695, 1...</td>\n",
       "      <td>177</td>\n",
       "      <td>337.063293</td>\n",
       "      <td>0.021139</td>\n",
       "      <td>0.024288</td>\n",
       "      <td>0.003149</td>\n",
       "      <td>0.029917</td>\n",
       "      <td>0.167716</td>\n",
       "      <td>0.137799</td>\n",
       "      <td>0.077161</td>\n",
       "      <td>0.113063</td>\n",
       "      <td>0.035902</td>\n",
       "      <td>NaN</td>\n",
       "    </tr>\n",
       "    <tr>\n",
       "      <th>39391</th>\n",
       "      <td>chr9</td>\n",
       "      <td>136201592</td>\n",
       "      <td>136203754</td>\n",
       "      <td>2162</td>\n",
       "      <td>{136203264, 136201730, 136203274, 136201740, 1...</td>\n",
       "      <td>213</td>\n",
       "      <td>156.245499</td>\n",
       "      <td>0.076359</td>\n",
       "      <td>0.157669</td>\n",
       "      <td>0.081310</td>\n",
       "      <td>0.056461</td>\n",
       "      <td>0.128575</td>\n",
       "      <td>0.072115</td>\n",
       "      <td>0.106301</td>\n",
       "      <td>0.190115</td>\n",
       "      <td>0.083814</td>\n",
       "      <td>NaN</td>\n",
       "    </tr>\n",
       "    <tr>\n",
       "      <th>39455</th>\n",
       "      <td>chr9</td>\n",
       "      <td>137076896</td>\n",
       "      <td>137079375</td>\n",
       "      <td>2479</td>\n",
       "      <td>{137077763, 137078276, 137077765, 137078792, 1...</td>\n",
       "      <td>220</td>\n",
       "      <td>105.682671</td>\n",
       "      <td>0.076889</td>\n",
       "      <td>0.112792</td>\n",
       "      <td>0.035902</td>\n",
       "      <td>0.128991</td>\n",
       "      <td>0.311932</td>\n",
       "      <td>0.182941</td>\n",
       "      <td>0.304844</td>\n",
       "      <td>0.328158</td>\n",
       "      <td>0.023314</td>\n",
       "      <td>NaN</td>\n",
       "    </tr>\n",
       "    <tr>\n",
       "      <th>39468</th>\n",
       "      <td>chr9</td>\n",
       "      <td>137167875</td>\n",
       "      <td>137170244</td>\n",
       "      <td>2369</td>\n",
       "      <td>{137169920, 137169922, 137167875, 137168387, 1...</td>\n",
       "      <td>247</td>\n",
       "      <td>109.140900</td>\n",
       "      <td>0.012235</td>\n",
       "      <td>0.010332</td>\n",
       "      <td>-0.001902</td>\n",
       "      <td>0.029352</td>\n",
       "      <td>0.054396</td>\n",
       "      <td>0.025043</td>\n",
       "      <td>0.032892</td>\n",
       "      <td>0.036929</td>\n",
       "      <td>0.004036</td>\n",
       "      <td>NaN</td>\n",
       "    </tr>\n",
       "  </tbody>\n",
       "</table>\n",
       "<p>1035 rows × 17 columns</p>\n",
       "</div>"
      ],
      "text/plain": [
       "         ch          b          e     d  \\\n",
       "22     chr1     923025     926506  3481   \n",
       "24     chr1     939085     943607  4522   \n",
       "30     chr1     998127    1002181  4054   \n",
       "177    chr1    3061940    3064382  2442   \n",
       "178    chr1    3066297    3071672  5375   \n",
       "...     ...        ...        ...   ...   \n",
       "39389  chr9  136195599  136198108  2509   \n",
       "39390  chr9  136198288  136200097  1809   \n",
       "39391  chr9  136201592  136203754  2162   \n",
       "39455  chr9  137076896  137079375  2479   \n",
       "39468  chr9  137167875  137170244  2369   \n",
       "\n",
       "                                                       r   rd          ez  \\\n",
       "22     {925696, 923648, 925699, 923651, 923655, 92570...  364  304.180542   \n",
       "24     {940035, 942087, 940039, 942093, 942099, 94210...  342  189.923279   \n",
       "30     {999427, 999429, 1001478, 999435, 999441, 9994...  443  134.046753   \n",
       "177    {3062784, 3063809, 3063299, 3063815, 3064329, ...  167  206.139008   \n",
       "178    {3067905, 3069955, 3067910, 3069973, 3067932, ...  519  336.657074   \n",
       "...                                                  ...  ...         ...   \n",
       "39389  {136197120, 136196868, 136197380, 136196742, 1...   69  156.781677   \n",
       "39390  {136199174, 136199689, 136198669, 136199695, 1...  177  337.063293   \n",
       "39391  {136203264, 136201730, 136203274, 136201740, 1...  213  156.245499   \n",
       "39455  {137077763, 137078276, 137077765, 137078792, 1...  220  105.682671   \n",
       "39468  {137169920, 137169922, 137167875, 137168387, 1...  247  109.140900   \n",
       "\n",
       "             sy        so        sd        fy        fo        fd        ty  \\\n",
       "22     0.006469  0.004608 -0.001861  0.034559  0.053516  0.018957  0.038518   \n",
       "24     0.061750  0.049200 -0.012549  0.114255  0.137146  0.022890  0.099525   \n",
       "30     0.020143  0.015303 -0.004840  0.017925  0.085442  0.067517  0.016016   \n",
       "177    0.047625  0.065270  0.017645  0.045763  0.080532  0.034769  0.888531   \n",
       "178    0.083777  0.087859  0.004082  0.098894  0.170592  0.071698  0.087513   \n",
       "...         ...       ...       ...       ...       ...       ...       ...   \n",
       "39389  0.192945  0.224196  0.031251  0.035680  0.039385  0.003706  0.099769   \n",
       "39390  0.021139  0.024288  0.003149  0.029917  0.167716  0.137799  0.077161   \n",
       "39391  0.076359  0.157669  0.081310  0.056461  0.128575  0.072115  0.106301   \n",
       "39455  0.076889  0.112792  0.035902  0.128991  0.311932  0.182941  0.304844   \n",
       "39468  0.012235  0.010332 -0.001902  0.029352  0.054396  0.025043  0.032892   \n",
       "\n",
       "             to        td   ts  \n",
       "22     0.042965  0.004447  NaN  \n",
       "24     0.091846 -0.007678  NaN  \n",
       "30     0.057634  0.041618  NaN  \n",
       "177    0.881725 -0.006806  NaN  \n",
       "178    0.103823  0.016310  NaN  \n",
       "...         ...       ...  ...  \n",
       "39389  0.069429 -0.030339  NaN  \n",
       "39390  0.113063  0.035902  NaN  \n",
       "39391  0.190115  0.083814  NaN  \n",
       "39455  0.328158  0.023314  NaN  \n",
       "39468  0.036929  0.004036  NaN  \n",
       "\n",
       "[1035 rows x 17 columns]"
      ]
     },
     "execution_count": 117,
     "metadata": {},
     "output_type": "execute_result"
    }
   ],
   "source": [
    "hz"
   ]
  },
  {
   "cell_type": "code",
   "execution_count": 115,
   "id": "90f05d45-564b-4949-a821-9e38080ddb9f",
   "metadata": {},
   "outputs": [
    {
     "data": {
      "text/plain": [
       "3"
      ]
     },
     "execution_count": 115,
     "metadata": {},
     "output_type": "execute_result"
    }
   ],
   "source": [
    "hzt=hz[hz.ts.notna()]\n",
    "len(hzt)"
   ]
  },
  {
   "cell_type": "code",
   "execution_count": 116,
   "id": "aaf154e4-ed00-422a-aa19-f79bc7867600",
   "metadata": {},
   "outputs": [
    {
     "data": {
      "text/plain": [
       "0"
      ]
     },
     "execution_count": 116,
     "metadata": {},
     "output_type": "execute_result"
    }
   ],
   "source": [
    "len(hzt[hzt.td<0])"
   ]
  },
  {
   "cell_type": "code",
   "execution_count": 118,
   "id": "41165eb2-11f7-477f-8e21-4f031bfe428b",
   "metadata": {},
   "outputs": [
    {
     "data": {
      "text/html": [
       "<div>\n",
       "<style scoped>\n",
       "    .dataframe tbody tr th:only-of-type {\n",
       "        vertical-align: middle;\n",
       "    }\n",
       "\n",
       "    .dataframe tbody tr th {\n",
       "        vertical-align: top;\n",
       "    }\n",
       "\n",
       "    .dataframe thead th {\n",
       "        text-align: right;\n",
       "    }\n",
       "</style>\n",
       "<table border=\"1\" class=\"dataframe\">\n",
       "  <thead>\n",
       "    <tr style=\"text-align: right;\">\n",
       "      <th></th>\n",
       "      <th>ch</th>\n",
       "      <th>b</th>\n",
       "      <th>e</th>\n",
       "      <th>d</th>\n",
       "      <th>r</th>\n",
       "      <th>rd</th>\n",
       "      <th>ez</th>\n",
       "      <th>sy</th>\n",
       "      <th>so</th>\n",
       "      <th>sd</th>\n",
       "      <th>fy</th>\n",
       "      <th>fo</th>\n",
       "      <th>fd</th>\n",
       "      <th>ty</th>\n",
       "      <th>to</th>\n",
       "      <th>td</th>\n",
       "    </tr>\n",
       "  </thead>\n",
       "  <tbody>\n",
       "    <tr>\n",
       "      <th>0</th>\n",
       "      <td>chr1</td>\n",
       "      <td>28511</td>\n",
       "      <td>29409</td>\n",
       "      <td>898</td>\n",
       "      <td>{28676, 29193, 28691, 29204, 29214, 28704, 292...</td>\n",
       "      <td>79</td>\n",
       "      <td>0.02325</td>\n",
       "      <td>0.000000</td>\n",
       "      <td>0.006028</td>\n",
       "      <td>0.006028</td>\n",
       "      <td>0.000000</td>\n",
       "      <td>0.000000</td>\n",
       "      <td>0.000000</td>\n",
       "      <td>0.003165</td>\n",
       "      <td>0.000000</td>\n",
       "      <td>-0.003165</td>\n",
       "    </tr>\n",
       "    <tr>\n",
       "      <th>1</th>\n",
       "      <td>chr1</td>\n",
       "      <td>49270</td>\n",
       "      <td>49363</td>\n",
       "      <td>93</td>\n",
       "      <td>{49362, 49290, 49270, 49359}</td>\n",
       "      <td>4</td>\n",
       "      <td>0.02325</td>\n",
       "      <td>0.803935</td>\n",
       "      <td>0.784879</td>\n",
       "      <td>-0.019057</td>\n",
       "      <td>0.761905</td>\n",
       "      <td>0.829167</td>\n",
       "      <td>0.067262</td>\n",
       "      <td>0.000000</td>\n",
       "      <td>0.000000</td>\n",
       "      <td>0.000000</td>\n",
       "    </tr>\n",
       "    <tr>\n",
       "      <th>2</th>\n",
       "      <td>chr1</td>\n",
       "      <td>51631</td>\n",
       "      <td>51726</td>\n",
       "      <td>95</td>\n",
       "      <td>{51681, 51721, 51692, 51725, 51661, 51631, 516...</td>\n",
       "      <td>9</td>\n",
       "      <td>0.02325</td>\n",
       "      <td>0.853929</td>\n",
       "      <td>0.979107</td>\n",
       "      <td>0.125179</td>\n",
       "      <td>0.779630</td>\n",
       "      <td>0.722222</td>\n",
       "      <td>-0.057407</td>\n",
       "      <td>0.000000</td>\n",
       "      <td>0.940741</td>\n",
       "      <td>0.940741</td>\n",
       "    </tr>\n",
       "    <tr>\n",
       "      <th>3</th>\n",
       "      <td>chr1</td>\n",
       "      <td>585999</td>\n",
       "      <td>586280</td>\n",
       "      <td>281</td>\n",
       "      <td>{586279, 586153, 586221, 586190, 585999, 58619...</td>\n",
       "      <td>7</td>\n",
       "      <td>0.10023</td>\n",
       "      <td>0.041956</td>\n",
       "      <td>0.015788</td>\n",
       "      <td>-0.026168</td>\n",
       "      <td>0.000000</td>\n",
       "      <td>0.000000</td>\n",
       "      <td>0.000000</td>\n",
       "      <td>0.021534</td>\n",
       "      <td>0.090852</td>\n",
       "      <td>0.069319</td>\n",
       "    </tr>\n",
       "    <tr>\n",
       "      <th>4</th>\n",
       "      <td>chr1</td>\n",
       "      <td>628958</td>\n",
       "      <td>630281</td>\n",
       "      <td>1323</td>\n",
       "      <td>{629120, 629632, 630016, 629123, 630280, 62951...</td>\n",
       "      <td>29</td>\n",
       "      <td>10.97325</td>\n",
       "      <td>0.345848</td>\n",
       "      <td>0.360517</td>\n",
       "      <td>0.014668</td>\n",
       "      <td>0.259589</td>\n",
       "      <td>0.132383</td>\n",
       "      <td>-0.127206</td>\n",
       "      <td>0.516898</td>\n",
       "      <td>0.690240</td>\n",
       "      <td>0.173342</td>\n",
       "    </tr>\n",
       "    <tr>\n",
       "      <th>...</th>\n",
       "      <td>...</td>\n",
       "      <td>...</td>\n",
       "      <td>...</td>\n",
       "      <td>...</td>\n",
       "      <td>...</td>\n",
       "      <td>...</td>\n",
       "      <td>...</td>\n",
       "      <td>...</td>\n",
       "      <td>...</td>\n",
       "      <td>...</td>\n",
       "      <td>...</td>\n",
       "      <td>...</td>\n",
       "      <td>...</td>\n",
       "      <td>...</td>\n",
       "      <td>...</td>\n",
       "      <td>...</td>\n",
       "    </tr>\n",
       "    <tr>\n",
       "      <th>39512</th>\n",
       "      <td>chr9</td>\n",
       "      <td>138022375</td>\n",
       "      <td>138023971</td>\n",
       "      <td>1596</td>\n",
       "      <td>{138022914, 138023939, 138023430, 138023942, 1...</td>\n",
       "      <td>158</td>\n",
       "      <td>7.75954</td>\n",
       "      <td>0.016912</td>\n",
       "      <td>0.024057</td>\n",
       "      <td>0.007146</td>\n",
       "      <td>0.156013</td>\n",
       "      <td>0.506646</td>\n",
       "      <td>0.350633</td>\n",
       "      <td>0.069338</td>\n",
       "      <td>0.103433</td>\n",
       "      <td>0.034095</td>\n",
       "    </tr>\n",
       "    <tr>\n",
       "      <th>39513</th>\n",
       "      <td>chr9</td>\n",
       "      <td>138147555</td>\n",
       "      <td>138147795</td>\n",
       "      <td>240</td>\n",
       "      <td>{138147712, 138147598, 138147727, 138147735, 1...</td>\n",
       "      <td>24</td>\n",
       "      <td>0.10023</td>\n",
       "      <td>0.183253</td>\n",
       "      <td>0.142781</td>\n",
       "      <td>-0.040472</td>\n",
       "      <td>0.261111</td>\n",
       "      <td>0.697619</td>\n",
       "      <td>0.436508</td>\n",
       "      <td>0.114990</td>\n",
       "      <td>0.166931</td>\n",
       "      <td>0.051941</td>\n",
       "    </tr>\n",
       "    <tr>\n",
       "      <th>39514</th>\n",
       "      <td>chr9</td>\n",
       "      <td>138150209</td>\n",
       "      <td>138150332</td>\n",
       "      <td>123</td>\n",
       "      <td>{138150209, 138150241, 138150243, 138150247, 1...</td>\n",
       "      <td>9</td>\n",
       "      <td>0.75177</td>\n",
       "      <td>0.035564</td>\n",
       "      <td>0.063360</td>\n",
       "      <td>0.027796</td>\n",
       "      <td>0.000000</td>\n",
       "      <td>0.151852</td>\n",
       "      <td>0.151852</td>\n",
       "      <td>0.039352</td>\n",
       "      <td>0.072120</td>\n",
       "      <td>0.032769</td>\n",
       "    </tr>\n",
       "    <tr>\n",
       "      <th>39515</th>\n",
       "      <td>chr9</td>\n",
       "      <td>138150362</td>\n",
       "      <td>138150534</td>\n",
       "      <td>172</td>\n",
       "      <td>{138150369, 138150434, 138150372, 138150469, 1...</td>\n",
       "      <td>14</td>\n",
       "      <td>1.96078</td>\n",
       "      <td>0.034917</td>\n",
       "      <td>0.049427</td>\n",
       "      <td>0.014511</td>\n",
       "      <td>0.087301</td>\n",
       "      <td>0.082143</td>\n",
       "      <td>-0.005159</td>\n",
       "      <td>0.044390</td>\n",
       "      <td>0.125581</td>\n",
       "      <td>0.081192</td>\n",
       "    </tr>\n",
       "    <tr>\n",
       "      <th>39516</th>\n",
       "      <td>chr9</td>\n",
       "      <td>138220829</td>\n",
       "      <td>138221685</td>\n",
       "      <td>856</td>\n",
       "      <td>{138221058, 138220931, 138221574, 138221062, 1...</td>\n",
       "      <td>56</td>\n",
       "      <td>0.24682</td>\n",
       "      <td>0.349077</td>\n",
       "      <td>0.610060</td>\n",
       "      <td>0.260983</td>\n",
       "      <td>0.411990</td>\n",
       "      <td>0.321429</td>\n",
       "      <td>-0.090561</td>\n",
       "      <td>0.104167</td>\n",
       "      <td>0.151831</td>\n",
       "      <td>0.047665</td>\n",
       "    </tr>\n",
       "  </tbody>\n",
       "</table>\n",
       "<p>39517 rows × 16 columns</p>\n",
       "</div>"
      ],
      "text/plain": [
       "         ch          b          e     d  \\\n",
       "0      chr1      28511      29409   898   \n",
       "1      chr1      49270      49363    93   \n",
       "2      chr1      51631      51726    95   \n",
       "3      chr1     585999     586280   281   \n",
       "4      chr1     628958     630281  1323   \n",
       "...     ...        ...        ...   ...   \n",
       "39512  chr9  138022375  138023971  1596   \n",
       "39513  chr9  138147555  138147795   240   \n",
       "39514  chr9  138150209  138150332   123   \n",
       "39515  chr9  138150362  138150534   172   \n",
       "39516  chr9  138220829  138221685   856   \n",
       "\n",
       "                                                       r   rd        ez  \\\n",
       "0      {28676, 29193, 28691, 29204, 29214, 28704, 292...   79   0.02325   \n",
       "1                           {49362, 49290, 49270, 49359}    4   0.02325   \n",
       "2      {51681, 51721, 51692, 51725, 51661, 51631, 516...    9   0.02325   \n",
       "3      {586279, 586153, 586221, 586190, 585999, 58619...    7   0.10023   \n",
       "4      {629120, 629632, 630016, 629123, 630280, 62951...   29  10.97325   \n",
       "...                                                  ...  ...       ...   \n",
       "39512  {138022914, 138023939, 138023430, 138023942, 1...  158   7.75954   \n",
       "39513  {138147712, 138147598, 138147727, 138147735, 1...   24   0.10023   \n",
       "39514  {138150209, 138150241, 138150243, 138150247, 1...    9   0.75177   \n",
       "39515  {138150369, 138150434, 138150372, 138150469, 1...   14   1.96078   \n",
       "39516  {138221058, 138220931, 138221574, 138221062, 1...   56   0.24682   \n",
       "\n",
       "             sy        so        sd        fy        fo        fd        ty  \\\n",
       "0      0.000000  0.006028  0.006028  0.000000  0.000000  0.000000  0.003165   \n",
       "1      0.803935  0.784879 -0.019057  0.761905  0.829167  0.067262  0.000000   \n",
       "2      0.853929  0.979107  0.125179  0.779630  0.722222 -0.057407  0.000000   \n",
       "3      0.041956  0.015788 -0.026168  0.000000  0.000000  0.000000  0.021534   \n",
       "4      0.345848  0.360517  0.014668  0.259589  0.132383 -0.127206  0.516898   \n",
       "...         ...       ...       ...       ...       ...       ...       ...   \n",
       "39512  0.016912  0.024057  0.007146  0.156013  0.506646  0.350633  0.069338   \n",
       "39513  0.183253  0.142781 -0.040472  0.261111  0.697619  0.436508  0.114990   \n",
       "39514  0.035564  0.063360  0.027796  0.000000  0.151852  0.151852  0.039352   \n",
       "39515  0.034917  0.049427  0.014511  0.087301  0.082143 -0.005159  0.044390   \n",
       "39516  0.349077  0.610060  0.260983  0.411990  0.321429 -0.090561  0.104167   \n",
       "\n",
       "             to        td  \n",
       "0      0.000000 -0.003165  \n",
       "1      0.000000  0.000000  \n",
       "2      0.940741  0.940741  \n",
       "3      0.090852  0.069319  \n",
       "4      0.690240  0.173342  \n",
       "...         ...       ...  \n",
       "39512  0.103433  0.034095  \n",
       "39513  0.166931  0.051941  \n",
       "39514  0.072120  0.032769  \n",
       "39515  0.125581  0.081192  \n",
       "39516  0.151831  0.047665  \n",
       "\n",
       "[39517 rows x 16 columns]"
      ]
     },
     "execution_count": 118,
     "metadata": {},
     "output_type": "execute_result"
    }
   ],
   "source": [
    "h"
   ]
  },
  {
   "cell_type": "code",
   "execution_count": null,
   "id": "759fd237-df65-4cbf-9394-76d04e26e23d",
   "metadata": {},
   "outputs": [],
   "source": []
  }
 ],
 "metadata": {
  "kernelspec": {
   "display_name": "meth",
   "language": "python",
   "name": "meth"
  },
  "language_info": {
   "codemirror_mode": {
    "name": "ipython",
    "version": 3
   },
   "file_extension": ".py",
   "mimetype": "text/x-python",
   "name": "python",
   "nbconvert_exporter": "python",
   "pygments_lexer": "ipython3",
   "version": "3.9.7"
  }
 },
 "nbformat": 4,
 "nbformat_minor": 5
}
