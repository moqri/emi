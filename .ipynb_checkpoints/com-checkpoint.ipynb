{
 "cells": [
  {
   "cell_type": "code",
   "execution_count": null,
   "id": "ce35573f-8edd-4852-925a-e0ac81ded2a4",
   "metadata": {},
   "outputs": [],
   "source": [
    "import time\n",
    "import pandas as pd\n",
    "import numpy as np\n",
    "import util\n",
    "import pyBigWig\n",
    "import seaborn as sns\n",
    "import glob\n",
    "from matplotlib_venn import venn2\n",
    "from matplotlib import pyplot as plt\n",
    "import warnings\n",
    "warnings.filterwarnings(\"ignore\")\n",
    "source='data/source/'\n",
    "tic=time.time()\n",
    "\n",
    "def get_cg(x):\n",
    "    cg=set(range(x['b'],x['e']))\n",
    "    cg=ind[x['ch']].intersection(cg)\n",
    "    return cg\n",
    "def hmr2df(hmr):\n",
    "    gs=pd.read_table(hmr,header=None,usecols=[0,1,2])\n",
    "    gs=gs[~gs[0].isin(['chrX','chrY','chrM'])]\n",
    "    print(len(gs),end=',')\n",
    "    gs.columns=['ch','b','e']   \n",
    "    gs['d']=gs['e']-gs['b']\n",
    "    gs['r']=gs.apply(lambda x:get_cg(x) ,axis=1)\n",
    "    gs['rd']=gs.r.apply(lambda x:len(x))\n",
    "    gg=gs.groupby('ch')['r'].apply(list)\n",
    "    gg=gg.apply(lambda x:set.union(*x))    \n",
    "    return (gs,gg)   \n",
    "def get_ts(x):\n",
    "    chrom=x['ch']\n",
    "    com=set(range(x['b'],x['e'])).intersection(expg[chrom])\n",
    "    if len(com)>0:\n",
    "        ts=list(com)[0]\n",
    "        ts=exp.loc[(exp['chrom']==int(chrom[3:])) & (exp.ts==ts)].index.values[0]\n",
    "    else:\n",
    "        ts=np.nan\n",
    "    return(ts)"
   ]
  },
  {
   "cell_type": "code",
   "execution_count": null,
   "id": "b2bbe1de-93f9-428f-bc14-4e6ea3bab94e",
   "metadata": {},
   "outputs": [],
   "source": [
    "ind=pd.read_table('data/meth/h/Human_H1.meth',engine='c',usecols=[0,1],header=None)\n",
    "ind=ind.groupby(0)[1].apply(list)\n",
    "ind=ind.apply(lambda x:set(x))"
   ]
  },
  {
   "cell_type": "code",
   "execution_count": null,
   "id": "f3f4c1f5-c44f-429a-8225-43122aba948c",
   "metadata": {},
   "outputs": [],
   "source": [
    "samples=['s','t','h']\n",
    "c={}\n",
    "cg={}\n",
    "cu={}\n",
    "cug={}"
   ]
  },
  {
   "cell_type": "code",
   "execution_count": null,
   "id": "363c9fed-8bb3-4244-b67d-2ac86500d22a",
   "metadata": {},
   "outputs": [],
   "source": [
    "for s in samples:\n",
    "    c[s],cg[s]=hmr2df('data/meth/'+s+'/'+s+'.hmr')"
   ]
  },
  {
   "cell_type": "code",
   "execution_count": null,
   "id": "49717b06-0a5b-4463-966f-5ce29bae1dce",
   "metadata": {},
   "outputs": [],
   "source": [
    "c['t']['s']=c['t'].apply(lambda x:len(cg['s'][x['ch']].intersection(x['r'])),1)\n",
    "c['t']['sh']=c['t'].apply(lambda x:len(cg['s'][x['ch']].intersection(x['r']).intersection(cg['h'][x['ch']])),1)\n",
    "c['s']['t']=c['s'].apply(lambda x:len(cg['t'][x['ch']].intersection(x['r'])),1)\n",
    "c['s']['th']=c['s'].apply(lambda x:len(cg['t'][x['ch']].intersection(x['r']).intersection(cg['h'][x['ch']])),1)"
   ]
  },
  {
   "cell_type": "code",
   "execution_count": null,
   "id": "65357d32-5c36-4c07-ae1f-b591da05e1b2",
   "metadata": {},
   "outputs": [],
   "source": [
    "print(round(c['t']['rd'].sum()/10**3),\n",
    "      round(c['t']['s'].sum()/10**3),\n",
    "      round(c['t'][c['t']['s']>0]['sh'].sum()/10**3))\n",
    "print(round(c['s']['rd'].sum()/10**3),\n",
    "      round(c['s']['t'].sum()/10**3),\n",
    "      round(c['s'][c['s']['t']>0]['th'].sum()/10**3))"
   ]
  },
  {
   "cell_type": "code",
   "execution_count": null,
   "id": "2b7c5178-bb7a-480b-be4e-df4d2fa6b17b",
   "metadata": {},
   "outputs": [],
   "source": [
    "print(2352-2144)"
   ]
  },
  {
   "cell_type": "code",
   "execution_count": null,
   "id": "b29c1d66-875a-401a-831c-605a686729c2",
   "metadata": {},
   "outputs": [],
   "source": [
    "venn2(subsets = (3486-2352, 2609-2352, 2352), set_labels = ('HMR in Epidermis', 'HMR in T cells'))"
   ]
  },
  {
   "cell_type": "code",
   "execution_count": null,
   "id": "fb19e4fa-001d-48e0-880f-ba85e7da9793",
   "metadata": {},
   "outputs": [],
   "source": [
    "for s in ['s','t']:\n",
    "    for n in ['y','o']:\n",
    "        path='data/meth/'+s+'/'+n+'.bw'\n",
    "        bw=pyBigWig.open(path)\n",
    "        c[s][n]=c[s].apply(lambda x: bw.stats(x['ch'],x['b'],x['e'],'mean',exact=True)[0],axis=1)\n",
    "    c[s]['dd']=c[s]['o']-c[s]['y']\n",
    "    cu[s]=c[s][c[s]['dd']>.1]\n",
    "    cug[s]=cu[s].groupby('ch')['r'].apply(list)\n",
    "    cug[s]=cug[s].apply(lambda x:set.union(*x))                   "
   ]
  },
  {
   "cell_type": "code",
   "execution_count": null,
   "id": "f66530e2-9a64-4a12-a665-e75ad034623c",
   "metadata": {},
   "outputs": [],
   "source": [
    "cu['t']['su']=cu['t'].apply(lambda x:len(cug['s'][x['ch']].intersection(x['r'])),1)\n",
    "cu['t']['suh']=cu['t'].apply(lambda x:len(cug['s'][x['ch']].intersection(cg['h'][x['ch']]).intersection(x['r'])),axis=1)\n",
    "cu['s']['tu']=cu['s'].apply(lambda x:len(cug['t'][x['ch']].intersection(x['r'])),1)\n",
    "cu['s']['tuh']=cu['s'].apply(lambda x:len(cug['t'][x['ch']].intersection(cg['h'][x['ch']]).intersection(x['r'])),axis=1)"
   ]
  },
  {
   "cell_type": "code",
   "execution_count": null,
   "id": "2c838eb5-b11e-4b88-bf09-fd656ff2ed7d",
   "metadata": {},
   "outputs": [],
   "source": [
    "print(round(cu['t'].rd.sum()/10**3),\n",
    "      round(cu['t']['su'].sum()/10**3),\n",
    "      round(cu['t'][cu['t']['su']>0]['suh'].sum()/10**3))\n",
    "print(round(cu['s'].rd.sum()/10**3),\n",
    "      round(cu['s']['tu'].sum()/10**3),\n",
    "      round(cu['s'][cu['s']['tu']>0]['tuh'].sum()/10**3))"
   ]
  },
  {
   "cell_type": "code",
   "execution_count": null,
   "id": "8a28dd03-5a16-440a-a4d4-7204f56aea39",
   "metadata": {},
   "outputs": [],
   "source": [
    "venn2(subsets = (259-27, 95-27, 27), set_labels = ('ageHMR in Epidermis', 'ageHMR in T cells'))"
   ]
  },
  {
   "cell_type": "code",
   "execution_count": null,
   "id": "1ed6e3b8-37f1-4dc1-8897-8e24dc3d44bb",
   "metadata": {},
   "outputs": [],
   "source": [
    "bw='data/source/ENCFF109KCQ.bigWig'\n",
    "bw=pyBigWig.open(bw)\n",
    "ts=cu['t'][cu['t']['su']>0]\n",
    "st=cu['s'][cu['s']['tu']>0]\n",
    "bs=[]\n",
    "for i,r in ts.iterrows():\n",
    "    bs.append(bw.stats(r['ch'],int(r['b']),int(r['e']),'max')[0])\n",
    "ts['ez']=bs    \n",
    "bs=[]\n",
    "for i,r in st.iterrows():\n",
    "    bs.append(bw.stats(r['ch'],int(r['b']),int(r['e']),'max')[0])\n",
    "st['ez']=bs    "
   ]
  },
  {
   "cell_type": "code",
   "execution_count": null,
   "id": "08b36edc-7dde-40cd-805c-8edd2f661636",
   "metadata": {},
   "outputs": [],
   "source": [
    "print(ts[ts.suh==0].ez.mean(),ts[ts.suh>0].ez.mean())\n",
    "print(st[st.tuh==0].ez.mean(),st[st.tuh>0].ez.mean())"
   ]
  },
  {
   "cell_type": "code",
   "execution_count": null,
   "id": "eefd0001-a641-43b2-8278-2dec8f49f696",
   "metadata": {},
   "outputs": [],
   "source": [
    "ts['suhb']=ts['suh']>0\n",
    "st['tuhb']=st['tuh']>0"
   ]
  },
  {
   "cell_type": "code",
   "execution_count": null,
   "id": "2f74a3a7-620c-463f-8bf0-b31b15da4c36",
   "metadata": {},
   "outputs": [],
   "source": [
    "tst=ts.append(st[~st.tuhb])\n",
    "tst.loc[tst.tuhb==False,'HMR group']='CD4 T'\n",
    "tst.loc[tst.suhb==False,'HMR group']='Epidermis'\n",
    "tst=tst.fillna('HMR in ESC')\n",
    "sns.barplot(data=tst[['HMR group','ez']],x='HMR group',y='ez')"
   ]
  },
  {
   "cell_type": "code",
   "execution_count": null,
   "id": "9d507001-4c91-41bc-bd4b-61f003262f64",
   "metadata": {},
   "outputs": [],
   "source": [
    "h=c['h'].copy()"
   ]
  },
  {
   "cell_type": "code",
   "execution_count": null,
   "id": "b0a56e86-bccf-4b93-846e-829c6b10a0fd",
   "metadata": {},
   "outputs": [],
   "source": [
    "bw='data/source/ENCFF109KCQ.bigWig'\n",
    "bw=pyBigWig.open(bw)\n",
    "bs=[]\n",
    "for i,r in h.iterrows():\n",
    "    bs.append(bw.stats(r['ch'],int(r['b']),int(r['e']),'max')[0])\n",
    "h['ez']=bs"
   ]
  },
  {
   "cell_type": "code",
   "execution_count": null,
   "id": "197015fa-eb83-448e-95ca-09f5b74a1ea5",
   "metadata": {},
   "outputs": [],
   "source": [
    "for s in ['s','f','t']:\n",
    "    for n in ['y','o']:\n",
    "        path='data/meth/'+s+'/'+n+'.bw'\n",
    "        bw=pyBigWig.open(path)\n",
    "        h[s+n]=h.apply(lambda x: bw.stats(x['ch'],x['b'],x['e'],'mean',exact=True)[0],axis=1)\n",
    "    h[s+'d']=h[s+'o']-h[s+'y']"
   ]
  },
  {
   "cell_type": "code",
   "execution_count": null,
   "id": "7907e040-598b-4138-b33d-8ed21e10440e",
   "metadata": {},
   "outputs": [],
   "source": [
    "h.loc[h.ez>100,'ezg']='>100'\n",
    "h.loc[(h.ez>10)&(h.ez<100),'ezg']='10-100'\n",
    "h.loc[h.ez<10,'ezg']='<10'"
   ]
  },
  {
   "cell_type": "code",
   "execution_count": null,
   "id": "59378f1a-89d8-405f-9e7f-dcdf285b8052",
   "metadata": {},
   "outputs": [],
   "source": [
    "pl=h[['ezg','ty','to']].melt('ezg')\n",
    "pl.head(1)"
   ]
  },
  {
   "cell_type": "code",
   "execution_count": null,
   "id": "8b644360-3fb8-43d1-b97b-ed99d88a3263",
   "metadata": {},
   "outputs": [],
   "source": [
    "ax=sns.barplot(data=pl,x='ezg',y='value',hue='variable')\n",
    "ax.set(xlabel='EZH Binding Level', ylabel='DNA Methylation')"
   ]
  },
  {
   "cell_type": "code",
   "execution_count": null,
   "id": "b75f2e98-9a24-4f87-974f-c0093cf95301",
   "metadata": {},
   "outputs": [],
   "source": [
    "fs=['SRR3264'+str(i) for i in [413,414,415,416,722]]\n",
    "for sn in fs:\n",
    "    path='data/meth/f/'+sn+'.bw'\n",
    "    bw=pyBigWig.open(path)\n",
    "    h[sn]=h.apply(lambda x: bw.stats(x['ch'],x['b'],x['e'],'mean',exact=True)[0],axis=1)"
   ]
  },
  {
   "cell_type": "code",
   "execution_count": null,
   "id": "3aedef7b-76fd-4a15-8d1c-8063a17a70fe",
   "metadata": {},
   "outputs": [],
   "source": [
    "sp=['SRR10429'+ i for i in  ['03','06','07','09','11','13']]\n",
    "se=['SRR10429'+ i for i in  ['04','05','08','10','12','14']]\n",
    "sep=sp+se\n",
    "for sn in sep:\n",
    "    path='data/meth/s/'+sn+'.bw'\n",
    "    bw=pyBigWig.open(path)\n",
    "    h[sn]=h.apply(lambda x: bw.stats(x['ch'],x['b'],x['e'],'mean',exact=True)[0],axis=1)"
   ]
  },
  {
   "cell_type": "code",
   "execution_count": null,
   "id": "55914c64-ea24-4dad-b96f-d4bf83d2984d",
   "metadata": {},
   "outputs": [],
   "source": [
    "hz=h[h.ez>100].copy()\n",
    "print(len(hz),len(hz[hz.td>0]))"
   ]
  },
  {
   "cell_type": "code",
   "execution_count": null,
   "id": "9d697274-46bf-4746-bef9-78e620b8d324",
   "metadata": {},
   "outputs": [],
   "source": [
    "tss=pd.read_csv('data/tss.csv',index_col=0)\n",
    "exp=pd.read_csv('data/exp.csv',index_col=0)\n",
    "exp['ch']='chr'+exp['chrom'].astype(str)\n",
    "expg=exp.groupby('ch')['ts'].apply(list)\n",
    "hz['ts']=hz.apply(lambda x: get_ts(x),axis=1)\n",
    "hzt=hz[hz.ts.notna()]\n",
    "len(hzt)"
   ]
  },
  {
   "cell_type": "code",
   "execution_count": null,
   "id": "3284285f-3f53-46ba-bee0-fb8b84ffadf8",
   "metadata": {},
   "outputs": [],
   "source": [
    "p=pd.DataFrame(hz[sep].mean())\n",
    "p['age']=[25,23,18,75,74,83]+[25,23,18,75,74,83]\n",
    "p['g']= ['Sun-protected']*6+['Sun-exposed']*6\n",
    "p['indivudal']=2*['Young1','Young2','Young3','Old1','Old2','Old3']\n",
    "p.columns=['Average DNAm','Age','Condition','Individual']\n",
    "fig, ax = plt.subplots(figsize=(5,4))\n",
    "sns.scatterplot(data=p,x='Age',y='Average DNAm',hue='Condition',hue_order=['Sun-exposed','Sun-protected'],\n",
    "                palette=['red','green'],markers=True, style='Individual',s=100,alpha=.7)"
   ]
  },
  {
   "cell_type": "code",
   "execution_count": null,
   "id": "4802de58-f5f3-4d49-8ad0-fd18c8ff22b7",
   "metadata": {},
   "outputs": [],
   "source": [
    "p=pd.DataFrame(hz[fs].mean())\n",
    "p['Passage']=[4,7,10,31,33]\n",
    "p.columns=['Average DNAm','Passage']#,'Condition','Individual']\n",
    "fig, ax = plt.subplots(figsize=(5,4))\n",
    "ax=sns.regplot(data=p,x='Passage',y='Average DNAm',label='R-squared = 0.99991')\n",
    "ax.legend(loc=\"best\")"
   ]
  },
  {
   "cell_type": "code",
   "execution_count": null,
   "id": "4e9ccb3f-3b51-42be-96ef-932882a3b155",
   "metadata": {},
   "outputs": [],
   "source": [
    "p.corr()"
   ]
  }
 ],
 "metadata": {
  "kernelspec": {
   "display_name": "meth",
   "language": "python",
   "name": "meth"
  },
  "language_info": {
   "codemirror_mode": {
    "name": "ipython",
    "version": 3
   },
   "file_extension": ".py",
   "mimetype": "text/x-python",
   "name": "python",
   "nbconvert_exporter": "python",
   "pygments_lexer": "ipython3",
   "version": "3.9.7"
  }
 },
 "nbformat": 4,
 "nbformat_minor": 5
}
