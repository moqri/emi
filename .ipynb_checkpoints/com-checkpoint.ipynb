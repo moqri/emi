{
 "cells": [
  {
   "cell_type": "code",
   "execution_count": 95,
   "id": "ce35573f-8edd-4852-925a-e0ac81ded2a4",
   "metadata": {},
   "outputs": [],
   "source": [
    "import time\n",
    "import pandas as pd\n",
    "import numpy as np\n",
    "import util\n",
    "import pyBigWig\n",
    "import seaborn as sns\n",
    "import glob\n",
    "source='data/source/'\n",
    "\n",
    "tic=time.time()\n",
    "def fix(rs):\n",
    "    ratio=1\n",
    "    gs=[]\n",
    "    while len(gs)<len(rs):\n",
    "        if len(gs)>0:\n",
    "            rs=gs.copy()\n",
    "        gs=[]\n",
    "        skip=0\n",
    "        for i in range(len(rs)-1):\n",
    "            if skip==1:\n",
    "                skip=0\n",
    "                continue\n",
    "            d0=rs[i][2]-rs[i][1]\n",
    "            d1=rs[i+1][2]-rs[i+1][1]\n",
    "            gap=rs[i+1][1]-rs[i][2]\n",
    "            if rs[i][0]==rs[i+1][0] and d0>+ratio*gap and d1>ratio*gap:\n",
    "                gs.append([rs[i][0],rs[i][1],rs[i+1][2]])\n",
    "                skip=1\n",
    "            else :\n",
    "                gs.append([rs[i][0],rs[i][1],rs[i][2]])\n",
    "        gs.append(rs[-1])\n",
    "    print(len(gs))\n",
    "    return pd.DataFrame(rs)\n",
    "def get_cg(x):\n",
    "    cg=set(range(x['b'],x['e']))\n",
    "    cg=ind[x['ch']].intersection(cg)\n",
    "    return cg\n",
    "def hmr2df(hmr):\n",
    "    gs=pd.read_table(hmr,header=None,usecols=[0,1,2])\n",
    "    #gs=gs[gs[0]=='chr1']\n",
    "    gs=gs[~gs[0].isin(['chrX','chrY','chrM'])]\n",
    "    print(len(gs),end=',')\n",
    "    #gs=fix(gs.values)\n",
    "    gs.columns=['ch','b','e']   \n",
    "    gs['d']=gs['e']-gs['b']\n",
    "    gs['r']=gs.apply(lambda x:get_cg(x) ,axis=1)\n",
    "    gs['rd']=gs.r.apply(lambda x:len(x))\n",
    "    gg=gs.groupby('ch')['r'].apply(list)\n",
    "    gg=gg.apply(lambda x:set.union(*x))    \n",
    "    return (gs,gg)   "
   ]
  },
  {
   "cell_type": "code",
   "execution_count": 91,
   "id": "b2bbe1de-93f9-428f-bc14-4e6ea3bab94e",
   "metadata": {},
   "outputs": [],
   "source": [
    "ind=pd.read_table('data/meth/h/Human_H1.meth',engine='c',usecols=[0,1],header=None)\n",
    "ind=ind.groupby(0)[1].apply(list)\n",
    "ind=ind.apply(lambda x:set(x))"
   ]
  },
  {
   "cell_type": "code",
   "execution_count": 81,
   "id": "f3f4c1f5-c44f-429a-8225-43122aba948c",
   "metadata": {},
   "outputs": [],
   "source": [
    "samples=['s','t','h']\n",
    "c={}\n",
    "cg={}\n",
    "cu={}\n",
    "cug={}"
   ]
  },
  {
   "cell_type": "code",
   "execution_count": 96,
   "id": "363c9fed-8bb3-4244-b67d-2ac86500d22a",
   "metadata": {},
   "outputs": [
    {
     "name": "stdout",
     "output_type": "stream",
     "text": [
      "95351,52648,39517,"
     ]
    }
   ],
   "source": [
    "for s in samples:\n",
    "    c[s],cg[s]=hmr2df('data/meth/'+s+'/'+s+'.hmr')"
   ]
  },
  {
   "cell_type": "code",
   "execution_count": 97,
   "id": "49717b06-0a5b-4463-966f-5ce29bae1dce",
   "metadata": {},
   "outputs": [],
   "source": [
    "c['t']['s']=c['t'].apply(lambda x:len(cg['s'][x['ch']].intersection(x['r'])),1)\n",
    "c['s']['t']=c['s'].apply(lambda x:len(cg['t'][x['ch']].intersection(x['r'])),1)"
   ]
  },
  {
   "cell_type": "code",
   "execution_count": 98,
   "id": "a5142349-dad5-4af3-a760-fbb08342c2d2",
   "metadata": {},
   "outputs": [],
   "source": [
    "for s in ['t','s']:\n",
    "    path='data/meth/'+s+'/'+s+'.bw'\n",
    "    bw=pyBigWig.open(path)\n",
    "    c[s]['cg']=c[s].apply(lambda x: np.count_nonzero(~np.isnan(bw.values(x['ch'],x['b'],x['e']))),axis=1)"
   ]
  },
  {
   "cell_type": "code",
   "execution_count": 154,
   "id": "65357d32-5c36-4c07-ae1f-b591da05e1b2",
   "metadata": {},
   "outputs": [
    {
     "data": {
      "text/plain": [
       "2.609167"
      ]
     },
     "execution_count": 154,
     "metadata": {},
     "output_type": "execute_result"
    }
   ],
   "source": [
    "c['t']['rd'].sum()/10**6"
   ]
  },
  {
   "cell_type": "code",
   "execution_count": 155,
   "id": "6476eb98-1a68-4f13-9548-c056b4923b33",
   "metadata": {},
   "outputs": [
    {
     "data": {
      "text/plain": [
       "2.352314"
      ]
     },
     "execution_count": 155,
     "metadata": {},
     "output_type": "execute_result"
    }
   ],
   "source": [
    "c['t'].s.sum()/10**6"
   ]
  },
  {
   "cell_type": "code",
   "execution_count": 156,
   "id": "4a4f8b8c-41ec-41cf-a577-fe4716df8593",
   "metadata": {},
   "outputs": [
    {
     "data": {
      "text/plain": [
       "3.485922"
      ]
     },
     "execution_count": 156,
     "metadata": {},
     "output_type": "execute_result"
    }
   ],
   "source": [
    "c['s']['rd'].sum()/10**6"
   ]
  },
  {
   "cell_type": "code",
   "execution_count": 157,
   "id": "783db0df-1cab-4d60-b274-31f539f56259",
   "metadata": {},
   "outputs": [
    {
     "data": {
      "text/plain": [
       "2.352314"
      ]
     },
     "execution_count": 157,
     "metadata": {},
     "output_type": "execute_result"
    }
   ],
   "source": [
    "c['s'].t.sum()/10**6"
   ]
  },
  {
   "cell_type": "code",
   "execution_count": 118,
   "id": "66564352-3bd4-4448-93b3-854fc50f193a",
   "metadata": {},
   "outputs": [
    {
     "data": {
      "image/png": "[encoded data removed]",
      "text/plain": [
       "<Figure size 432x288 with 1 Axes>"
      ]
     },
     "metadata": {},
     "output_type": "display_data"
    }
   ],
   "source": [
    "import matplotlib.pyplot as plt\n",
    "from matplotlib_venn import venn2\n",
    "\n",
    "# Use the venn2 function\n",
    "venn2(subsets = (2.6-2.35,3.5-2.4,2.35), set_labels = ('CD4 T', 'Epidermis'))\n",
    "plt.show()"
   ]
  },
  {
   "cell_type": "code",
   "execution_count": 121,
   "id": "fb19e4fa-001d-48e0-880f-ba85e7da9793",
   "metadata": {},
   "outputs": [],
   "source": [
    "for s in ['s','t']:\n",
    "    for n in ['y','o']:\n",
    "        path='data/meth/'+s+'/'+n+'.bw'\n",
    "        bw=pyBigWig.open(path)\n",
    "        c[s][n]=c[s].apply(lambda x: bw.stats(x['ch'],x['b'],x['e'],'mean',exact=True)[0],axis=1)\n",
    "    c[s]['dd']=c[s]['o']-c[s]['y']\n",
    "    cu[s]=c[s][c[s]['dd']>.1]\n",
    "    cug[s]=cu[s].groupby('ch')['r'].apply(list)\n",
    "    cug[s]=cug[s].apply(lambda x:set.union(*x))                   "
   ]
  },
  {
   "cell_type": "code",
   "execution_count": 125,
   "id": "f66530e2-9a64-4a12-a665-e75ad034623c",
   "metadata": {},
   "outputs": [
    {
     "name": "stderr",
     "output_type": "stream",
     "text": [
      "/local/scratch/moqri/slrmtmp.30871986/ipykernel_10549/2179739204.py:4: SettingWithCopyWarning: \n",
      "A value is trying to be set on a copy of a slice from a DataFrame.\n",
      "Try using .loc[row_indexer,col_indexer] = value instead\n",
      "\n",
      "See the caveats in the documentation: https://pandas.pydata.org/pandas-docs/stable/user_guide/indexing.html#returning-a-view-versus-a-copy\n",
      "  cu[s1][s2+'u']=cu[s1].apply(lambda x:len(cug[s2][x['ch']].intersection(x['r'])),1)\n"
     ]
    }
   ],
   "source": [
    "for s1 in ['s','t']:\n",
    "    for s2 in ['s','t']:\n",
    "        if s1!=s2:\n",
    "            cu[s1][s2+'u']=cu[s1].apply(lambda x:len(cug[s2][x['ch']].intersection(x['r'])),1)"
   ]
  },
  {
   "cell_type": "code",
   "execution_count": 222,
   "id": "2c838eb5-b11e-4b88-bf09-fd656ff2ed7d",
   "metadata": {},
   "outputs": [
    {
     "data": {
      "text/plain": [
       "26.951"
      ]
     },
     "execution_count": 222,
     "metadata": {},
     "output_type": "execute_result"
    }
   ],
   "source": [
    "t=cu['t']\n",
    "t.su.sum()/10**3"
   ]
  },
  {
   "cell_type": "code",
   "execution_count": 223,
   "id": "2dc0c4e0-e95e-4b40-bb1b-c8d949508e4d",
   "metadata": {},
   "outputs": [
    {
     "data": {
      "text/plain": [
       "259.444"
      ]
     },
     "execution_count": 223,
     "metadata": {},
     "output_type": "execute_result"
    }
   ],
   "source": [
    "t.rd.sum()/10**3"
   ]
  },
  {
   "cell_type": "code",
   "execution_count": 227,
   "id": "dacdab90-8100-45ab-aeac-666977f9c8fc",
   "metadata": {},
   "outputs": [
    {
     "data": {
      "text/plain": [
       "22.833"
      ]
     },
     "execution_count": 227,
     "metadata": {},
     "output_type": "execute_result"
    }
   ],
   "source": [
    "t[t.su>0].h.sum()/10**3"
   ]
  },
  {
   "cell_type": "code",
   "execution_count": 228,
   "id": "163072e8-3e7f-4e45-8eb4-a7aeed3830cb",
   "metadata": {},
   "outputs": [
    {
     "data": {
      "text/plain": [
       "26.951"
      ]
     },
     "execution_count": 228,
     "metadata": {},
     "output_type": "execute_result"
    }
   ],
   "source": [
    "t=cu['s']\n",
    "t.tu.sum()/10**3"
   ]
  },
  {
   "cell_type": "code",
   "execution_count": 229,
   "id": "59bca6cb-3eaf-46f6-b5dd-234359116fa4",
   "metadata": {},
   "outputs": [
    {
     "data": {
      "text/plain": [
       "94.765"
      ]
     },
     "execution_count": 229,
     "metadata": {},
     "output_type": "execute_result"
    }
   ],
   "source": [
    "t.rd.sum()/10**3"
   ]
  },
  {
   "cell_type": "code",
   "execution_count": 230,
   "id": "694ee5a8-3216-4b75-8a34-0f64a593a8cc",
   "metadata": {},
   "outputs": [
    {
     "data": {
      "text/plain": [
       "17.162"
      ]
     },
     "execution_count": 230,
     "metadata": {},
     "output_type": "execute_result"
    }
   ],
   "source": [
    "t[t.tu>0].h.sum()/10**3"
   ]
  },
  {
   "cell_type": "code",
   "execution_count": 60,
   "id": "1ed6e3b8-37f1-4dc1-8897-8e24dc3d44bb",
   "metadata": {},
   "outputs": [],
   "source": [
    "bw='data/source/ENCFF109KCQ.bigWig'\n",
    "bw=pyBigWig.open(bw)\n",
    "bs=[]\n",
    "for i,r in ts.iterrows():\n",
    "    bs.append(bw.stats(r['ch'],int(r['b']),int(r['e']),'max')[0])\n",
    "ts['ez']=bs    "
   ]
  },
  {
   "cell_type": "code",
   "execution_count": 61,
   "id": "f6df3eae-8ea1-4edd-8585-1bf75ebd5597",
   "metadata": {},
   "outputs": [
    {
     "data": {
      "text/plain": [
       "<AxesSubplot:xlabel='h', ylabel='ez'>"
      ]
     },
     "execution_count": 61,
     "metadata": {},
     "output_type": "execute_result"
    },
    {
     "data": {
      "image/png": "[encoded data removed]",
      "text/plain": [
       "<Figure size 432x288 with 1 Axes>"
      ]
     },
     "metadata": {
      "needs_background": "light"
     },
     "output_type": "display_data"
    }
   ],
   "source": [
    "sns.barplot(data=ts[['h','ez']],x='h',y='ez')"
   ]
  },
  {
   "cell_type": "code",
   "execution_count": 62,
   "id": "4fee96ae-fce6-4f21-810f-c96555a0051e",
   "metadata": {},
   "outputs": [],
   "source": [
    "tss=pd.read_csv('data/tss.csv',index_col=0)\n",
    "exp=pd.read_csv('data/exp.csv',index_col=0)"
   ]
  },
  {
   "cell_type": "code",
   "execution_count": 63,
   "id": "41ae29da-1187-4b41-b5fd-60ec943916e0",
   "metadata": {},
   "outputs": [],
   "source": [
    "exp['ch']='chr'+exp['chrom'].astype(str)\n",
    "expg=exp.groupby('ch')['ts'].apply(list)"
   ]
  },
  {
   "cell_type": "code",
   "execution_count": 64,
   "id": "9d507001-4c91-41bc-bd4b-61f003262f64",
   "metadata": {},
   "outputs": [],
   "source": [
    "h=c['h'].copy()"
   ]
  },
  {
   "cell_type": "code",
   "execution_count": 65,
   "id": "a436079c-f234-4e81-8875-0937b7bb79a2",
   "metadata": {},
   "outputs": [
    {
     "data": {
      "text/plain": [
       "39517"
      ]
     },
     "execution_count": 65,
     "metadata": {},
     "output_type": "execute_result"
    }
   ],
   "source": [
    "len(h)"
   ]
  },
  {
   "cell_type": "code",
   "execution_count": 66,
   "id": "50a8eb8c-2704-476d-a237-35cb7cd93772",
   "metadata": {},
   "outputs": [],
   "source": [
    "#h,hg=hmr2df('data/meth/h/h.hmr')"
   ]
  },
  {
   "cell_type": "code",
   "execution_count": 67,
   "id": "b0a56e86-bccf-4b93-846e-829c6b10a0fd",
   "metadata": {},
   "outputs": [],
   "source": [
    "bw='data/source/ENCFF109KCQ.bigWig'\n",
    "bw=pyBigWig.open(bw)\n",
    "bs=[]\n",
    "for i,r in h.iterrows():\n",
    "    bs.append(bw.stats(r['ch'],int(r['b']),int(r['e']),'max')[0])\n",
    "h['ez']=bs"
   ]
  },
  {
   "cell_type": "code",
   "execution_count": 68,
   "id": "197015fa-eb83-448e-95ca-09f5b74a1ea5",
   "metadata": {},
   "outputs": [],
   "source": [
    "for s in ['s','f','t']:\n",
    "    for n in ['y','o']:\n",
    "        path='data/meth/'+s+'/'+n+'.bw'\n",
    "        bw=pyBigWig.open(path)\n",
    "        h[s+n]=h.apply(lambda x: bw.stats(x['ch'],x['b'],x['e'],'mean',exact=True)[0],axis=1)\n",
    "    h[s+'d']=h[s+'o']-h[s+'y']"
   ]
  },
  {
   "cell_type": "code",
   "execution_count": null,
   "id": "d75296cd-fdcb-4447-8af8-d72eb2c5913b",
   "metadata": {},
   "outputs": [
    {
     "data": {
      "text/plain": [
       "<AxesSubplot:>"
      ]
     },
     "execution_count": 69,
     "metadata": {},
     "output_type": "execute_result"
    },
    {
     "data": {
      "image/png": "[encoded data removed]",
      "text/plain": [
       "<Figure size 432x288 with 1 Axes>"
      ]
     },
     "metadata": {
      "needs_background": "light"
     },
     "output_type": "display_data"
    }
   ],
   "source": [
    "h['td'].hist(bins=100)"
   ]
  },
  {
   "cell_type": "code",
   "execution_count": 74,
   "id": "58283c1e-b446-4dcd-aa20-dd340294b6f1",
   "metadata": {},
   "outputs": [
    {
     "data": {
      "text/plain": [
       "1184"
      ]
     },
     "execution_count": 74,
     "metadata": {},
     "output_type": "execute_result"
    }
   ],
   "source": [
    "hz=h[h.ez>100].copy()\n",
    "len(hz)"
   ]
  },
  {
   "cell_type": "code",
   "execution_count": 79,
   "id": "7ea9bbd7-7678-4c88-a0c2-bd652f9098a0",
   "metadata": {},
   "outputs": [
    {
     "data": {
      "text/plain": [
       "67"
      ]
     },
     "execution_count": 79,
     "metadata": {},
     "output_type": "execute_result"
    }
   ],
   "source": [
    "len(hz[hz.td<0])"
   ]
  },
  {
   "cell_type": "code",
   "execution_count": 58,
   "id": "1d936203-1717-44fb-9a5e-7f3108cec5a9",
   "metadata": {},
   "outputs": [],
   "source": [
    "def get_ts(rang,chrom):\n",
    "    com=rang.intersection(expg[chrom])\n",
    "    if len(com)>0:\n",
    "        ts=list(com)[0]\n",
    "        ts=exp.loc[(exp.chrom==int(chrom[3:])) & (exp.ts==ts)].index.values[0]\n",
    "    else:\n",
    "        ts=np.nan\n",
    "    return(ts)"
   ]
  },
  {
   "cell_type": "code",
   "execution_count": 64,
   "id": "fe5f5eb3-0b23-4641-9ee3-1e9a01b73c0d",
   "metadata": {},
   "outputs": [],
   "source": [
    "hz['ts']=hz.apply(lambda x: get_ts(x['r'],x['ch']),axis=1)"
   ]
  },
  {
   "cell_type": "code",
   "execution_count": 65,
   "id": "90f05d45-564b-4949-a821-9e38080ddb9f",
   "metadata": {},
   "outputs": [
    {
     "data": {
      "text/plain": [
       "1465"
      ]
     },
     "execution_count": 65,
     "metadata": {},
     "output_type": "execute_result"
    }
   ],
   "source": [
    "hzt=hz[hz.ts.notna()]\n",
    "len(hzt)"
   ]
  },
  {
   "cell_type": "code",
   "execution_count": 66,
   "id": "aaf154e4-ed00-422a-aa19-f79bc7867600",
   "metadata": {},
   "outputs": [
    {
     "data": {
      "text/plain": [
       "76"
      ]
     },
     "execution_count": 66,
     "metadata": {},
     "output_type": "execute_result"
    }
   ],
   "source": [
    "len(hzt[hzt.td<0])"
   ]
  },
  {
   "cell_type": "code",
   "execution_count": null,
   "id": "a484292e-ad50-4296-8e48-1d37569f27c8",
   "metadata": {},
   "outputs": [],
   "source": []
  }
 ],
 "metadata": {
  "kernelspec": {
   "display_name": "meth",
   "language": "python",
   "name": "meth"
  },
  "language_info": {
   "codemirror_mode": {
    "name": "ipython",
    "version": 3
   },
   "file_extension": ".py",
   "mimetype": "text/x-python",
   "name": "python",
   "nbconvert_exporter": "python",
   "pygments_lexer": "ipython3",
   "version": "3.9.7"
  }
 },
 "nbformat": 4,
 "nbformat_minor": 5
}
